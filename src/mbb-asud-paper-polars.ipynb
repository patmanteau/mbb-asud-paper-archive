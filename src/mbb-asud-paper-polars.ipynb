{
 "cells": [
  {
   "cell_type": "markdown",
   "id": "499814d6",
   "metadata": {},
   "source": [
    "## Tagebuch\n",
    "\n",
    "### 2023-06-25\n",
    "\n",
    "Motivierende Idee:\n",
    "- Einen Graph aus Personen/Orten bauen, die in Tagesschau-Artikeln gemeinsam erwähnt wurden\n",
    "- Eventuell nach Entfernung der Erwähnung gewichten\n",
    "- Lustige Netzwerkanalysen im Graph durchführen\n",
    "- Visualisieren!\n",
    "\n",
    "#### Erster Ansatz\n",
    "\n",
    "spaCy anwerfen und NER betreiben!\n"
   ]
  },
  {
   "cell_type": "markdown",
   "id": "4b2ed232",
   "metadata": {},
   "source": [
    "## Aufbauen des Datenkorpus\n",
    "\n",
    "### Step 0: Einrichten der Umgebung"
   ]
  },
  {
   "cell_type": "code",
   "execution_count": 2,
   "id": "26d68a22",
   "metadata": {},
   "outputs": [],
   "source": [
    "from collections import namedtuple\n",
    "import dask.dataframe as dd\n",
    "from dask.diagnostics import ProgressBar\n",
    "import json\n",
    "import jsonlines as jl\n",
    "import networkx as nx\n",
    "import numpy as np\n",
    "import pandas as pd\n",
    "from pathlib import Path\n",
    "import polars as pl\n",
    "import shutil\n",
    "import spacy\n",
    "from tqdm import tqdm\n",
    "\n",
    "# Path to the root of the project\n",
    "_bd = (Path(\".\") / \"..\").resolve()\n",
    "\n",
    "# Data directory\n",
    "_dd  = _bd / \"data\""
   ]
  },
  {
   "cell_type": "markdown",
   "id": "10d3bb6b",
   "metadata": {},
   "source": [
    "\n",
    "\n",
    "\n",
    "### Step 1: Sammeln von Nachrichtenartikeln\n",
    "\n",
    "Artikel von [Tagesschau](https://www.tagesschau.de/) sammeln: `https://www.tagesschau.de/archiv?datum=YYYY-MM-DD` -> z.B.: `https://www.tagesschau.de/archiv?datum=2023-06-22`\n",
    "\n",
    "Scraping mit [Scrapy](https://scrapy.org/):\n",
    "\n",
    "```bash\n",
    "cd newsscrape\n",
    "scrapy crawl tagesspider -O ../data/1_tagesschau.jsonl\n",
    "```\n",
    "\n",
    "```bash\n",
    "2023-07-04 23:55:35 [scrapy.statscollectors] INFO: Dumping Scrapy stats:\n",
    "{'downloader/request_bytes': 8868909,\n",
    " 'downloader/request_count': 28108,\n",
    " 'downloader/request_method_count/GET': 28108,\n",
    " 'downloader/response_bytes': 2919744022,\n",
    " 'downloader/response_count': 28108,\n",
    " 'downloader/response_status_count/200': 25457,\n",
    " 'downloader/response_status_count/301': 2651,\n",
    " 'dupefilter/filtered': 2785,\n",
    " 'elapsed_time_seconds': 3651.299491,\n",
    " 'feedexport/success_count/FileFeedStorage': 1,\n",
    " 'finish_reason': 'finished',\n",
    " 'finish_time': datetime.datetime(2023, 7, 4, 21, 55, 35, 767939),\n",
    " 'httpcompression/response_bytes': 10862673643,\n",
    " 'httpcompression/response_count': 25457,\n",
    " 'item_scraped_count': 25001,\n",
    " 'log_count/DEBUG': 53115,\n",
    " 'log_count/ERROR': 33,\n",
    " 'log_count/INFO': 71,\n",
    " 'offsite/domains': 2,\n",
    " 'offsite/filtered': 830,\n",
    " 'request_depth_max': 1,\n",
    " 'response_received_count': 25457,\n",
    " 'scheduler/dequeued': 28108,\n",
    " 'scheduler/dequeued/memory': 28108,\n",
    " 'scheduler/enqueued': 28108,\n",
    " 'scheduler/enqueued/memory': 28108,\n",
    " 'spider_exceptions/AttributeError': 33,\n",
    " 'start_time': datetime.datetime(2023, 7, 4, 20, 54, 44, 468448)}\n",
    "```"
   ]
  },
  {
   "cell_type": "markdown",
   "id": "06c972ae",
   "metadata": {},
   "source": [
    "Einen Blick auf die Daten werfen:"
   ]
  },
  {
   "cell_type": "code",
   "execution_count": 2,
   "id": "f7db8fb4",
   "metadata": {},
   "outputs": [
    {
     "name": "stdout",
     "output_type": "stream",
     "text": [
      "(25001, 6)\n"
     ]
    },
    {
     "data": {
      "text/html": [
       "<div>\n",
       "<style scoped>\n",
       "    .dataframe tbody tr th:only-of-type {\n",
       "        vertical-align: middle;\n",
       "    }\n",
       "\n",
       "    .dataframe tbody tr th {\n",
       "        vertical-align: top;\n",
       "    }\n",
       "\n",
       "    .dataframe thead th {\n",
       "        text-align: right;\n",
       "    }\n",
       "</style>\n",
       "<table border=\"1\" class=\"dataframe\">\n",
       "  <thead>\n",
       "    <tr style=\"text-align: right;\">\n",
       "      <th></th>\n",
       "      <th>tstamp</th>\n",
       "      <th>title</th>\n",
       "      <th>date</th>\n",
       "      <th>shorttext</th>\n",
       "      <th>url</th>\n",
       "      <th>fulltext</th>\n",
       "    </tr>\n",
       "  </thead>\n",
       "  <tbody>\n",
       "    <tr>\n",
       "      <th>22593</th>\n",
       "      <td>1683672539</td>\n",
       "      <td>Was läuft falsch in Serbien?</td>\n",
       "      <td>10.05.2023 • 00:48 Uhr</td>\n",
       "      <td>Nach zwei Amokläufen mit 17 Toten gärt es in S...</td>\n",
       "      <td>/ausland/europa/serbien-gewalt-100.html</td>\n",
       "      <td>Nach zwei Amokläufen mit 17 Toten gärt es in ...</td>\n",
       "    </tr>\n",
       "    <tr>\n",
       "      <th>7774</th>\n",
       "      <td>1624512227</td>\n",
       "      <td>Von Bienen, Bauern und Baumpflege</td>\n",
       "      <td>24.06.2021 • 07:23 Uhr</td>\n",
       "      <td>Monatelang wurde verhandelt - heute stimmt der...</td>\n",
       "      <td>/inland/innenpolitik/insektenschutz-107.html</td>\n",
       "      <td>Monatelang wurde verhandelt - heute stimmt de...</td>\n",
       "    </tr>\n",
       "    <tr>\n",
       "      <th>11182</th>\n",
       "      <td>1661231037</td>\n",
       "      <td>Einzelhandel warnt vor dunklen Innenstädten</td>\n",
       "      <td>23.08.2022 • 07:03 Uhr</td>\n",
       "      <td>Am 1. September soll die Energieeinsparverordn...</td>\n",
       "      <td>/wirtschaft/verbraucher/innenstaedte-beleuchtu...</td>\n",
       "      <td>Am 1. September soll die Energieeinsparverord...</td>\n",
       "    </tr>\n",
       "    <tr>\n",
       "      <th>23646</th>\n",
       "      <td>1685996941</td>\n",
       "      <td>Wall Street schaltet einen Gang zurück</td>\n",
       "      <td>05.06.2023 • 22:29 Uhr</td>\n",
       "      <td>Zum Wochenstart tendierte die Wall Street unei...</td>\n",
       "      <td>/wirtschaft/finanzen/marktberichte/marktberich...</td>\n",
       "      <td>Zum Wochenstart tendierte die Wall Street une...</td>\n",
       "    </tr>\n",
       "    <tr>\n",
       "      <th>3052</th>\n",
       "      <td>1530363905</td>\n",
       "      <td>Kongo will Ölbohrungen erlauben</td>\n",
       "      <td>30.06.2018 • 15:05 Uhr</td>\n",
       "      <td>In den Nationalparks im Kongo leben vom Ausste...</td>\n",
       "      <td>/ausland/kongo-oelbohrungen-101.html</td>\n",
       "      <td>In den Nationalparks im Kongo leben vom Ausst...</td>\n",
       "    </tr>\n",
       "  </tbody>\n",
       "</table>\n",
       "</div>"
      ],
      "text/plain": [
       "           tstamp                                        title  \\\n",
       "22593  1683672539                 Was läuft falsch in Serbien?   \n",
       "7774   1624512227            Von Bienen, Bauern und Baumpflege   \n",
       "11182  1661231037  Einzelhandel warnt vor dunklen Innenstädten   \n",
       "23646  1685996941       Wall Street schaltet einen Gang zurück   \n",
       "3052   1530363905              Kongo will Ölbohrungen erlauben   \n",
       "\n",
       "                         date  \\\n",
       "22593  10.05.2023 • 00:48 Uhr   \n",
       "7774   24.06.2021 • 07:23 Uhr   \n",
       "11182  23.08.2022 • 07:03 Uhr   \n",
       "23646  05.06.2023 • 22:29 Uhr   \n",
       "3052   30.06.2018 • 15:05 Uhr   \n",
       "\n",
       "                                               shorttext  \\\n",
       "22593  Nach zwei Amokläufen mit 17 Toten gärt es in S...   \n",
       "7774   Monatelang wurde verhandelt - heute stimmt der...   \n",
       "11182  Am 1. September soll die Energieeinsparverordn...   \n",
       "23646  Zum Wochenstart tendierte die Wall Street unei...   \n",
       "3052   In den Nationalparks im Kongo leben vom Ausste...   \n",
       "\n",
       "                                                     url  \\\n",
       "22593            /ausland/europa/serbien-gewalt-100.html   \n",
       "7774        /inland/innenpolitik/insektenschutz-107.html   \n",
       "11182  /wirtschaft/verbraucher/innenstaedte-beleuchtu...   \n",
       "23646  /wirtschaft/finanzen/marktberichte/marktberich...   \n",
       "3052                /ausland/kongo-oelbohrungen-101.html   \n",
       "\n",
       "                                                fulltext  \n",
       "22593   Nach zwei Amokläufen mit 17 Toten gärt es in ...  \n",
       "7774    Monatelang wurde verhandelt - heute stimmt de...  \n",
       "11182   Am 1. September soll die Energieeinsparverord...  \n",
       "23646   Zum Wochenstart tendierte die Wall Street une...  \n",
       "3052    In den Nationalparks im Kongo leben vom Ausst...  "
      ]
     },
     "execution_count": 2,
     "metadata": {},
     "output_type": "execute_result"
    }
   ],
   "source": [
    "article_file = f\"{_dd}/1_tagesschau_20230704.jsonl\"\n",
    "\n",
    "df_texts = pd.read_json(open(article_file, \"r\", encoding=\"utf8\"), lines=True)\n",
    "\n",
    "print(df_texts.shape)\n",
    "\n",
    "df_texts.sample(5)"
   ]
  },
  {
   "cell_type": "markdown",
   "id": "7dbc2cae",
   "metadata": {},
   "source": [
    "Datumsangaben ergänzen:"
   ]
  },
  {
   "cell_type": "code",
   "execution_count": 26,
   "id": "af305430",
   "metadata": {},
   "outputs": [
    {
     "data": {
      "text/html": [
       "<div>\n",
       "<style scoped>\n",
       "    .dataframe tbody tr th:only-of-type {\n",
       "        vertical-align: middle;\n",
       "    }\n",
       "\n",
       "    .dataframe tbody tr th {\n",
       "        vertical-align: top;\n",
       "    }\n",
       "\n",
       "    .dataframe thead th {\n",
       "        text-align: right;\n",
       "    }\n",
       "</style>\n",
       "<table border=\"1\" class=\"dataframe\">\n",
       "  <thead>\n",
       "    <tr style=\"text-align: right;\">\n",
       "      <th></th>\n",
       "      <th>title</th>\n",
       "      <th>shorttext</th>\n",
       "      <th>url</th>\n",
       "      <th>fulltext</th>\n",
       "      <th>timestamp</th>\n",
       "    </tr>\n",
       "  </thead>\n",
       "  <tbody>\n",
       "    <tr>\n",
       "      <th>13994</th>\n",
       "      <td>Sánchez löst nach Wahlschlappe Parlament auf</td>\n",
       "      <td>Bei den Regional- und Kommunalwahlen erzielten...</td>\n",
       "      <td>/ausland/europa/spanien-neuwahl-100.html</td>\n",
       "      <td>Bei den Regional- und Kommunalwahlen erzielte...</td>\n",
       "      <td>2023-05-29 13:19:10+02:00</td>\n",
       "    </tr>\n",
       "    <tr>\n",
       "      <th>4430</th>\n",
       "      <td>+ Russland zeigt offenbar falsche Atombelege +</td>\n",
       "      <td>Russland hat mit offenbar falschen Fotos versu...</td>\n",
       "      <td>/newsticker/liveblog-ukraine-mittwoch-175.html</td>\n",
       "      <td>Russland hat mit offenbar falschen Fotos vers...</td>\n",
       "      <td>2022-10-26 22:20:17+02:00</td>\n",
       "    </tr>\n",
       "    <tr>\n",
       "      <th>1624</th>\n",
       "      <td>Afghanistan verdient weiter Unterstützung</td>\n",
       "      <td>Für Afghanistans Niedergang tragen die USA und...</td>\n",
       "      <td>/kommentar/afghanistan-jahrestag-101.html</td>\n",
       "      <td>Für Afghanistans Niedergang tragen die USA un...</td>\n",
       "      <td>2022-08-15 18:36:03+02:00</td>\n",
       "    </tr>\n",
       "    <tr>\n",
       "      <th>2097</th>\n",
       "      <td>Indiana erlässt fast vollständiges</td>\n",
       "      <td>In Indiana sind Abtreibungen künftig nur nach ...</td>\n",
       "      <td>/ausland/amerika/indiana-abtreibungsverbot-101...</td>\n",
       "      <td>In Indiana sind Abtreibungen künftig nur nach...</td>\n",
       "      <td>2022-08-06 09:24:55+02:00</td>\n",
       "    </tr>\n",
       "    <tr>\n",
       "      <th>12478</th>\n",
       "      <td>Kirchen müssen viele Gebäude aufgeben</td>\n",
       "      <td>Kirchen, Pfarrhäuser und weitere Gebäude sind ...</td>\n",
       "      <td>/inland/gesellschaft/kirchen-immobilien-100.html</td>\n",
       "      <td>Kirchen, Pfarrhäuser und weitere Gebäude sind...</td>\n",
       "      <td>2023-05-02 11:29:44+02:00</td>\n",
       "    </tr>\n",
       "  </tbody>\n",
       "</table>\n",
       "</div>"
      ],
      "text/plain": [
       "                                                title  \\\n",
       "13994    Sánchez löst nach Wahlschlappe Parlament auf   \n",
       "4430   + Russland zeigt offenbar falsche Atombelege +   \n",
       "1624        Afghanistan verdient weiter Unterstützung   \n",
       "2097               Indiana erlässt fast vollständiges   \n",
       "12478           Kirchen müssen viele Gebäude aufgeben   \n",
       "\n",
       "                                               shorttext  \\\n",
       "13994  Bei den Regional- und Kommunalwahlen erzielten...   \n",
       "4430   Russland hat mit offenbar falschen Fotos versu...   \n",
       "1624   Für Afghanistans Niedergang tragen die USA und...   \n",
       "2097   In Indiana sind Abtreibungen künftig nur nach ...   \n",
       "12478  Kirchen, Pfarrhäuser und weitere Gebäude sind ...   \n",
       "\n",
       "                                                     url  \\\n",
       "13994           /ausland/europa/spanien-neuwahl-100.html   \n",
       "4430      /newsticker/liveblog-ukraine-mittwoch-175.html   \n",
       "1624           /kommentar/afghanistan-jahrestag-101.html   \n",
       "2097   /ausland/amerika/indiana-abtreibungsverbot-101...   \n",
       "12478   /inland/gesellschaft/kirchen-immobilien-100.html   \n",
       "\n",
       "                                                fulltext  \\\n",
       "13994   Bei den Regional- und Kommunalwahlen erzielte...   \n",
       "4430    Russland hat mit offenbar falschen Fotos vers...   \n",
       "1624    Für Afghanistans Niedergang tragen die USA un...   \n",
       "2097    In Indiana sind Abtreibungen künftig nur nach...   \n",
       "12478   Kirchen, Pfarrhäuser und weitere Gebäude sind...   \n",
       "\n",
       "                      timestamp  \n",
       "13994 2023-05-29 13:19:10+02:00  \n",
       "4430  2022-10-26 22:20:17+02:00  \n",
       "1624  2022-08-15 18:36:03+02:00  \n",
       "2097  2022-08-06 09:24:55+02:00  \n",
       "12478 2023-05-02 11:29:44+02:00  "
      ]
     },
     "execution_count": 26,
     "metadata": {},
     "output_type": "execute_result"
    }
   ],
   "source": [
    "# df_texts[\"timestamp\"] = pd.to_datetime(df_texts[\"tstamp\"], unit=\"s\", utc=True).dt.tz_convert(\"Europe/Berlin\")\n",
    "# df_texts.drop(columns=[\"tstamp\", \"date\"], inplace=True)\n",
    "df_texts.sample(5)\n"
   ]
  },
  {
   "cell_type": "code",
   "execution_count": 19,
   "id": "51483f75",
   "metadata": {},
   "outputs": [
    {
     "data": {
      "text/plain": [
       "15123"
      ]
     },
     "execution_count": 19,
     "metadata": {},
     "output_type": "execute_result"
    }
   ],
   "source": [
    "\n",
    "df_texts[\"fulltext\"].notna().sum()"
   ]
  },
  {
   "cell_type": "markdown",
   "id": "dc1f58ed",
   "metadata": {},
   "source": [
    "## Step 2: Extrahieren von Named Entities\n",
    "\n",
    "Spacy vorbereiten. Wir verwenden das größte deutsche Modell.\n",
    "\n",
    "Herausforderung I: Der erste Anlauf mit Spacys Standard-NER ergibt leider kein gutes Resultat. Spacy erkennt zwar Entitäten und ordnet sie auch häufig richtig zu, löst aber keine Ambiguitäten auf. \"Obama\", \"Barack Obama\", \"Barack Hussein Obama\" und \"Präsident Obama\" werden als vier verschiedene Entitäten erkannt. Das ist für unsere Zwecke nicht hilfreich.\n",
    "\n",
    "Es ist ein Modell erforderlich, das *Entity Disambiguation* bzw. *Entity Linking* unterstützt.  spaCy hat sowas, aber man braucht: \n",
    "\n",
    "- eine Knowledge Base\n",
    "- eine Funktion, die plausible Kandidaten aus der KB zieht,\n",
    "- ein ML-Modell, das anhand des lokalen Kontexts den wahrscheinlichsten Kandidaten auswählt\n",
    "\n",
    "Das ist zuviel Aufwand, wir suchen also nach einer Alternative. Folgende Kandidaten sind in der engeren Auswahl:\n",
    "\n",
    "- [Lucaterre/spacyfishing: A spaCy wrapper of Entity-Fishing (component) for named entity disambiguation and linking on Wikidata](https://github.com/Lucaterre/spacyfishing) ([kermitt2/entity-fishing: A machine learning tool for fishing entities](https://github.com/kermitt2/entity-fishing))\n",
    "- [amazon-science/ReFinED: ReFinED is an efficient and accurate entity linking (EL) system.](https://github.com/amazon-science/ReFinED)\n",
    "- [Improving Named Entity Disambiguation using Entity Relatedness within Wikipedia | by Will Seaton | Towards Data Science](https://towardsdatascience.com/improving-named-entity-disambiguation-using-entity-relatedness-within-wikipedia-92f400ee5994)\n",
    "- [Introducing the Kensho Derived Wikimedia Dataset | by Gabriel Altay | Kensho Blog](https://blog.kensho.com/announcing-the-kensho-derived-wikimedia-dataset-5d1197d72bcf)\n",
    "- [Kensho Derived Wikimedia Dataset | Kaggle](https://www.kaggle.com/datasets/kenshoresearch/kensho-derived-wikimedia-data?select=property_aliases.csv)\n",
    "- [kdwd_wikidata_introduction | Kaggle](https://www.kaggle.com/code/kenshoresearch/kdwd-wikidata-introduction)\n",
    "\n",
    "Wir nehmen @sw-entity-fishing, das per @sw-spacyfishing in Spacy integriert werden kann."
   ]
  },
  {
   "cell_type": "code",
   "execution_count": 3,
   "id": "5b70c1e9",
   "metadata": {},
   "outputs": [
    {
     "name": "stderr",
     "output_type": "stream",
     "text": [
      "c:\\Users\\p\\miniconda3\\envs\\mbb-asud-proto-tagesschau\\Lib\\site-packages\\tqdm\\auto.py:21: TqdmWarning: IProgress not found. Please update jupyter and ipywidgets. See https://ipywidgets.readthedocs.io/en/stable/user_install.html\n",
      "  from .autonotebook import tqdm as notebook_tqdm\n"
     ]
    },
    {
     "data": {
      "text/plain": [
       "<spacyfishing.entity_fishing_linker.EntityFishing at 0x1640d378050>"
      ]
     },
     "execution_count": 3,
     "metadata": {},
     "output_type": "execute_result"
    }
   ],
   "source": [
    "nlp = spacy.load(\"de_core_news_lg\")\n",
    "# nlp = spacy.load(\"en_core_web_sm\")\n",
    "# nlp.add_pipe(\"entityfishing\", config={\"language\": \"de\", \"api_ef_base\": \"http://nerd.huma-num.fr/nerd/service\"})\n",
    "nlp.add_pipe(\"entityfishing\", config={\"language\": \"de\", \"api_ef_base\": \"http://127.0.0.1:8090/service\"})"
   ]
  },
  {
   "cell_type": "markdown",
   "id": "f27a4676",
   "metadata": {},
   "source": [
    "### Single-Threaded NERD\n",
    "\n",
    "Test mit 100 Artikeln."
   ]
  },
  {
   "cell_type": "code",
   "execution_count": 29,
   "id": "195ae01d",
   "metadata": {},
   "outputs": [
    {
     "name": "stdout",
     "output_type": "stream",
     "text": [
      "{}\n"
     ]
    }
   ],
   "source": [
    "text1 = \"\"\"\n",
    "Eleven Palestinians have been killed since hundreds of Israeli troops backed by drones entered the camp on Monday. The agencies say infrastructure is being damaged and medics have been stopped from reaching all the injured. Palestinian militant groups meanwhile said a car-ramming and stabbing attack in Israel was a response to the raid. Israeli authorities said seven people were injured on a busy shopping street in Tel Aviv and that the attacker was a Palestinian man from the West Bank. Israel's Prime Minister, Benjamin Netanyahu, said: \"Whoever thinks that such an attack will deter us from continuing our fight against terrorism is mistaken.\"\n",
    "\"\"\"\n",
    "\n",
    "print(extract_entities(text1))"
   ]
  },
  {
   "cell_type": "code",
   "execution_count": 12,
   "id": "2864d44c",
   "metadata": {},
   "outputs": [],
   "source": [
    "def entity_list(doc) -> list[dict]:\n",
    "    return [\n",
    "        {\n",
    "            \"ner_text\": ent.text,\n",
    "            \"label\": ent.label_,\n",
    "            \"wd_id\": ent._.kb_qid,\n",
    "            \"wd_url\": ent._.url_wikidata,\n",
    "            \"score\": ent._.nerd_score,\n",
    "        }\n",
    "        for ent in doc.ents\n",
    "    ]"
   ]
  },
  {
   "cell_type": "code",
   "execution_count": 14,
   "id": "2cc18afc",
   "metadata": {},
   "outputs": [
    {
     "name": "stderr",
     "output_type": "stream",
     "text": [
      "1it [00:00,  6.60it/s]"
     ]
    },
    {
     "name": "stdout",
     "output_type": "stream",
     "text": [
      "Pandas(Index=0, tstamp=1656638781, url='/ausland/europa/dw-tuerkei-103.html', fulltext=' In der Türkei ist der Internet-Zugang zum Programm der Deutschen Welle gesperrt worden. Als Grund gab die Aufsichtsbehörde eine fehlende Sendelizenz an. Auch Voice of America ist nicht mehr erreichbar.  Die türkische Aufsichtsbehörde für den Rundfunk (RTÜK) hat den Zugang zur Deutschen Welle in der Türkei gesperrt. \"Der Zugang zum türkischsprachigen Dienst der Deutschen Welle (DW), DW Turkce, und Voice of America (VOA), die keine Genehmigungen beantragt haben, wurde auf Antrag des RTÜK-Vorstands vom Strafgerichtshof in Ankara blockiert\", teilte Ilhan Tasci, Vorstandsmitglied von RTÜK, auf Twitter mit. Eine Sperrung der Internetangebote war erwartet worden, sie droht der DW, VOA und anderen Auslandssendern seit Monaten. Im Februar hatte RTÜK unter Verweis auf das Medienregulierungsgesetz des Landes bekannt gegeben, dass die Sender Lizenzen für On-Demand-Angebote beantragen müssten. Die DW hatte angekündigt, dagegen gerichtlich vorzugehen. Die islamisch-konservative Regierung in der Türkei hat in den vergangenen Jahren die Medienaufsicht verschärft, indem sie der RTÜK eine weitreichende Aufsicht über Internet-Plattformen gab, die Filme, Videos oder Radioinhalte verbreiten. Die Behörde kann Inhalte auch entfernen lassen. Regierungsnahe Vertreter haben eine Mehrheit in dem RTÜK-Gremium. Türkische Medien stehen zum Großteil unter der Kontrolle der Regierung oder stehen der Regierung nahe.')\n",
      "Pandas(Index=1, tstamp=1656713212, url='/ausland/europa/protest-spanien-melilla-101.html', fulltext=' 23 Migranten starben vor wenigen Tagen bei dem Versuch, auf spanisches Gebiet zu gelangen. Aufnahmen der Ereignisse sorgten für Empörung. Tausende Spanier haben am Abend gegen den Umgang mit den Migranten protestiert.  In mehreren spanischen Städten haben Tausende Menschen gegen den Tod von Migranten in der spanischen Exklave Melilla protestiert. Die Demonstrationen standen unter dem Motto \"Las Vidas Negras Importan\" (\"Schwarze Leben zählen\"). In Madrid versammelten sich die Demonstranten auf dem Callao-Platz und trugen Schilder mit der Aufschrift \"Grenzen töten\" und \"Kein Mensch ist illegal\". In Barcelona wandten sich die Teilnehmer der Protestaktion, darunter viele mit afrikanischen Wurzeln, gegen Rassismus und Kolonialismus. Vor einer Woche brach nach Angaben der marokkanischen Behörden eine Massenpanik unter Migranten aus, die zu Hunderten versuchten, den Grenzzaun zwischen Marokko und der spanischen Exklave Melilla zu überwinden. Mindestens 23 Menschen kamen dabei ums Leben. Videoaufnahmen und Fotos, die in den Tagen nach den Todesfällen auftauchten, lösten Empörung aus. Menschenrechtsorganisationen und UN-Generalsekretär António Guterres verurteilten das Geschehen. In einem von der Marokkanischen Menschenrechtsvereinigung veröffentlichten Video waren Dutzende junger afrikanischer Männer zu sehen, von denen einige regungslos und blutend auf dem Boden lagen, während marokkanische Sicherheitskräfte über ihnen standen. Die spanische Staatsanwaltschaft kündigte eine Untersuchung an.')\n"
     ]
    },
    {
     "name": "stderr",
     "output_type": "stream",
     "text": [
      "2it [00:00,  7.10it/s]"
     ]
    },
    {
     "name": "stdout",
     "output_type": "stream",
     "text": [
      "Pandas(Index=2, tstamp=1656891126, url='/ausland/europa/ukraine-lyssytchansk-selenskyj-101.html', fulltext=' Trotz des Rückzug der Armee will der ukrainische Präsident die Stadt nicht verloren geben. Russland hatte zuvor die vollständige Einnahme gemeldet. Lyssytschansk war die letzte größere Bastion der Ukrainer in Luhansk.  Der ukrainische Präsident Wolodymyr Selenskyj sieht die Stadt Lyssytschansk im Osten des Landes trotz des Rückzugs der ukrainischen Armee noch nicht als verloren an. \"Wenn das Kommando unserer Armee Menschen von bestimmten Punkten der Front abzieht, wo der Feind den größten Feuervorteil hat, insbesondere Lyssytschansk, bedeutet das nur eins: Dass wir dank unserer Taktik, dank der verstärkten Versorgung mit modernen Waffen, zurückkommen werden\", sagte er am Sonntag in einer Videobotschaft. Die ukrainische Armee bewege sich vorwärts - sowohl im Gebiet Charkiw im Osten, als auch im Gebiet Cherson im Süden und auf dem Schwarzen Meer. Die jüngst wiedererlangte Schlangeninsel sei ein gutes Beispiel dafür. \"Es wird einen Tag geben, an dem wir dasselbe über den Donbass sagen werden\", meinte Selenskyj. \"Die Ukraine gibt nichts verloren.\" Nach wochenlangem Abwehrkampf hatte die ukrainische Armee am Abend bekanntgegeben, dass sie aus Lyssytschansk im Gebiet Luhansk abzieht. Die russischen Besatzungstruppen hätten eine mehrfache Überlegenheit, erklärte der Generalstab in Kiew. Russland hatte zuvor gemeldet, dass es die Großstadt eingenommen habe. Von unabhängiger Seite lassen sich die Berichte aus den Kampfgebieten kaum überprüfen. Lyssytschansk war die letzte größere Bastion der Ukrainer im Gebiet Luhansk. Dessen Eroberung gehört zu den von Russland benannten Kriegszielen.')\n"
     ]
    },
    {
     "name": "stderr",
     "output_type": "stream",
     "text": [
      "3it [00:00,  4.01it/s]"
     ]
    },
    {
     "name": "stdout",
     "output_type": "stream",
     "text": [
      "Pandas(Index=3, tstamp=1656372604, url='/kommentar/einmalzahlung-inflation-101.html', fulltext=' Dass das Kanzleramt mit seinem Vorstoß zu Einmalzahlungen zur Inflationsbekämpfung den Gewerkschaften Lohnrichtlinien vorgeben will, ist planlos und würde die Situation nur verschärfen.  Ausgerechnet ein Bundeskanzler der SPD will mit seinem Vorschlag der Einmalzahlungen den Gewerkschaften Lohnleitlinien vorgeben. Zurecht muss er sich von ihnen maßregeln lassen, dass Tarifverhandlungen in Deutschland nicht im Kanzleramt geführt werden. Es ist nicht nur Tradition. Es ist auch gut, dass die Verantwortung für ordentliche Löhne und Gehälter bei Gewerkschaften und Arbeitgebern liegt. Vorgaben aus dem Kanzleramt erschweren die anstehenden schwierigen Tarifverhandlungen eher als sie zu erleichtern. Zudem sind Einmalzahlungen in Zeiten von Rekordinflation eine fragwürdige Maßnahme. Eine Einmalzahlung ist schnell verfrühstückt, die Preise bleiben aber dauerhaft hoch. Die Zahlungen wären genauso ein Strohfeuer wie der Scholzsche Tankrabatt. Milliardenteuer, die Entlastung verpufft aber schnell. Einmalzahlungen gehen nicht in Lohntabellen ein, sie werden nicht dynamisiert und noch nicht einmal für die Rentenansprüche bringt das was. Für die Gewerkschaften, die wegen der hohen Inflation kampfbereit sind, wäre es ein gefährliches Spiel, sich auf den Vorschlag von Scholz einzulassen. Schon heute unterliegen nur noch 43 Prozent der Beschäftigten der Tarifbindung. Mitglieder erwarten von ihren Gewerkschaften zu recht, dass ihre Einkommen mit den steigenden Preisen mithalten können. Wenn sich Arbeitnehmer von ihnen nicht mehr ausreichend vertreten fühlen, droht ein heißer Herbst mit wilden Streiks. Dann hätte sich der Kanzler mit seinem erneuten planlosen Entlastungshäppchen selbst wieder ein Stück weiter demontiert.')\n"
     ]
    },
    {
     "name": "stderr",
     "output_type": "stream",
     "text": [
      "4it [00:02,  1.43it/s]"
     ]
    },
    {
     "name": "stdout",
     "output_type": "stream",
     "text": [
      "Pandas(Index=4, tstamp=1656551205, url='/ausland/afrika/un-blauhelmmission-mali-101.html', fulltext=' Der UN-Sicherheitsrat hat die UN-Friedensmission in Mali, an der auch die Bundeswehr beteiligt ist, um ein Jahr verlängert. 13 der 15 Mitglieder des mächtigsten UN-Gremiums stimmten für ein neues Mandat - China und Russland enthielten sich.  Der UN-Sicherheitsrat hat die Blauhelmmission in Mali um ein Jahr verlängert. Das Mandat für den Einsatz läuft nun bis zum 30. Juni 2023, wie es einer von Frankreich eingebrachten Resolution hervorgeht, der 13 der 15 Ratsmitglieder zustimmten. Russland und China enthielten sich. Mali kündigte dabei allerdings an, dass es den Zugang der UN zur Untersuchung von Menschenrechtsverletzungen nicht garantieren könne - die Regierung behalte sich das Recht vor, künftige entsprechende Ermittlungen nicht zu genehmigen. Der Sicherheitsrat äußerte \"tiefe Besorgnis\" über die sich zunehmend verschlechternde politische Situation und Sicherheitslage in dem westafrikanischen Land. Seit 2012 steckt Mali in einer tiefen Krise. Damals veranlasste ein Aufstand meuternde Soldaten zu einem Sturz der Regierung. Durch das Machtvakuum erstarkten militante Islamisten, die 2013 durch einen von Frankreich geführten Militäreinsatz aus urbanen Zentren vertrieben werden konnten. Extremistengruppen mit Verbindungen zu Al-Kaida und der Terrormiliz Islamischer Staat sind indes nach wie vor aktiv und seit 2015 von Gebieten im Norden in dichter besiedelte Gegenden in Zentralmali eingefallen. Dort verüben sie teils schwere Anschläge und säen Zwietracht zwischen ethnischen Gruppen in der Region. Nach einem Putsch ergriff die Armee in Mali im Sommer 2020 die Macht. Sie kappte die Verbindungen zur einstigen Kolonialmacht Frankreich und näherte sich an Russland an. Die Junta hat für den Kampf gegen Dschihadisten auch Söldner der russischen Wagner-Gruppe angeheuert, der die Europäische Union und Menschenrechtsgruppen massive Verstöße gegen Menschenrechte und das Völkerrecht vorwerfen. Der Kreml hat jegliche Verbindungen zur Wagner-Gruppe bestritten, doch wird sie von westlichen Experten als Werkzeug von Russlands Präsident Wladimir Putin betrachtet.')\n"
     ]
    },
    {
     "name": "stderr",
     "output_type": "stream",
     "text": [
      "5it [00:06,  2.02s/it]"
     ]
    },
    {
     "name": "stdout",
     "output_type": "stream",
     "text": [
      "Pandas(Index=5, tstamp=1656891576, url='/ausland/europa/daenemark-mall-schuesse-tote-103.html', fulltext=' Bei den Schüssen in einem Kopenhagener Einkaufszentrum sind nach Polizeiangaben drei Menschen getötet worden. Ein 22-jähriger Däne sei festgenommen worden. Regierungschefin Frederiksen verurteilte die Tat.  Bei der Bluttat in einem Einkaufszentrum in Kopenhagen sind mindestens drei Menschen erschossen worden. Bei den Opfern handele es sich um einen Mann zwischen 40 und 50 Jahren und zwei junge Menschen, sagte Polizeichefinspektor Søren Thomassen in der Nacht zu Montag in der dänischen Hauptstadt örtlichen Medien zufolge. Drei weitere Menschen seien schwer verletzt und in kritischem Zustand. Zum möglichen Motiv machte Thomassen keine Angaben. In sozialen Medien werde über einen rassistischen Hintergrund spekuliert, sagte er. Dafür gebe es derzeit keine Anhaltspunkte. Die Polizei hatte einen 22-jährigen Dänen in Zusammenhang mit der Tat festgenommen. Der mutmaßliche Schütze sei der Polizei \"grundsätzlich bekannt\" gewesen, sagte Thomassen. Weitere Angaben hierzu machte er nicht. Die Polizei geht davon aus, dass der Täter alleine handelte. \"Bis wir absolut sicher sind, dass die Hypothese zutrifft, werden wir eine weitreichende Untersuchung durchführen und eine massive operative Präsenz in Kopenhagen aufrechterhalten, bis wir sagen können, dass er alleine war\", sagte Thomassen. Bei der Festnahme habe der Mann ein Gewehr und Munition dabei gehabt. Möglicherweise sei aber noch eine andere Waffe im Spiel gewesen. Der Festgenommene soll heute vernommen werden, wie es weiter hieß. Er werde wegen Totschlags angeklagt. Der Vorwurf könne sich aber noch ändern. Ob der Mann Mitglied in einem Schützenverein war und ob er die Waffe legal besaß, wollte die Polizei zunächst nicht mitteilen. Das dänische Königshaus rief zum Zusammenhalt auf. Ministerpräsidentin Mette Frederiksen verurteilte die Tat als \"grausamen Angriff\". \"Wir alle wurden brutal aus dem strahlenden Sommer gerissen, den wir gerade erst begonnen hatten\", teilte Fredriksen mit. \"Es ist unverständlich. Herzzerreißend. Zwecklos. Unsere schöne und sonst so sichere Hauptstadt wurde im Bruchteil einer Sekunde verändert.\" Die Regierungschefin dankte der Polizei und den Rettungskräften sowie allen Menschen, die bereit waren zu helfen, für ihren Einsatz. In dem Einkaufszentrum in Kopenhagen sind nach Angaben der Polizei mehrere Menschen durch Schüsse getötet worden. Außerdem gebe es viele Verletzte, sagte ein Sprecher auf einer Pressekonferenz. Genauere Angaben machte er nicht. Die bisherigen Informationen seien mit Unsicherheit verbunden, es handele sich um eine Art Chaosphase. Als die ersten Schüsse fielen, hätten mehr als hundert Menschen rennend das Einkaufszentrum verlassen, meldeten dänische Medien unter Berufung auf Augenzeugen. Auf einem Foto war ein Mann zu sehen, der auf eine Krankentrage gelegt wurde. Augenzeugen berichteten, dass sich Menschen in den Läden der Mall versteckt hätten. Ein von ihnen sagte dem Sender DR, er habe drei oder vier sehr laute Knalle gehört, als er gerade mit seiner Familie in einem Geschäft war. Dann seien andere Menschen in den Laden gerannt und hätten von Schüssen berichtet, daraufhin sei er mit seiner Familie durch einen Notausgang geflohen, sagte der Mann. Die Polizei rief Augenzeugen auf, Video- und Fotomaterial zur Verfügung zu stellen. Kopenhagens Oberbürgermeisterin Sophie H. Andersen zeigte sich entsetzt über den Vorfall. Es sei \"furchtbar\", twitterte sie. Die Stadt stehe in engem Kontakt mit der Polizei und sei bereit zu helfen. Das Einkaufszentrum Fields liegt im Stadtteil Amager zwischen dem Zentrum der dänischen Hauptstadt und dem Flughafen. In der Nachbarschaft liegt die Royal\\xa0Arena, wo ein Konzert des Musikers Harry Styles stattfinden sollte. Laut dänischen Medien wurde es aber abgesagt. Mehrere Tausend Fans waren zunächst noch in die Halle gelassen worden und warteten dort. Der Fernsehsender TV2 meldete, den Fans in der Halle sei gesagt worden, dass das Konzert aus Sicherheitsgründen nicht stattfinde. Die Fans seien gebeten worden, die Halle ruhig zu verlassen.')\n"
     ]
    },
    {
     "name": "stderr",
     "output_type": "stream",
     "text": [
      "6it [00:10,  2.76s/it]"
     ]
    },
    {
     "name": "stdout",
     "output_type": "stream",
     "text": [
      "Pandas(Index=6, tstamp=1657319024, url='/wirtschaft/twitter-musk-kauf-geplatzt-101.html', fulltext=' Es zeichnete sich schon seit Wochen ab: Tech-Milliardär Elon Musk macht einen Rückzieher beim Twitter-Kauf. Seine Anwälte verweisen auf angeblich unvollständige Informationen zur Zahl von Fake-Accounts bei dem Online-Dienst.  Tech-Milliardär Elon Musk hat seine Vereinbarung zum Kauf von Twitter für aufgelöst erklärt. Zur Begründung verwiesen seine Anwälte auf angeblich unzureichende Angaben zur Zahl von Fake-Accounts, wie aus einer Mitteilung bei der US-Börsenaufsicht SEC hervorgeht. Twitter kündigte umgehend an, den Ausstieg aus dem Übernahmedeal nicht akzeptieren zu wollen. Man wolle den Verkauf zum dem mit Musk vereinbarten Preis durchsetzen und dafür auch vor Gericht ziehen, schrieb Verwaltungsratschef Bret Taylor bei Twitter. Musk hatte schon seit Wochen die Twitter-Zahlen öffentlich angezweifelt, was von Beobachtern als Versuch interpretiert wurde, zumindest den Preis zu drücken. Die Twitter-Aktie sackte nach der Mitteilung im nachbörslichen Handel um mehr als sechs Prozent ab.  Musk versuchte bereits seit Mitte Mai, angeblich falsche Schätzungen von Twitter zur Zahl der Spam- und Fake-Accounts zum Thema zu machen. So erklärte er den Übernahmedeal deswegen bereits für ausgesetzt. Musks Anwälte erklärten nun, Twitter habe es seit fast zwei Monaten versäumt, Musk und seinem Beraterstab die benötigten Daten zur Verifizierung der Angaben zu Fake-Accounts zu liefern. Sie bezeichnen das als einen derart schweren Bruch der Vertragsbedingungen, dass die Kaufvereinbarung aufgelöst werden könne. Doch so einfach dürfte Musk nicht aus dem Schneider sein - es droht ein langwieriger Rechtsstreit. Er und Twitter haben eine Strafe von einer Milliarde Dollar vereinbart, falls eine Partei vom Deal zurücktritt. Doch wenn Twitter auf Vollzug pocht, dürfte es für Musk rechtlich trotzdem schwierig werden. Das Unternehmen hatte wiederholt betont, dass es den Deal durchsetzen wolle. Musk hatten den Aktionären 54,20 Dollar pro Aktie geboten. Das wäre für sie ein guter Deal: Schon vor Musks Mitteilung am Freitag ging das Papier bei nur 36,81 Dollar aus dem US-Handel. Beobachter hatten spekuliert, dass Musk angesichts der Preisdifferenz nicht mehr gewillt war, an dem ursprünglichen Gebot festzuhalten.')\n"
     ]
    },
    {
     "name": "stderr",
     "output_type": "stream",
     "text": [
      "7it [00:11,  2.17s/it]"
     ]
    },
    {
     "name": "stdout",
     "output_type": "stream",
     "text": [
      "Pandas(Index=7, tstamp=1656986164, url='/ausland/europa/ukraine-selenskyj-wiederaufbau-101.html', fulltext=' Der ukrainische Präsident hat dazu aufgerufen, sein Land unverzüglich wieder aufzubauen. Zehntausende Häuser seien zerstört, die Wirtschaft lahmgelegt. Und auch der Winter sei nicht mehr fern.  Der ukrainische Präsident Wolodymyr Selenskyj hat dazu aufgerufen, mit dem Wiederaufbau des Landes nicht bis zu einem Ende des russischen Angriffskrieges zu warten. Vieles müsse unverzüglich getan werden, betonte Selenskyj in seiner täglichen Videoansprache am Montagabend. So seien in den Gebieten, aus denen russische Truppen wieder vertrieben worden seien, zehntausende Häuser zerstört. Auch müsse man sich schon jetzt auf den Winter vorbereiten, unter anderem mit Blick auf die Energieversorgung. In Lugano in der Schweiz läuft gerade eine erste große Konferenz zum Wiederaufbau der Ukraine. Der ukrainische Regierungschef Denys Schmyhal schätzte dort am Montag, dass hierfür mindestens 750 Milliarden Dollar (knapp 720 Milliarden Euro) notwendig seien. Große Teile der Wirtschaft seien von Kämpfen und russischen Angriffen lahmgelegt worden, sagte Selenskyj in seiner Ansprache. Tausende Unternehmen stünden still. Zugleich müsse es um mehr gehen als nur darum, zerstörte Wände wieder hochzuziehen: \"Die Ukraine muss das freieste, modernste und sicherste Land in Europa werden.\" Selenskyj äußerte sich nur kurz zum Verlauf der Kampfhandlungen im Osten des Landes, wo ukrainische Truppen am Wochenende die Stadt Lyssytschansk aufgeben mussten. Die russischen Truppen haben damit das Gebiet Luhansk größtenteils unter ihre Kontrolle gebracht - was als ein Ziel ihrer sogenannten Spezial-Operation, wie der Krieg in Russland offiziell heißt, bezeichnet wurde. Die ukrainischen Streitkräfte fügten dem russischen Militär jeden Tag Verluste bei, sagte Selenskyj. «Wir müssen sie brechen.» Das werde zwar Zeit und «übermenschliche Anstrengungen» erfordern, es gebe aber keine Alternative, um die Zukunft der Ukraine zu sichern.')\n"
     ]
    },
    {
     "name": "stderr",
     "output_type": "stream",
     "text": [
      "8it [00:12,  1.93s/it]"
     ]
    },
    {
     "name": "stdout",
     "output_type": "stream",
     "text": [
      "Pandas(Index=8, tstamp=1656978899, url='/ausland/amerika/nationalfeiertag-usa-chicago-schuesse-101.html', fulltext=' Bei einer Parade anlässlich des Nationalfeiertags in den USA sind in einem Vorort von Chicago im Bundesstaat Illinois Schüsse gefallen. Dabei wurden nach Polizeiangaben mindestens sechs Menschen getötet, zahlreiche weitere wurden verletzt.  Durch Schüsse während einer Parade zum Unabhängigkeitstag der USA sind in der Nähe von Chicago mindestens sechs Menschen getötet worden. Ein Polizeisprecher sagte, 24 Menschen seien nach der Tat in Highland Park im Bundesstaat Illinois in Krankenhäuser gebracht worden. Der Schütze sei zunächst nicht gefasst worden. Erst Stunden nach den tödlichen Schüssen gelang es den Ermittlern, einen Verdächtigen zu identifizieren. Der 22-Jährige sei flüchtig, teilte die Polizei am Montagabend (Ortszeit) mit. Er gelte als bewaffnet und gefährlich, die Bevölkerung solle wachsam sein. US-Präsident Joe Biden sagte, er und seine Frau Jill seien \"von sinnloser Schusswaffengewalt schockiert, die wieder einmal einer amerikanischen Gemeinde Trauer gebracht hat an diesem Unabhängigkeitstag\". Er habe die Sicherheitsbehörden des Bundes angewiesen, die Polizei vor Ort bei der Fahndung zu unterstützen. Bürgermeisterin Nancy Rotering forderte die Menschen dazu auf, die Innenstadt zu meiden. Bei einer Pressekonferenz sprach sie von einer terroristischen Tat - das Ganze an einem Tag, an dem die Stadt eigentlich die Gemeinschaft und die Freiheit habe feiern wollen. Das Fest zum 4. Juli sei abgesagt worden, so Rotering mit. Die Verwaltung von Highland Park teilte mit: \"Zahlreiche Polizeibeamte sind im Einsatz und haben die Innenstadt von Highland Park abgeriegelt.\" Auch das Büro des Sheriffs von Lake County schrieb auf Twitter: \"Bleiben Sie dem Gebiet fern - lassen Sie die Polizei und die Ersthelfer ihre Arbeit machen.\" Hintergründe der Tat waren zunächst nicht bekannt. Miles Zaremski, ein\\xa0Augenzeuge, sagte dem Sender CNN, er habe mehrere Verletzte und leblose Menschen gesehen, die auf dem Boden lagen. \"Es war herzzerreißend.\" Zaremski sagte weiter, er habe rund 30 Knallgeräusche gehört. Menschen seien von der Parade geflohen. \"Es war einfach chaotisch.\" Die USA haben seit langem mit einem riesigen Ausmaß an Waffengewalt zu kämpfen. Erst Ende Mai hatte ein 18 Jahre alter Schütze an einer Grundschule in Texas ein Massaker angerichtet. Er hatte in der Kleinstadt Uvalde 19 Kinder und 2 Lehrerinnen getötet, bevor er von der Polizei erschossen wurde. Die Bluttat hatte die Diskussion über schärfere Waffengesetze in den USA neu entfacht. Schusswaffen sind in den Vereinigten Staaten relativ leicht erhältlich. Der Kongressabgeordnete Brad Schneider, der an der Parade teilnehmen wollte, schrieb auf Twitter: \"Mein Beileid an die Familie und die Angehörigen.\" Er verpflichte sich, alles zu tun, \"um unsere Kinder, unsere Städte und unser Land sicherer zu machen. Genug ist genug!\" Mit Informationen von Steffen Wurzel, ARD-Studio Washington')\n"
     ]
    },
    {
     "name": "stderr",
     "output_type": "stream",
     "text": [
      "9it [00:16,  2.56s/it]"
     ]
    },
    {
     "name": "stdout",
     "output_type": "stream",
     "text": [
      "Pandas(Index=9, tstamp=1657239995, url='/wirtschaft/verbraucher/scholz-energie-subventionen-101.html', fulltext=' Bundeskanzler Scholz hat klar gemacht, dass die Bundesregierung nur begrenzt gegen steigende Energiepreise vorgehen kann. Gleichzeitig arbeite man daran, eine Gasmangellage in Deutschland zu verhindern.  Bundeskanzler Olaf Scholz hat Firmen und Bürgern Hilfen in der Gaskrise zugesagt, bremst aber vor zu hohen Erwartungen. \"Wir werden nicht alle Preise runtersubventionieren können\", sagte Scholz im ZDF. \"Das kann kein Staat der Welt.\" Die Regierung werde auch nicht versprechen können, dass man den Preisanstieg von Gas und Öl auf dem Weltmarkt stoppen könne. Aber die Bundesregierung prüfe etwa in der sogenannten konzertierten Aktion mit Gewerkschaften und Arbeitgebern, wie man angesichts der hohen Energiepreise helfen könne und müsse, sagte Scholz. Bei vielen Unternehmen und Privatkunden seien die hohen Gaspreise noch gar nicht voll durchgeschlagen, was aber zeitverzögert passieren werde. Die Regierung arbeite mit Hochdruck daran, eine Gasmangellage in Deutschland zu verhindern. Man bereite sich auch für den Fall vor, dass dieser Zustand doch eintrete, sagte der Kanzler. Es wäre aber unverantwortlich, sich nun in etwas hineinzusteigern, was man gerade abzuwenden versuche, sagte Scholz. Er widersprach zudem den Eindruck, dass die Krise Deutschlands Finanzen überfordere. \"Der Staatsbankrott steht wirklich nicht bevor\", betonte Scholz. Im Gegenteil werde Deutschland \"in relativ kurzer Zeit\" das alte Schuldenniveau wieder erreichen, wenn alles normal weiterlaufe. Die deutsche Volkswirtschaft habe das Potenzial, dass man die Schulden reduzieren könne. Im Vergleich zu vielen anderen Ländern werde Deutschland relativ gut aus der Krise kommen.')\n"
     ]
    },
    {
     "name": "stderr",
     "output_type": "stream",
     "text": [
      "10it [00:17,  2.04s/it]"
     ]
    },
    {
     "name": "stdout",
     "output_type": "stream",
     "text": [
      "Pandas(Index=10, tstamp=1657234699, url='/ukraine-gebietsverluste-101.html', fulltext=' Die russischen Truppen rücken in der Ostukraine vor - allerdings langsamer als geplant und mit vielen Verlusten. Was bedeuten die Gebietsgewinne, und wie geht es nun weiter?  In vieler Hinsicht werde sich das Schicksal des Donbass in Sjewjerodonezk entscheiden. Das sagte der ukrainische Präsident Wolodymyr Selenskyj Anfang Juni. Vielleicht ein Grund dafür, dass sich auch in der Berichterstattung der Mythos etabliert hat, die Städte Sjewjerodonezk und Lyssytschansk seien strategisch wichtig. \"Der Verlust von Lyssytschansk und Sjewjerodonezk bedeutet militärisch praktisch nichts\", sagt der ukrainische Militärexperte Oleg Schdanow. Für Wladimir Putin sind sie politisch wichtig, er kann nun einen Sieg verkünden. Zumindest, wenn die Zuhörerschaft bereit ist zu vergessen, dass das Kriegsziel Russlands einmal die Einnahme der Hauptstadt Kiew gewesen ist. \"Die Kosten für Russland waren sehr hoch. Es ist ein symbolischer Sieg\", sagt der ukrainische Militärexperte Oleksij Melnyk vom Razumkow-Zentrum in Kiew. Russland habe einen Großteil seiner Ressourcen an Waffen und Soldaten in die Eroberung der Zwillingsstädte gesteckt. Nach der Einnahme der Zwillingsstädte Lyssytschanks und Sjewjerodonezk sind die russischen Truppen nicht mehr weit davon entfernt, die gesamte Region Luhansk zu erobern. Nun stehen die Städte Slawjansk und Kramatorsk in der Region Donezk im Fokus. Im Gegensatz zu Lyssytschansk und Sjewjerodonezk sind sie strategisch wichtig. Hier verlaufen wichtige Nachschublinien der ukrainischen Truppen. Wie schnell die russischen Truppen vorrücken können, hänge davon ab, wie schnell die Russen neue Ausrüstung beschaffen können, sagt Oleksij Melnyk. Bisher seien die russischen Truppen täglich drei bis fünf Kilometer vorgerückt. \"Das ist nicht sehr schnell.\" Russlands Präsident Wladimir Putin kündigte eine operative Pause an. Für Melnyk ein Zeichen dafür, dass Russland in den Kämpfen um Sjewjerodonezk und Lyssytschanks schwere Verluste erlitten habe. \"Wir können mit großer Sicherheit sagen, dass beide Seiten im Durchschnitt jeden Tag etwa 100 bis 150 Soldaten verlieren und etwa 300 bis 500 verwundet werden\", so Melnyk. Militärexperte Oleg Schdanow erwartet einen Stellungskrieg in der Ostukraine. \"Schon heute kann Russland seine Offensive auf Bachmut oder Slawjansk nicht mehr fortsetzen.\" Die Ukraine bereite eine Gegenoffensive vor, um Cherson im Süden der Ukraine zurückzuerobern, titelte vor wenigen Tagen die Wochenzeitung \"The Economist\". Und in der Tat scheint es an der südlichen Front seit geraumer Zeit Bewegungen zu geben. Doch für einen Gegenangriff fehlten der Ukraine zum aktuellen Zeitpunkt die Kraft und vor allem die Waffen, sagen Experten. \"Wir sind jetzt vollständig abhängig von den Waffenlieferungen unserer westlichen Partner\", sagt Oleg Schdanow. Wenn die angekündigten Waffen die Ukraine zeitnah erreichen, könne eine Gegenoffensive noch im August beginnen. Die Soldaten vor Ort berichten von erbitterten, schweren Kämpfen. Ohne westliche Waffen sei ein Vorrücken ausgeschlossen, sagen viele. Sollte es zu einer Gegenoffensive im Süden kommen, müsste die Ukraine versuchen, die Versorgungslinien der russischen Truppen abzuschneiden, erklären Experten. Man müsse den russischen Truppen eine \"strategische Niederlage beibringen, um sie zum Rückzug zu zwingen\", so Oleksij Melnyk. Die Möglichkeiten seien durchaus gegeben. Das Gelände bei Cherson könne es den ukrainischen Truppen ermöglichen, die Russen einzukesseln. Und schon jetzt zerstören die Ukrainer mit westlichen Waffen gezielt Munitionsdepots tief in russisch-kontrolliertem Gebiet. Ein Sturm auf Cherson hält Melnyk jedoch für weniger realistisch. Die Stadt ist dicht besiedelt und ein Angriff könnte viele zivile Opfer fordern. Der ukrainische Präsident Selenskyj will den Krieg bis Ende des Jahres beenden. Auch die Rückeroberung der seit 2014 von Russland besetzten Krim und der sogenannten Volksrepubliken im Donbass wird dabei von vielen ukrainischen Offiziellen als realistisches Kriegsziel genannt. Oleksij Melnyk hält das aber für unwahrscheinlich: \"Ich nehme an, dass Präsident Selenskyj eher über seine Wünsche und Hoffnungen anstatt über tatsächliche Pläne gesprochen hat.\" Der Militärexperte will keine Prognose wagen, wann der Krieg gegen die Ukraine beendet sein könne. Dafür gäbe es zu viele Faktoren, die eine Rolle spielen können. Realistisch sei aus seiner Sicht ein Friedensabkommen, sobald die Grenzen von vor dem 24. Februar wieder erreicht seien. Experte Oleg Schdanow hingegen sieht sogar Chancen, die Krim zurückzuerobern. Dort befänden sich aktuell mehr verletzte als einsatzfähige Soldaten. \"Von den Bodentruppen sind noch ein oder zwei Brigaden übrig. Daher sind die Chancen, jetzt auf die Krim zu gelangen, sehr hoch.\"')\n"
     ]
    },
    {
     "name": "stderr",
     "output_type": "stream",
     "text": [
      "11it [00:19,  1.96s/it]"
     ]
    },
    {
     "name": "stdout",
     "output_type": "stream",
     "text": [
      "Pandas(Index=11, tstamp=1656373511, url='/newsticker/liveblog-ukraine-montag-143.html', fulltext=' Laut NATO-Chef Stoltenberg haben neun Mitglieder das Zwei-Prozent-Ziel der Allianz bei den Verteidigungsausgaben erfüllt. Die USA wollen Kiew ein modernes Waffensystem zur Luftverteidigung liefern. Entwicklungen im Liveblog zum Nachlesen.  Damit schließen wir diesen Liveblog. WIr sind aber auch am Dienstag wieder mit einem Liveblog zum Krieg gegen die Ukraine für Sie da. Diesen können Sie hier lesen: Die von den USA beschlagnahmte Superjacht \"Amadea\" eines russischen Oligarchen ist in San Diego eingetroffen. Das 106 Meter lange Luxusgefährt bleibe in der Obhut der US-Regierung und werde vermutlich eingezogen und verkauft, teilte das US-Justizministerium mit und bedankte sich für die Hilfe seiner internationalen Partner. Die mehr als 300 Millionen Euro teure Jacht war ins Visier der FBI-Arbeitsgruppe KleptoCapture geraten, die im März begann, Besitztümer russischer Oligarchen einzuziehen, die wegen des russischen Angriffskriegs in der Ukraine sanktioniert wurden. Das FBI brachte das Schiff in Verbindung mit dem Oligarchen Suleiman Kerimow, der die unter der Flagge der Kaiman-Inslen fahrende \"Amadea\" im vergangenen Jahr über diverse Scheinfirmen heimlich gekauft haben soll. Mitte Juni gewannen die USA ein juristisches Tauziehen auf den Fidschi-Inseln. Danach brachten sie die \"Amadea\" zunächst nach Hawaii und jetzt nach Kalifornien. Die NATO-Staaten investieren angesichts der Bedrohung durch Russland erheblich in ihr Militär. In diesem Jahr würden die Verteidigungsausgaben der europäischen NATO-Staaten sowie von Kanada das achte Jahr infolge steigen, sagte Generalsekretär Jens Stoltenberg. Neun Alliierte erfüllten das Zwei-Prozent-Ziel der NATO. Deutschland wird in diesem Jahr nach NATO-Daten geschätzt eine Quote von 1,44 Prozent erreichen. Die NATO-Staaten hatten 2014 auf ihrem Gipfel in Wales als Reaktion auf die russische Annexion der ukrainischen Schwarzmeer-Halbinsel Krim beschlossen, sich in den folgenden zehn Jahren dem Zwei-Prozent-Ziel anzunähern - also zwei Prozent des Bruttoinlandsprodukts für Verteidigung auszugeben. Bundeskanzler Olaf Scholz kündigte kurz nach Beginn des russischen Angriffs auf die Ukraine im Februar eine massive Aufrüstung an. Die Investitionen sollen dafür sorgen, dass Deutschland zumindest im Durchschnitt mehrerer Jahre das Zwei-Prozent-Ziel erfüllt. Spitzenreiter bei den Militärausgaben im Vergleich zur Wirtschaftskraft wird laut NATO-Daten Griechenland mit einem Wert von 3,76 Prozent. Danach kommen die\\xa0USA\\xa0(3,47 Prozent). Schlusslicht ist Luxemburg mit 0,58 Prozent. Das Herzogtum hat gerade angekündigt, die Quote bis 2028 auf ein Prozent steigern zu wollen. Die EU-Kommission will als Vorbereitung auf einen möglichen russischen Angriff mit Massenvernichtungswaffen Spezialausstattung in die Ukraine schicken. \"Medizinische Ausrüstung sowie Ausrüstung, die auf chemische, biologische oder nukleare Notfälle zugeschnitten ist, befinden sich auf dem Weg in die Ukraine\", erklärte der EU-Kommissar für Krisenmanagement, Janez Lenarcic. Die Lieferung in die Ukraine im Wert von 11,3 Millionen Euro umfasst nach Angaben der Kommission unter anderem 300.000 Spezialschutzanzüge, 5600 Liter Dekontaminierungsmittel und 850 Geräte für Dekontaminierungsmaßnahmen. Für die medizinische Versorgung stelle die EU\\xa0etwa Patientenmonitore, Infusionspumpen und Beatmungsgeräte bereit. \"Krankenhäuser und medizinische Fachkräfte in der Ukraine arbeiten unter ständigem Beschuss. Wir müssen alles in unserer Macht Stehende tun, um ihnen die notwendigen Instrumente zur Rettung von Menschenleben zur Verfügung zu stellen\", so Lenarcic. Die Gelder für die Hilfe kommen aus den Notfallvorräten der EU-Kommission, die in Rumänien, Ungarn, Schweden, Deutschland, Griechenland und Dänemark gelagert werden. Russlands Präsident Wladimir Putin hatte zuletzt angekündigt, man wolle Boden-Raketen vom Typ Iskander nach Belarus verlegen, die auch mit atomwaffenfähigen Sprengköpfen bestückt werden können. Nach einem Raketenangriff ist ein belebtes Einkaufszentrum in der zentralukrainischen Stadt Krementschuk in Brand geraten. \"Die Besatzer haben mit Raketen auf ein Einkaufszentrum geschossen, in dem mehr als Tausend Zivilisten waren\", schrieb Präsident Wolodymyr Selenskyj beim Nachrichtendienst Telegram. Die Feuerwehr sei im Einsatz. In einem Video, das Selenskyj verbreitete, war das brennende Gebäude mit dicken dunklen Rauchwolken zu sehen. \"Der Raketenangriff auf das Einkaufszentrum mit Menschen in Krementschuk ist ein weiteres Kriegsverbrechen der Russen\", schrieb der Gouverneur des Gebiets Poltawa, Dmytro Lunin. Seinen Angaben zufolge wurden mindestens elf Menschen getötet und Dutzende weitere verletzt. In unmittelbarer Nähe des Einkaufszentrums befindet sich eine Fabrik für Straßenbaumaschinen. Die Großstadt Krementschuk liegt mehr als 100 Kilometer von der Front entfernt. Eine russische Rakete hat ein Einkaufszentrum in der Stadt Krementschuk im Nordosten der Ukraine getroffen, sagt der ukrainische Präsidenten Wolodymyr Selenskij. Über Tausend Menschen seien in dem Gebäude gewesen. Nach Angaben des Präsidialamtes soll es mindestens zwei Tote und 20 Verletzte geben. Die US-Regierung\\xa0will der Ukraine ein modernes Waffensystem zur Luftverteidigung liefern. \"Ich kann bestätigen, dass wir in der Tat dabei sind, ein Paket festzuzurren, das fortschrittliche Luftverteidigungsfähigkeiten beinhaltet\", sagte der Nationale Sicherheitsberater von US-Präsident Joe Biden, Jake Sullivan, am Rande des G7-Gipfels auf Schloss Elmau. Details wollte Sullivan nicht nennen. Der Sender CNN berichtete, es handele sich um ein Boden-Luft-Raketenabwehrsystem der Rüstungskonzerne Kongsberg (Norwegen)\\xa0und Raytheon (USA) mit der Bezeichnung Nasams. Die USA wollten noch in dieser Woche bekanntgeben, dass sie das System für die Ukraine gekauft hätten, hieß es in dem CNN-Bericht weiter. Auf staatliche und private Unternehmen in Litauen ist nach Angaben des Verteidigungsministeriums ein Cyberangriff ausgeführt worden. Die russische Hackergruppe Killnet bestätigt der Nachrichtenagentur Reuters den Angriff. Die Aktion sei eine Vergeltungsmaßnahme für den Streit mit Litauen über das Transitverbot für bestimmte Waren in die Exklave Kaliningrad. Nach Einschätzungen des Nationales Zentrums für Cybersicherheit ist es sehr wahrscheinlich, dass die Angriffe in den kommenden Tagen fortgesetzt werden. Besonders gefährdet seien die Bereiche Verkehr, Energie und Finanzen. Deutschland könnte einer Studie zufolge bereits in wenigen Monaten unabhängig von russischen Energielieferungen werden. Dafür müssten die Verbraucher jedoch einige Einschränkungen in Kauf nehmen. Die deutsche Industrie unterstützt die von Finanzminister Christian Lindner angestrebte Verlängerung steuerlicher Hilfen für energieintensive Betriebe. Der Vorschlag sei überfällig, sagte der Präsident des Deutschen Industrie- und Handelskammertages (DIHK), Peter Adrian. \"Die Industrieunternehmen brauchen dringend Planungssicherheit.\" Ohne eine Abschlussregelung würden viele Firmen angesichts hoher Energiepreise, Lieferkettenproblemen und den Folgen des Ukraine-Krieges an Wettbewerbsfähigkeit einbüßen. FDP-Chef Lindner will die Hilfen im Energie- und Stromsteuerrecht über 2022 hinaus um zwei Jahre verlängern. Energieintensive Betriebe profitieren derzeit vom sogenannten Spitzenausgleich, einer Rückerstattung von bis zu 90 Prozent der Energie- und Stromsteuer sowie allgemeiner Steuerentlastungen für sämtliche Energie- und Stromverbräuche. Dabei würde es für die Jahre 2023 und 2024 um Entlastungen von jeweils knapp drei Milliarden Euro gehen, wie zuletzt aus einem Papier des Finanzministeriums hervorging, das Reuters vorliegt. Aufgrund einer Sonderregelung haben die Ukrainer seit April mehr als 211.000 Gebrauchtwagen zollfrei in ihr Land eingeführt. Dem klammen ukrainischen Budget seien so umgerechnet über 630 Millionen Euro entgangen, schrieb der Parlamentsabgeordnete Jaroslaw Schelesnjak auf seinem Telegram-Kanal. Weil die Zollbefreiung am kommenden Freitag ausläuft, stiegen die täglichen Einfuhrzahlen zuletzt auf durchschnittliche 4700 Fahrzeuge am Tag. Der Massenimport hat zudem kilometerlange Warteschlangen vor allem an den Grenzen zum EU-Nachbarn Polen verursacht. Der ukrainische Präsident Wolodymyr Selenskyj sieht nach Angaben eines französischen Diplomaten derzeit nicht den Raum für Verhandlungen mit Russland. Erst müsse er in einer stärkeren Position sein, sagte das ukrainische Staatsoberhaupt demnach in einer Videoschalte mit den Staats- und Regierungschefs der in Bayern konferierenden G7-Staaten. Selenskyj habe erklärt, er werde verhandeln, wenn er in einer Position sei, dies zu tun. \"Sein Ziel ist, den Krieg so schnell wie möglich zu beenden und in der bestmöglichen Position herauszukommen, damit er aus einer Position der Stärke heraus verhandeln kann\", berichtete der Diplomat, der anonym bleiben wollte. Wegen des russischen Angriffskriegs auf die Ukraine will die Nato \"weit über 300.000 Soldaten\" in erhöhte Bereitschaft versetzen. Das kündigte NATO-Generalsekretär Jens Stoltenberg in Brüssel an. Nach seinen Angaben wollen die Staats- und Regierungschefs der 30 Bündnisländer dies auf dem anstehenden Bündnis-Gipfel in Madrid beschließen. Russland hat Berichte über eine Zahlungsunfähigkeit des Landes zurückgewiesen. Es gebe \"keinen Grund\", die derzeitige Situation so einzustufen, sagte Kreml-Sprecher Dmitri Peskow. Die angesprochenen fälligen Zahlungen seien im Mai erfolgt, \"in ausländischer Währung\", fügte er hinzu. Behauptungen einer Zahlungsunfähigkeit seien \"ungerechtfertigt\". Das russische Finanzministerium erklärte, zwei Zinszahlungen seien wegen der Sanktionen blockiert und daher nicht rechtzeitig bei den Gläubigern angekommen. Dass die Investoren nun kein Geld bekommen hätten, sei nicht das Ergebnis eines Zahlungsausfalls, sondern liege an \"Aktionen von Dritten\". Zuvor war in der Nacht eine Frist für zwei Zinszahlungen in Höhe von einmal 71,25 Millionen Dollar (67,32 Millionen Euro) und einmal 26,5 Millionen Euro an ausländische Gläubiger abgelaufen. Der ukrainische Präsident Wolodymyr Selenskyj hofft nach Angaben von zwei europäischen Diplomaten darauf, dass der russische Angriffskrieg gegen sein Land vor Beginn des nächsten Winters beendet ist. Dies habe Selenskyj den G7-Staats- und Regierungschefs per Video-Schalte auf Schloss Elmau gesagt. Auf dem Gelände der Chemiefabrik Azot in Sjewjerodonezk im Osten der Ukraine halten sich nach Darstellung prorussischer Separatisten noch rund 500 Zivilisten auf. Sie könnten das Werk noch nicht verlassen, weil einige Übergänge dort vermint seien, sagte der Vertreter der Luhansker Separatisten in Moskau, Rodion Miroschnik, im russischen Staatsfernsehen. Diese Angaben ließen sich nicht unabhängig überprüfen. Spezialisten entschärften diese Minen, \"damit diese Menschen selbst entscheiden können, ob sie auf dem Gebiet von Sjewjerodonezk bleiben oder es verlassen wollen\", sagte Miroschnik. Russland hatte die Einnahme der Stadt am Samstag gemeldet. Miroschniks Angaben vom Sonntag zufolge waren am Wochenende 450 Zivilisten aus Luftschutzkellern der Fabrik evakuiert worden. Nach Meinung der Linken-Politikerin Katja Kipping hat Putin \"mit dem Angriffskrieg seinen schärfsten Kritikern Recht gegeben\". Es sei \"traurig, was mit Russland passiert. Ende der 1990er gab es so viel Aufbruch in Sankt Petersburg, jetzt zieht sich die Gesellschaft zusammen und verhärtet\", sagte die Berliner Sozialsenatorin und ehemalige Bundesparteivorsitzende der Linken der Katholischen Nachrichten-Agentur. Die aus Dresden stammende 44-Jährige war nach dem Abitur für ein freiwilliges soziales Jahr nach St. Petersburg gegangen. Angesichts der drohenden Hungerkrise vor allem in Ostafrika bemühen sich die G7-Staaten zusammen mit den Vereinten Nationen nach Aussagen von Bundeskanzler Olaf Scholz darum, weitere Getreideexporte aus der Ukraine zu ermöglichen. \"Da sind jetzt gegenwärtig Tag und Nacht die Verhandlungen im Gange\", sagte Scholz anlässlich des G7-Gipfels auf Schloss Elmau in Bayern. Die Ernährungskrise bereite den Wirtschaftsmächten größte Sorge und man wolle helfen. Auch mit zusätzlichen Finanzmitteln wolle man Hungerkrisen vermeiden. Die Energieminister der EU-Länder haben sich auf eine Vorgabe zum Auffüllen der Gasspeicher in der EU zu 80 Prozent bis zum kommenden Winter geeinigt. Damit solle sichergestellt werden, \"dass die Gasspeicherkapazitäten in der EU trotz der Störungen auf dem Gasmarkt vor dem Winter aufgefüllt werden\", teilten die Mitgliedstaaten in Luxemburg mit. Mitte Mai hatten sich Vertreter der Staaten und des Europaparlaments bereits informell darauf geeinigt. Die EU hatte in den vergangenen Monaten befürchtet, dass Russland den Ländern wegen des Ukraine-Kriegs den Gashahn zudrehen könnte und daher an Vorgaben für Füllstände gearbeitet. Im März hatte die EU-Kommission die Mindestfüllstände vorgeschlagen. Der ukrainische Präsident Wolodymyr Selenskyj bittet die G7-Staats- und Regierungschefs laut einem Diplomaten um umfassende Hilfe im Verteidigungskrieg gegen Russland. In einem per Video-Schalte geführten Gespräch habe Selenskyj die Gipfelteilnehmer auf Schloss Elmau gebeten, Luftabwehrsysteme zu liefern. Zudem sollten die sieben führenden westlichen Industriestaaten für weitere Sanktionen gegen Russland sorgen, der Ukraine beim Export von Getreide helfen und dem Land finanzielle Hilfe zum Wiederaufbau zur Verfügung stellen. Großbritannien will die Ukraine im Streit mit Russland über Getreide-Diebstahl unterstützen. Die britische Regierung stelle Technologie zur Verfügung, um die Herkunft von Weizen zu überprüfen, sagt Agrarminister George Eustice. Großbritannien arbeite mit anderen Ländern wie etwa Australien daran, um sicherzustellen, dass gestohlener ukrainischer Weizen nicht auf den Markt komme. Die Ukraine wirft Russland vor, mehrere 100.000 Tonnen Weizen gestohlen und an die Türkei und andere Ländern verkauft zu haben. Russland bestreitet dies. Der Friedenspreis des Deutschen Buchhandels geht in diesem Jahr an den ukrainischen Schriftsteller und Musiker Serhij Zhadan. Er werde für sein herausragendes künstlerisches Werk geehrt sowie für seine \"humanitäre Haltung, mit der er sich den Menschen im Krieg zuwendet und ihnen unter Einsatz seines Lebens hilft\", teilte die Jury in Frankfurt mit. Seine Romane, Essays, Gedichte und Songtexte erzählten davon, wie Krieg und Zerstörung die Menschen erschütterten - und wie sie gleichzeitig versuchten, ein unabhängiges, von Frieden und Freiheit bestimmtes Leben zu führen. Die ukrainischen Behörden fordern Zivilisten dringend zum Verlassen der umkämpften Stadt Lyssytschansk auf. \"Die Situation in der Stadt ist sehr schwierig\", schreibt der Gouverneur der ostukrainischen Region Luhansk, Serhij Hajdaj, auf Telegram. Lyssytschansk wird von russischen Truppen angegriffen, die zuvor die strategisch wichtige Nachbarstadt Sjewjerodonezk erobert hatten. Lyssytschansk ist damit die letzte größere ukrainische Bastion in der Region Luhansk. Wegen des russischen Angriffskriegs gegen die Ukraine wollen die USA\\xa0und die anderen G7-Staaten nach Angaben der US-Regierung weitere Strafmaßnahmen gegen Moskau verhängen. Die Maßnahmen richteten sich unter anderem gegen militärische Produktions- und Lieferketten, teilte das Weiße Haus am Rande des G7-Gipfels in Bayern mit. Die russische Armee wird in ihrem Krieg gegen die Ukraine nach Einschätzung Großbritanniens vornehmlich auf Reservisten setzen. Die Kampfreserve bestehe aus freiwilligen Teilzeitkräften, die eigentlich für Sicherheitsaufgaben im Rücken der Front vorgesehen seien, teilte das Verteidigungsministerium in London unter Berufung auf Geheimdienstinformationen mit. Mit Veteranen, die in den vergangenen fünf Jahren gedient haben, würden vermutlich Bataillone aufgefüllt. \"Trotz eines andauernden Mangels an einsatzfähigen Reservisten für die Ukraine wird die russische Führung wahrscheinlich weiter zögern, eine allgemeine Mobilisierung anzuordnen\", hieß es. In die ukrainische Hafenstadt Odessa kehrt das Leben zurück. Auch das Opernhaus hat den Betrieb wieder aufgenommen. Die G7-Staaten werden sich nach Angaben von Bundeskanzler Olaf Scholz nicht abschließend auf ein Gold-Embargo gegen Russland verständigen können. Dies müsse erst noch in der EU debattiert werden, sagte er in der ARD. Die USA hatten bereits angekündigt, dass sie kein Gold mehr aus Russland importieren wollen. Das ukrainische Militär hat nach eigenen Angaben westlich von Lyssytschansk russische Angriffe zurückgeschlagen und damit eine Einkesselung der strategisch wichtigen Großstadt im Osten der Ukraine verhindert. \"Nahe Werchnjokamjanka haben die Verteidigungskräfte dem Feind erhebliche Verluste zugefügt und ihn zum Rückzug gezwungen\", teilte der ukrainische Generalstab in seinem Lagebericht mit. Werchnjokamjanka liegt nur wenige Kilometer westlich von Lyssytschansk an der letzten wichtigen Versorgungsstraße für die Stadt. Lyssytschansk selbst war nach ukrainischen Angaben erneut Ziel schwerer Luft- und Artillerieangriffe. Russische Einheiten stehen im Süden bereits am Stadtrand. Mehrere Vororte sind ebenfalls unter Feuer geraten. In der Stadt sollen noch mehrere tausend ukrainische Soldaten stationiert sein. Der ukrainische Präsident Wolodymyr Selenskyj nimmt heute per Video-Schalte am G7-Gipfel auf Schloss Elmau teil. Der Ukraine-Krieg ist zentrales Thema der Beratungen der Staats-und Regierungschefs der sieben wichtigsten demokratischen Industrienationen. Nach dem Ablauf der Zahlungs– und Schonfrist am Sonntagabend haben mehrere taiwanische Investoren zwei Insidern zufolge weiter keine Zinszahlungen für ihre russischen Staatsanleihen erhalten. Damit könnte Russland formell vor dem Zahlungsausfall stehen. Früheren Angaben von Juristen zufolge ist jedoch unklar, ob die Regierung in Moskau nicht doch bis zum Ende des nächsten Arbeitstages Zeit hat, seine Gläubiger zu bezahlen. Bei einem Raketeneinschlag im Gebiet Odessa im Süden der Ukraine sind sechs Menschen zu Schaden gekommen. Die Rakete sei von einem russischen strategischen Bomber des Typs Tu-22 abgefeuert worden, teilte das ukrainische Wehrkommando Süd mit. Unter den Opfern ist den Behördenangaben nach auch ein Kind. Aus den Angaben geht nicht hervor, ob die betroffenen Personen verletzt oder getötet wurden. \"Wegen des Einschlags im Wohnviertel einer zivilen Siedlung sind mehrere Wohnhäuser und Wirtschaftsgebäude auf einer Fläche von etwa 500 Quadratmetern zerstört und in Brand gesetzt worden\", heißt es. Die Feuerwehr ist noch bei der Brandbekämpfung. Die USA dürften einem Insider zufolge in dieser Woche den Kauf eines fortgeschrittenen Raketensystems für die Ukraine bekanntgeben. Dabei handle es sich wohl um Abfangraketen mittlerer bis längerer Reichweite, sagte eine mit dem Vorgang vertraute Person der Nachrichtenagentur Reuters. Zudem dürfte weitere Militärhilfe für die Ukraine bekanntgegeben werden, darunter Munition für Artillerie. Fast jeder vierte Beschäftigte sorgt sich einer Umfrage zufolge wegen des Ukraine-Kriegs um seinen Arbeitsplatz. In der Umfrage des Marktforschungsinstituts Trendence gaben 23,3 Prozent der befragten Arbeitnehmerinnen und Arbeitnehmer an, dass sie sich sorgen, durch die Auswirkungen des Krieges ihren Job verlieren zu können, wie die Zeitungen der Funke Mediengruppe berichteten. Mit 49,2 Prozent gab außerdem knapp jeder zweite Beschäftigte an, von den Bildern aus den Kriegsgebieten mental belastet zu sein. Jeder zweite Befragte fordert demnach von seinem Arbeitgeber, sich für ukrainische Kriegsflüchtlinge zu engagieren. Der ukrainische Präsident Wolodymyr Selenskyj hat die Menschen im Nachbarland Belarus aufgerufen, sich nicht in den russischen Angriffskrieg in der Ukraine hineinziehen zu lassen. \"Der Kreml hat bereits alles für Sie entschieden\", sagte er am Sonntag mit Blick auf Moskau in seiner abendlichen Videoansprache. \"Aber Ihr seid keine Sklaven und Kanonenfutter. Ihr dürft nicht sterben.\" Die Menschen sollten nicht andere für Belarus entscheiden lassen. Am Samstag hatte sich der belarussischen Machthaber Alexander Lukaschenko abermals mit Russlands Präsident Wladimir Putin getroffen. Dabei kündigte der Kremlchef die Lieferung von Raketensystemen vom\\xa0Typ Iskander-M nach Belarus an, die auch mit nuklearen Sprengköpfen bestückt werden können. Nach jüngsten Angaben aus Kiew griffen russische Truppen die Ukraine zuletzt auch von\\xa0Belarus aus an. Das Land ist ein enger Verbündeter Russlands. \"Ich weiß, dass die Menschen in Belarus uns unterstützen, nur uns, nicht den Krieg. Und deshalb will die russische Führung Sie in einen Krieg hineinziehen\", sagte Selenskyj. Russischen Berichten zufolge greift die Ukraine erneut eine Ölförderplattform vor der Halbinsel Krim an. Der britische Premier Johnson lobt die deutsche Unterstützung für die Ukraine. Der Liveblog zum Nachlesen.')\n"
     ]
    },
    {
     "name": "stderr",
     "output_type": "stream",
     "text": [
      "12it [00:36,  6.39s/it]"
     ]
    },
    {
     "name": "stdout",
     "output_type": "stream",
     "text": [
      "Pandas(Index=12, tstamp=1657514760, url='/ausland/europa/ukraine-selenskyj-gegenoffensive-101.html', fulltext=' Der ukrainische Präsident Selenskyj hat die Streitkräfte angewiesen, die russischen Truppen aus dem Süden des Landes zu vertreiben. Die besetzten Küstengebiete seien überlebenswichtig für die Ukraine.  Präsident Wolodymyr Selenskyj hat den ukrainischen Streitkräften die Rückeroberung der besetzten Küstengebiete im Süden befohlen. Das sagte Verteidigungsminister Oleksij Reznikow der britischen \"Sunday Times\". Demnach stellt die Ukraine für die Operation eine millionenstarke Truppe auf und stattet sie mit westlichen Waffen aus. Selenskyj habe der militärischen Führung den Befehl gegeben, einen Plan für eine Gegenoffensive zu erarbeiten. Weiteres ist noch nicht bekannt. Die besetzten Küstengebiete seien überlebenswichtig für die Wirtschaft der Ukraine. Dort befinden sich viele Häfen, die Russland zurzeit entweder besetzt oder blockiert. Die Ausfuhr von unter anderem Getreide wird so verhindert. Die stellvertretende Ministerpräsidentin der Ukraine, Iryna Wereschtschuk, rief die Menschen dazu auf, die von Russland besetzten Gebiete im Süden des Landes zu verlassen. Frauen und Kinder dürften nicht zu menschlichen Schutzschildern werden. Aber der Feind müsse vernichtet werden, so Wereschtschuk. Sie rechne mit Artilleriebeschuss und forderte deshalb eine dringende Evakuierung. Unterdessen kritisierte der ukrainische Journalist und Militärexperte Jurij Butusow die Operation, die zum Verlust der Städte Lyssytschansk und Sjewjerodonezk geführt hat. Schuld daran seien unter anderem Politiker, die sich in militärische Angelegenheiten eingemischt hätten. Deshalb habe das Militär nicht angemessen auf die veränderte Situation reagieren können. Bereits im Vorfeld hätten die Truppen nicht ausreichend Verstärkung bekommen und seien nicht ausgetauscht worden. Einige Einheiten seien monatelang im Kampf gewesen. Die Verstärkung habe die Truppen zu spät erreicht und es seien taktische Fehler gemacht worden. Butusow ist in der Ukraine als Kritiker Selenskyjs bekannt.')\n"
     ]
    },
    {
     "name": "stderr",
     "output_type": "stream",
     "text": [
      "13it [00:37,  4.86s/it]"
     ]
    },
    {
     "name": "stdout",
     "output_type": "stream",
     "text": [
      "Pandas(Index=13, tstamp=1657508458, url='/wirtschaft/verbraucher/gaskrise-gasversorgung-gaspreise-engpaesse-notfallplan-gas-bundesnetzagentur-lieferstopp-russland-pipeline-101.html', fulltext=' Die Notlage bei der Gasversorgung wird immer dringlicher. Welche Möglichkeiten haben Bundesregierung und Bundesnetzagentur, um die Gaskrise in den Griff zu bekommen?  Die Engpässe bei der Gasversorgung nehmen zu: Das Angebot an Erdgas ist beängstigend knapp, die Preise steigen auf Rekordhöhen. Bereits die aktuelle Drosselung russischer Lieferungen schürt die Sorge, dass die deutschen Gasspeicher bis zum Winter nicht ausreichend versorgt werden können. Aktuell sind die Gasspeicher zu rund 63 Prozent gefüllt. Das Gasspeichergesetz gibt das Ziel vor, bis zum 1. Oktober die Gasspeicher in Deutschland zu 80 Prozent zu befüllen. Zum 1. November sollen es danach 90 Prozent sein. Nun wird zudem befürchtet, dass Russland die heute beginnende Wartung von Nord Stream 1 dazu nutzen könnte, die Lieferungen durch diese Pipeline vollständig zu stoppen. Der turnusmäßige Vorgang sollte üblicherweise rund zwei Wochen in Anspruch nehmen. Doch ein Totalausfall der russischen Gasversorgung ist nicht ausgeschlossen. Was könnten Bundesregierung und Bundesnetzagentur tun, um diese Krise zu bewältigen?  Um Störungen bei der Gasversorgung zu begegnen, sieht das Energiesicherungsgesetz mit dem \"Notfallplan Gas\" ein Verfahren mit drei Eskalationsstufen vor, die abhängig von der Schwere der Störung vom Bundeswirtschaftsministerium ausgerufen werden können. Nach der Frühwarnstufe Ende März wurde im Juni die Alarmstufe ausgerufen. Damit hat das Ministerium eine Situation festgestellt, die zu einer erheblichen Verschlechterung der Gasversorgungslage führt. Beiden Lagen ist gemeinsam, dass der Staat noch nicht in den Markt eingreift; Marktmechanismen seien noch in der Lage, die Störung zu bewältigen, so die Vorstellung. Sollte jedoch das oben beschriebene Szenario eines Lieferungsstopps eintreten oder sich die Lage allein aufgrund der gedrosselten Lieferungen verschlechtern, kann das Ministerium per Verordnung die dritte Stufe ausrufen: die \"Notfallstufe\". In diesem Fall liege eine \"außergewöhnlich hohe Nachfrage nach Gas, eine erhebliche Störung der Gasversorgung oder eine andere erhebliche Verschlechterung der Versorgungslage\" vor, konkretisiert die Bundesnetzagentur den Begriff. Sobald die Notfallstufe festgestellt wurde, darf der Staat in den Markt und in die Versorgung eingreifen, da sich herausgestellt hat, dass die marktlichen Maßnahmen nicht ausreichen, um die Krise in den Griff zu bekommen. Die Bundesnetzagentur wird dann zum \"Bundeslastverteiler\". Das bedeutet, sie kann in Abstimmung mit den Netzbetreibern beispielsweise Bezugsreduktionen verfügen, heißt es dazu bei der Agentur. Zunächst hätte eine solche Gasmangellage eher geringe Auswirkungen auf die Bevölkerung, da \"geschützte Kunden\" wie Haushaltskunden bevorzugt beliefert werden. Haushalte, soziale Einrichtungen wie etwa Krankenhäuser, Kindergärten, Altersheime oder Gaskraftwerke, die zugleich auch der Wärmeversorgung von Haushalten dienen, sollen möglichst bis zuletzt mit Gas versorgt werden, teilt die Bundesnetzagentur mit. Per Verfügungen kann die Behörde Maßnahmen wie zum Beispiel Lastreduzierungen, aber auch Abschaltungen durchsetzen, \"um die Deckung des lebenswichtigen Bedarfs an Energie zu sichern und damit auch die Auswirkungen einer Gasmangellage auf die Bevölkerung möglichst gering zu halten\", heißt es dazu von der Bundesnetzagentur. Die Behörde unterstreicht dabei, dass die in einer Mangellage zu treffenden Entscheidungen sind \"immer Einzelfallentscheidungen\" seien. Es gebe keine abstrakte Versorgungsreduktions- oder Abschalte-Reihenfolge. Die Entscheidungen müssten mit Blick auf Belange und Bedeutung der betroffenen Akteure, aber auch mit Blick auf die netztechnische Situation und die bestehenden Gasflüsse in einer Gesamtabwägung getroffen werden, heißt es dazu. Denn die in einer Mangellage geltenden Umstände hingen von so vielen Parametern ab - wie etwa Gasspeicherfüllmengen, Witterungsbedingungen, europäische Bedarfe oder erzielte Einsparerfolge -, dass sie nicht vorherzusehen seien. Unternehmen und Verbände hatten zuletzt wiederholt vor Produktionseinbrüchen wegen Gasmangels und dramatischen Folgen für die deutsche Wirtschaft gewarnt. Weitere Werkzeuge hat sich die Bundesregierung durch die aktuellen gesetzlichen Änderungen im Energiesicherungsgesetz verschafft. Bundeswirtschaftsminister Robert Habeck (Grüne) sagte dazu, das geänderte Energiesicherungsgesetz gebe der Bundesregierung weitreichende Möglichkeiten, um in Marktmechanismen einzugreifen, aber auch in die Gewohnheiten der Menschen. Die neuen Kompetenzen seien ein \"scharfes Schwert\", das nur mit Bedacht gezogen werden dürfe. So kann die Bundesregierung nunmehr Maßnahmen zur Einsparung und Reduzierung des Verbrauchs verordnen. Konkret bedeutet das beispielsweise, dass sie Regelungen zu Energiesparmaßnahmen im Verkehrsbereich treffen kann, um etwa den Pendelverkehr zu reduzieren. Auch könnte es notwendig sein, dass Arbeitgeber den Mitarbeitern anbieten müssen Ihre Arbeit im Homeoffice zu erledigen. Ferner werden künftig Maßnahmen zur Stützung taumelnder Energiekonzerne bis hin zum Einstieg des Staates leichter möglich sein.')\n"
     ]
    },
    {
     "name": "stderr",
     "output_type": "stream",
     "text": [
      "14it [00:38,  3.84s/it]"
     ]
    },
    {
     "name": "stdout",
     "output_type": "stream",
     "text": [
      "Pandas(Index=14, tstamp=1657512005, url='/investigativ/ndr-wdr/uber-files-wissenschaft-101.html', fulltext=' Geleakte Dokumente aus den Uber Files legen nahe, dass der US-Konzern sich von deutschen Wissenschaftlern Hilfe erkaufen wollte. Besonders ein renommierter Wirtschaftswissenschaftler gerät dabei in den Fokus.  Ab welchem Punkt verstricken sich Wissenschaftler zu sehr in ihre privaten Interessen, sodass sie mit ihrer beruflichen Rolle als neutrale und unabhängige Forscher in Konflikt geraten?\\xa0Mit\\xa0dieser Frage\\xa0müssen sich derzeit verschiedene Mitarbeiter der Heinrich-Heine-Universität Düsseldorf auseinandersetzen. Der Grund dafür ist ein Datenleck aus mehr als 124.000 vertraulichen Dokumenten, die deutlich machen, wie der Fahrdienstleister Uber international versucht hat, die öffentliche Meinung und die Gesetzgebung in seinem Sinne zu beeinflussen. In\\xa0den Uber\\xa0Files, einem Konvolut aus Verträgen, vertraulichen E-Mails, Chatnachrichten, Briefings und Präsentationen, taucht auch der Name Justus Haucap auf, einer der vielleicht renommiertesten Wirtschaftswissenschaftler Deutschlands und ein Aushängeschild der Universität Düsseldorf, wo er eine Professur für Volkswirtschaftslehre innehat. Haucap gilt als Koryphäe auf seinem Gebiet. Er war mehrere Jahre lang Vorsitzender der deutschen Monopolkommission, ist gern gesehener Interviewpartner und Redner. Vor allem gilt Haucap, der auch häufig für die arbeitgeberfinanzierte Lobbyorganisation Initiative Neue Soziale Marktwirtschaft (INSM) publiziert, als Verfechter einer radikalen Wettbewerbspolitik. Für Uber muss der liberale Ökonom wie ein Volltreffer gewirkt haben. Zumal sich Haucap bereits zuvor, unabhängig von Uber, positiv zu einer Liberalisierung des Taximarktes geäußert hatte. Von Uber bezahlte Lobbyisten um den heutigen FDP-Bundestagsabgeordneten Otto Fricke begannen jedenfalls 2014 damit, um Haucap zu werben. Das geht aus den Uber Files hervor. Nach einem Treffen Anfang Oktober 2014, das laut Uber-Mitarbeitern in \"angenehmer und produktiver Atmosphäre\" verlaufen sei, sandte Haucap an Uber das Angebot einer Auftragsstudie mit dem Titel \"Vorteile für Verbraucher aus einer Liberalisierung des Taxi-Marktes in Deutschland\", Kostenpunkt: 44.000 Euro. Die Studie sollte dabei von der DICE Consult GmbH und der DIW Econ GmbH - einem Tochterunternehmen des Deutschen Instituts für Wirtschaftsforschung (DIW Berlin) - erstellt werden. Die DICE Consult GmbH arbeitet eng mit einem Institut der Heinrich-Heine-Universität Düsseldorf zusammen. Haucap ist Partner der DICE Consult GmbH. Das Angebot beinhaltet dabei nicht nur eine Gliederung, sondern streckenweise auch erstaunlich detaillierte Angaben über die zu erstellende Studie. So wird zu Kapitel fünf der Studien etwa vermerkt, diese schätze nicht nur die Wohlfahrtsgewinne einer Liberalisierung des Taximarktes ab, sondern analysiere auch weitere Vorteile, wie beispielsweise \"eine höhere Sicherheit, ein besseres \\'Matching\\' unterschiedlicher Verbraucherwünsche, Komfort etc.\" und weiter: \"Die Folgen der Analyse - eine Reform der Regulierung - werden dann in Abschnitt 6 diskutiert.\" Auf Nachfrage teilten Mitarbeiter der DICE Consult GmbH und der DIW Econ GmbH mit, die Arbeit sei unabhängig und \"letztlich ergebnisoffen\" durchgeführt worden. \"Die wissenschaftlichen Standards wurden im Zusammenhang mit dieser Arbeit zu keinem Zeitpunkt von uns vernachlässigt.\" Haucaps Angebot an Uber ging allerdings noch weiter. In besagter E-Mail, die NDR , WDR und \"Süddeutsche Zeitung\" (SZ) einsehen konnten, bietet der Ökonom dem US-Konzern zudem an, einen Zeitungsbeitrag zu veröffentlichen, der die \"positiven Verbraucherwirkungen\" eines liberalisierten Taximarktes thematisiere. Hier lägen die Kosten bei 4000 Euro. Ein Uber-Mitarbeiter notierte hierzu, Haucap habe erklärt, dass \"die Frankfurter Allgemeine Zeitung ihm [Haucap] hierfür im November Raum geben würde\". Eine Mitarbeiterin der DICE Consult GmbH sagte auf Nachfrage, es entspräche nicht \"Herrn Prof. Haucaps Praxis, Auftragsartikel zu erstellen\". Anfang Dezember 2014 erschien jedenfalls in der \"Frankfurter Allgemeinen Zeitung\" (FAZ) ein Artikel, für den Haucap als Autor verantwortlich zeichnete. Es handelte sich um ein Meinungsstück, in dem sich der Ökonom mit einer möglichen Liberalisierung des Taximarktes auseinandersetzt. Unter dem Titel \"Die Taxipreise freigeben\" lobte Haucap nicht nur die ökonomischen Vorteile der Sharing Economy. \"Im urbanen Personennahverkehr (...) schont die Wirtschaft des Teilens auch die Umwelt\", heißt es etwa. Außerdem könnten Kunden bei Uber auch den Fahrer bewerten, was dabei helfe, \"die Qualität des Services insgesamt zu verbessern\". Ein Schreiben belegt, dass die DICE Consult GmbH dem Fahrdienstleister Uber zusammen mit der Hälfte des vereinbarten Studienhonorars auch 4000 Euro für die Erstellung eines \"newsletter article\" in Rechnung gestellt hat. Bei der FAZ heißt es, man kenne keine Nebenabsprachen zwischen Haucap und Uber. Der Vorgang ist nicht zuletzt deshalb bemerkenswert, weil Haucap Mitglied des Kuratoriums der FAZIT-Stiftung ist, die auch die redaktionelle Unabhängigkeit der FAZ schützen soll. Auf Nachfrage erklärte eine Mitarbeiterin von Haucap, der Vorgang lasse sich \"heute nicht mehr nachvollziehen\". Es könne jedoch ausgeschlossen werden, dass \"die redaktionelle und inhaltliche Hoheit für den Beitrag bei Uber lag\". Eine E-Mail unter Uber-Mitarbeitern von Anfang November 2014 erweckt aber gerade diesen Eindruck. Darin heißt es: \"In diesem Monat wird Haucap ein Stück für die \\'Frankfurter Allgemeine Zeitung\\' schreiben, vorher wird er es uns zur Genehmigung schicken\". Eine Mitarbeiterin des Professors erklärte auf nochmalige Nachfrage, Haucap akzeptiere grundsätzlich keine Änderungswünsche, \"auch gegenüber Uber nicht (…), die nicht seiner in dem Artikel dargestellten Meinung entsprechen\". Einige Monate später veröffentlichten die DICE Consult GmbH und die DIW Econ GmbH eine Uber-freundliche Studie, die als von Uber finanziert gekennzeichnet ist. Der Entwurf eines entsprechenden Arbeitsvertrags über die Erstellung der Studie, beinhaltet - neben einer detaillierten Beschreibung der Kapitel-Inhalte - eine Klausel, die Uber das Recht vorbehält, den Beitrag und den Zeitungsartikel vor Veröffentlichung zu verändern. In einer E-Mail hatte eine Uber-Mitarbeiterin einen hochrangigen Vorgesetzten zuvor darüber informiert, dass man mit den Wissenschaftlern bereits besprochen habe, dass Uber die Studie vor Veröffentlichung prüfen und ändern werde, die Wissenschaftler hätten dies akzeptiert. Wie interne E-Mails zeigen, hatte Uber zum ursprünglichen Entwurf der Arbeit tatsächlich zahlreiche Änderungswünsche. Unter anderem solle die Studie nicht so sehr auf Uber fokussieren, sonst liefe man Gefahr, dass die Arbeit schnell als \"Marketing-Tool\" entlarvt würde. Ein Vergleich der 2015 veröffentlichten Arbeit mit den formulierten Änderungswünschen legt den Verdacht nahe, dass diesen zu großen Teilen entsprochen wurde. Eine Mitarbeiterin der DICE Consult GmbH erklärte dazu, die veröffentlichte Arbeit enthalte keine durch Uber gewünschten Änderungen, \"die nicht in Einklang zu bringen sind mit unseren Berechnungsergebnissen\". Die Ergebnisse seiner Forschung präsentierte Haucap zudem vor Bundestagsabgeordneten und im Rahmen einer Veranstaltung des DIW Berlin. Ein Sprecher der Heinrich-Heine-Universität Düsseldorf teilte NDR , WDR und \"SZ\" mit, dass die Universität \"in keiner Weise involviert\" gewesen sei. Tatsächlich wurde die Studie von Mitarbeitern der DICE Consult GmbH durchgeführt, das zwar einen ähnlichen Namen hat wie das Düsseldorfer Institut für Wettbewerbsökonomie (DICE) an der Universität und zu dem es auch personelle Verschränkungen gibt. Tatsächlich sei die DICE Consult GmbH aber \"eigenständig und privatwirtschaftlich organisiert\". Es gehe insofern bei dem Fall \"um eine unternehmerische Tätigkeit eines unserer Wissenschaftler als Privatperson, der diesbezüglich dieselbe Freiheit genießt wie jede andere Privatperson\". Timo Lange von der Nichtregierungsorganisation Lobby Control hält diese Argumentation für falsch, die Unterscheidung in Privatperson und Wissenschaftler sei immer \"eine sehr künstliche Trennung und Augenwischerei\". Für Lange ist der Vorgang \"ein Musterbeispiel, wie Lobbyismus heutzutage funktioniert, dass mit Studien mit wissenschaftlichem Anstrich versucht wird, bestimmte Argumente zu unterfüttern\". Deutsche Medien rief Lange dazu auf, die Herkunft sogenannter Meinungsstücke grundsätzlich kritischer zu hinterfragen. Uber erklärte zu dem Vorgang, es handele sich bei der Arbeit nicht um eine wissenschaftliche Studie, sondern um einen Beratungsbericht, der auch als solcher gekennzeichnet gewesen sei. Außerdem gelte grundsätzlich, dass Uber \"heute größten Wert auf die Einhaltung der Regeln und Gesetze\" lege und einen Kulturwandel durchlebt habe.')\n"
     ]
    },
    {
     "name": "stderr",
     "output_type": "stream",
     "text": [
      "15it [00:42,  3.76s/it]"
     ]
    },
    {
     "name": "stdout",
     "output_type": "stream",
     "text": [
      "Pandas(Index=15, tstamp=1657243742, url='/newsticker/liveblog-ukraine-donnerstag-137.html', fulltext=' In Charkiw und Kramatorsk gab es nach ukrainischen Angaben mehrere Tote bei Angriffen der russischen Armee. Moskau meldet, die Region Luhansk unter seine Kontrolle gebracht zu haben. Alle Entwicklungen im Liveblog zum Nachlesen.  Damit schließen wir diesen Liveblog. Wir sind aber auch Freitag wieder mit einem Liveblog für Sie da. Diesen können Sie hier lesen. Die kanadische Regierung will die Ukraine im Sommer mit 39 gepanzerte Fahrzeuge beliefern. Die Fahrzeuge des kanadischen Herstellers General Dynamics könnten als Krankenwagen, Wartungs- und Bergungsfahrzeuge oder zur Beförderung von Truppen eingesetzt werden, sagt Verteidigungsministerin Anita Anand. Die Lieferung ist Teil eines militärischen Unterstützungspakets für die Ukraine im Wert von 500 Millionen kanadische Dollar. Russland hat nach Darstellung von Präsident Wladimir Putin in der Ukraine gerade erst angefangen. \"Jeder sollte wissen, dass wir im Großen und Ganzen noch nicht richtig losgelegt haben\", sagte Putin in einer kämpferischen Rede vor hochrangigen Abgeordneten. Allerdings sprach er auch zum ersten Mal seit Wochen die Möglichkeit von Verhandlungen an. \"Gleichzeitig lehnen wir Friedensverhandlungen nicht ab\", sagte er. \"Aber diejenigen, die diese ablehnen, sollten wissen, dass es schwieriger für sie wird mit uns zu verhandeln, je länger es dauert.\" Die Regierungen in Moskau und Kiew haben zuletzt erklärt, die Gespräche seien abgebrochen worden. Bundeskanzler Olaf Scholz will die Solidarität Deutschlands mit der Ukraine trotz wachsender wirtschaftlicher Probleme im eigenen Land so lange wie nötig beibehalten. \"Ich glaube, dass man immer nur mit der Unterstützung der Bürgerinnen und Bürger agieren kann», sagte der SPD-Politiker in der ZDF-Sendung \"Maybrit Illner\". \"Aber ich glaube, dass das sehr lange möglich sein wird, und dass wir so lange wie es notwendig ist, die Solidarität mit der Ukraine aus Deutschland heraus aufrecht erhalten können.\" Deutschland sei auch um seiner selbst willen zu dieser Solidarität verpflichtet, weil in der Ukraine Demokratie und Rechtsstaatlichkeit gegen die russischen Angreifer verteidigt würden. \"Wir können nicht akzeptieren, dass ein Land seinen Nachbarn überfällt und sagt, ich klaue mir ein Stück von der Fläche, die gehört jetzt mir.\" Finnland will seine Grenzsicherheit mit Blick auf den Nachbarn Russland stärken. Das finnische Parlament stimmte einer Gesetzesänderung zu, die die Schließung von Grenzübergängen ermöglicht. Hintergrund sind Befürchtungen, dass Moskau große Zahlen von Migranten an die Grenze schicken könnte. Am Dienstag hatten die Botschafter der 30 Nato-Länder in Brüssel die sogenannten Beitrittsprotokolle für Finnland und Schweden unterzeichnet - zum Missfallen Russlands. Die Anträge auf eine NATO-Mitgliedschaft der beiden Länder waren beim Gipfel in Madrid Ende Juni bewilligt worden. Mehrere Mitgliedsländer haben bereits mit der Ratifizierung der Beitritte begonnen. Die von den finnischen Abgeordneten bewilligten Gesetzesänderungen geben der Regierung von Ministerpräsidentin Sanna Marin mehr Spielraum, den Grenzverkehr in Ausnahmesituationen einzuschränken - insbesondere im Hinblick auf die 1340 Kilometer lange Grenze mit Russland. Die Änderungen würden Finnland im Bedarfsfall zudem ermöglichen, Barrieren und Zäune entlang der Grenze mit Russland zu errichten. Nach Angaben des Gouverneurs von Charkiw sind bei einem Angriff in der Stadt drei Zivilisten getötet und fünf weitere Menschen verletzt worden. Das gab der Gouverneur auf Telegram bekannt. Der Westen kann Russlands Präsident Wladimir Putin zufolge \"ruhig versuchen\", sein Land militärisch zu besiegen. \"Heute hören wir, dass sie uns auf dem Schlachtfeld schlagen wollen\", sagt Putin in einer im Fernsehen übertragenen Ansprache vor hochrangigen Abgeordneten. \"Was soll ich sagen, sollen sie es doch versuchen.\" Es sei auch mehrfach zu hören gewesen, dass der Westen \"uns bis zum letzten Ukrainer\" bekämpfen wolle. Dies sei zwar eine Tragödie für das ukrainische Volk, \"aber es scheint so, als laufe alles darauf hinaus\". Bei einem Angriff auf die Stadt Kramatorsk sollen nach ukrainischen Angaben mindestens ein Mensch getötet und mehrere weitere verletzt worden sein. Innerhalb von 24 Stunden wurden in der Region nach demnach sieben Menschen getötet und mehrere weitere verletzt. Bei den Angriffen auf Kramatorsk riss unter anderem eine Explosion nach Berichten von AFP-Journalisten einen großen Krater zwischen ein Hotel und Wohngebäude. Der Bürgermeister der Stadt schrieb auf Facebook: \"Luftangriff auf das Zentrum von Kramatorsk. Es gibt Opfer.\" Slowjansk und Kramatorsk sind die beiden größten Städte in der Region Donezk, die noch unter ukrainischer Kontrolle stehen.\\xa0Auch die nahegelegene Stadt Slowjansk wurde demnach erneut von russischen Truppen angegriffen. Russland hat nach eigenen Angaben die gesamte benachbarte Region Luhansk unter seine Kontrolle gebracht und versucht nun, die Region Donezk zu erobern. Ziel ist es, die gesamte Donbass-Region zu besetzen, die seit 2014 bereits in Teilen durch von Moskau unterstützte Separatisten kontrolliert wird. Die ukrainischen Behörden riefen die Bewohner der Donezk-Region erneut inständig zur Flucht auf. Ein umstrittener russischer Frachter mit angeblich der Ukraine gestohlenem Getreide an Bord ist nach tagelangem Festliegen in der Türkei wieder in russische Gewässer gefahren. Die \"Zhibek Zholy\" sei in Richtung des russischen Schwarzmeer-Hafens Kawkas unterwegs, hieß es übereinstimmend aus türkischen Kreisen. Die Tracking-Website marinetraffic.com zeigte, dass der Frachter sich etwa 20 Kilometer vom türkischen Hafen Karasu wegbewegte, wo er zwischenzeitlich gelegen hatte. Danach schaltete das Schiff offenbar seinen Signalsender ab - und verschwand vom Radar. Nach Angaben der Regierung in Kiew war der Frachter ursprünglich vom von russischen Truppen besetzten ukrainischen Hafen Berdjansk\\xa0aus in See gestochen. An Bord sei von Moskau beschlagnahmtes ukrainisches Getreide. Kiew forderte deshalb von der Türkei nach dem Einlaufen der \"Zhibek Zholy\" in Karasu am vergangenen Freitag die Beschlagnahmung des Frachters und die Rückgabe der Lieferung. Wegen des nun erfolgten Auslaufens des Schiffes aus Karasu und der Rückkehr in russische Gewässer bestellte das ukrainische Außenministerium am Donnerstag den türkischen Botschafter in Kiew ein. Es zeigte sich in einer Erklärung \"tief enttäuscht\" darüber, dass Ankara \"die ukrainischen Aufforderungen ignoriert\" habe. Wegen der Verbreitung angeblicher Falschinformationen über die russische Armee in der Ukraine soll ein Moskauer Kommunalpolitiker nach dem Willen der Staatsanwaltschaft für sieben Jahre ins Gefängnis. Der Staatsanwalt forderte eine siebenjährige Haftstrafe für den 60-jährigen Stadtrat Alexej Gorinow, der öffentlich die russische Offensive in der Ukraine kritisiert hatte. Der Staatsanwalt warf Gorinow bei der Anhörung vor, \"falsche Informationen über die Armee verbreitet\" und damit \"eine große Zahl von Menschen in die Irre geführt\" zu haben. Das Motiv des Oppositionspolitikers sei \"politischer Hass\" gewesen, sagte der Staatsanwalt. Er forderte das Gericht daher auf, Gorinow zu sieben Jahren Haft in einer Strafkolonie zu verurteilen. Gorinow hatte Mitte März Russlands \"Aggression\" gegen die Ukraine kritisiert. Er forderte, auf einen Malwettbewerb für Kinder in seinem Wahlkreis zu verzichten, solange in der Ukraine \"jeden Tag Kinder sterben\". Sein Auftritt wurde gefilmt und auf der Video-Plattform Youtube verbreitet. Angesichts der Teilnahme des russischen Chefdiplomaten Sergej Lawrow am Außenministertreffen der G20-Staaten auf Bali haben westliche Teilnehmer vor einem Missbrauch der Veranstaltung durch Moskau gewarnt. Die EU werde Russland davon abhalten, das Treffen als \"Plattform für Propaganda\" über den russischen Krieg gegen die Ukraine zu nutzen, kündigte die Sprecherin des EU-Außenbeauftragten Josep Borrell an. Mit Spannung wird erwartet, wie die Gegner des russischen Krieges bei dem Treffen mit Lawrow umgehen. Dessen Anwesenheit gilt als Test für eine mögliche Teilnahme von Kremlchef Wladimir Putin am G20-Gipfel am 15. und 16. November, der ebenfalls auf Bali stattfinden soll. Mehrere Länder haben ihre Anwesenheit infrage gestellt, sollte er persönlich erscheinen. Möglich ist auch, dass Putin im November per Video zugeschaltet wird. Seit Beginn des russischen Angriffskriegs gegen die Ukraine Ende Februar hat Russland rund 22 Prozent der landwirtschaftlichen Flächen der Ukraine besetzt. \"Der Brotkorb der Welt befindet sich im Krieg\", sagte Inbal Becker-Reshef von der US-Raumfahrtbehörde Nasa. Sie leitet die Abteilung zur Beobachtung der weltweiten Nahrungsmittelproduktion per Satellit. Die Ukraine lieferte vor dem Krieg 46 Prozent des weltweit gehandelten Sonnenblumenöls, neun Prozent des Weizens, 17 Prozent der Gerste und zwölf Prozent des Mais. Russland besetzt laut den von der Nasa ausgewerteten Satellitendaten in der Ukraine aktuell 28 Prozent der Wintergetreidefelder des Landes und 18 Prozent der Sommergetreide- oder Ölsaatenflächen. Dank einer erfolgreichen Crowdfunding-Kampagne kann Litauen den ukrainischen Streitkräften eine Kampfdrohne übergeben. Nach einem Spendenaufruf hatten Menschen in Litauen innerhalb weniger Tage fast sechs Millionen Euro gespendet. Davon zeigte sich der türkische Hersteller der Drohne so beeindruckt, dass er das Gerät vom Typ Bayraktar TB2 kostenlos zur Verfügung stellte. Ein Teil der Spenden wurde genutzt, um die Drohne zu bewaffnen, der Rest wird an die Ukraine weitergeleitet, wie die litauische Regierung mitteilte. Der litauische Verteidigungsminister Arvydas Anusauskas stellte die Drohne, die Anfang der Woche im Land eingetroffen war, auf einem Luftwaffenstützpunkt der Öffentlichkeit vor. \"Mit einer Waffe kann man keinen Krieg gewinnen, aber Symbole sind in jedem Krieg extrem wichtig\", sagte er dem öffentlich-rechtlichen Sender LRT. Die Drohne soll in den kommenden Tagen an die Ukraine übergeben werden. Nach seinem angekündigten Rückzug als britischer Premierminister hat Boris Johnson dem ukrainischen Präsidenten Wolodymyr Selenskyj die ungebrochene Unterstützung des Vereinigten Königreichs zugesichert. Wie eine Regierungssprecherin sagte, habe Johnson in einem Telefonat versichert, dass Großbritannien so lange wie nötig wichtige \"Defensivhilfe\" leisten werde. Er werde zudem gemeinsam mit Partnern und Verbündeten daran arbeiten, die russische Blockade von ukrainischen Getreidelieferungen zu lösen. \"Er dankte Präsident Selenskyj für alles, was er tut, um für die Freiheit einzutreten, für seine Freundschaft und für die Freundlichkeit des ukrainischen Volkes\", sagte die Sprecherin. Im Gegenzug habe Selenskyj dem Premier für sein entscheidendes Handeln an der Seite der Ukraine gedankt. Bundesaußenministerin Annalena Barbock hat am Rande des Treffens der G20-Ressortchefs in Bali scharfe Worte an die Adresse Russlands gerichtet: \"Wir überlassen Russland nicht die internationale Bühne\", sagte die Ministerin. \"Und vor allen Dingen lassen wir nicht zu, dass der russische Präsident mit seinem Angriffskrieg die Welt in ein Chaos stürzt.\" Vor allem müsse es jetzt darum gehen, ärmere Länder vor den Folgen des Krieges zu schützen, sagte Baerbock mit Blick auf steigende Preise für Nahrungsmittel und Energie. \"Wir werden als G7-Staaten, als stärkste Industrienationen, alles dafür tun, auch wenn wir diesen Krieg nicht verursacht haben, dass die Folgen nicht die Ärmsten dieser Welt treffen.\" Kriegsflüchtlinge aus der Ukraine sollen während ihrer Zeit in der EU unkompliziert in der Heimat erworbene Führerscheine nutzen können. \"Als Reaktion auf die grundlose und ungerechtfertigte militärische Aggression Russlands gegen die Ukraine sind der Rat und das Europäische Parlament übereingekommen, im Dringlichkeitsverfahren besondere und vorübergehende Maßnahmen in Bezug auf ukrainische Fahrerdokumente einzuführen\", teilte die Vertretung der 27 Mitgliedstaaten in Brüssel mit. Die Regelungen sollen den Angaben zufolge insbesondere die Anerkennung und die Verlängerung der Dokumente sowie Überprüfungsverfahren im Fall eines Verlusts oder Diebstahls vereinfachen. Ziel sei es, den Alltag der Menschen in der EU ein wenig leichter zu machen, bis der \"inakzeptable Krieg\" ein Ende gefunden habe. Die Präsidenten Polens und Litauens haben im Grenzgebiet zur russischen Exklave Kaliningrad die Verteidigungsbereitschaft ihrer Länder hervorgehoben. Viele Menschen würden sich heute fragen, ob die von der NATO als \"Suwalki-Lücke\" bezeichnete Region sicher sei, sagte Polens Präsident Andrzej Duda nach einem Besuch bei der Multinationalen Division Nord-Ost im polnischen Szypliszki. \"Sie ist sicher, und das liegt daran, was man hier heute beobachten kann: den täglichen, ruhigen, aber absolut wachsamen Dienst der polnischen, litauischen und NATO-Soldaten.\" Als \"Suwalki-Lücke\" bezeichnet die NATO einen Korridor auf polnischem und litauischem Gebiet zwischen Belarus und Kaliningrad. Mit dessen Einnahme könnte Russland die Baltenstaaten von den übrigen NATO-Ländern abschneiden. Benannt ist der Korridor nach dem polnischen Ort Suwalki. Litauen hat wegen der Sanktionen der EU im Zuge von Russlands Krieg gegen die Ukraine den Warentransit nach Kaliningrad eingeschränkt . Der Kreml drohte dem Baltenstaat mit \"praktischen\" Gegenmaßnahmen und stellte Litauens Staatsgrenze infrage. In russischen Talkshows wurde die Eroberung eines \"Korridors\" nach Kaliningrad gefordert. Dies schürte in der Region Ängste vor einer russischen Aggression. Russland bereitet sich wegen der EU-Sanktionen nach Kremlangaben in seiner Ostseeregion Kaliningrad auf das \"Schlimmste\" vor. Es würden über verschiedene Kanäle Gespräche geführt, um das Problem des Warentransits durch das baltische EU-Land Litauen in das russische Gebiet zu lösen, sagte Kremlsprecher Dmitri Peskow. \"Natürlich hoffen wir auf das Beste, aber bereiten uns auf das Schlimmste vor\", sagte er der Agentur Interfax zufolge. Güter müssen auf dem Landweg in die russische Exklave Kaliningrad EU-Gebiet passieren. Litauen lässt keine mit Sanktionen belegte Waren mehr durch. Betroffen sind etwa Luxusgüter und Stahlerzeugnisse, die einen Großteil der blockierten Waren ausmachen. Andere Güter und auch Passagiere könnten das Land weiter durchqueren. Russland sieht die Versorgung der von EU-Staaten umgebenen Region gefährdet. Die Vorsitzende des russischen Föderationsrates, Valentina Matwijenko, warf Litauen \"Wahnwitz\" vor. Wenn keine Lösung des Problems gefunden werde, falle die Antwort Russlands hart aus. Matwijenko äußerte sich nicht dazu, welche Gegenmaßnahmen Russland ergreifen könnte. Die Behörden der nahe beieinander liegenden Städte Kramatorsk und Slowjansk in der Ostukraine haben russische Angriffe gemeldet. Im Zentrum von Kramatorsk seien Raketen eingeschlagen, dabei habe es Opfer gegeben, teilte der dortige Bürgermeister über Facebook mit ohne Details zu nennen. \"Bleibt in den Schutzräumen, die Gefahr ist nicht vorbei\", fügte er hinzu. Journalisten der Nachrichtenagentur AFP berichteten, mindestens ein Mensch sei getötet worden. Mehrere weitere Menschen wurden verletzt. Auch der Bürgermeister von Slowjansk teilte mit, seine Stadt sei unter Beschuss geraten und es seien einige Bewohner verletzt worden. Der im Zuge des Ukraine-Kriegs aus Russland ausgereiste Pinchas Goldschmidt ist nicht mehr länger Oberrabbiner von Moskau. Offiziell wurde der Weggang nach fast 30 Jahren im Amt mit dem Auslaufen von Goldschmidts Vertrag begründet, wie Russlands staatliche Nachrichtenagentur Tass heute meldete. Seine Schwiegertochter Avital Chizhik-Goldschmidt hingegen schrieb kürzlich auf Twitter, der 58-Jährige sei von Russlands Behörden unter Druck gesetzt worden, den Krieg gegen die Ukraine öffentlich zu unterstützen, habe sich aber geweigert. Im März habe er Russland dann in Richtung Israel verlassen. Die israelische Zeitung \"Jerusalem Post\" berichtete, Goldschmidt sei eigentlich erst vor kurzem für weitere Amtsjahre wiedergewählt worden. Wer nun sein Nachfolger werden soll, war zunächst nicht bekannt. Die russischen Streitkräfte haben nach Angaben aus der Ukraine zwei Raketen auf einen Öltanker im Schwarzen Meer abgefeuert. Die \"Millennial Spirit\" sei beim Einschlag eines der Geschosse in Brand geraten, teile das ukrainische Einsatzkommando mit. Die zweite Rakete verfehlte das Schiff. Der Tanker hatte mehr als 500 Tonnen Diesel an Bord. Bilder in den sozialen Medien zeigten Rauch, der vor der Küste der Hafenstadt Odessa aufstieg. Russland bestätigte den Angriff auf das Schiff nicht. Die \"Millennial Spirit\" treibt seit Beginn des Krieges Ende Februar auf dem Meer. Die Ortungsgeräte des Schiffes sind ausgefallen, seit es von seiner Besatzung aufgegeben wurde. Die russischen Streitkräfte haben erneut Gebiete in der Ostukraine bombardiert. Dabei seien innerhalb von 24 Stunden mindestens neun Zivilisten getötet und sechs weitere verletzt worden, teilte das ukrainische Präsidialamt mit. Ziel seien Städte und Gemeinden in sieben Regionen gewesen. Die meisten Todesopfer seien in der Provinz Donezk zu verzeichnen, wo die Gefechte andauerten. Unter den sieben Todesopfern dort war den Angaben zufolge ein Kind. In Donezk wurden zehn Ortschaft beschossen. 35 Gebäude wurden nach Angaben von ukrainischer Seite zerstört, darunter eine Schule, eine Berufsschule und ein Krankenhaus. In Charkiw, der zweitgrößten Stadt der Ukraine, wurde ein Internat von einem Geschoss getroffen, es wurde niemand verletzt. Das ukrainische Militär teilte mit, die russischen Streitkräfte hätten auch die Region Sumy im Nordosten des Landes beschossen und Hubschrauberangriffe geflogen. Der chinesische Außenminister Wang Yi und sein russischer Kollege Sergej Lawrow haben im Vorfeld des G20-Ministertreffens bilaterale Gespräche geführt. Laut russischem Außenministerium informierte Lawrow Wang auf der indonesischen Insel Bali \"über die Umsetzung der wichtigsten Aufgaben des militärischen Sondereinsatzes in der Ukraine\", deren Ziel die \"Entnazifizierung\" des Landes sei. Beide Parteien waren sich demnach einig, dass einseitige Sanktionen \"unter Umgehung der UN\" nicht hinnehmbar seien. China unterhält weiterhin gute Beziehungen zu Moskau, während westliche Staaten Russland aufgrund seines Angriffs auf die Ukraine international zu isolieren versuchen und Sanktionen verhängt haben. US-Außenminister Antony Blinken wird am Samstag ebenfalls mit Wang Yi zusammentreffen. Ein Gespräch zwischen Blinken und Lawrow ist nicht geplant. Russland könnte nach Einschätzung von Beobachtern seine Offensive in der Ukraine vorläufig abschwächen. Die US-Denkfabrik Institute for the Study of War teilte mit, das russische Militär habe am Vortag keine Gebietsgewinne in der Ukraine gemeldet - zum ersten Mal seit 133 Tagen. Dies könne ein Hinweis auf eine operative Pause sein, die aber keine vollständige Einstellung der Angriffe bedeute. \"Die russischen Streitkräfte werden sich wahrscheinlich auf relativ kleine Offensivaktionen beschränken\", erklärte das Institut. Gleichzeitig versuchten sie, ihre Kräfte für größere Angriffe neu zu sammeln. Das russische Verteidigungsministerium schien diese Einschätzung zu bestätigen. Den militärischen Einheiten, die an den Gefechten in der Ukraine beteiligt gewesen seien, hätten Zeit zum Ausruhen bekommen, teilte das Ministerium mit. Der rumänische Donauhafen Galati kann nach der Reparatur von Breitspur-Bahngleisen stärker für den Import von Gütern aus der Ukraine verwendet werden. Das teilte Rumäniens Transportminister Sorin\\xa0Grindeanu mit. Galati liegt unmittelbar an der ukrainischen Grenze. Aus dem ukrainischen Donau-Hafen Reni führen die im\\xa0ex-sowjetischen Raum üblichen Breitspurgleise nach Galati.\\xa0Wegen des schlechten Zustandes auf rumänischer Seite mussten bisher Waren aus der Ukraine zum Weitertransport umgeladen werden. Rumäniens Gleise haben die westeuropäische Standardbreite. Grindeanu sagte, die Reparatur der Breitspurgleise sei einen Monat vor dem Zieltermin abgeschlossen worden. Man habe gut tausend hölzerne Bahnschwellen ersetzt und die Gleisbettung erneuert. Galati habe zudem einen Getreidesilo mit einer Kapazität von 25.000 Tonnen. Wegen des russischen Angriffskrieges sucht die Ukraine Ausweichrouten zum Export ihres Getreides - unter anderem über Rumänien. Russland hat die Medienberichte über den erwarteten Rücktritt des britischen Premierministers Boris Johnson mit Häme bejubelt. \"Die \\'besten Freunde der Ukraine\\' gehen. Der \\'Sieg\\' ist in Gefahr!\", schrieb der Vizechef des russischen Sicherheitsrates, Ex-Präsident Dmitri Medwedew, bei Telegram. Johnsons Abgang sei das \"rechtmäßige Ergebnis britischer Unverfrorenheit und niveauloser Politik. Besonders auf internationalem Feld\", meinte Medwedew. Der britische Premier ist einer der glühendsten Unterstützer der ukrainischen Regierung in ihrem Kampf gegen den russischen Angriffskrieg. Johnson will Medienberichten zufolge von seinem Amt als Parteichef der britischen Konservativen zurücktreten. Russland hat den \"öffentlichen Hype\" der Regierung in Washington um die inhaftierte US-Basketballerin Brittney Griner als nicht hilfreich kritisiert. Das Aufsehen um Griner \"lenke von dem Fall ab\" und \"störe\", sagte der Vize-Außenminister Sergej Rjabkow laut russischen Nachrichtenagenturen. Gestern hatte US-Präsident Biden die Freilassung der wegen Drogenschmuggels in Russland inhaftierten US-Bürgerin zur \"Priorität\" erklärt und mit der Ehefrau von Griner telefoniert. Rjabkow sagte, die USA müssten vielmehr \"die Signale, die aus Russland kommen\", berücksichtigen. Sein Aufruf erfolgte am Tag der zweiten Anhörung im Prozess gegen Griner, die im Moskauer Vorort Chimki vor Gericht steht. Die 31-Jährige muss nach russischem Recht mit bis zu zehn Jahren Haft in einer russischen Strafkolonie rechnen. Hohen Behörden in Washington zufolge wird Griner \"zu Unrecht und unter unerträglichen Umständen\" festgehalten. Die Türkei hat nach Darstellung des ukrainischen Außenministeriums ein russisches Schiff mit Getreide an Bord aus der Hafenstadt Karasu auslaufen lassen. Das Schiff sei mit gestohlenem Getreide aus der Ukraine beladen. Dies sei eine \"inakzeptable Situation\", erklärte das Ministerium in Kiew. Man habe deshalb den türkischen Botschafter einbestellt. Den türkischen Behörden seien Beweise für die Darstellung der Ukraine vorgelegt worden, schrieb Ministeriumssprecher Oleg Nikolenko auf Twitter. Ukrainische Soldaten haben auf der symbolträchtigen und von Russlands Truppen verlassenen Schlangeninsel im Schwarzen Meer wieder die ukrainische Flagge gehisst. Der Sprecher der Militärverwaltung des Gebiets Odessa, Serhij Brattschuk, veröffentlichte bei Telegram mehrere Fotos. Das Eiland liegt etwa 35 Kilometer vor dem ukrainischen Teil des Donau-Deltas und wurde wenige Tage nach Kriegsbeginn Ende Februar durch einen Zwischenfall mit einem russischen Kriegsschiff weithin bekannt. Die Besatzung des Schiffes forderte die Garnison der Schlangeninsel damals auf, die Waffen niederzulegen. Darauf antwortete der ukrainische Marineinfanterist Roman Hrybow: \"Russisches Kriegsschiff, verpiss dich!\" Wenig später besetzten die Russen die Schlangeninsel, zogen vor einer Woche nach anhaltenden ukrainischen Luft- und Artillerieangriffen allerdings wieder ab. Am Donnerstagmorgen wurde der Anlegesteg der Insel ukrainischen Angaben zufolge durch zwei russische Raketen \"erheblich beschädigt\". Nach Darstellung des russischen Verteidigungsministeriums flogen in der Nacht Kampfflugzeuge Angriffe auf die Schlangeninsel. Dabei seien mehrere ukrainische Soldaten getötet worden. Unabhängig überprüfen ließ sich das zunächst nicht. Russland darf eine an der norwegischen Grenze gestoppte Frachtladung nun doch zur Insel Spitzbergen transportieren. Norwegen hatte die Lieferung für russische Bergleute zunächst mit Verweis auf die Sanktionen gegen Russland wegen des Kriegs in der Ukraine angehalten. \"Wir sind verpflichtet, uns an die Sanktionen zu halten, deshalb mussten wir die Lastwagen stoppen\", sagte eine Sprecherin des norwegischen Außenministeriums der Nachrichtenagentur dpa. \"Aber es war nie unsere Absicht, die Menschen in Barentsburg daran zu hindern, die Güter zu bekommen, die sie brauchen.\" Im Dialog mit Russland habe man nun eine Lösung gefunden, sagte die Sprecherin. \"Der Grund, weshalb der Transport gestoppt wurde, war, dass die Lastwagen in Russland registriert waren. Diese dürfen die norwegische Grenze nicht passieren.\" Die 20 Tonnen Waren, darunter Lebensmittel, wurden deshalb nun mit norwegischen Transportern nach Tromsø und von dort per Schiff am Mittwoch weiter zur Siedlung Barentsburg gebracht. Kasachstan will nach Angaben von Präsident Kassym-Schomart Tokajew seine Öllieferrouten diversifizieren, um die Abhängigkeit von Russland zu reduzieren. Zuvor hatte ein russisches Gericht das sogenannte Kaspische Pipeline-Konsortium (CPC) angewiesen, die Öllieferungen über das Schwarze Meer für 30 Tage einzustellen. Die Unterbrechung der Lieferungen, die Öl vom riesigen kasachischen Tengis-Feld durch Russland zum Schwarzen Meer transportiert, würde den weltweiten Ölmarkt weiter belasten. Über die CPC-Pipeline wird rund ein Prozent des weltweiten Öls befördert, an ihr sind auch westliche Ölfirmen wie Chevron und Shell beteiligt. Tokajew ordnete nun nach Informationen des Präsidentenamtes eine Studie über den Bau einer Pipeline durch das Kaspische Meer an. Dann würde kasachisches Öl über Aserbaidschan per Pipeline nach Westen gepumpt werden können - unter Umgehung Russlands. Auslöser der Planungen sind Spannungen zwischen den beiden ehemaligen Sowjetrepubliken. Tokajew bemüht sich um ein ausgewogenes Verhältnis zu Russland, dem Westen und China. Er hatte zuletzt gesagt, dass sein Land die Unabhängigkeit der prorussischen Separatistengebiete Donezk und Luhansk in der Ukraine nicht anerkennen würde, und stellte Europa zudem zusätzliche Gas- und Öllieferungen in Aussicht. Junge Menschen in Europa fühlen sich stärker durch den Klimawandel bedroht als durch den Krieg in der Ukraine oder die Corona-Pandemie. Zu diesem Ergebnis kommt die in Berlin vorgestellte Studie \"Junges Europa\" der TUI-Stiftung. Demnach macht 76 Prozent der Befragten im Alter von 16 bis 26 Jahren der Klimawandel Angst. Durch den Krieg in der Ukraine fühlen sich hingegen nur 64 Prozent bedroht und durch die Corona-Pandemie nur die Hälfte der Teilnehmenden. Junge Europäerinnen und Europäer begreifen den Krieg in der Ukraine der Erhebung zufolge jedoch eindeutig als Zeitenwende, also als grundlegenden Einschnitt, mit dem sich die Ordnung der Welt verändert. 66 Prozent gaben dies an. Als grundlegenden Einschnitt in das persönliche Leben empfinden ihn mit 37 Prozent weniger junge Menschen. Verteidigungsministerin Christine Lambrecht hat einer Lieferung von Transportpanzern des Typs \"Fuchs\" an die Ukraine mit Hinweis auf eigene Sicherheitsinteressen Deutschlands eine Absage erteilt. \"Wir unterstützen die Ukraine mit allem, was möglich und verantwortbar ist. Aber wir müssen die Verteidigungsfähigkeit Deutschlands gewährleisten\", teilte die SPD-Ministerin der Nachrichtenagentur dpa mit und reagierte auf Forderungen der Union. Lambrecht erklärte weiter: \"Deshalb ist es unverantwortlich, die Bundeswehr gerade in diesen Zeiten ausplündern zu wollen und sich dabei sogar über den militärischen Ratschlag des Generalinspekteurs ignorant hinwegsetzen zu wollen.\" Zuvor hatte bereits Generalinspekteur Eberhard Zorn - Deutschlands ranghöchster Soldat - erklärt, er sehe keinen Spielraum dafür, der Ukraine die Transportpanzer zu überlassen. Die Unionsfraktion will mit einem Beschluss des Bundestags eine kurzfristige Lieferung von 200 der Transportpanzer an die Ukraine fordern. Russlands Truppen kämpfen Angaben aus Kiew zufolge weiter um eine vollständige Kontrolle des bereits weitgehend eroberten Gebiets Luhansk im Osten der Ukraine. Dazu verlegten die Russen einige ihrer Einheiten, teilte der ukrainische Generalstab mit. Zuvor hatte der Luhansker Gouverneur Serhij Hajdaj erklärt, dass auch nach dem Fall der strategisch wichtigen Stadt Lyssytschansk weiter in Außenbezirken gekämpft werde. Aus Moskau heißt es hingegen seit Tagen, die eigenen Truppen hätten Luhansk komplett unter ihre Kontrolle gebracht. Der ukrainische Generalstab berichtete auch von weiteren russischen Angriffen im Nachbargebiet Donezk. Rund um die Städte Kramatorsk und Bachmut seien mehrere Siedlungen mit Artillerie beschossen worden, hieß es. Aus der südukrainischen Region Odessa wurden darüber hinaus in der Nacht zwei Raketenangriffe gemeldet. Russlands Militär meldete darüber hinaus mehrere Angriffe in der Region Mykolajiw im Süden der Ukraine. Dort seien etwa zwei ukrainische Kampfflugzeuge sowie ein Ausbildungslager der ukrainischen Armee zerstört worden, sagte der Sprecher des Verteidigungsministeriums in Moskau, Igor Konaschenkow. Unabhängig überprüfen ließ sich das zunächst nicht. Der russische Außenminister Sergej Lawrow ist beim Treffen der Außenminister der G20-Staatengruppe auf Bali eingetroffen. An den Beratungen nimmt auch Bundesaußenministerin Annalena Baerbock teil. Es wird erwartet, dass der russische Angriffskrieg auf die Ukraine das Treffen der Gruppe führender und aufstrebender Wirtschaftsmächte überschatten wird. Lawrow will Gespräche mit seinem chinesischen Kollegen Wang Yi sowie mit dem türkischen Außenminister Mevlüt Cavusoglu führen, meldete die staatliche russische Nachrichtenagentur Tass. Aus dem US-Außenministerium hatte es zuvor geheißen, ein bilaterales Treffen von US-Außenminister Antony Blinken mit Lawrow sei nicht vorgesehen. Die Bundesregierung wird nach Worten von Wirtschaftsminister Robert Habeck die Gasversorgung in Deutschland mit allen Mitteln sicherstellen. Angesprochen auf einen möglichen Zusammenbruch des Marktes, sagte Habeck in der ZDF-Sendung \"Markus Lanz\", das werde nicht passieren. \"Das ist jetzt dieser Moment von \\'Whatever it takes\\', es wird nicht passieren\", sagte er in Anlehnung an Äußerungen des ehemaligen Chefs der Europäischen Zentralbank, Mario Draghi. Der Italiener hatte mit diesem \"Was auch immer notwendig ist\" einst die Rettung des Euro versprochen. Mit Blick auf einen drohenden Totalausfall russischer Gaslieferungen betonte Habeck: \"Wir sind nicht nur passiv. Wir müssen nicht staunend daneben stehen, was da passiert.\" Es sei schließlich auch gelungen, trotz um 60 Prozent abgesenkter Gaslieferungen die Versorgungssicherheit in Deutschland aufrechtzuerhalten. Allerdings müssten sich die Bürger auf einen teuren Winter einstellen. Neuseelands Premierministerin Jacinda Ardern hat dem UN-Sicherheitsrat Versagen in seiner Reaktion auf den russischen Angriffskrieg gegen die Ukraine vorgeworfen. Verantwortlich für die Versäumnisse des Sicherheitsrats im Umgang mit der russischen Ukraine-Invasion sei die Tatsache, dass Russland in dem Gremium ein Veto-Recht hat, sagte Ardern bei einer Rede in Sydney. Russland nutze seine Position im Sicherheitsrat aus, um eine \"moralisch bankrotte Position im Gefolge eines moralisch bankrotten und illegalen Krieges\" zu vertreten, sagte die neuseeländische Regierungschefin. Neuseeland werde sich für eine Reform des höchsten UN-Gremiums einsetzen um zu verhindern, dass dessen Werte und Relevanz sinken. Russland müsse für seine Invasion in der Ukraine zur Verantwortung gezogen werden, forderte Ardern. Der ukrainische Präsident Wolodymyr Selenskyj hat westliche Waffenlieferungen für die ukrainische Armee als enorme Unterstützung im Krieg gegen Russland gelobt. So besäße etwa die Artillerie, die die Ukraine von ihren Partnern erhalten habe, große Treffgenauigkeit, sagte er in einer Videobotschaft. Die ukrainische Armee zerstöre damit Depots und andere Ziele, die für die Logistik der Russen wichtig seien. Das reduziere das Offensivpotenzial der russischen Armee erheblich. Die Verluste der Besatzer würden mit jeder Woche zunehmen. \"Wir arbeiten für Rutube und sind Rutube-Botschafter. Also bekommen wir unser Geld von dort.\" Die beiden russischen Komiker, die sich in Video-Telefonaten mit verschiedenen europäischen Politikern als Vitali Klitschko ausgegeben haben, arbeiten für ein Tochterunternehmen des russischen Gazprom-Konzerns. Rutube ist die russische Kopie von YouTube und ein Tochterunternehmen von Gazprom Media, die zum staatlichen Gazprom-Konzern gehört. Der ukrainische Präsident Wolodymyr Selenskyj hat Russland einen Raketenangriff auf die pädagogische Universität der zweitgrößten Stadt Charkiw vorgeworfen. Das verdeutliche wieder einmal die Brutalität der russischen Invasion. Nur ein \"Feind von Zivilisation und Menschlichkeit\" könne Raketen auf eine pädagogische Universität abfeuern. Kein Besatzer werde ungestraft davonkommen, beteuerte Selenskyj. Charkiw im Nordosten der Ukraine ist die zweitgrößte Stadt des Landes. Nur einen Steinwurf von der Grenze zu Russland entfernt, ist Charkiw nach wie vor unter ukrainischer Kontrolle, könnte aber laut Beobachtern bald ein Ziel für russische Truppen werden. Bei den Gefechten in der ostukrainischen Region Donezk hat die ukrainische Armee einen Teilerfolg gemeldet. Die Verteidigungstruppen hätten den Vormarsch russischer Einheiten auf die Stadt Slowjansk abgewehrt, teilte der ukrainische Generalstab in seinem Lagebericht mit. Donezk ist Teil des wichtigen Industriegebiets Donbass, den die russischen Truppen vollständig einnehmen wollen. Kremlchef Wladimir Putin erklärte zu Wochenbeginn, dass Luhansk, die andere Provinz im Donbass, vollständig unter russischer Kontrolle sei.')\n"
     ]
    },
    {
     "name": "stderr",
     "output_type": "stream",
     "text": [
      "16it [01:00,  8.06s/it]"
     ]
    },
    {
     "name": "stdout",
     "output_type": "stream",
     "text": [
      "Pandas(Index=16, tstamp=1657496741, url='/ausland/asien/japan-wahlen-111.html', fulltext=' Inmitten des Schocks über das Attentat auf Ex-Premier Abe hat Japan neue Oberhaus-Vertreter gewählt. Abes Regierungspartei LDP erreichte die absolute Mehrheit auch ohne ihren Koalitionspartner.  Bei der Oberhauswahl in Japan hat die Regierungspartei von Ministerpräsident Fumio Kishida deutlich gewonnen. Seine Liberaldemokratische Partei LDP sicherte sich in der zweiten Kammer des Parlaments die absolute Mehrheit auch ohne ihren Koalitionspartner Komeito, wie japanische Medien am Montag nach Auszählung aller Stimmen berichteten. Die Regierungspartei erreichte 63 der 125 zur Wahl stehenden Sitze - und erhielt damit noch mehr Stimmen als vor dem Attentat auf Ex-Regierungschef Shinzo Abe ohnehin erwartet worden war. Es ist das beste Ergebnis für die LDP seit Jahren. Die Komeito kam auf 13 Sitze. Die Koalitionspartner haben im Oberhaus bereits 70 derjenigen Mandate, die diesmal nicht zur Wahl standen. Alle drei Jahre wird die Hälfte der Mandate neu ergeben. Das Oberhaus zählt künftig 248 Sitze. Die Wahl stand unter dem Eindruck des tödlichen Attentats auf den früheren Premier Abe. Der langjährige Regierungschef und einflussreiche Politiker gehörte wie sein Zögling Kishida der LDP an. Dieser war zwei Tage zuvor bei einer Wahlkampfrede auf offener Straße niedergeschossen und später im Krankenhaus für tot erklärt worden. Der tragische Tod Abes hat nun offenbar dazu geführt, dass seine Partei noch mehr Stimmen erhalten hat, als ohnehin schon erwartet worden war. Der Vorsprung ist so groß, dass eine Verfassungsänderung möglich scheint, für die auch Abe plädiert hatte: die Abschaffung des sogenannten Friedensparagrafen, der es Japan verbietet, sich an Kriegen zu beteiligt. Der Regierungskoalition wäre mit einem Sieg zudem der Weg gebahnt für Vorhaben wie eine Erhöhung des Verteidigungsbudgets sowie eine Wiederinbetriebnahme einiger Kernkraftwerke. Der Wahlsieg dürfte die Machtposition Kishidas, der erst seit neun Monaten im Amt ist, in einer Zeit stärken, in der Japans wirtschaftliche Erholung von der Corona-Pandemie durch steigende Energie- und Lebensmittelpreise bedroht ist. Angesichts der russischen Invasion in der Ukraine und des Machtstrebens Chinas will seine Partei LDP zudem eine starke Erhöhung der Militärausgaben. Mit Informationen von Silke Diettrich, ARD-Studio Neu-Delhi')\n"
     ]
    },
    {
     "name": "stderr",
     "output_type": "stream",
     "text": [
      "17it [01:02,  6.35s/it]"
     ]
    },
    {
     "name": "stdout",
     "output_type": "stream",
     "text": [
      "Pandas(Index=17, tstamp=1657513686, url='/wirtschaft/weltwirtschaft/gasmarkt-nord-stream-1-wartung-101.html', fulltext=' Die routinemäßige Wartung der Pipeline Nord Stream 1 hat am Morgen begonnen. Doch liefert Russland danach wieder Gas nach Westeuropa? Diese Frage beunruhigt die Märkte und die deutsche Industrie. Von N. Buschschlüter.  D ie routinemäßige Wartung der Pipeline Nord Stream 1 hat am Morgen begonnen. Doch liefert Russland danach wieder Gas nach Westeuropa? Diese Frage beunruhigt die Märkte und die deutsche Industrie. Beginnt der Winter in diesem Jahr schon am 11. Juli? Wird es von diesem Montag an also kalt in den deutschen Wohnungen? Diese ursprünglich scherzhaft gemeinten Fragen auf dem Frankfurter Börsenparkett haben inzwischen einen ernsten Hintergrund. Niemand weiß derzeit genau, ob die am Morgen gestartete Wartung der Pipeline Nord Stream 1 wirklich planmäßig nach elf Tagen vorbei sein wird - oder ob dann aus der regulären Wartung eine politische wird, bei der Russland länger kein Gas mehr durch die Röhre nach Westeuropa liefert. Letzteres befürchtet zumindest die Bundesnetzagentur . So oder so: Die drohende Gasknappheit hält die Märkte schon seit längerem in Atem. Der deutsche Leitindex DAX hat wegen der Unsicherheit allein im vergangenen Monat zwölf Prozent an Wert verloren. Auch deshalb rechnet Robert Halver von der Baader Bank heute erstmal nicht mit größeren Kursrutschen. \"Viele haben den Markt schon verlassen. Die ganz zittrigen Hände sind schon draußen, sodass einiges schon eingepreist ist.\" Trotzdem gehen die Spekulationen darüber weiter, wie hart ein Gasstopp Deutschland treffen könnte. Die Schätzungen gehen dabei weit auseinander, je nachdem, wie lange das Gasembargo anhalten würde. Ein Modell liefert Oliver Holtemöller vom Leibniz-Institut für Wirtschaftsforschung in Halle. Wenn Norwegen seine Gaslieferungen nach Deutschland verstärke und die deutschen Verbraucher sich einschränkten, \"dann können wir ohne Gaslücke, ohne Gasrationierung über den Winter kommen. Aber dann hätten wir die Probleme natürlich im nächsten Jahr\", sagt Holtemöller. Denn: \"Wenn die Gaslieferungen dauerhaft ausbleiben, könnten wir im nächsten Sommer die Speicher nicht füllen, und dann hätten wir im Winter 2023/24 das gleiche Problem.\" Andere, noch pessimistischere Modelle sehen im Fall einer längeren Schließung von Nord Stream 1 Verluste in Höhe von mehr als 200 Milliarden Euro auf deutsche Unternehmen zukommen. Besonders hart träfe es dann die Chemiebranche. Mit 15 Prozent ist sie der größte Gasverbraucher in Deutschland. Die Sorgen bei den Unternehmen seien groß, weil sie kaum Alternativen zu Gas hätten, berichtet Jörg Rothermel vom Verband der Chemischen Industrie.\\xa0\"Es gibt noch einige Unternehmen, die auf Öl- oder Kohlebrenner umstellen können, sofern die genehmigungstechnischen Fragen gelöst sind, aber das sind nur wenige. Die meisten Unternehmen sind vollständig von Gas abhängig.\" Bleibt das Gas weg, werde in den Chemieunternehmen die Produktion gedrosselt, so Rothermel. Das gelte zum Beispiel für die Herstellung von Produkten wie Lack, Farben, Waschmitteln oder Kosmetika. Aber auch bestimmte Medikamente könnten zur Mangelware werden, da für ihre Herstellung ebenfalls Chemikalien benötigt werden. Ein längeres Gasembargo würde aber auch an den Finanzmärkten zu heftigen Abstürzen führen. Da sind sich die meisten Finanzexperten sicher. Wahrscheinlich ist dieses Worst-Case-Szenario aus Sicht von Kapitalmarktexperte Halver aber nicht. \"Putin ist ein Schachspieler, er ist technisch versiert. Ich kann mir nicht vorstellen, dass er komplett dichtmacht. Dann würde er seinen letzten Trumpf abgeben.\"')\n"
     ]
    },
    {
     "name": "stderr",
     "output_type": "stream",
     "text": [
      "18it [01:04,  4.85s/it]"
     ]
    },
    {
     "name": "stdout",
     "output_type": "stream",
     "text": [
      "Pandas(Index=18, tstamp=1657142575, url='/newsticker/liveblog-ukraine-mittwoch-137.html', fulltext=' Laut dem Institut für Weltwirtschaft bleibt die Ukraine-Hilfe deutlich unter dem Bedarf. Die EU muss sich laut der Kommissionspräsidentin auf eine vollständige Unterbrechung der russischen Gaslieferungen vorbereiten. Alle Entwicklungen im Liveblog.  Der ukrainische Präsident Selenskyj hat westliche Waffenlieferungen für die ukrainische Armee als enorme Unterstützung im Krieg gegen Russland gelobt. So besäße etwa die Artillerie, die die Ukraine von ihren Partnern erhalten habe, große Treffgenauigkeit, sagte er am Abend in einer Videobotschaft. Die ukrainische Armee zerstöre damit Depots und andere Ziele, die für die Logistik der Russen wichtig seien. \"Und das reduziert das Offensivpotenzial der russischen Armee erheblich. Die Verluste der Besatzer werden mit jeder Woche zunehmen\", sagte Selenskyj. \"Energiepolitik ist nicht nur eine Frage des Preises. Energiepolitik ist auch Sicherheitspolitik\", sagte Scholz am Mittwoch beim Bundesverband der Erneuerbaren Energien. \"Deshalb müssen wir jetzt den Turbogang beim Ausbau der Erneuerbaren Energie einlegen.\" Jedes Windrad, jede Photovoltaik- und Biomasse-Anlage trage dazu bei, die Abhängigkeit von Ländern wie Russland zu reduzieren und die Energieversorgung bezahlbar zu halten. Russland setze Energie als politische Waffe ein. Niemand glaube daran, dass es wirklich technische Gründe für die Kürzung von Gaslieferungen gebe, sagte er. Scholz bekräftigte, dass man nicht von den klimapolitischen Zielen abrücken werde, die einen Anteil der Erneuerbaren Energien an der Stromversorgung von 80 Prozent bis 2030 vorsehen. Der Kanzler mahnte die Branche allerdings auch, dass sie sich nicht auf anhaltende staatliche Subventionen verlassen dürfe. Angesichts massiver russischer Angriffe auf die Stadt Slowjansk in der Ostukraine haben die örtlichen Behörden die Zivilbevölkerung zur Flucht aufgerufen. \"Seit Beginn der Kämpfe sind 17 Einwohner gestorben, 67 wurden verletzt\", sagte Bürgermeister Wadym Liach am Mittwoch.\\xa0\"Die Evakuierung ist im Gang.\" Seinen Angaben zufolge befinden sich noch rund 23.000 der ursprünglich 100.000 Einwohner in der Stadt. Slowjansk steht bereits seit Tagen unter Raketenbeschuss. Nach der Einnahme der nahegelegenen Stadt Lyssytschansk in der Region Luhansk rücken die russischen Truppen bei ihrem Vormarsch im Donbass nun auf Slowjansk und Kramatorsk in der Region Donezk vor. Es sind die beiden größten Städte in der Region, die noch unter ukrainischer Kontrolle stehen. Nach nur einem Tag hat das ukrainische Militär eine Reisebeschränkung im Inland für Wehrpflichtige wieder aufgehoben. Das teilte der Oberkommandierende Walerij Saluschnyj im Nachrichtendienst Telegram nach massiver Kritik mit. Am Vortag hatte die Anordnung für Wehrpflichtige, sich für das Verlassen des Meldeorts eine Erlaubnis beim Kreiswehrersatzamt einzuholen, eine landesweite Empörungswelle ausgelöst. Sogar Präsident Wolodymyr Selenskyj hatte sich in der Frage vom Militär distanziert und eine Rücknahme der Anordnung gefordert. Die Ukraine hatte nach dem Beginn des russischen Einmarsches Ende Februar das Kriegsrecht verhängt und eine Mobilmachung beschlossen. Wehrpflichtige Männer im Alter zwischen 18 und 60 Jahren dürfen das Land nicht mehr verlassen. Dass für sie nun innerhalb des vom\\xa0Krieg erschütterten Landes Reisen eingeschränkt werden sollten, war auf scharfe Kritik gestoßen. Das russische Parlament macht den Weg frei für den Umbau einer auf den Krieg ausgerichteten Wirtschaft. Es billigte am Mittwoch zwei entsprechende Gesetzentwürfe für \"besondere wirtschaftliche Maßnahmen\", unter denen jetzt noch die Unterschrift von Präsident Wladimir Putin fehlt. Danach könnte die Regierung die heimischen Unternehmen dazu verpflichten, das Militär mit dringend benötigten Gütern zu beliefern. Die Mitarbeiter könnten zudem zu Überstunden und Urlaubsverzicht gezwungen oder dazu verpflichtet werden, nachts, an Wochenenden oder an Feiertagen zu arbeiten. \"Im Rahmen von Operationen, die von den Streitkräften der Russischen Föderation außerhalb Russlands, einschließlich auf dem Territorium der Ukraine, durchgeführt werden, besteht die Notwendigkeit, Waffen und militärische Ausrüstung zu reparieren und die Streitkräfte mit materiellen und technischen Mitteln auszustatten\", heißt es in einer Erläuterung zu einem der Gesetzentwürfe. Vize-Ministerpräsident Juri Borissow hatte erst am Dienstag in der Duma um Zustimmung für die beiden Gesetzentwürfe geworben. Die Maßnahmen seien nötig, um dem Militär in einer Zeit zu helfen, in der Russlands Wirtschaft unter \"kolossalem Sanktionsdruck\" des Westens stehe. Bundeskanzler Olaf Scholz (SPD) hat im Bundestag der AfD vorgeworfen, sich zur Handlangerin russischer Interessen zu machen. \"Die AfD ist nicht nur eine rechtspopulistische Partei, sondern auch die Partei Russlands\", sagte Scholz in der Fragestunde des Bundestags. \"Das sollten alle zur Kenntnis nehmen.\" Scholz reagierte damit auf einen Redebeitrag des AfD-Abgeordneten Stephan Köthe, der die Sanktionen gegen Russland wegen des Ukraine-Kriegs als \"nutzlos\" kritisiert hatte. Die Sanktionspolitik sei \"gescheitert\", und in Deutschland drohe nun eine Energiekrise, sagte Köthe. \"Wie können wir den Menschen in der Ukraine helfen, wenn wir hier frieren?\" Der Kanzler warf der AfD vor, \"realitätsfern\" zu sein. \"Sie nehmen nicht zur Kenntnis, dass da wirklich ein Krieg ist in der Ukraine, dass Russland das Land angegriffen hat, dass gerade unglaublich viele Menschen sterben\", sagte Scholz. Theaterbühnen in Deutschland, die aus der Ukraine geflohene Künstler beschäftigen, können beim Deutschen Bühnenverein in Köln Anträge auf Fördergelder stellen. Das neue Bundesprogramm \"U-act\" solle über die Beschäftigung und Einbindung in Produktionen des Schauspiels, des Tanzes oder in Performances das Ankommen und den Aufenthalt in Deutschland erleichtern und unterstützen, erklärte der Bühnenverein. Für viele Flüchtlinge sei ungewiss, ob und wann sie in der Ukraine wieder künstlerisch tätig sein könnten. Das Förderprogramm solle helfen, diese Zeit zu überbrücken und Perspektiven zu schaffen. Das Programm wendet sich den Angaben nach an öffentlich getragene Staatstheater, Stadttheater und Landesbühnen in Deutschland sowie an künstlerisch selbst produzierende und Kunst vermittelnde Privattheater. Den Förderrichtlinien zufolge kann eine Förderung je antragstellendem Theater maximal 25.000 Euro betragen. Der frühere russische Präsident Dmitri Medwedew hat die USA gewarnt, es sei töricht, sich mit einer Nuklearmacht anzulegen. \"Die Idee, ein Land mit einem der größten Nuklearpotentiale zu bestrafen, ist absurd\", schrieb der Vize-Vorsitzende des russischen Sicherheitsrates bei Telegram. Er fügte hinzu: \"Das stellt potenziell eine Gefahr für die Existenz der Menschheit dar.\" Bundesaußenministerin Annalena Baerbock hat Russland auch auf dem bevorstehenden Treffen der G20-Ressortchefs in Indonesien eine entschlossene Haltung angekündigt. Der Angriffskrieg in der Ukraine habe weitreichende Folgen für die ganze Welt, erklärte Baerbock vor ihrem Abflug nach Bali. Die Abstimmung und Beratung mit den internationalen Partnern sei wichtiger denn je, dafür biete das zweitägige Treffen der 20 größten Industrie- und Schwellenländer eine sehr gute Gelegenheit. \"Wir alle haben ein Interesse daran, dass internationales Recht geachtet und respektiert wird\", erklärte die Ministerin. \"Das ist der gemeinsame Nenner, und es ist auch der Grund, warum wir Russland nicht einfach die Bühne des Treffens überlassen werden.\" In Russland droht künftig jedem eine lange Gefängnisstrafe, der öffentlich zu gegen die Sicherheit des Landes gerichteten Taten aufruft. Das russische Unterhaus, die Duma, stimmte für ein Gesetz, das für diesen Fall bis zu sieben Jahre Haft vorsieht. Jeder öffentliche Aufruf zu Handlungen, die sich gegen die Sicherheit Russlands richten, soll demnach künftig geahndet werden. Zugleich verschärfte das russische Unterhaus die Strafen für Spionage und den Tatbestand der \"vertraulichen Zusammenarbeit mit Ausländern\". Die Maßnahmen entsprechen der Linie Moskaus, jede Stimme zu unterdrücken, die sich gegen den russischen Militäreinsatz in der Ukraine richtet. Nach den Reifenherstellern Michelin und Nokian prüft auch der deutsche Autozulieferer Continental einen Rückzug aus Russland. \"Wir beobachten die aktuellen Entwicklungen sehr genau und evaluieren kontinuierlich alle uns zur Verfügung stehenden Optionen\", erklärte der Dax-Konzern aus Hannover. Dies beinhaltete auch die Option eines kontrollierten Rückzugs. Bei den Erwägungen blieben die Mitarbeiter weiterhin ein wichtiger Gesichtspunkt. Seit Beginn des russischen Angriffskriegs in der Ukraine und dem Inkrafttreten westlicher Sanktionen gegen Moskau haben bereits hunderte internationale Firmen ihr Russlandgeschäft aufgegeben. Dazu gehören etwa Ikea, McDonald\\'s und Nike. Das Entwicklungsministerium sieht in einem Ausbau von Städtepartnerschaften mit der Ukraine einen Weg zu verstärkter Hilfe für das Land. \"In diesen dunklen Zeiten machen solche Verbindungen Mut. Deutsche Kommunen helfen auch ganz konkret, mit Zelten, Verbandszeug, Generatoren oder Feuerwehrautos\", erklärte Entwicklungsministerin Svenja Schulze (SPD). Ihr Ressort werde in diesem Jahr fünf Millionen Euro zusätzlich bereitstellen. Inzwischen gebe es 80 Partnerschaften zwischen Städten und Gemeinden, teilte das Ministerium weiter mit. Bundeskanzler Olaf Scholz hat weitere Waffenlieferungen an die Ukraine über den Umweg von Partnerländern angekündigt. \"Wir haben mehrere Ringtausche vorbereitet\", sagte Scholz in der Regierungsbefragung im Bundestag. Diese stünden \"unmittelbar\" vor der Auslieferung. Über einen Ringtausch stellen Partnerländer in Osteuropa und zuletzt auch Griechenland der Ukraine schwere Waffen aus Sowjetbeständen zur Verfügung. Deutschland füllt die Depots der Partner dann mit modernen Waffen wieder auf. Der Bürgermeister von Mykolajiw berichtet von schwerem Beschuss der im Süden der Ukraine gelegenen Stadt. \"Es gibt keine sicheren Zonen in Mykolajiw\", sagt Olexander Senkewytsch. \"Ich sage den Menschen in der Stadt, dass sie sie verlassen müssen.\" Die russischen Truppen setzten Mehrfachraketenwerfer ein, um die Hafenstadt zu beschießen. Vor dem Krieg hätten etwa 500.000 Menschen in Mykolajiw gelebt, jetzt seien es nur noch halb so viele. Die der Ukraine auch von der Bundesregierung auf dem G7-Gipfel in Elmau zugesagten Sicherheitsgarantien können nach den Worten von Kanzler Olaf Scholz derzeit noch nicht konkretisiert werden. Die Ausgestaltung müsse zunächst mit den Partnern und auch mit der Ukraine selbst besprochen werden, sagt Scholz in der Regierungsbefragung im Bundestag. Die Forscher des Kieler Instituts für Weltwirtschaft (IfW) sehen eine große Lücke zwischen zugesagter und tatsächlich geleisteter Unterstützung an die Ukraine. Die finanzielle und militärische Unterstützung bleibe deutlich hinter den Notwendigkeiten zurück, um die Situation in dem angegriffenen Land zu stabilisieren. \"Aufgrund der schweren Artillerieangriffe ist die Ukraine vor allem auf Raketenwerfer und Haubitzen angewiesen, um sich wehren zu können\", sagte IfW-Forschungsdirektor Christoph Trebesch. Nicht nur die gelieferten, sondern auch die zugesagten Waffen würden hier deutlich unter dem Bedarf liegen, den die Ukraine formuliert habe. Vom 8. Juni bis 1. Juli seien nur wenige neue Zusagen hinzugekommen, und sie fielen weniger umfangreich aus. Einem Sprecher des russischen Außenministerium zufolge sind die Berichte über die Festsetzung des russischen Getreidefrachters \"Zhibek Zholy\" durch die Türkei falsch. Das Schiff habe lediglich die Standardprozedur durchlaufen. Die Türkei hatte am Sonntag am Schwarzmeerhafen Karasu nach Angaben der Betreiberfirma ein unter russischer Flagge fahrendes Schiff mit Getreide angehalten. Der Zoll habe dem Frachter \"Zhibek Zholy\" vor der türkischen Schwarzmeerstadt die Weiterfahrt vorerst verweigert, sagte ein Verantwortlicher der Hafenfirma IC Ictas auf Anfrage der Nachrichtenagentur dpa. Der ukrainische Botschafter in der Türkei, Wassyl Bondar, hatte am Sonntag im ukrainischen Fernsehen gesagt, dass über das weitere Schicksal des Schiffes entschieden werde. Die Ukraine hoffe, dass das Schiff beschlagnahmt und das Frachtgut konfisziert werde. Dem ukrainischen Agrarministerium zufolge könnten von der erwarteten Ernte von 50 Millionen Tonnen Getreide etwa 30 Millionen Tonnen exportiert werden. Die Ukraine ist einer der wichtigsten Getreideproduzenten weltweit. Derzeit blockiert Russland vor allem die Seewege, über die Getreide sonst aus der Ukraine exportiert wird. Mit dem Vatikan hat es nach russischer Darstellung keinen substanziellen Kontakt wegen eines möglichen Besuches des Papstes gegeben. Das erklärt der Sprecher des Präsidialamtes in Moskau, Dmitri Peskow, vor der Presse. Papst Franziskus hat unlängst in einem Reuters-Interview gesagt, es habe Kontakt zwischen dem Außen-Staatssekretär des Vatikans, Kardinal Pietro Parolin, und dem russischen Außenminister Sergej Lawrow gegeben. Dabei sei es um eine mögliche Reise nach Moskau gegangen, sagte das Oberhaupt der römisch-katholischen Kirche. Bei russischem Beschuss der ostukrainischen Region Donezk sind fünf Zivilisten getötet worden. Gouverneur Pawlo Kyrylenko teilte beim Messenger-Dienst Telegram mit, die Todesopfer seien aus Awdijiwka, Slowjansk, Krasnohorska und Kurachowe gemeldet worden. 21 weitere Menschen seien verletzt worden. \"Jedes Verbrechen wird bestraft\", kündigte der Gouverneur an. Kyrylenko forderte gestern die mehr als 350.000 Einwohner der Provinz auf zu fliehen. Die Menschen müssten Donezk verlassen, um ihr Leben zu retten und die ukrainische Armee in die Lage zu versetzen, die Städte besser gegen den russischen Vormarsch zu verteidigen, sagte er. Donezk ist Teil des Donbass, den die russischen Streitkräfte vollständig einnehmen wollen. Das russische Militär griff in der Nacht auch Charkiw, die zweitgrößte Stadt der Ukraine weiter nördlich, mit Raketen an, wie Gouverneur Oleh Syniehubow auf Telegram mitteilte. Ziel der Angriffe seien drei Bezirke der Stadt gewesen. Ein Gebäude der Universität und ein Verwaltungsgebäude seien zerstört worden. Drei Menschen, darunter ein Kleinkind, erlitten Verletzungen. Der Vorsitzende des Auswärtigen Ausschusses im Bundestag, der SPD-Politiker Michael Roth, hat eine militärische Unterstützung der Ukraine für die Rückeroberung russisch-besetzter Gebiete gefordert. Die Chancen stünden dafür gut, Russland habe bereits hohe Verluste erlitten, sagte Roth dem TV-Sender \"Welt\". Allerdings sei auch die Ukraine derzeit \"in einer ganz schwierigen Situation\". \"Russland hat über Tausend Panzer verloren, das sind mehr Panzer als Deutschland, Italien, Frankreich und andere Länder zusammen haben\", sagte der SPD-Politiker weiter. Die Verluste für Russland seien immens \"und deshalb dürfen wir jetzt nicht nachlassen\". Es müsse der Ukraine \"perspektivisch auch gelingen, russische Kräfte wieder zurückzudrängen\". Die bisher gelieferten schweren Waffen aus Deutschland hätten der Ukraine bei der Verteidigung geholfen, es sei jedoch nun weitere Unterstützung erforderlich, forderte Roth. \"Die Ukraine kämpft weiterhin tapfer für Freiheit, für ihre territoriale Integrität und sie kämpft damit auch für unsere eigenen Werte\", hob er hervor. \"Und wir stehen in der Pflicht, sie weiterhin mit aller Entschlossenheit zu unterstützen.\" Roth zeigte sich beeindruckt vom Verteidigungswillen der Ukraine: \"Wir erleben ja an der dramatischen Situation in Donezk, dass die Ukraine für die Verteidigung zwar einen hohen Preis zu entrichten hat\", sagte er unter Hinweis auf die hohe Zahl getöteter ukrainischer Soldatinnen und Soldaten. Bislang vermöge sich das Land aber gegen die russischen Angriffe zu verteidigen, auch wenn dies schwierig sei. Der tschechische Ministerpräsident Petr Fiala hat kurz vor der entscheidenden Abstimmung im Europaparlament für ein klares Ja zu den EU-Plänen geworben, Investitionen in Gas- und Atomkraftwerke unter bestimmten Bedingungen als klimafreundlich einzustufen. Er rief die Abgeordneten dazu auf, den \"schwierig ausgehandelten und fragilen Kompromiss\" zu unterstützen. Eine Reihe von EU-Staaten könnten ihre Verpflichtungen aus den gemeinsamen Klimazielen nur auf diese Weise erfüllen, argumentierte der liberalkonservative Politiker. Tschechien hat seit dem 1. Juli die rotierende sechsmonatige EU-Ratspräsidentschaft inne. Konkret geht es bei der Abstimmung in Straßburg um die sogenannte Taxonomie der EU. Sie ist ein Klassifikationssystem, das private Investitionen in nachhaltige Wirtschaftstätigkeiten lenken und so dem Kampf gegen den Klimawandel helfen soll. Der Vorstoß der Europäischen Kommission, auch Gas und Atomkraft zeitweise als umweltfreundlich einzuordnen, hatte zu Protesten bei Umweltschützern geführt. EU-Kommissionspräsidentin Ursula von der Leyen hat vor den Gefahren einer vollständigen Unterbrechung der russischen Gaslieferungen gewarnt. Von der Leyen sagte, die Europäische Union müsse Notfallpläne aufstellen, um sich auf eine solche Entwicklung infolge des russischen Angriffskrieges in der Ukraine einzustellen. \"Wir müssen uns jetzt auch auf weitere Unterbrechungen der Gasversorgung und sogar auf eine vollständige Unterbrechung der russischen Gaslieferungen vorbereiten\", sagte von der Leyen vor dem EU-Parlament in Straßburg. Die EU hat bereits Sanktionen gegen Russland verhängt, die auch Energielieferungen betreffen, und bereitet derzeit einen Ausstieg aus der Abhängigkeit von Russland vor. Von der Leyen sagte jedoch, die Union müsse auch auf schockartige Unterbrechungen durch die russische Regierung vorbereitet sein. Der russische Außenminister Sergej Lawrow hat Vietnam besucht. Lawrow, der auf dem Weg zum Treffen der Außenminister der G20 in Indonesien ist, wollte mit seinem Stopp in Vietnam die Beziehungen zu einem Land stärken, das den russischen Angriff auf die Ukraine nicht offen verurteilt hat. Der russische Außenminister befindet sich derzeit auf einer Asienreise und wirbt angesichts der diplomatischen Isolation seines Landes durch den Westen und der Sanktionen wegen der Invasion in der Ukraine um Unterstützung. Einen Tag vor seiner Ankunft in Hanoi hatte er die Mongolei besucht. Das Land unterhält ebenfalls Beziehungen zu Moskau, hat aber auch Kontakte in die USA aufgenommen. Lawrow wollte am Nachmittag aus Vietnam abreisen und nach Indonesien fliegen, um an einem Treffen der Außenminister der Gruppe der 20 führenden Industriestaaten und Entwicklungsländer auf der Insel Bali teilzunehmen. US-Präsident Joe Biden sieht in der Freilassung der US-Basketballerin Brittney Griner aus russischer Haft eine \"Priorität\" seiner Regierung. Bidens Sprecherin Karine Jean-Pierre reagierte mit dieser Aussage auf einen in Auszügen veröffentlichten handgeschriebenen Brief der Sportlerin an Biden , in dem sie den US-Präsidenten eindringlich um Hilfe bat.\\xa0\"Der Präsident hat den Brief gelesen\", sagte Jean-Pierre beim täglichen Pressebriefing in Washington und fügte hinzu: \"Diese Angelegenheit ist für den Präsidenten eine Priorität.\" Biden tue \"alles, was er kann\", damit Griner aus der russischen Haft freikomme. Details nannte die Regierungssprecherin allerdings nicht. Griner war Mitte Februar am Moskauer Flughafen Scheremetjewo festgenommen worden. Nach Behördenangaben fanden Beamte in ihrem Gepäck Kartuschen für E-Zigaretten mit Cannabisöl. Die Menge entsprach weniger als einem Gramm Cannabis in fester Form, wie die Staatsanwaltschaft erklärte. Auf Drogenschmuggel stehen in Russland bis zu zehn Jahre Gefängnis. Die nächste Anhörung wurde für Donnerstag angesetzt. Die Festnahme Griners erfolgte inmitten der diplomatischen Spannungen in den Tagen vor Beginn des russischen Angriffskriegs gegen die Ukraine am 24. Februar. Das US-Außenministerium kritisiert Griners Inhaftierung als grundlos. US-Außenminister Antony Blinken wird beim Treffen der Außenminister der G20 in dieser Woche seinen chinesischen Kollegen Wang Yi treffen. Das teilte das Außenministerium in Washington mit, ohne auf die Möglichkeit einer Begegnung mit dem russischen Außenminister Sergej Lawrow einzugehen, der ebenfalls zu dem Treffen auf der indonesischen Insel Bali erwartet wurde. Die US-Regierung hat angesichts des russischen Angriffs auf die Ukraine einen Umgang mit russischen Vertretern wie vor dem Krieg ausgeschlossen. Aus US-Kreisen verlautete, es werde auf Bali keine formellen Gespräche zwischen Blinken und Lawrow geben. Eine zufällige Begegnung war jedoch nicht ausgeschlossen; es wäre die erste seit ihrem letzten Treffen in Genf im Januar. Die Lage in der Ukraine sollte im Mittelpunkt des Treffens der G20-Außenminister stehen. Die Teilnehmer wollten die Weichen für den Gipfel der Staats- und Regierungschefs stellen, der im November ebenfalls in Indonesien stattfinden wird. Angesichts der massiven russischen Angriffe auf die Stadt Slowjansk im Osten der Ukraine hat die Regionalregierung die Einwohner zur Flucht aufgerufen. \"Mein wichtigster Ratschlag ist die Evakuierung\", sagte der Gouverneur von Donezk, Pawlo Kyrylenko. \"In dieser Woche gab es keinen Tag ohne Beschuss.\" Die Stadt befinde sich nun in Reichweite russischer Mehrfachraketenwerfer. \"Der Feind beschießt die Stadt chaotisch, die Angriffe zielen darauf ab, die lokale Bevölkerung zu vernichten\", fügte der Gouverneur hinzu. Slowjansks Bürgermeister Wadym Liach hatte gestern einen \"massiven\" Beschuss der Stadt durch die russische Armee gemeldet. Zwei Menschen wurden dabei nach Angaben von Kyrylenko getötet und sieben weitere verletzt.\\xa0Die Stadt steht bereits seit Tagen unter Raketenbeschuss. Nach der Einnahme der nahegelegenen Stadt Lyssytschansk rücken die russischen Truppen bei ihrem Vormarsch im Donbass nun auf Slowjansk und Kramatorsk vor, die beiden größten Städte in der Region, die noch unter ukrainischer Kontrolle stehen. Die ukrainischen Truppen haben nach eigenen Angaben einen Angriff des russischen Militärs im Osten des Landes zurückgeschlagen. \"Die ukrainischen Kämpfer haben dem Feind bei einem versuchten Angriff im Umkreis der Ortschaften Werchnjokamkanka, Bilohoriwka und Hryhoriwka erhebliche Verluste zugefügt. Die Okkupanten haben sich zurückgezogen\", teilte der Generalstab in Kiew mit. Die Ortschaften liegen zehn bis 15 Kilometer westlich der einstigen Großstadt Lyssytschansk, die Russlands Truppen am Wochenende erobert haben. Auch südlich davon im Raum Bachmut sei es gelungen, den russischen Vormarsch zu stoppen und bei den Angreifern für \"Ausfälle\" zu sorgen, hieß es in dem Bericht. Unabhängig sind die Angaben nicht zu überprüfen. Entlang der Linie der drei Kleinstädte Siwersk, Soledar und Bachmut hat die ukrainische Armee nach dem Fall des Ballungsraums Sjewjerodonezk-Lyssytschansk einen neuen Verteidigungswall aufgebaut. Dieser soll von Osten her die russische Offensive auf das Industriegebiet Slowjansk-Kramatorsk, dem Hauptquartier des ukrainischen Militärs im Donbass, stoppen. Derzeit laufen die Kämpfe um die vorderen Verteidigungslinien. Ein für den Export von kasachischem Öl bestimmtes Terminal im Schwarzen Meer muss auf Beschluss eines Gerichts in Südrussland für 30 Tage seinen Betrieb einstellen. Begründet wurde der Stopp mit möglichen Umweltschäden, wie die Nachrichtenagentur Interfax berichtete. Zuletzt hatte es zwischen Russland und der benachbarten zentralasiatischen Ex-Sowjetrepublik Kasachstan wegen des Ukraine-Kriegs Unstimmigkeiten gegeben. Die Betreibergesellschaft Caspian Pipeline Consortium (CPC) sei \"gezwungen, das Gerichtsurteil umzusetzen\", werde aber dagegen klagen, heißt es in einer Stellungnahme des Unternehmens. Nach offiziellen Angaben ist die Dokumentation beim Notfallplan für die Beseitigung eventueller Ölunfälle unvollständig. Ursprünglich hatten die Behörden CPC bis zum 30. November Zeit gegeben, die Verstöße zu beseitigen, doch in einer Gerichtsverhandlung gestern forderte die regionale Transportaufsicht überraschend die Schließung des Terminals - und erhielt Recht. Über das Terminal in der südrussischen Hafenstadt Noworossijsk fließen 80 Prozent des aus Kasachstan exportierten Öls - Kasachstan hat keinen eigenen Zugang zu den Weltmeeren. Die Umschlagkapazität liegt bei 67 Millionen Tonnen Öl pro Jahr. Kasachstans Präsident Kassym-Schomart Tokajew hatte zuletzt der EU angeboten, mehr Öl und Gas nach Europa zu liefern, um die Energiesicherheit des Kontinents trotz des Ukraine-Kriegs und der damit zusammenhängenden Sanktionen gegen Russland zu gewährleisten. Kasachstan hat die Unabhängigkeit der von Moskau protegierten Separatistenrepubliken im Osten der Ukraine nicht anerkannt. Der ukrainische Präsident Wolodymyr Selenskyj hat seinen Appell zur Lieferung moderner Raketenabwehrsysteme im Krieg gegen Russland bekräftigt. Die Führung in Kiew werde nicht einen Tag in ihren Bemühungen nachlassen, eine ausreichende Zahl dieser Waffen zu erhalten, sagte er in einer Videobotschaft. Aus ukrainischen Orte wurde unterdessen von erneuten Raketenangriffen berichtet. Heute ist für die Ukraine der 133. Kriegstag seit Beginn der russischen Invasion Ende Februar. Selenskyj sagte, Russland habe erneut Ziele im Land attackiert. Dabei sei ein Teil der Raketen von ukrainischen Luftabwehrkräften abgeschossen worden. Schutz vor Raketenangriffen noch in diesem Jahr zu schaffen, sei eine extreme Herausforderung für den Staat. \"Aber das Erfüllen dieser Aufgabe hängt nicht nur von uns ab, sondern auch vom Verständnis unserer Grundbedürfnisse durch unsere Partner.\" \"Die komplizierte Weltlage erfordert von allen Parteien Anstrengungen zum Schutz des Völkerrechts\", sagte der russische Außenminister Sergej Lawrow über einen Übersetzer bei einem Treffen mit seinem vietnamesischen Amtskollegen Bui Thanh Son in Hanoi. Lawrow wird Ende dieser Woche an einem Treffen der G20-Außenminister in Indonesien teilnehmen. Energieexperten halten die Pläne von Wirtschaftsminister Robert Habeck für den raschen Import von Flüssiggas (LNG) als Ersatz für russisches Erdgas für kaum realisierbar. Martin Kröger, Hauptgeschäftsführer des Verbands deutscher Reeder beklagt vor allem einen Mangel an Transportschiffen. Zu der \"Bild\"-Zeitung sagte Kröger: \"In der deutschen Handelsflotte gibt es keine Gastanker, die LNG über Langstrecken transportieren können. Weltweit stehen insgesamt knapp 500 LNG-Tanker zur Verfügung, allerdings ist die Nachfrage aus anderen Regionen der Welt hoch.\" Der Energieökonom Andreas Fischer vom IW sagt: \"Die Flüssiggasmengen müssen auf dem Weltmarkt verfügbar sein und es braucht entsprechende Tanker, die größtenteils bereits über Langfristverträge gebunden sind.\" Zudem sei \"nur eines der drei geplanten Terminals bisher genehmigt\". Am Gebietsrand der Region Luhansk kommt es nach Angaben des Gouverneurs Serhij Hajdaj zu schweren Kämpfen. \"Sowohl in der Region Luhansk als auch in der Region Donezk gibt es immer noch viel Granatenbeschuss. Sie beschießen alles, was sich ihnen in den Weg stellt\", sagt Hajdaj in Bezug auf die russischen Streitkräfte. \"Sie erleiden ziemlich schwere Verluste\". Russische Armee- und Reservekräfte seien dorthin geschickt worden, um den Fluss Siwerskyj-Donez zu überqueren. \"Einige Bataillone wurden dorthin verlegt, um die Anzahl von Verwundeten zu ersetzen. Sie nehmen nicht alle Verwundeten mit. Die Krankenhäuser sind überfüllt, ebenso die Leichenhallen.\" Die Aussagen konnten nicht unabhängig überprüft werden. Die politischen und wirtschaftlichen Umwälzungen durch den Krieg in der Ukraine machen Deutschland nach Überzeugung einer Top-Bankerin als Führungsnation in Europa stärker. Diese Entwicklung sei zu begrüßen, sagte die Präsidentin der Europäischen Bank für Wiederaufbau und Entwicklung (EBRD), Odile Renaud-Basso, am Rande der Ukraine-Wiederaufbau-Konferenz in Lugano. \"Der Krieg mischt auch die Machtverhältnisse in Europa auf\", sagte Renaud-Basso der Deutschen Presse-Agentur. Als Reaktion auf den russischen Angriffskrieg gegen die Ukraine führt Lettland wieder die Wehrpflicht ein. \"Das derzeitige militärische System Lettlands hat seine Grenze erreicht\", sagte der lettische Verteidigungsminister Artis Pabriks. \"Derweil haben wir keinen Grund anzunehmen, dass Russland sein Verhalten ändern wird.\" Der Wehrdienst soll nach Angaben des Ministers im kommenden Jahr eingeführt werden und für Männer gelten. Pabriks verkündete zudem Pläne für den Bau eines neuen Militärstützpunktes im Land. Der baltische Staat hatte die Wehrpflicht in den Jahren nach seinem NATO-Beitritt abgeschafft. Seit 2007 bestehen die lettischen Streitkräfte aus Berufssoldaten, außerdem gibt es eine aus Freiwilligen gebildete Nationalgarde. Die Linke im Bundestag dringt zur Sicherung der Gasversorgung in Deutschland auf ein Ende der Sanktionen gegen Russland und die Aufnahme von Gesprächen über die Gas-Pipeline Nord Stream 2. \"Die Regierung muss dafür sorgen, dass die Energiepreise durch ein steigendes Angebot, auch durch Russland, begrenzt bleiben\", sagt der Wirtschaftsexperte der Fraktion, Klaus Ernst, der Zeitung \"Rheinische Post\". Die energiepolitischen Sanktionen wirkten nicht. Sie würden Russland nicht aufhalten, auch verdiene das Land weiterhin gut an seinen Rohstoffen \"und unsere Bürger und unsere Wirtschaft sind die Leidtragenden einer völlig verfehlten Sanktionspolitik. Vor diesem Hintergrund ist es unmoralisch, die Sanktionen in dieser Art und Weise aufrechtzuerhalten.\" Eine Unterbrechung der Gasversorgung könne zudem \"das industrielle Rückgrat\" Deutschlands irreparabel schädigen. \"Die Bundesregierung muss jetzt alles dafür tun, die Energieversorgung sicherzustellen.\" Dazu müsse man, trotz des völkerrechtswidrigen Krieges, mit Russland reden. \"Gegebenenfalls auch darüber, Nord Stream 2 befristet in Betrieb zu nehmen, wenn die Gasversorgung nicht anders zu gewährleisten ist.\"')\n"
     ]
    },
    {
     "name": "stderr",
     "output_type": "stream",
     "text": [
      "19it [01:16,  7.16s/it]"
     ]
    },
    {
     "name": "stdout",
     "output_type": "stream",
     "text": [
      "Pandas(Index=19, tstamp=1657523068, url='/ausland/asien/impfpflicht-china-corona-101.html', fulltext=' In Peking gilt nun doch keine Impfpflicht für öffentliche Orte wie Fitnessstudios und Museen. Die Behörden haben einen ungewöhnlichen Rückzieher gemacht, kurz nachdem die neue Regel angekündigt worden war.  Nun also doch keine Impfpflicht für den Besuch von Museen, Büchereien, Fitnessstudios, Kinos und Konzerten in Peking. Die Behörden haben der ARD bestätigt, dass die Bewohner der chinesischen Hauptstadt weiterhin nur mit einem negativen PCR-Test und einem grünen Code in der Corona-App öffentliche Gebäude und Veranstaltungen besuchen können. Möglicherweise reagierten die Behörden darauf, dass viele Menschen im Internet ihren Unmut über die Pläne geäußert hatten - ein ungewöhnlicher Rückzieher in der autoritär regierten Volksrepublik, wo keine Meinungsfreiheit herrscht. Die ursprüngliche Ankündigung, dass nur noch geimpfte Bürgerinnen und Bürger bestimmte Orte in Peking betreten dürfen, war ein Novum in der Volksrepublik. Das Land hatte bislang weitgehend auf freiwillige Impfungen gesetzt. In China sind nur heimische Covid-19-Impfstoffe wie Sinopharm und Sinovac zugelassen. Diese schützen zwar vor schweren Verläufen und Tod - aber nicht so gut wie mRNA-Impfstoffe wie die von BioNTech oder Moderna. Ein großes Problem in China: Millionen alte Menschen sind weiterhin nicht geimpft, die vulnerabelste Gruppe. Bei den jüngsten Ausbrüchen im Land starben fast ausschließlich alte, ungeimpfte Menschen. China versucht seit mehr als zwei Jahren, mit geschlossenen Grenzen, Reiseverboten, Massentests, Zwangsisolationen und harten Lockdowns bei kleinsten Ausbrüchen die Fallzahlen niedrig zu halten. Angesichts neuer hochansteckender Omikron-Varianten des Coronavirus ist das aber deutlich schwieriger als zu Beginn der Pandemie. Die mehr als 25 Millionen Menschen in der Wirtschaftsmetropole Shanghai durften im April und Mai ihre Wohnungen nicht verlassen. Nach dem Ende der Ausgangsbeschränkungen Anfang Juni sind die Zahlen in der Stadt zuletzt wieder gestiegen, immer mehr Wohnsiedlungen befinden sich inzwischen wieder im Lockdown. Es gibt weitere Massentests. Die Menschen in Shanghai befürchten, dass bald noch mehr Einwohner von den harten Einschränkungen betroffen sein könnten.')\n"
     ]
    },
    {
     "name": "stderr",
     "output_type": "stream",
     "text": [
      "20it [01:18,  5.50s/it]"
     ]
    },
    {
     "name": "stdout",
     "output_type": "stream",
     "text": [
      "Pandas(Index=20, tstamp=1657523157, url='/ausland/asien/sri-lanka-proteste-111.html', fulltext=' Bilder von im Präsidentenpool badenden Demonstranten gingen um die Welt. Nach massiven Protesten kündigte Sri Lankas Präsident seinen Rücktritt an. Nun soll eine Allparteienregierung den Staat aus der Krise führen.  Es war sozusagen der Tag der Offenen Tür. Den ganzen Sonntag über strömten Neugierige in den Präsidentenpalast, Zehntausende sicher, und taten das, was sie wohl schon immer tun wollten: Sie badeten im Swimmingpool des Präsidenten, machten Selfies in seinen Betten oder strampelten in seinem Fitnesscenter - alles unter den Augen von Polizisten, die sie gewähren ließen. Einige sangen den Wahlkampfsong von Präsident Gotabaya Rajapaksa mit dem Titel: \"Der Held, der arbeitet\" - natürlich nur, um das verhasste Staatsoberhaupt zu verspotten. 24 Stunden zuvor, am Samstag, aber war es nicht so friedlich gewesen - ganz im Gegenteil. Hunderttausende hatten demonstriert, einmal wieder: gegen Misswirtschaft, Verschwendung, Korruption und Vetternwirtschaft, gegen \"Gota\", wie sie den Präsidenten nennen, und seine Leute, denen sie vorwerfen, das Land ruiniert zu haben. Die Tage zuvor war der Verkauf von Treibstoff an Privatpersonen eingestellt worden. Die Wut war weiter gewachsen. Warnschüsse, Tränengas, mindestens 95 Menschen wurden verletzt. Doch die Sicherheitskräfte konnten die aufgebrachte Menge nicht davon abhalten, den Präsidentenpalast und das Präsidialamt zu stürmen. Nachts brannte noch das Privathaus des Premierministers. Da hatten sich die Spitzenpolitiker längst in Sicherheit gebracht. \"Alle Macht dem Volke\", ruft eine Frau. \"Aus und vorbei!\" Erst erklärte Premier Ranil Wickremasinghe, er werde zurücktreten. Schließlich auch Präsident Gota, den sie seit Monaten loswerden wollten. Am Mittwoch werde er sein Amt abgeben, ließ er erklären. Die Menge feierte. \"Das Größte, was das Volk und die Jugend dieses Landes je getan haben, ist, diesen Mann zu vertreiben. Er wurde vertrieben, verjagt. Er ist nicht zurückgetreten. Er hat nicht die Unterstützung des Volkes mehr\", sagt Namal Jayawardene. Die Menschen, die das Land lieben, müssten sich jetzt zusammenschließen, um es wieder aufzubauen. Er werde dem Präsidenten nun eine Allparteienregierung vorschlagen, erklärte Noch-Premierminister Ranil Wickremasinghe am Samstag. Das Land leide unter einer Treibstoffkrise, unter Nahrungsmittelknappheit, deshalb brauche man dringend weitere Gespräche mit dem Internationalen Währungsfond (IWF), und dafür müsse es eine neue Regierung geben, wenn nun die alte geht. \"Es wäre falsch, wenn das Land im Moment keine Regierung hätte. Ich sage es noch einmal: Wenn diese Regierung geht, muss eine neue Regierung eingesetzt werden\", forderte Wickremasinghe. Sri Lanka ist pleite, hat 50 Milliarden Dollar Auslandsschulden, und deshalb setzt das überschuldete Land auf den IWF, hatte aber auch Indien, China und Russland um Hilfe gebeten. Allein, so die Erkenntnis seit langem, werde man diese schlimmste Wirtschaftskrise seit Jahrzehnten nicht überwinden.')\n"
     ]
    },
    {
     "name": "stderr",
     "output_type": "stream",
     "text": [
      "21it [01:19,  4.14s/it]"
     ]
    },
    {
     "name": "stdout",
     "output_type": "stream",
     "text": [
      "Pandas(Index=21, tstamp=1657520217, url='/ausland/europa/weltbevoelkerung-139.html', fulltext=' Acht Milliarden Menschen sollen den Vereinten Nationen zufolge im November auf der Erde leben. Vor allem im globalen Süden ist die Geburtenrate demnach weiterhin hoch. Insgesamt wächst die Zahl der Menschen aber langsamer.  Die Zahl der Menschen auf der Erde wächst einem neuen UN-Bericht zufolge immer langsamer. \"Im Jahr 2020 ist die Wachstumsrate der Weltbevölkerung erstmals seit 1950 auf unter ein Prozent pro Jahr gesunken\", teilten die Vereinten Nationen in einem neuen Bericht zum Weltbevölkerungstag mit. Aktuell liege das Bevölkerungswachstum nur noch bei 0,8 Prozent, teilte die Deutsche Stiftung Weltbevölkerung (DSW) unter Berufung auf die UN-Daten mit. Wegen der Corona-Pandemie sei außerdem die Lebenserwartung im Jahr 2021 auf 71 Jahre gesunken - 2019 habe sie noch bei 72,8 Jahren gelegen. Die Daten bedeuten der Stiftung zufolge jedoch keine Trendumkehr in Sachen Bevölkerungswachstum. In absoluten Zahlen nehme die Weltbevölkerung schließlich weiter zu - um rund 66 Millionen Menschen pro Jahr oder durchschnittlich 2,1 Menschen pro Sekunde. Momentan lebten 7.977.000.000 Menschen auf der Erde, teilte die Stiftung weiter mit. Voraussichtlich am 15. November dieses Jahres werde die Schwelle von acht Milliarden erreicht. Für 2030 sagen die Forscher 8,5 Milliarden Menschen auf dem Planeten voraus, für 2050 9,7, bevor es 2080 eine Spitze von 10,4 Milliarden Menschen geben soll, die den Schätzungen zufolge bis etwa 2100 hält. Vor allem im globalen Süden sei die Geburtenziffer noch immer hoch. Dort bekämen \"viele Mädchen und Frauen immer noch mehr Kinder, als sie sich wünschen\", erklärte die stellvertretende DSW-Geschäftsführerin Angela Bähr. In Afrika südlich der Sahara beispielsweise betrage die durchschnittliche Kinderzahl einer Frau 4,6 - und liege damit trotz sinkender Zahlen noch weit über dem weltweiten Durchschnitt von 2,3. Die Möglichkeit der selbstbestimmten Familienplanung von Jugend an sei nicht nur ein Menschenrecht, sondern auch ein Schlüssel zur Armutsbekämpfung, erklärte Bähr. \"Daher fordern wir die Bundesregierung auf, dass Sexualaufklärung und Zugang zu Verhütungsmitteln Grundpfeiler einer feministischen Entwicklungspolitik sein müssen.\" Für John Wilmoth, Direktor der UN-Bevölkerungsabteilung, stecken in der langfristigen globalen Entwicklung - trotz aller regionalen Unterschiede - viele Chancen vor allem für Entwicklungsländer. Dies gelte neben der Bekämpfung von Armut und Hunger vor allem für das Thema Bildung:\\xa0Weniger Nachwuchs erhöhe die Aufmerksamkeit pro Kind. \"Wenn die durchschnittliche Familiengröße sinkt, wird es sowohl Familien als auch Gesellschaften möglich, mehr in jedes Kind zu investieren, die Qualität der Bildung zu verbessern und das Humankapital der Bevölkerung zu entwickeln\", sagte Wilmoth der Nachrichtenagentur dpa. Kehrseite niedrigerer Geburtenraten sei jedoch, dass die Bevölkerung insgesamt älter werde und ein größerer Anteil in ein Alter komme, in dem er auf Hilfe angewiesen sei.\\xa0Insbesondere, weil auch die Lebenserwartung zunehmen wird.')\n"
     ]
    },
    {
     "name": "stderr",
     "output_type": "stream",
     "text": [
      "22it [01:20,  3.16s/it]"
     ]
    },
    {
     "name": "stdout",
     "output_type": "stream",
     "text": [
      "Pandas(Index=22, tstamp=1657578089, url='/inland/scholz-buergerdialog-101.html', fulltext=' Kanzler Scholz steht seit Monaten wegen seiner Kommunikation in der Kritik. Nun stellte er sich in Lübeck den Fragen von 155 Bürgern - hat er die Chance genutzt?  Eine Strandbar in der Hansestadt Lübeck, die Sonne scheint, 155 Menschen sind da, wollen dem Bundeskanzler Fragen stellen. \"Moin, Moin\", sagt Olaf Scholz zur Begrüßung. Es ist eine Art Heimspiel für Scholz, der in Hamburg aufgewachsen ist und dort viele Jahre politische Verantwortung getragen hat. Der Kanzler wird auffallend viel lächeln im Laufe der Veranstaltung. Vielleicht, weil er sympathisch rüberkommen will, vielleicht aber auch, weil er sich wirklich wohl fühlt an diesem Sommerabend im Norden der Republik. Er gibt auch wenig Grund für Scholz, sich nicht wohlzufühlen. Von außerhalb des Veranstaltungsgeländes sind zwar Stimmen Protestierender zu hören: \"Scholz muss weg.\" Die 155 geladenen Gäste in der Strandbar aber betonen immer wieder, wie dankbar sie sind, dass der Kanzler gekommen ist und ihnen Rede und Antwort steht. Ausgewählt wurden die Fragestellerinnen und Fragensteller von der Lübecker Regionalzeitung, nicht von der Bundesregierung. Die Diskussionsveranstaltung in Lübeck ist der Auftakt einer ganzen Veranstaltungsreihe. In den kommenden Monaten will der Bundeskanzler bundesweit mit Bürgern in Austausch treten. Für den Regierungschef geht es auch darum, Vertrauen aufzubauen beziehungsweise zu sichern. Das gelte für diejenigen, die regieren, genauso wie für die Bürgerinnen und Bürger. So fasst Scholz die Idee hinter der Dialogveranstaltung zusammen. Der Kanzler steht seit Monaten immer mal wieder in der Kritik wegen seines Kommunikationsstils, während sich der Vizekanzler und Wirtschaftsminister quasi als \"Chef-Politikerklärer\" hervortut. Bisweilen wirkt Scholz überheblich, zum Beispiel, als er zuletzt auf die Frage einer Journalistin beim G7-Gipfel sehr wortkarg reagiert und auf deren Kosten einen Witz macht. Zuvor hatte der Kanzler auf eine ähnliche Journalistenfrage bereits ausführlicher geantwortet. Dennoch empfanden viele seine Replik in der Situation als unhöflich. Auch deshalb ist die Veranstaltungsreihe \"Kanzlergespräch\", die in allen Bundesländern Station machen soll, für Scholz eine Chance, sich nahbar zu präsentieren und seine Politik zu erläutern. Pflegenotstand, Rente, Fachkräftemangel: 90 Minuten lang beantwortet der Bundeskanzler zum Auftakt der Veranstaltungsreihe in Lübeck Fragen zu ganz unterschiedlichen Themengebieten. Viele Fragensteller bewegt die aktuelle Unsicherheit wegen des Ukraine-Kriegs und die hohen finanziellen Belastungen, die damit in Verbindung stehen. Ein Mann fragt, wieso der Energiezuschuss, der die hohen Energiekosten abmildern soll, versteuert werden muss. Eine Frau will wissen, wie die Regierung Studierende wegen der steigenden Inflation vor Armut schützen will. Der Bundeskanzler redet die Situation nicht schön. Scholz verweist mehrfach auf die bereits auf den Weg gebrachten Entlastungspakete der Bundesregierung und stellt weitere Schritte in Aussicht, für die seine Regierung nun den Austausch mit Arbeitgebern und Gewerkschaften sucht. Welche Bedeutung der Kanzler dem Bürgerdialog beimisst, wird deutlich, als er danach gefragt wird, wie er den sozialen Frieden in Deutschland sichern will. Und dann folgt eine für Scholz entscheidende Botschaft, denn er greift sie mehrfach auf an diesem Abend: \"Niemand wird alleine gelassen.\" Das sei, glaube er, die entscheidende Aussage und zu der bekenne er sich. Trotz aller ernster Themen, Scholz, der eigentlich für seine norddeutsche Nüchternheit bekannt ist, spricht in Lübeck auch über das Thema Liebe. Als ein Fragesteller die Hochzeitsfeier von Finanzminister Christian Lindner auf Sylt kritisiert, weil sie nicht angemessen sei in diesen Zeiten, erwidert der Bundeskanzler: \"Das Schönste im Leben ist die Liebe. Und wenn zwei sich finden und heiraten wollen, sollte man ihnen nicht allzu viel reinreden.\" Und er glaube, das gelte auch in diesen Zeiten.')\n"
     ]
    },
    {
     "name": "stderr",
     "output_type": "stream",
     "text": [
      "23it [01:21,  2.44s/it]"
     ]
    },
    {
     "name": "stdout",
     "output_type": "stream",
     "text": [
      "Pandas(Index=23, tstamp=1657660707, url='/newsticker/liveblog-ukraine-dienstag-143.html', fulltext=' Trotz der Sanktionen hat Russland im ersten Halbjahr einen Haushaltsüberschuss von rund 20 Milliarden Euro erzielt. Laut UN sind seit Kriegsausbruch mehr als 5000 Zivilisten in der Ukraine getötet worden. Der Liveblog zum Nachlesen.  Wir schließen diesen Liveblog für heute und bedanken uns für Ihr Interesse. Im Osten der Ukraine haben die prorussischen Separatisten in der Region Donezk ein Moratorium auf die Todesstrafe aufgehoben. Separatistenführer Denis Puschilin unterzeichnete einen entsprechenden Erlass, wie die staatliche russische Nachrichtenagentur Tass berichtete. Im vergangenen Monat hatten die Separatisten drei Ausländer in den Reihen der ukrainischen Armee als Söldner zum Tode verurteilt, zwei Briten und ein Marokkaner. Die drei Männer warten derzeit auf eine Entscheidung im Berufungsverfahren. Die Urteile sollen nach Angaben der Separatisten noch in diesem Monat fallen. Falls die Entscheidung aus erster Instanz nicht aufgehoben wird oder die Angeklagten ausgetauscht werden, droht ihnen die Erschießung. Medienberichten zufolge sind weitere Ausländer in der Gewalt der Separatisten. Im russischen Fernsehen wurden auch zwei US-Amerikaner als Gefangene vorgeführt. Kremlsprecher Dmitri Peskow schloss die Erschießung der Ausländer nicht aus. Russland werde sich nicht in die Gerichtsbarkeit der von Moskau als unabhängig anerkannten \"Donezker Volksrepublik\" einmischen. Die russischen Behörden haben ein Strafverfahren gegen den Kremlkritiker Ilja Jaschin wegen der Verbreitung angeblich diskreditierender Falschmeldungen zum Einsatz der Armee eingeleitet. \"Mich hat gerade der Ermittler angerufen - in seinem Haus beginnt eine Durchsuchung\", teilte Jaschins Anwalt Wadim Prochorow auf seiner Facebook-Seite mit. Bei einer Verurteilung drohen Jaschin bis zu zehn Jahre Haft. Jaschin gehört zur liberalen Opposition und war in Russland einer der letzten lautstarken Kritiker des Kriegs gegen die Ukraine, der noch auf freiem Fuß war. Im Frühjahr wurde er bereits mehrfach mit Bußgeld wegen Verunglimpfung der Armee belegt. Derzeit sitzt er eine 15-tägige Ordnungshaft wegen angeblichen Widerstands gegen die Staatsgewalt ab. Jaschin sollte ursprünglich in der Nacht zum Mittwoch entlassen werden. Russland hat nach offiziellen Angaben im ersten Halbjahr 2022 trotz Krieg und Sanktionen einen Haushaltsüberschuss im Wert von mehr als 20 Milliarden Euro erzielt. Insgesamt liege das Plus dank gestiegener Einnahmen bei 1,374 Billionen Rubel (etwa 23 Milliarden Euro), teilte das Finanzministerium der Nachrichtenagentur Interfax zufolge mit. Hintergrund ist der gestiegene Ölpreis, von dem Russland profitiert. Im ersten Halbjahr erlöste Russland demnach durch den Verkauf von Öl und Gas mehr als 100 Milliarden Euro. Das sind 66 Prozent der geplanten Einnahmen aus dem Verkauf fossiler Rohstoffe für das gesamte Jahr 2022. Die westlichen Sanktionen haben bislang vor allem den Import westlicher Waren nach Russland erschwert. Die Strafmaßnahmen gelten aber als nicht besonders wirksam beim Export von russischen Rohstoffen - in erster Linie Öl und Gas.\\xa0Die hohen Preise auf den Rohstoffmärkten haben dazu geführt, dass Russland trotz geringerer Ausfuhrmengen höhere Gewinne daraus erzielen konnte. Die Zentralbank Russlands sieht Hinweise auf eine Stabilisierung der Wirtschaft nach dem Einbruch in Folge von westlichen Sanktionen. Die Krise aufgrund des Krieges in der Ukraine entwickle sich weniger schlimm als ursprünglich befürchtet, sagte Kirill Tremasow, Direktor für Geldpolitik der russischen Notenbank. Der Experte sprach im Vorfeld einer Sitzung am 22. Juli, auf der die Bank ihren Leitzins von 9,5 Prozent voraussichtlich weiter senken wird, um die Wirtschaft mit günstigeren Krediten zu unterstützen. Ein Berater des russischen Präsidenten Wladimir Putin hatte im Mai prognostiziert, dass das Bruttoinlandsprodukt des Landes 2022 um maximal fünf Prozent schrumpfen dürfte. Einige Wochen zuvor hatte das russische Wirtschaftsministerium noch einen Rückgang von mehr als zwölf Prozent vorhergesagt Nach Einschätzung westlicher Regierungen hat der Iran bei der Drohnen-Entwicklung in den vergangenen Jahren enorme Fortschritte gemacht. Das Land könnte über Flugkörper mit bis zu 1000 km Reichweite verfügen. Wie gefährlich ist das Drohnen-Programm Teherans, und wie könnte Russland davon profitieren? Der staatliche ukrainische Gasversorger Naftogaz hat seine internationalen Gläubiger um einen Zahlungsaufschub von zwei Jahren gebeten. Das Unternehmen, das bald eine fällige Anleihe in Höhe von 335 Millionen Dollar zu tilgen hat und noch im Juli Zinszahlungen leisten muss, erklärte, die Invasion Russlands in der Ukraine habe dazu geführt, dass viele seiner Kunden ihre Rechnungen nicht mehr bezahlen könnten. Kremlchef Wladimir Putin stärkt die Rolle des russischen Industrieministers Denis Manturow. Der russische Präsident hat per Dekret das Amt des Industrieministers mit der Stelle eines Vizeregierungschefs verknüpft. Künftig gibt es in der russischen Regierung damit elf Stellvertreter für den Kabinettschef Michail Mischustin. Die Ernennung Manturows muss noch von der russischen Staatsduma bestätigt werden. Allerdings gilt das als Formsache. Manturow ist seit 2012 Minister in der russischen Regierung. Mit seiner Beförderung wäre er das einzige Regierungsmitglied in Moskau, das gleichzeitig Minister und Vizeregierungschef ist. Angesichts der hohen Energiepreise sollen die Übergewinne von Energieunternehmen in Belgien in diesem Jahr mit 25 Prozent besteuert werden. Das Gesetz würde alle Lieferanten, Produzenten und Händler von Strom und Gas in Belgien betreffen, kündigte Belgiens Energieministerin Tinne Van der Straeten bei der Vorlage des Gesetzesentwurfes an. Die Branche habe in diesem Jahr überdurchschnittlich hohe Gewinne erzielt. Konkret geht es um die Bruttogewinnmargen der Firmen in diesem Jahr verglichen mit dem vergangenen Jahr, wie die belgische Nachrichtenagentur Belga berichtete. Diese sollen anhand der Mehrwertsteuererklärung ermittelt werden. Die Steuer würde greifen, wenn die Bruttogewinnmarge einer Firma in einem Trimester um mehr als 100.000 Euro sowie um mehr als zehn Prozent gestiegen ist. Der Krieg in der Ukraine erschwert den Anbau von Getreide massiv. Felder geraten durch Beschuss in Brand oder sind mit Munition und Minen belastet, berichtet ARD-Korrespondentin Palina Milling . Und auch die Ausfuhr des Getreides gestaltet sich angesichts russischer Blockaden schwierig, aber auch durch die Ankündigung der ukrainischen Bahn, die Preise für den Transport über den Schienenweg drastisch zu erhöhen. Der lettische Präsident Egils Levits befürwortet den Vorschlag, in seinem Land die Wehrpflicht wieder einzuführen. \"Die neue geopolitische Situation setzt eine größere Anzahl Menschen voraus, die sich, falls nötig, an der Verteidigung ihres Landes beteiligen können\"\", sagte Levits. Angesichts des russischen Angriffskrieges in der Ukraine will das lettische Verteidigungsministerium ab kommendem Jahr wieder einen elf Monate dauernden Militärdienst für Männer zwischen 18 und 27 Jahren zur Pflicht erklären. Die Wehrpflicht war in Lettland 2007 abgeschafft worden. Niedersachsen hat die Möglichkeiten zur flexiblen Aufnahme geflüchteter Kinder in Kindertagesstätten bis zum Ende des Jahres verlängert. Damit kann beispielsweise der Betrieb von Kita-Einrichtungen oder die Bildung weiterer Kita-Gruppen schneller genehmigt werden. Auch erlaubt die Notverordnung, ein Kind mehr in eine Kita-Gruppe aufzunehmen als eigentlich vorgesehen. Der Kultusminister des Bundeslandes, Grant Hendrik Tonne, sieht darin einen \"Kompromiss, der den Trägern vor Ort angesichts einer völlig unklaren Entwicklung noch fünf Monate Spielräume gibt und gleichwohl eine klare zeitliche Begrenzung dieser Not-Maßnahmen vorsieht\". Es sei aber davon auszugehen, dass sich bis zum Jahreswechsel alle Träger auf zusätzliche Kinder aus der Ukraine eingestellt haben und reguläre Betreuungsangebote vorhalten können. Der EU-Beitrittskandidat Serbien will seine Gasimporte aus Russland etwas reduzieren. Zurzeit wird das Land noch vollständig von Russland mit Gas beliefert. Doch ab September des kommenden Jahres will Serbien Gas aus Aserbaidschan und Flüssiggas aus Griechenland importieren - mithilfe einer Verbindung zur jüngst in betrieb genommenen Pipeline zwischen Griechenland und Bulgarien. Diese Pläne gab Serbiens Energieministerin Zorana Mihajlovic bekannt. Nach Angaben der Vereinten Nationen sind seit dem Ausbruch des Krieges gegen die Ukraine mehr als 5000 Zivilisten in dem Land getötet worden. Die tatsächliche Zahl dürfte aber noch weitaus höher sein, heiß es vom UN-Hochkommissariat für Menschenrechte. Zudem seien in dem Krieg mehr als 6500 Zivilisten verletzt worden. Die Stadt Guben im Landkreis Spree-Neiße überlegt, im Winter Wärmestuben einzurichten. Gemeinsam wollen die US-Behörde für internationale Entwicklung, das US-Finanzministerium und die Weltbank weitere 1,7 Milliarden US-Dollar aufbringen, um die Gesundheitsversorgung in der Ukraine zu unterstützen. Die USA wollten dem Land helfen, unentbehrliche Dienstleistungen für unschuldige Bürger aufrecht zu erhalten und Angestellte zu bezahlen, die lebensrettende Arbeit leisten, sagte USAID-Chefin Samantha Power. Die Bezahlung von Beschäftigten werde Angaben des ukrainischen Gesundheitsministern Viktor Ljaschko immer schwieriger. Zahlreiche Mitarbeiter seien aus der Ukraine geflohen, andere arbeiteten durch die Zerstörung und den Mangel in Kriegszeiten unter erbärmlichen Umständen. Seit März liefert der Spielzeughersteller bereits nicht mehr nach Russland, nun geht das Unternehmen den nächsten Schritt: Sämtliche Geschäfte in Russland würden \"auf unbestimmte Zeit\" eingestellt. Das bedeute die Kündigung der Partnerschaft mit der Inventive Retail Group, die 81 Geschäfte in Russland betreibt, und die Kündigung der Beschäftigten in Moskau, teilte Lego mit. In einer gemeinsamen Erklärung von Bundeswirtschaftsminister Robert Habeck und der österreichischen Klimaschutzministerin Leonore Gewessler versichern sich beide Länder bei einem akuten Mangel bei der Gasversorgung ihre gegenseitige Unterstützung. In dem Schreiben heißt es: \"Das beinhaltet auch die Sicherstellung von Durchleitungsrechten im Fall einer Gasmangellage, sofern dem technische oder sicherheitstechnische Gründe nicht entgegenstehen.\" Beide Länder riefen alle EU-Mitglieder auf, idealerweise noch vor Oktober 2022 sämtliche noch ausstehenden Solidaritätsabkommen abzuschließen. Die finnische Europaministerin Tytti Tuppurainen will am Donnerstag nach Berlin reisen, wie die Nachrichtenagentur Reuters berichtet. Anlass sind Beratungen mit Vertretern der Bundesregierung des finnischen Energiekonzerns Fortum und des Unternehmens Uniper. Deutschlands größter Gashändler Uniper ist wegen der steigenden Energiepreise in eine Krise geraten und fordert staatliche Hilfe . Ab Dezember plant das Unternehmen Deutsche Regas bis zu 4,5 Milliarden Kubikmeter Erdgas jährlich in das deutsche Fernleitungsnetz einzuspeisen. Dazu soll vom französischen Energiekonzern Totalenergies ein schwimmendes LNG-Terminal gechartet werden, dass im Hafen von Lubmin in Mecklenburg-Vorpommern betrieben werden soll. Lange hatten sich Bundesregierung und die Landesregierung von Mecklenburg-Vorpommern bedeckt gehalten, was die Pläne für das LNG-Terminal betrifft. Morgen sollen schließlich Vertreter der beiden beteiligten Konzerne im Beisein des Schweriner Wirtschaftsministers Reinhard Meyer und des Staatssekretärs im Bundeswirtschaftsministerium, Michael Kellner, ein Eckpunktepapier unterschreiben, um die Pläne dingfest zu machen. Angesichts drohender Engpässe bei der Gasversorgung drängt Bundeswirtschaftsminister Robert Habeck darauf, auch die Industrie vor Betriebsausfällen zu schützen. Zur Lösung des Streits um Getreideexporte aus der Ukraine sollen am Mittwoch Vertreter Moskaus, Kiews, Ankaras und der Vereinten Nationen in der Türkei zusammenkommen. Militärdelegationen aus den drei Ländern und UN-Vertreter sollen sich in Istanbul treffen, wie das türkische Verteidigungsministerium mitteilte. Zuvor hatte die russische Regierung bereits ein Treffen angekündigt. Laut türkischen Angaben sieht ein UN-Plan zur Lösung der Krise unter anderem die Einrichtung eines Kontrollzentrums in der an der Meerenge Bosporus gelegenen Metropole Istanbul vor. Die Meerenge, über die die Türkei die Hoheit hat, ist der einzige Seeweg vom Schwarzen Meer ins Mittelmeer. Bei russischen Angriffen wurden nach Angaben des ukrainischen Präsidialamtes in der Ukraine binnen 24 Stunden mindestens 16 Zivilisten getötet und 48 weitere verletzt. Demnach gerieten unter anderem Städte und Gemeinden in fünf südöstlichen Regionen unter russischen Beschuss.  Die Welthungerhilfe befürchtet wegen explodierender Nahrungsmittelpreise und vor dem Hintergrund des Ukraine-Krieges eine steigende Zahl von Unterernährten auf der Welt. Angesichts eines auch von Klimawandel und zunehmenden Dürreperioden befeuerten Trends zum Anstieg der Zahl von Hungernden weltweit wirke \"der russische Angriffskrieg auf die Ukraine wie ein erneuter Brandbeschleuniger\", warnte Welthungerhilfe-Präsidentin Marlehn Thieme. Die Nahrungsmittelpreise waren im Jahr 2021 bereits durch \"multiple Krisen\" um 28 Prozent angestiegen - der Krieg in der Ukraine habe die Preise noch einmal deutlich ansteigen lassen. \"Von Afghanistan bis Zimbabwe kämpfen die Menschen mit Preissteigerungen für Brot, Getreide oder Obst um bis zu 60 Prozent\", so Thieme. Es zeichne sich bereits jetzt ab, dass nur zwei Drittel der Flächen in der Ukraine abgeerntet werden können: \"Das wird sicher einen großen Einbruch darstellen.\" Bundesentwicklungsministerin Svenja Schulze warf zudem dem russischen Präsidenten Wladimir Putin vor, Weizenausfuhren aus der Ukraine zu verhindern. \"Man sieht, dass Putin Hunger als Kriegswaffe nutzt, dass er ganz bewusst die Häfen in der Ukraine bombardiert, so dass der Weizen nicht ausgeliefert werden kann\", sagte Schulze. Die Nachrichtenseiten des ukrainischen Milliardärs Rinat Achmetow haben ihren Betrieb eingestellt. \"Das ist ein erzwungener Schritt\", schrieb die Sprecherin des Konzerns System Capital Management, Natalija Jemtschenko, bei Facebook. Seit Mitternacht gebe es keine Nachrichten mehr auf den Seiten der Online-Zeitung Segodnya.ua oder des Nachrichtensenders Ukrajina 24. Die Einstellung des Mediengeschäfts aufgrund der drohenden Aufnahme in ein Register für Oligarchen hatte Achmetow zuvor angekündigt. Die frei verfügbaren Fernsehsender der Gruppe zeigten über Antenne und Satellit das seit dem russischen Einmarsch im Februar landesweit einheitliche Nachrichtenprogramm. Achmetows Medienunternehmen gehörte zu den vier großen Mediengruppen der Ukraine. Baden-Württembergs Ministerpräsident Winfried Kretschmann will am 25. Juli bei einem \"Gasgipfel\" mit Kommunen, Wirtschaft und Versorgern Vorkehrungen für die drohende Energiekrise treffen. Das verkündete der Regierungschef bei der auswärtigen Kabinettssitzung in Brüssel. Bei dem Treffen sollen auch konkrete Vorschläge gesammelt werden, wo Industrie und Haushalte Energie einsparen können. Kretschmann hatte zuletzt vor dramatischen Folgen einer Gasmangel-Lage im Winter für Unternehmen, Arbeitnehmer und Verbraucher gewarnt. Er geht davon aus, dass zahlreiche Firmen, die Gas für ihre Produktion brauchen, dann ihren Betrieb einstellen und Tausende Mitarbeiter entlassen müssten. Bundesjustizminister Marco Buschmann rechnet mit langwierigen Ermittlungen gegen mutmaßliche Kriegsverbrecher in der Ukraine. Es seien \"Hunderttausende, vielleicht sogar Millionen von Beweismitteln, die gesichtet, dokumentiert und ausgewertet werden müssen\", sagte Buschmann am Rande eines informellen EU-Justizministertreffens in Prag. Das werde vermutlich viele Jahre dauern. Buschmann äußerte sich dennoch zuversichtlich, Kriegsverbrechen in der Ukraine ahnden zu können. Er verwies dabei auf die deutschen Prozesse gegen mehrere Syrer, die in diesem und im vergangenen Jahr unter anderem wegen Folter verurteilt worden waren. Die Finanzminister der Europäischen Union haben weitere Hilfen für die Ukraine im Umfang von einer Milliarde Euro freigemacht. Damit könne die Regierung in Kiew unter anderem die kritische Infrastruktur sichern, erklärte der tschechische Finanzminister Zbynek Stanjura, dessen Land seit Anfang Juli den rotierenden Ratsvorsitz innehat. Das Europaparlament hat der Hilfe, die als langfristiger Kredit zu günstigen Konditionen vergeben wird, bereits zugestimmt. EU-Kommissionspräsidentin Ursula von der Leyen teilte mit, das\\xa0Geld dürfte die Ukraine noch in diesem\\xa0Monat erreichen. Der Kredit ist der erste Teil eines im Mai angekündigten Hilfspakets über neun Milliarden Euro bis Ende des Jahres. Der EU-Gipfel im Mai hatte sich bereits grundsätzlich für das Neun-Milliarden-Paket ausgesprochen. Bislang hat die EU der Ukraine seit Kriegsbeginn 2,2 Milliarden Euro an sogenannten Makrofinanzhilfen zur Verfügung gestellt. Die russischen Truppen in der Ost-Ukraine und ihre Verbündeten sind nach Darstellung der prorussischen Separatisten dort dabei, die Stadt Siewersk in der Region Donezk zu umzingeln. Die Nachrichtenagentur Tass beruft sich auf den Botschafter der selbst ernannten Volksrepublik Luhansk in Moskau, Rodion Miroschnik. Bei Siewersk verläuft gegenwärtig die Front in der Region. Nach Darstellung der Regierung in Moskau wollen viele Ukrainer ihr Angebot nutzen, die russische Staatsbürgerschaft anzunehmen. Präsidialamtssprecher Dmitri Peskow erklärte zudem, es stehe gegenwärtig nicht zur Debatte, Friedensgespräche mit der Regierung in Kiew wieder aufzunehmen. Russland, die Ukraine, die Türkei und die Vereinten Nationen sollen einem Medienbericht zufolge morgen neue Gespräche über Getreide-Exporte aus der Ukraine führen. Das Treffen solle in Istanbul stattfinden, meldete die Nachrichtenagentur Interfax unter Berufung auf das russische Außenministerium. Russland hat den USA die Verantwortung für ein erhöhtes Risiko einer direkten militärischen Konfrontation zwischen den beiden Großmächten zugewiesen. Amerika und andere Staaten hätten \"eine Verschärfung der ukrainischen Krise\" provoziert, erklärte die Sprecherin des Außenministeriums, Maria Sacharowa. Sie spielte damit offenbar auf westliche Waffenlieferungen für die Ukraine infolge des russischen Angriffskriegs an. Sacharowa fügte hinzu: \"Washington und seine Verbündeten balancieren gefährlich am Rand einer offenen militärischen Konfrontation mit unserem Land - und das bedeutet: eines direkten bewaffneten Konflikts zwischen Atommächten.\" In der besetzten südukrainischen Stadt Nowa Kachowka sind nach Angaben der von Russland dort installierten Verwaltung bei ukrainischem Beschuss mindestens sieben Menschen getötet worden. 70 Menschen seien verletzt worden, als in der Nacht Raketen eingeschlagen seien, meldete die russische Nachrichtenagentur Tass unter Berufung auf Verwaltungschef Wladimir Leontjew. Es sei ein Lagerhaus getroffen worden, in dem sich Salpeter befunden habe. Er kann sowohl als Dünger als auch für die Herstellung von Sprengstoff eingesetzt werden. Die ukrainischen Behörden teilen mit, ihr Militär habe ein Munitionsdepot getroffen. Die Stadt liegt in der Region Cherson. Im Zuge der EU-Sanktionen gegen Russland sind in Europa inzwischen fast 14 Milliarden Euro an russischem Vermögen eingefroren worden. Der Gesamtwert der sichergestellten Besitztümer von Oligarchen und anderen Verantwortlichen belaufe sich auf 13,8 Milliarden Euro, sagte EU-Justizkommissar Didier Reynders am Rande eines Justizministertreffens in Prag.\\xa0Das sei \"gewaltig\", sagte der Belgier. Allerdings engagierten sich nicht alle EU-Länder gleichermaßen für die Umsetzung der bisher sechs Sanktionspakete gegen Russland, kritisierte Reynders. Der Großteil der Summe - gut zwölf Milliarden Euro - sei in fünf der 27 Mitgliedstaaten sichergestellt worden. Bundesentwicklungsministerin Svenja Schulze hat dem russischen Präsidenten Wladimir Putin vorgeworfen, die Versorgung mit Nahrungsmitteln im Ukraine-Konflikt für strategische Zwecke zu unterbinden. \"Man sieht, dass Putin Hunger als Kriegswaffe nutzt, dass er ganz bewusst die Häfen in der Ukraine bombardiert, so dass der Weizen nicht ausgeliefert werden kann\", sagte sie im rbb . Beim russischen Beschuss der südukrainischen Stadt Mykolajiw sind nach Angaben des Gouverneurs der gleichnamigen Region mindestens zwölf Menschen verletzt worden. Geschosse von Mehrfachraketenwerfern seien in zwei medizinische Einrichtungen und in Wohngebäude eingeschlagen, teilte Gouverneur Witali Kim auf Telegram mit. Das Gericht der Europäischen Union (EuG) muss sich erneut mit der Klage der Nord Stream 2 AG gegen die Änderung der EU-Gasrichtlinie von 2019 befassen. Es habe zu Unrecht entschieden, dass Nord Stream 2 von der Änderung nicht unmittelbar betroffen sei, erklärte der Europäische Gerichtshof (EuGH) in Luxemburg. Er hob den EuG-Beschluss auf, soweit das Gericht die Klage deswegen für unzulässig erklärt hatte. (Az. C-348/20) Wegen des Ukraine-Krieges rüstet sich der Bund besser gegen Cyberattacken. Bundesinnenministerin Nancy Faeser stellte dazu ihre Strategie vor, die vor allem eine bessere Ausstattung der Sicherheitsbehörden vorsieht. So soll das Bundesamtes für Sicherheit in der Informationstechnik (BSI) zu einer Zentralstelle zwischen Bund und Ländern ausgebaut werden. Gestärkt werden sollen außerdem Verfassungsschutz und Bundeskriminalamt. Der Ukraine-Krieg verdeutliche \"einmal mehr, wie essenziell Cybersicherheit für einen modernen, hochtechnologisierten und digitalisierten Industriestaat wie Deutschland ist\". Es gebe gezielte Angriffe auf sogenannte kritische Infrastruktur, Aktionen von Cyberkriminellen, gezielte Desinformationen oder Angriffe auf staatliche Strukturen. Dies alles sei geeignet, \"die Funktionsfähigkeit unseres Gemeinwesens und unserer Wirtschaft massiv und anhaltend zu beeinträchtigen oder gar zu unterbrechen\", heißt es in Faesers Konzept. Britische Geheimdienstexperten halten es für möglich, dass Russland in Gefängnissen Kämpfer für die Söldnertruppe Wagner anheuert. \"Personalmangel bei den russischen Streitkräften könnten das russische Verteidigungsministerium dazu zwingen, zu unkonventionellen Rekrutierungsmethoden zu greifen\", hieß es im täglichen Geheimdienst-Update des Verteidigungsministeriums in London. Dazu gehöre die Rekrutierung in Gefängnissen für die Söldnertruppe. \"Sollte das wahr sein, weist dieser Schritt wahrscheinlich auf Schwierigkeiten beim Ersetzen der erheblichen russischen Verluste hin\", so die Mitteilung weiter. Vor einigen Tagen hatte bereits der ukrainische Geheimdienst mitgeteilt, Russland rekrutiere angesichts hoher Verluste Häftlinge für private Militärunternehmen. Den Männern werde nach der Erfüllung der vertraglich vereinbarten Pflichten eine vorzeitige Entlassung versprochen, hieß es. Gazprom liefert nach eigenen Angaben mehr Gas über die Ukraine nach Europa. So betrage die über den Eingangspunkt Sudsha gelieferte Menge heute 41,3 Millionen Kubikmeter nach gestern 39,4 Millionen, teilte der russische Staatskonzern mit. Ein Antrag, auch über den Eingangspunkt Sochranowka Gas zu pumpen, sei von der Ukraine abgelehnt worden. Die deutschen Exporte nach Russland sind wegen der Sanktionen infolge des Ukraine-Kriegs um die Hälfte eingebrochen. Sie fielen im Mai binnen Jahresfrist um 50,9 Prozent auf 1,1 Milliarden Euro, wie das Statistische Bundesamt mitteilte. Dies war zum Vorjahresmonat der dritte Rückgang in Folge. Zum April hingegen stiegen die Russland-Ausfuhren wieder um fast 36 Prozent (plus 296 Millionen Euro), was die Behörde vor allem mit mehr Exporten sogenannter dosierter Arzneimittel begründete. Diese Lieferungen lagen im Mai bei 215 Millionen Euro - ein Zuwachs zum Mai 2021 um 47,7 Prozent und zum April um 60,5 Prozent. Die ukrainische Armee hat eigenen Angaben zufolge eine Gegenoffensive auf den von russischen Truppen besetzten Teil des südukrainischen Gebietes Cherson begonnen. In der Stadt Nowa Kachowka sei ein Waffenlager angegriffen worden, teilte das Kommando Süd in der Nacht auf Facebook mit. Es seien etwa eine Haubitze und Militärtechnik zerstört worden. Zudem habe der Feind mehr als 50 Soldaten \"verloren\". Die russische staatliche Nachrichtenagentur Ria Nowosti meldete am Morgen unter Berufung auf die in Nowa Kachowka eingesetzte prorussische Verwaltung mindestens sieben Tote, vier Vermisste und Dutzende Verletzte nach dem Angriff. Viele Menschen seien unter Trümmern verschüttet worden. Auch Hunderte Häuser seien beschädigt. Unabhängig überprüfen lassen sich die Angaben beider Seiten nicht. Die Internationale Energieagentur (IEA) sieht die europäischen Staaten in den kommenden Monaten vor einer ernsten Herausforderung bei der Öl- und Gasversorgung. \"Dieser Winter wird in Europa sehr, sehr schwierig werden\", warnte IEA-Direktor Fatih Birol auf einem Energieforum in Sydney. Die Energieversorgung sei eine große Sorge. \"Das kann ernste Auswirkungen auf die Weltwirtschaft haben\", sagte der Chef des Interessenverbands von westlichen Industriestaaten. Nach Birols Einschätzung hat die Welt noch nie eine so tiefgreifende und komplexe Energiekrise erlebt. Er befürchte, dass \"wir das Schlimmste vielleicht noch nicht gesehen haben\". Die ukrainische Armee hat eigenen Angaben zufolge eine Gegenoffensive auf den von russischen Truppen besetzten Teil des südukrainischen Gebietes Cherson begonnen. In der Stadt Nowa Kachowka sei ein Waffenlager angegriffen worden, teilte das Kommando Süd auf Facebook mit. Es seien etwa eine Haubitze und Militärtechnik zerstört worden. Zudem habe der Feind \"mehr als 50 Soldaten verloren\". Die russische staatliche Nachrichtenagentur Ria Nowosti meldete unter Berufung auf die in Nowa Kachowka eingesetzte prorussische Verwaltung zwei Tote, vier Vermisste und Dutzende Verletzte nach dem Angriff. Viele Menschen seien unter Trümmern verschüttet worden. Auch Hunderte Häuser seien beschädigt. Russland hat der Ukraine einen Angriff auf eine von russischen Kräften gehaltene Stadt in der Region Cherson vorgeworfen. Dabei habe es Tote und Verletzte gegeben. Durch den Angriff auf die Stadt Nowa Kachowka sei es dort zudem zu einer Explosion in einem Düngemittel-Lager gekommen, sagte ein Vertreter der zuständigen Behörde nach Abgaben der russischen Nachrichtenagentur Tass. Die Ukraine erklärte, ihr Militär habe ein Munitionslager und weitere Gebäude zerstört. Zur Verfolgung von Verbrechen beim russischen Angriffskrieg in der Ukraine will der FDP-Politiker Stephan Thomae die Befugnisse des Generalbundesanwalts ausweiten. Dieser könne bereits jetzt Straftaten gegen das Völkerrecht verfolgen, auch wenn sie keinen Bezug zu Deutschland haben - etwa bei Kriegsverbrechen oder Völkermord. \"Bei dem offensichtlichsten Völkerrechtsbruch, den Russland gegen die Ukraine begeht, nämlich dem Verbrechen der Aggression, sind dem Generalbundesanwalt derzeit aber die Hände gebunden\", sagte der Parlamentarische Geschäftsführer der FDP-Bundestagsfraktion der Nachrichtenagentur dpa. Voraussetzung für Ermittlungen sei, dass der Täter Deutscher oder die Tat gegen Deutschland gerichtet sei. \"Diese Einschränkung des Anwendungsbereichs ist nicht nachvollziehbar. Denn das Aggressionsverbrechen zählt zu den völkerstrafrechtlichen Kernverbrechen, deren Verfolgung im Interesse der Menschheit als solcher liegt\", so Thomae. Mit Blick auf den russischen Präsidenten Wladimir Putin sagte: Dies \"wäre auch kein Lex Putin, sondern auch über den Ukraine-Krieg hinaus ein starkes Signal und ein echter Fortschritt im Völkerrecht.\" Vor dem Hintergrund ausbleibender Gaslieferungen von Russland nach Deutschland durch die derzeit in Wartung befindliche Pipeline Nord Stream 1 hat die Bundesnetzagentur der Regierung in Moskau vorgeworfen, aus politischen Gründen alternative Lieferwege nicht zu nutzen. \"Seit Montagmorgen fließt über Nord Stream kein Gas mehr. Russland beliefert Deutschland jetzt nur noch über die Transgas-Pipeline durch die Ukraine\", sagte der Präsident der Bundesnetzagentur, Klaus Müller, dem Redaktionsnetzwerk Deutschland. Die Regierung in Moskau könne die Liefermengen durch die Ukraine jederzeit erhöhen, um ihre vertraglichen Verpflichtungen zu erfüllen. \"Dazu fehlt Wladimir Putin aber offenbar der politische Wille.\" Bundesentwicklungsministerin Svenja Schulze hat für mehr Unabhängigkeit ärmerer Länder vom Weltmarktgeschehen beim Weizen plädiert. \"Neben der akuten Hilfe kommt es jetzt darauf an, dass Entwicklungsländer mehr selber anbauen können, und zwar klimaangepasst und nachhaltig\", sagte sie den Zeitungen der Funke Mediengruppe mit Blick auf die weltweit steigenden Preise für Lebensmittel infolge des russischen Angriffskriegs auf die Ukraine. Das könne etwa mit lokalen und gut angepassten Getreidesorten wie Sorghum in Afrika gelingen, so die SPD-Politikerin. \"Unser Bündnis für globale Ernährungssicherheit koordiniert und unterstützt genau solche nachhaltigen Ansätze.\" Die Zahl der Menschen aus der Ukraine, die in die Länder der Europäischen Union einreisen, hat nach EU-Angaben inzwischen wieder das Niveau vor der russischen Invasion erreicht. Immer mehr Ukrainerinnen und Ukrainer kehren inzwischen zurück in ihre Heimat. Nach Angaben der EU-Grenzschutzbehörde Frontex waren bis Ende Juni etwa 3,1 Millionen Menschen in die Ukraine zurückgekehrt. In Moskau soll eine diplomatische Vertretung der selbsternannten Volksrepublik Donezk eröffnet werden. Die Zeremonie findet im Beisein des russischen Außenministers Sergej Lawrow statt. Russland hatte die selbsternannten Volksrepubliken Donezk und Luhansk im ostukrainischen Donbass wenige Tage vor Kriegsbeginn als unabhängig anerkannt; seit 2014 werden Teile beider Regionen von prorussischen Separatisten kontrolliert. Ende Juni hatte die Stadtverwaltung von Moskau die Adresse der US-Botschaft in der russischen Hauptstadt geändert: Die diplomatische Vertretung der Vereinigten Staaten befindet sich nun am Platz der Volksrepublik Donezk. Die Straßenkreuzung, an der die Botschaft liegt, hatte zuvor keinen Namen. Die Ukraine hat scharfen Protest dagegen eingelegt, dass Kanada auf Drängen der Bundesregierung die Ausfuhr einer reparierten Turbine für die aus Russland kommende Gaspipeline Nord Stream 1 genehmigt hat. Angesichts dieser \"inakzeptablen Ausnahme beim Sanktionsregime gegen Russland\" sei der kanadische Botschafter einbestellt worden, erklärte der ukrainische Präsident Wolodymyr Selenskyj im Onlinedienst Telegram. Dieser Vorgang werde in Moskau als Zeichen der Schwäche gewertet, sagte der ukrainische Präsident. Es bestehe kein Zweifel, dass Russland nicht nur die Gaslieferungen so weit wie möglich herunterfahren wolle. Tatsächlich wolle Russland den Gashahn für Europa vollständig zudrehen - und dies \"im schmerzlichsten Moment\". Eine geplante Sondersteuer für Öl- und Gaskonzerne hat in Großbritannien die erste Hürde genommen. Die Abgeordneten votierten angesichts drastisch gestiegener Energiepreise für eine befristete Übergewinnsteuer von 25 Prozent. Das britische Oberhaus muss dem Gesetzesvorhaben noch zustimmen. Nach Einschätzung der britischen Regierung machen die Energiekonzerne derzeit außerordentliche Gewinne. Mit der Steuer sollen Einnahmen von fünf Milliarden Pfund erzielt werden. Italien hatte bereits im März eine Übergewinnsteuer für Energiekonzerne eingeführt. Der ukrainische Präsident Wolodymyr Selenskyj hat eine Gegenoffensive ukrainischer Truppen im Süden des Landes angekündigt. Zivilistinnen und Zivilisten sind angehalten, das Gebiet zu verlassen. ARD -Korrespondentin Isabel Schayani erklärt in den tagesthemen die Hintergründe Selenskyjs Ankündigung. Der russische Finanzminister Anton Siluanow befürwortet offenbar das Vorhaben des Energieriesen Gazprom, künftig auch Zahlungen für Flüssiggasexporte (LNG) nur noch in der Landeswährung Rubel zu akzeptieren. \"Wir unterstützen den Vorschlag in jeder Hinsicht\", zitierte ihn die Tageszeitung \"Wedomosti\". Verflüssigtes Erdgas ist bislang von der Bezahlungspflicht in Rubel nicht betroffen. Russland bemüht sich für seinen Krieg in der Ukraine nach Angaben der US-Regierung um Hunderte Drohnen aus dem Iran. \"Unsere Informationen deuten darauf hin, dass die iranische Regierung sich darauf vorbereitet, Russland bis zu mehrere Hundert unbemannte Luftfahrzeuge, darunter auch waffenfähige, in einem beschleunigten Verfahren zu liefern\", sagte der Nationale Sicherheitsberater Jake Sullivan. Unklar sei, ob der Iran bereits Drohnen an Russland geliefert habe. Sullivan sagte, die Entwicklung zeige, dass der gewaltige Artillerie-Einsatz, mit dem Russland in den vergangenen Wochen seine Geländegewinne im Osten der Ukraine sichergestellt habe, auf Kosten seiner eigenen Waffen gegangen sei. Der Iran habe ähnliche Drohnen auch an die Huthi-Rebellen im Jemen geliefert. Kanada hat Sanktionen gegen den russisch-orthodoxen Patriarchen Kyrill I. verhängt. Der türkische Präsident Erdogan und sein russischer Amtskollege Putin haben am Telefon über eine Lösung der Getreidekrise gesprochen. Die Entwicklungen zum Nachlesen.')\n"
     ]
    },
    {
     "name": "stderr",
     "output_type": "stream",
     "text": [
      "24it [01:34,  5.73s/it]"
     ]
    },
    {
     "name": "stdout",
     "output_type": "stream",
     "text": [
      "Pandas(Index=24, tstamp=1657591588, url='/inland/innenpolitik/bafoeg-reform-107.html', fulltext=' Die Bundesregierung wollte mit einer BAföG-Reform dafür sorgen, dass mehr Studierende Unterstützung erhalten. Doch die Gefördertenquote dürfte nur knapp steigen. Das zeigt eine Anfrage der Linken-Fraktion.  Ein höherer BAföG-Satz von mehr als fünf Prozent, höhere Elternfreibeträge und eine höhere Altersgrenze: Das BAföG soll für Studierende attraktiver werden und leichter zu beziehen sein. Das hat der Bundestag Mitte Juni beschlossen und eine entsprechende Reform auf den Weg gebracht. Eine Hoffnung der Ampel-Regierung ist es, so mehr Studierende für das BAföG zu begeistern. Denn die Gefördertenquote sinkt seit Jahren mehr oder weniger kontinuierlich.\\xa0Das BAföG-System wurde Anfang der 1970er-Jahre eingeführt. Es sollte Ungerechtigkeiten im Bildungssystem entgegenwirken. Damals nahmen fast die Hälfte der Studierenden die Unterstützung in Anspruch. In diesem Jahr rechnet die Bundesregierung mit einer Gefördertenquote von 16,3 Prozent. Nach Verabschiedung der Reform soll sie laut Berechnungen bei 16,7 Prozent, also 0,4 Prozentpunkte höher liegen. Das geht aus einer Übersicht des Fraunhofer-Instituts für Angewandte Informationstechnik hervor, das prognostiziert hat, wie die Gefördetenquote sich bis ins Jahre 2026 entwickelt - mit und ohne BAföG-Reform. Mit dieser Übersicht hat der parlamentarische Staatssekretär im Bildungsministerium Jens Brandenburg der Linken-Abgeordneten Nicole Gohlke auf eine Anfrage geantwortet. Die Antwort liegt dem ARD-Hauptstadtstudio exklusiv vor. Bemerkenswert ist, dass die Gefördertenquote trotz Reform auch in den kommenden Jahren kaum steigt. Laut Prognose soll sie in vier Jahren bei 14,7 Prozent liegen. Ohne Reform wäre sie laut Institut bei 13,3 Prozent - also ein geringfügiger Anstieg um 1,4 Prozentpunkte. Das Bildungsministerium hofft allerdings, dass die Reform \"zu Verhaltungsanpassungen bei der Zielgruppe, zum Beispiel durch größere mediale Aufmerksamkeit für das BAföG\" führe. Solche Effekte könne man nicht vorab berechnen. Die Linke-Bundestagsabgeordnete Gohlke bezeichnet die BAföG-Reform als \"Luftnummer\". Die Ampel sei dringend gefordert, endlich eine umfassende Strukturreform vorzunehmen und sowohl den Kreis der Anspruchsberechtigten weiter zu vergrößern, als auch die Fördersummen an die tatsächlichen Lebenshaltungskosten anzupassen. Das Bundesbildungsministerium hat angekündigt, weitere Reformschritte auf den Weg zu bringen. Ein Zeitplan stehe aber noch nicht fest.')\n"
     ]
    },
    {
     "name": "stderr",
     "output_type": "stream",
     "text": [
      "25it [01:35,  4.28s/it]"
     ]
    },
    {
     "name": "stdout",
     "output_type": "stream",
     "text": [
      "Pandas(Index=25, tstamp=1657579293, url='/ausland/amerika/james-webb-teleskop-107.html', fulltext=' Die Geburt des Universums auf Bildern festhalten: Mit dieser Verheißung schoss die NASA Ende 2021 das James-Webb-Teleskop ins All. Nun sollen die Aufnahmen öffentlich gezeigt werden. Ein erstes Bild präsentierte US-Präsident Biden bereits.  Spricht man vom James Webb Space Teleskop kommt man um Superlative nicht herum. Es besitzt mit sechseinhalb Metern Durchmesser den größten Spiegel, den die Menschheit je ins All geschossen hat. Seine Instrumente arbeiten bei Temperaturen von minus 223 Grad Celsius - kurz vor dem absoluten Nullpunkt. Mehr als 20 Jahre hat seine Entwicklung gedauert. Zehn Milliarden Dollar hat es gekostet. Das James Webb Space Telescope sei das größte, mächtigste und komplexeste Teleskop, das bislang gebaut wurde, sagte NASA-Sprecherin Laura Betts im Oktober 2021, knapp drei Monate vor dessen Abreise ins All. Mit mehreren extrem sensiblen Messgeräten nimmt das Teleskop Infrarotstrahlung aus dem All auf und kann dadurch quasi in die Vergangenheit schauen: Es kann Licht aufnehmen, das 13 Milliarden Jahre durch die Galaxie gereist ist. Das heiße, es liefere Bilder und Messdaten aus der Zeit kurz nach dem Urknall, als sich das Universum mit seinen Galaxien und Planeten zu formen begann, erklärte NASA-Sprecherin Betts. Das Weltraumteleskop ist ein Gemeinschaftsprojekt der europäischen Weltraumbehörde ESA, der kanadischen CSA und der US-amerikanischen NASA. Alle drei Raumfahrtorganisationen sind sich sicher: Die Bilder, die das James Webb Space Telescope liefern wird, werden die Wissenschaft grundlegend verändern. \"Es wird der Menschheit einen Blick auf das Universum geben - und zwar einen, den wir bisher noch nie gesehen haben\", sagte NASA-Chef Bill Nelson vor wenigen Tagen in einer Telefonkonferenz. Heute sollen mehrere erste Aufnahmen, die das Teleskop gemacht hat, der Weltöffentlichkeit präsentiert werden. Darunter eine Aufnahme, die weiter in das Weltall hineinreicht als jemals zuvor. Was darauf zu sehen sein wird? Niemand bis auf wenige, ausgewählte Forscher wissen es bisher. Der Weg bis zu diesem Moment war voller Hürden. Einen Monat nach dem Start erreichte das Teleskop seinen Arbeitsplatz, den Lagrange-Punkt 2. Anderthalb Millionen Kilometer von der Erde entfernt \"steht\" das Teleskop: Die Anziehungskraft zwischen Sonne und Erde ist an diesem Punkt exakt so groß wie die Fliehkraft des Teleskops - von der Erde aus betrachtet steht es quasi still. Das Teleskop bewegt sich zusammen mit der Erde um die Sonne und wird vom Erdschatten vor den Lichtstrahlen der Sonne geschützt. 300 einzelne Schritte waren von Januar bis Anfang Juli notwendig, um die 18 hexagonalen Spiegel, die zusammen einen großen ergeben, auszurichten und zu synchronisieren. Ein Fehler, bei einem dieser Schritte hätte das Teleskop zu zehn Milliarden teurem Weltraumschrott gemacht. Der 12. Juli markiert damit den Start des ersten Forschungsjahres für das Weltraumteleskop. 19 weitere sollen folgen. So lange reiche der Treibstoff für die Schubdüsen, die dabei helfen, das Teleskop auszurichten, sagte die stellvertretende NASA-Chefin und Ex-Astronautin Pamela Melroy. 20 Jahre, in denen sich verschiedene Wissenschaftsteams nun abwechseln werden, um erstmals auf Bildern und Messdaten zu sehen, wie die Erde, die Milchstraße Galaxie und die Welt darum herum entstanden sind.')\n"
     ]
    },
    {
     "name": "stderr",
     "output_type": "stream",
     "text": [
      "26it [01:36,  3.36s/it]"
     ]
    },
    {
     "name": "stdout",
     "output_type": "stream",
     "text": [
      "Pandas(Index=26, tstamp=1657673217, url='/ausland/amerika/trump-kapitol-ausschuss-101.html', fulltext=' Ex-Präsident Trump soll den Angriff seiner Anhänger auf das Kapitol lange im Voraus geplant und dabei bewusst rechte Gruppen angesprochen haben. Zu diesem Ergebnis kommt der Untersuchungsausschuss im Kongress.  Der damalige US-Präsident Donald Trump hat nach Auffassung des Untersuchungsausschusses zum Sturm aufs Kapitol im Januar 2021 den Marsch Tage zuvor geplant - und gewaltbereite Rechtsextreme direkt angesprochen. \"Die Beweise zeigen, dass es sich um eine bewusste Strategie handelte, die der Präsident im Voraus beschlossen hatte\", sagte das demokratische Ausschussmitglied Stephanie Murphy in der öffentlichen Anhörung. Denn schon zuvor hatte Trump seine Anhänger aufgefordert, am 6. Januar nach Washington zu kommen. Konkret geht es dabei um einen Tweet vom 19. Dezember. \"Großer Protest in D.C. am 6. Januar. Seid dabei, es wird wild!\", twitterte Trump damals. Das habe nach Auffassung von Ausschussmitglied Jamie Raskin in der rechten Szene \"explosive Wirkung\" entfaltet und bei der Mobilisierung eine zentrale Rolle gespielt. Trump habe damit rechte Gruppen direkt angesprochen, so der Ausschuss. Der Ausschuss zeigte anhand von Textbotschaften und Videos, wie Vertreter der Organisationen Proud Boys und Oath Keepers sofort reagierten. In Foren von Rechtsradikalen war von einer \"Roten Hochzeit\" die Rede - ein Hinweis auf Massenmord. Jemand rief dazu auf, Handschellen mitzubringen. Dem Tweet soll am 19. Dezember laut Zeugen ein brisantes Treffen zwischen Trump und Mitarbeitern vorausgegangen sein, das in Streit ausartete. Dabei sollen laut einem Zeugen Trumps Anwälte - unter ihnen Rudy Giuliani - den Entwurf für einen Präsidenten-Erlass vorgelegt haben, mit dem Wahlmaschinen beschlagnahmt werden sollten. Der Trump-Berater Pat Cipollone sagte aus, dies sei eine \"schreckliche Idee\" gewesen. \"So regeln wir Dinge in den Vereinigten Staaten nicht\", sagte er demnach. Schließlich sei das Treffen in Geschrei ausgeartet. Am nächsten Morgen habe Trump dann besagten Tweet abgesetzt. Das Ausschussmitglied Stephanie Murphy urteilte, Trumps Tweet habe nicht nur als Aufruf zum Handeln, sondern bei einigen auch als Ruf zu den Waffen gedient. Bein Sturm von Trump-Anhängern auf den Sitz des US-Kongresses kamen fünf Menschen zu Tode. Vier Polizisten, die an dem Tag im Einsatz waren, nahmen sich später das Leben. Ein Teilnehmer des Sturms auf das US-Kapitol distanzierte sich während der Anhörung deutlich von Trump. Er sei am 6. Januar 2021 erst auf Trumps Appell hin nach Washington gegangen, erklärte der Zeuge Stephen Ayres. Er habe sich von dessen falschen Wahlbetrugsvorwürfen einfangen lassen und wirklich geglaubt, dass Trump an jenem Tag mit ihnen zum Kapitol marschieren würde. Er habe auch eine kleine Chance gesehen, dass das Ergebnis der Präsidentschaftswahl noch gekippt werden könnte. Heute bereue er, den Lügen Trumps Glauben geschenkt zu haben. \"Ich hatte das Gefühl, als ob ich Scheuklappen aufgehabt hatte\", sagte Ayres. \"Ich war die ganze Zeit gefangen.\" Der Zeuge hatte auch eine Botschaft an andere Trump-Anhänger. \"Nehmt die Scheuklappen ab; stellt sicher, dass ihr einen Schritt zurücktritt und seht, was da vor sich geht, ehe es zu spät ist.\" Über seine Teilnahme am Sturm auf das Kapitol sagte Ayres: \"Es hat mein Leben verändert - und nicht zum Guten.\"')\n"
     ]
    },
    {
     "name": "stderr",
     "output_type": "stream",
     "text": [
      "27it [01:38,  2.82s/it]"
     ]
    },
    {
     "name": "stdout",
     "output_type": "stream",
     "text": [
      "Pandas(Index=27, tstamp=1657592807, url='/ausland/amerika/yosemite-feuer-mammutbaeume-101.html', fulltext=' Im US-Nationalpark Yosemite bedroht ein schnell wachsender Waldbrand 2000 Jahre alte Riesenmammutbäume. Die Feuerwehr stellt sich auf harte Monate ein.  In Kalifornien dauert der Kampf gegen einen Waldbrand im Yosemite-Nationalpark an. Mehr als 500 Feuerwehrleute und Helfer waren am Montag in dem beliebten Ausflugsgebiet im Einsatz, wie die zuständige Parkbehörde mitteilte. Der vorige Woche ausgebrochene Brand bedroht die Mariposa Grove mit ihren bekannten Riesenmammutbäumen. Das sogenannte \"Washburn\"-Feuer war am Montag erst zu 25 Prozent unter Kontrolle. Die Flammen hatten sich schnell über eine Fläche von knapp 1000 Hektar Land ausgebreitet. Die Mariposa Grove wurde für Besucher geschlossen. Zum Ausbruch des Brandes wurde eine Untersuchung eingeleitet. Die Feuerwehren in den USA befürchten für 2022 besonders heftige Waldbrände. \"Ich sage ein paar sehr harte vier, fünf, sechs Monate voraus\", sagte auch der Feuerwehrchef des kalifornischen Bezirks Orange County, Brian Fennessy. Die Einsatzteams würden für die berühmten Mammutbäume besondere Schutzmaßnahmen ergreifen, teilte die Parkbehörde mit. Mithilfe von Sprinkleranlagen am Boden werde das Umfeld der Bäume feucht gehalten. Zudem werde trockenes Unterholz entfernt, das sich sonst leicht entzünden könnte. Das Waldgebiet der Sierra Nevada am Südrand des Yosemite-Parks ist für seine über 60 Meter hohen und mehr als 2000 Jahre alten Mammutbäume bekannt. Die Mariposa Grove wurde schon 1864 als besonderes Naturschutzgebiet ausgewiesen. Die Riesenmammutbäume, auch Sequoias genannt, sind die raumgreifendsten Bäume der Welt. Ihre Verwandten, die kalifornischen Redwood-Mammutbäume, können mit mehr als 100 Metern zwar noch höher wachsen, haben aber nicht so einen großen Durchmesser wie die Riesenmammutbäume. Während ihrer tausende Jahre dauernden Lebenszeit erleben Mammutbäume immer wieder Waldbrände. Die Hitze des Feuers trägt dazu bei, dass sich ihre Zapfen öffnen und sich die Samen verteilen können. Längere, heißere und aggressivere Feuer, die durch die Erderwärmung häufiger werden, können die Bäume aber irreparabel beschädigen. 2020 starben bei einem riesigen Brand etwa 10.000 Mammutbäume. Das waren bis zu 14 Prozent des weltweiten Bestands.')\n"
     ]
    },
    {
     "name": "stderr",
     "output_type": "stream",
     "text": [
      "28it [01:38,  2.23s/it]"
     ]
    },
    {
     "name": "stdout",
     "output_type": "stream",
     "text": [
      "Pandas(Index=28, tstamp=1657677917, url='/ausland/europa/donezk-botschaft-russland-ukraine-krieg-101.html', fulltext=' In Moskau wurde gestern die Botschaft der selbsternannten \"Volksrepublik Donezk\" eröffnet. Dabei blieb der geplante Pomp zwar aus. Russland treibt mit dem Schritt die Abtrennung der Donbass-Regionen aber weiter voran.  Still wehte die schwarz-blau-rote Fahne der selbsternannten Volksrepublik Donezk im leichten Wind. Vor dem mehrstöckigen Gebäude, an dem auch schon die Plakette der neuen Botschaft prangte, warteten Kamerateams und Fotografen auf die groß angekündigte, feierliche Eröffnung. Vergebens. Erst am Abend erklärte die Außenministerin der nur von Russland und Syrien anerkannten Republik: Eigentlich sollte der russische Außenminister Lawrow zur Eröffnung in Moskau kommen. Und auch internationale Gäste waren geladen - aus Syrien und den von Georgien abtrünnigen Republiken Abchasien und Südossetien. Dass die Eröffnung der Botschaft stattdessen in aller Stille ablief, ändert aber wenig an dem Signal, das damit von Moskau ausgeht. Russland ist nicht nur bereit, die Donbass-Regionen finanziell und militärisch zu unterstützen, sondern ebenso ihre quasi-staatlichen Strukturen weiter mit auf- und auszubauen - und damit auch ihre Abspaltung von der Ukraine weiter voranzutreiben. Als Wladimir Putin am 21. Februar die seit 2014 von prorussischen Separatisten besetzten Gebiete als unabhängige Republiken anerkannte, bezeichnete er es als \"seit langem gewachsene Entscheidung\". Nur Tage später schickte der Kreml im Rahmen seiner sogenannten \"Militärischen Spezialoperation zum Schutze des Donbass“ Soldaten in die Region. Bald darauf folgten auch Beamte. Inzwischen sind vier Ministerposten in Donezk mit Personen besetzt, die zuvor in Russland für Regionalverwaltungen oder Ministerien gearbeitet haben. Vitali Hozenko, der Anfang Juni zum neuen Premierminister der \"Donezker Volksrepublik\" ernannt wurde, ist zwar gebürtiger Ukrainer - kommt aber ebenfalls aus der russischen Politik, arbeitete zuletzt für das Ministerium für Industrie und Handel. Als eine seiner Hauptaufgaben, beschrieb der 36-Jährige kurz nach seinem Amtsantritt: Unklar bleibt, ob all dies als Vorbereitung für einen möglichen Anschluss der Donbass-Regionen an Russland betrachtet werden muss. Oder ob die gestrige Eröffnung einer offiziellen diplomatischen Vertretung eher darauf hindeutet, dass man in Moskau zwar gern auch die politische Kontrolle über die selbsternannten Volksrepubliken ausweitet, aber nicht zwingend die volle Verantwortung für die aus Kreml-Sicht \"souveränen Staaten\" übernehmen möchte.')\n"
     ]
    },
    {
     "name": "stderr",
     "output_type": "stream",
     "text": [
      "29it [01:39,  1.72s/it]"
     ]
    },
    {
     "name": "stdout",
     "output_type": "stream",
     "text": [
      "Pandas(Index=29, tstamp=1657677118, url='/ausland/amerika/usa-biden-nahost-reise-israel-101.html', fulltext=' US-Präsident Biden reist in den Nahen Osten. In Israel will er Allianzen schmieden und zugleich die Beziehungen zu den Palästinensern kitten. Vor allem sein zweiter Stopp wirft Fragen auf: Wie geht er mit Saudi-Arabien um?  Seit US-Präsident Joe Biden angekündigt hat, dass er in den Nahen Osten reist, wird er im Prinzip immer wieder das Gleiche gefragt: Ob er den saudischen Kronprinzen trifft, ob er ihn bittet, mehr Öl zu produzieren - und ob er ihn wegen seiner Menschenrechtsverletzungen zur Rechenschaft zieht. Das sei nicht das Ziel dieser Reise, sagt Biden dann. Aber das nimmt ihm in Washington niemand so recht ab. Eineinhalb Jahre lang hat der US-Präsident den Nahen Osten gemieden. Doch nun, da die Ölpreise in den USA explodieren, bricht er auf? Biden bestreitet nicht, dass das Thema Öl auf der Reise eine Rolle spielt. Aber er spielt die Rolle des Kronprinzen herunter. \"Nein, ich werde nicht ihn fragen, ich werde alle Golfstaaten fragen, die ich treffe\", sagt Biden. Vor allem aber versichert er vor seinem Abflug, Teil des Ziels dieser Reise sei es, Israels Integration in der Region voranzutreiben. Und er glaube, dass ihm das gelingen werde.  Biden setzt damit dort an, wo sein Vorgänger Donald Trump aufgehört hatte. Der abgewählte US-Präsident und dessen Schwiegersohn hatten die sogenannten \"Abraham Accords\" - die Abraham-Verträge - einfädelt. In der Folge nahmen Israel und vier arabische Staaten diplomatische Beziehungen auf. Der Konflikt mit den Palästinensern blieb ungelöst. Die Kritik der US-Demokraten am Bruch mit der amerikanischen Außenpolitik scheint vergessen. Stattdessen wird spekuliert, wie viel enger Israel und Saudi-Arabien noch zusammenarbeiten können.\\xa0\"Es ist klar, dass die neue, junge saudische Führung sich in diese Richtung bewegt. Sie sieht Israel nicht länger als Gegner, sondern als künftigen Partner\", sagte Daniel Shapiro, früherer US-Botschafter in Israel, beim Sender CNBC. Klar sei aber auch, so Shapiro, dass Biden nicht mit dieser Trophäe nach Hause kommen wird. Dazu, sagen die Fachleute, sei es noch zu früh. Aber er könnte kleinere Erfolge mitbringen, etwa weitere Überflugrechte über Saudi-Arabien verhandeln. Das scheint für Israel wichtig zu sein. \"Präsident Biden und sein Team haben daran gearbeitet. Für sie liegt es im amerikanischen Interesse, eine Koalition gleichgesinnter, moderater US-Partner in der Region zu stärken\", so Shapiro. Und der Gegner dieser Koalition ist auch klar: der Iran, der - wie das Weiße Haus immer wieder betont - nur noch wenige Wochen brauche, um eine Atomwaffe zu entwickeln. Biden hat zwar angekündigt, dass er politisch alles anders machen werde als sein Vorgänger Trump. In Bezug auf Israel ist das aber kaum zu erkennen. So hat er nicht versucht, die Verlegung der US-Botschaft nach Jerusalem rückgängig zu machen. Und er hat auch nicht den Wunsch der Palästinenser erfüllt, wieder ein Büro in Washington eröffnen zu können. Zwar wird sich Biden mit dem palästinensischen Präsidenten Abbas treffen - aber unter schlechten Vorzeichen. \"Die Palästinenser sind in schlechter Stimmung\", sagt Steven A. Cook vom Council on Foreign Relations, einer Denkfabrik für Außenpolitik. Grund sei die Art, wie die US-Regierung mit dem Tod von Shireen Abu Akleh umgeht . Die amerikanisch-palästinensische Journalistin war erschossen worden - von israelischen Soldaten, so viel scheint klar. Die US-Regierung ist aber der Meinung, es sei nicht absichtlich geschehen. Nun fordert die Familie, dass Biden sich während seines Besuches mit ihr trifft. Sie wirft der US-Regierung vor, jegliches Fehlverhalten der israelischen Streitkräfte auslöschen zu wollen.')\n"
     ]
    },
    {
     "name": "stderr",
     "output_type": "stream",
     "text": [
      "30it [01:40,  1.65s/it]"
     ]
    },
    {
     "name": "stdout",
     "output_type": "stream",
     "text": [
      "Pandas(Index=30, tstamp=1657686970, url='/ausland/europa/ukraine-psychische-gesundheit-101.html', fulltext=' Krieg traumatisiert - oft ein Leben lang. Die Ukraine setzt für ihre Streitkräfte deshalb auf Prävention. Sie bildet Experten für den Umgang mit Kriegserlebnissen aus - und für die richtige Reaktion im Stress.  Auf den ersten Blick wirkt es wie ein Meditationskurs der Volkshochschule. Rund 20 Frauen und Männer sitzen in einem großen Saal der Nationalen Wirtschaftsuniversität in Kiew auf Isomatten im Schneidersitz, die Arme ruhen auf den Knien, die Handflächen\\xa0sind nach oben\\xa0gedreht.\\xa0Aber hier geht es nicht um Stressbewältigung im Alltag, sondern ums Überleben. \"Beim Stress an der Front\\xa0kann vieles passieren. Das Verhalten der Menschen ist dann oft verändert. Sie sind wie blockiert, haben Panik, sind aggressiv oder hysterisch\", erklärt Trainer Rodion. \"Hier lernen wir, wie wir diesen Kameraden helfen können, um ihr Leben zu retten.\" Denn wenn jemand nicht rechtzeitig Deckung sucht oder nicht in der Lage ist, die richtige Entscheidung zu treffen, kann es schnell gefährlich werden, sagt er. Rodion arbeitet für die Territorialverteidigung der Ukraine - eine Armeeorganisation, die aus Reservisten und Freiwilligen besteht. Er hat schon 2014 im umkämpften Donbass mit angepackt, um bei der Versorgung der Truppen zu helfen. \"Ich berichte hier nicht nur davon, was ich gesehen, sondern auch, was ich gefühlt habe. Aber ich erzähle nicht nur von mir, sondern auch von anderen. Davon, was die erlebt haben\", sagt er. \"In einer vertrauensvollen Atmosphäre schauen wir uns die konkreten Fälle und deren Bedingungen an\\xa0- und wie die Kameraden die Situation bewältigt haben.\" Alle, die hier bei dem Fünf-Tage-Kurs dabei sind, werden später zu den verschiedenen Armeebataillonen an die Front geschickt. Um ihr Wissen dort weiterzugeben - denn dort sind schon viele Freiwillige im Einsatz, die keine größeren militärische Vorkenntnisse haben. Umso wichtiger\\xa0sei da so ein Resilienz-Training, sagt einer der Kursteilnehmer, der sich als \"Eugene\" vorstellt. Auch er hat Beschuss und Bombardierungen erlebt, deren Wucht ihn auch innerlich erschüttert haben: \"Nur zu sagen: \\'Ja, ich habe Angst!\\'\\xa0kann schon helfen\", sagt eine Trainerin zur Gruppe. Es gehe darum, sich zu öffnen und Gefühle zuzulassen, um Druck von der Seele zu nehmen. Jevgeny sieht das genauso. Er ist Psychiater an der Klinik der staatlichen Eisenbahngesellschaft in Kiew.\\xa0Mit dem Gefühle zulassen sei es in der Armee so eine Sache, sagt er. Die Devise sei vielmehr häufig eine andere: \"Man soll stark sein, nicht weinen, keine Gefühle zeigen, kümmere dich nicht um deine Gefühle! Aber wahr ist vielmehr: Je mehr du dagegen ankämpfst, umso mehr musst du dafür mit deiner Gesundheit bezahlen.\" Jevgeny weiß, wovon er spricht. Seit Kriegsbeginn im Frühjahr sei die Zahl seiner Patienten deutlich gestiegen, seine\\xa0psychiatrische Klinik sei nun schon zu 70 Prozent ausgelastet, berichtet er. Unter den Patienten seien viele Soldaten mit der Diagnose Posttraumatische Belastungsstörung, kurz: PTBS. Der Psychiater ist sich sicher: Je länger dieser Krieg andauert, umso mehr Fälle werden es. Das ist auch der Grund, warum Natalia an dem Präventionskurs der Armee teilnimmt. Die Militärpsychologin\\xa0ahnt, dass da ein gewaltiges Problem auf das Land zukommt. Und dass sie gut daran tut, ihr Wissen aufzufrischen: \"Natürlich war niemand auf diesen Krieg vorbereitet. Was vorher im Donbass passiert ist, kannst du nicht mit dem vergleichen, was jetzt dort los ist\", sagt sie. \"Es wird viele Menschen geben, die PTBS haben. Ich möchte gern mehr darüber\\xa0erfahren, denn wir haben viel Arbeit vor uns.\"')\n"
     ]
    },
    {
     "name": "stderr",
     "output_type": "stream",
     "text": [
      "31it [01:41,  1.35s/it]"
     ]
    },
    {
     "name": "stdout",
     "output_type": "stream",
     "text": [
      "Pandas(Index=31, tstamp=1657678873, url='/inland/gesellschaft/affenpocken-berlin-101.html', fulltext=' Berlin gilt als Hotspot der Affenpocken-Infektionen. Doch ausgerechnet in der Hauptstadt beginnen die Impfungen mit Verspätung. Wie kann das sein?  Michael Rausch hatte stark gehofft, dass auch seine Praxis den Impfstoff gegen Affenpocken geliefert bekommt. Er ist Hausarzt mit Schwerpunkt Infektionskrankheiten. Seine Praxis liegt direkt am Nollendorfplatz in Berlin-Schöneberg, dem schwulen Kiez der Hauptstadt. Dass Berlin Affenpocken-Hotspot ist, hat Rausch in seiner Praxis natürlich bemerkt. Er hat sich in den vergangenen Wochen nicht nur um die vielen Infizierten gekümmert, sondern auch um die vielen Besorgten: \"Es gab eine große Nachfrage nach der Impfung. Viele Anrufe, viele E-Mails. Aber wir konnten die Menschen immer nur vertrösten.\" Denn wann es genau losgehen würde und ob seine Praxis überhaupt Impfstoff bekommt - das war bis zuletzt unklar. Erst vorgestern kam die Nachricht: Die Senatsverwaltung für Gesundheit wird den Impfstoff auch an den Nollendorfplatz zu Rausch liefern. Heute soll es endlich losgehen. Schon vor fast einer Woche hat das benachbarte Brandenburg mit dem Impfen begonnen. Dort gibt es gerade mal 28 bestätigte Fälle. Auch Hamburg (74 Fälle) und Bayern (92 Fälle) impfen schon. In Berlin mit seinen mehr als 900 Fällen wurde bisher nicht geimpft. \"Dass es gerade hier im Hotspot so spät losgeht, ist suboptimal. Wir hätten gerne früher gegengesteuert. Gerade jetzt in der Prideweek\", sagt Rausch. \"Es dauert ja immerhin auch noch zehn bis 14 Tage bis der Impfstoff überhaupt wirkt.\" Dabei liegen in Berlin schon seit einer Weile 8000 Impfstoffdosen bereit. An der Beschaffung haperte es also nicht. Es waren bürokratische Hindernisse, die den Start der Kampagne hinauszögerten. So berichtete der Berliner \"Tagesspiegel\" vergangene Woche, dass der Vertrag zwischen Kassenärztlicher Vereinigung und der Gesundheitsverwaltung nicht unterschrieben sei. Das ist mittlerweile geschehen, doch wertvolle Zeit ist verstrichen. Der schleppende Start der Berliner Impfkampagne erntete Kritik, unter anderem von der Deutschen Aidshilfe: \"Der Impfstoff ist bereits seit einiger Zeit verfügbar. Es geht hier immerhin darum, Menschen vor einer ernst zu nehmenden Infektion mit teils sehr schmerzhaften Folgen zu bewahren\", erklärte Pressesprecher Holger Wicht. Die Senatsverwaltung für Gesundheit verwies auf rechtliche und logistische Herausforderungen, die bewältigt werden mussten. Insgesamt 22 Praxen bieten die Impfung jetzt in Berlin an, dazu mehrere Krankenhäuser. Beim Impfstoff handelt es sich um den allgemeinen Pockenimpfstoff Imvanex. Nach derzeitigem Kenntnisstand schützt dieser auch vor einer Infektion mit Affenpocken. \"Wir müssen erst Erfahrung damit sammeln\", sagt Rausch vom Nollendorfplatz. \"Doch es ist wichtig, dass wir ihn haben. In meiner Praxis gibt es viele Patienten mit einer HIV-Infektion. Die fürchten, dass eine Infektion mit Affenpocken für sie schwere Folgen haben könnte. Diese Patienten können wir nun besser schützen.\" Dass der Impfstoff kühl gelagert werden muss, hat Rausch vergangene Woche selbst recherchiert. Noch bevor klar war, ob er den Impfstoff bekommt, hat er auf eigene Kosten eine Tiefkühltruhe für seine Praxis bestellt. Die ist jetzt schon da. Das Impfen kann beginnen. Hätte er gewartet, bis offizielle Stellen der Stadt ihn informieren, hätte er erst Montag die Kühltruhe bestellt und warten müssen, bis sie geliefert wird. Und die Berliner Impfkampagne hätte sich noch weiter verlangsamt.')\n"
     ]
    },
    {
     "name": "stderr",
     "output_type": "stream",
     "text": [
      "32it [01:42,  1.23s/it]"
     ]
    },
    {
     "name": "stdout",
     "output_type": "stream",
     "text": [
      "Pandas(Index=32, tstamp=1657683518, url='/ausland/afrika/mit-tiktok-gegen-vorurteile-101.html', fulltext=' Mit ihren sarkastischen Antworten auf Fragen voller Klischees räumt die nigerianische TikTokerin Charity Ekezie mit Vorurteilen über Afrika auf. Das brachte ihr mehr als eine Million Follower.  Charity Ekezie hat keine Lust mehr auf Kinder, Jugendliche und Erwachsene, die keine Ahnung von Afrika haben. Und auf Geschichten, die in Europa oder den USA über den Kontinent kursieren. \"Diese Kinder hören jeden Tag, dass wir hier in Afrika nichts haben. Das wird ihnen seit Generationen gesagt. Die Mutter erzählt: Iss dein Essen auf, denk\\' doch mal an die armen Kinder in Afrika\", sagt die TikTokerin. Diese Erzählungen führten dazu, dass viele respektlos gegenüber Menschen aus Afrika seien. \"Und deshalb müssen wir anfangen, uns selbst Gehör zu verschaffen und unsere eigenen Geschichten zu erzählen. Die Anderen können unsere Geschichten nicht für uns erzählen\", sagt Ekezie. Genau das macht die 31-Jährige auf TikTok. Auf der Social-Media-Plattform teilen vor allem Jugendliche und junge Erwachsene kurze Videos. Dort könne sie viel tiefgehender und direkter Geschichten aus ihrer Heimat Nigeria erzählen, als Nachrichtensendungen oder Zeitungen das täten, sagt sie. In ihren Videos greift sie Fragen aus den Kommentaren auf, die oft sehr vorurteilsbehaftet sind. So lautet etwa eine Frage: \"Habt ihr Autos in Afrika?\" Ekezie antwortet darauf in einem ihrer Videos: \"Nein, Autos haben wir nicht. Die ärmeren unter uns schwingen in Lianen von Baum zu Baum, die Reichen können sich Wildtiere als Fortbewegungsmittel leisten. Im Norden reiten sie auf Kamelen, im Süden auf Löwen und Geparden und im Osten auf Elefanten.\" Im Hintergrund des Videos zu sehen: ein Auto. Ein Wink mit dem Zaunpfahl - oft Bestandteil ihrer Clips. Genauso wie ihre witzigen Antworten. Der Humor sei ihr gewissermaßen in die Wiege gelegt worden, sagt sie:  \"Es gibt etwas, das machen wir Nigerianer einfach gerne: Wir sind immer sarkastisch. Wir lieben es.\" Sie erzählt, dass jeder aus ihrer Familie Humor habe. Ihre Tante bat sie beispielsweise, ob sie ihr was besorgen könne. Ekezie habe es geholt und sie dann gefragt: \"Soll ich dir das geben?\" Die Antwort ihrer Tante: \"Nein, leg\\' es auf meinen Kopf.\" Mit ihren Videos auf TikTok fing sie im Januar diesen Jahres an, heute folgen ihr dort 1,2 Millionen Menschen. Die Kommentarspalten - voller Smileys. Aber eben nicht nur. Die humorvolle Aufklärungsarbeit kann auch sehr anstrengend und belastend sein, sagt Ekezie. Der Grund: \"Ich habe das Gefühl, dass manche Kommentare und Fragen rassistisch motiviert sind.\\xa0 Weil sie glauben, es kann nichts Gutes aus Afrika kommen.\" Besonders beunruhige sie, dass viele Fragen von Kindern und Jugendlichen kämen. Das diene ihr aber auch als Antrieb. Ihr Ziel sei es nicht, allen zu sagen, dass Afrika perfekt sei. Sie wolle aufklären und Stereotype brechen: \"Mein Ziel ist es, sie wissen zu lassen, dass wir ganz normale, wesentliche Dinge hier haben und ihre Stereotype zu bekämpfen, Schritt für Schritt. Sie werden lernen: Afrika ist entwickelt, Afrika ist zivilisiert und wir können uns um uns selbst kümmern.\" Schritt für Schritt, Charity Ekezie hat noch einen langen Weg vor sich. Aber mit ihrer riesigen Reichweite hat sie sich schon heute Gehör verschafft, um Geschichten aus Afrika selbst erzählen zu können.')\n"
     ]
    },
    {
     "name": "stderr",
     "output_type": "stream",
     "text": [
      "33it [01:43,  1.10s/it]"
     ]
    },
    {
     "name": "stdout",
     "output_type": "stream",
     "text": [
      "Pandas(Index=33, tstamp=1657690089, url='/inland/gesellschaft/klimawandel-deutschland-unbewohnbar-101.html', fulltext=' Deutschlands oberster Bevölkerungsschützer rät dazu, nicht mehr überall im Land zu leben. Manche Flächen seien durch den Klimawandel und Unwetter zu bedroht. BBK-Chef Tiesler fordert zudem ein neues Krisenbewusstsein.  Krieg gegen die Ukraine, Corona-Sommerwelle, Inflation und allgemeine Zukunftssorgen: An Krisen mangelt es derzeit wahrlich nicht. Dazu kommt nun eine alarmierende Warnung des Bundesamts für Bevölkerungsschutz und Katastrophenhilfe (BBK). \"Als Bevölkerungsschützer sage ich, dass manche Flächen aufgrund des Klimawandels und der akuten Bedrohung durch Unwetterkatastrophen und Flutkatastrophen nicht wiederbesiedelt werden sollten. Auch an den Küsten stellt sich diese Frage\", sagte Ralph Tiesler, der Präsident des BBK den Zeitungen der Funke-Mediengruppe. Er schließt nicht aus, dass es zukünftig Klimaflüchtlinge innerhalb Deutschlands geben könnte. \"Ob Menschen tatsächlich aus einzelnen Regionen Deutschlands in andere Landesteile fliehen müssen, lässt sich heute nicht sagen.\" Es gebe keinen Ort in Deutschland, bei dem man nicht genau hingucken müsse. Er sprach von einer Häufung von Krisen. \"Fest steht, dass wir in immer unsicheren Zeiten leben.\" Auch deshalb plädierte der Behördenleiter für ein neues Krisenbewusstsein in der Bevölkerung. \"Der Krisenmodus muss jetzt zum allgemeinen Bewusstsein dazugehören, wir müssen lernen, dass die Krise zum Alltag gehört\", sagte Tiesler. In Deutschland liegt der Katastrophenschutz in der Verantwortung der Länder. Um Vorkehrungen für den Bevölkerungsschutz im Kriegsfall kümmert sich der Bund. Er kann die Länder und Kommunen im Katastrophenfall auf Anfrage unterstützen. Auch die Bundesregierung befasst sich mit dem Thema. Heute berät das Kabinett über eine \"Resilienzstrategie\". Ziel der darin niedergelegten Vorgaben ist es, \"Menschen und ihre Existenzgrundlagen zu schützen sowie die Widerstands- und Anpassungsfähigkeit des Gemeinwesens gegenüber Katastrophen zu stärken\", zitiert die Nachrichtenagentur dpa aus der Vorlage. Bestehende Strukturen und Systeme sollten durch neue oder verbesserte Maßnahmen im Katastrophenrisikomanagement ergänzt oder miteinander verknüpft werden. Dabei sollten auch nicht-staatliche Akteure eingebunden werden, wie etwa die vor allem auf ehrenamtlichem Engagement basierenden Hilfsorganisationen. Die Strategie hat nicht nur Deutschland im Blick, sondern nimmt auch entwicklungspolitische Beiträge zur Resilienz in anderen Teilen der Welt in den Blick. Ganz akut steht Deutschland vor einer neuen Hitzewelle. Der Deutsche Wetterdienst (DWD) prognostiziert für heute und morgen im Südwesten des Landes Höchstwerte von bis zu 34 Grad Celsius. Auch in anderen Teilen des Landes sorgt das Hoch \"Iosif\" für Schweißausbrüche. Es sind Höchstwerte zwischen 25 und 31 Grad vorhergesagt. Lediglich an den Küsten wird es den Prognosen zufolge am Mittwoch mit 19 bis 24 Grad nicht ganz so warm. Das Wochenende bringt im Norden Abkühlung, bevor die Hitze zum Start in die neue Woche von Frankreich her einen neuen Anlauf wagt, so der DWD.')\n"
     ]
    },
    {
     "name": "stderr",
     "output_type": "stream",
     "text": [
      "34it [01:44,  1.01it/s]"
     ]
    },
    {
     "name": "stdout",
     "output_type": "stream",
     "text": [
      "Pandas(Index=34, tstamp=1657692278, url='/wirtschaft/verbraucher/mietrecht-heizung-drosseln-101.html', fulltext=' Vonovia drosselt die nächtliche Heiztemperatur für Mietwohnungen. Angesichts der Gaskrise könnten bald auch andere Vermieter die Energiezufuhr begrenzen. Aber ist das erlaubt? Und: Wie sollten Mieter darauf reagieren?  Wenn warmes Wasser rationiert wird oder die Heizung nicht mehr wie gewohnt warm wird, können sich Mieter wehren. Gewöhnlich wird in solchen Fällen zunächst die Miete gemindert. Aber auch gerichtliche Schritte sind möglich. Schon vor der aktuellen Energiekrise gab es Fälle, in denen Heizungen in Mehrfamilienhäusern nicht ausreichend mit Wärme versorgt wurden oder Mieter mit Hausverwaltungen über angemessene Duschtemperaturen stritten. Vermieter- und Mieterverbände haben deshalb Erfahrung auf dem Gebiet. Beide Seiten können sich auf eine langjährige Rechtsprechung berufen, und es besteht weitgehend Konsens: etwa, dass nicht einfach das warme Wasser zu bestimmten Zeiten abgestellt werden darf. Falls es doch passiert, sollten Mieter ihren Vermieter zunächst über den Mangel informieren, so Monika Schmid-Balzert, Rechtsanwältin beim bayerischen Landesverband des Deutschen Mieterbundes. Für eine mangelhafte Wohnung kann die Miete umgehend gemindert werden, und zwar so lange, wie der Mangel besteht. Funktioniert zum Beispiel nachts die Warmwasserversorgung nicht, können Mieter nach Angaben des Deutschen Mieterbunds die Miete um rund acht Prozent kürzen. Das geht auch ohne Ankündigung oder Fristsetzung zur Behebung des Mangels. Handelt ein Vermieter trotzdem nicht, besteht danach die Möglichkeit, ihn zu verklagen und so gerichtlich zu zwingen, die Heizung wieder aufzudrehen. Ulrike Kirchhoff, Vorsitzende des Hausbesitzerverbandes Haus und Grund Bayern, sieht ebenfalls die Vermieter in der Pflicht. Die regelmäßige Versorgung mit Warmwasser müssten diese ebenso sicherstellen wie die Versorgung der Wohnungen mit ausreichend Wärme, und zwar \"innerhalb der vom Gesetzgeber beziehungsweise von den Gerichten gesetzten Grenzen\". Was die Temperaturen betrifft, die nachts in Wohnungen erreicht werden müssen, haben die Gerichte in der Vergangenheit nicht immer einhellig geurteilt. Die Entscheidung des Immobilienkonzerns Vonovia , der die Heizleistung bei seinen Mietern zwischen 23 und 6 Uhr auf 17 Grad Celsius senken will, ist deshalb umstritten. Anwältin Schmid-Balzert vom Deutschen Mieterbund sagt, dass nach aktueller Rechtslage die Zimmertemperaturen nur bis zu 18 Grad herabgesenkt werden dürfen. Alles darunter sei \"derzeit nachts zu wenig\". Haus und Grund-Vorsitzende Kirchhoff kommt dagegen zu dem Schluss: \"17 Grad dürfte auf jeden Fall vertretbar sein.\" Einer der maßgeblichen Kommentare zum Mietrecht gehe von 16 Grad aus, andere von 17 oder 18 Grad. Haus und Grund Deutschland weist darauf hin, dass es noch keine Entscheidung des Bundesgerichtshofs in der Sache gibt. Ob die von Vonovia geplante Nachtabsenkung in Wohnungen auf 17 Grad korrekt ist, wisse man noch nicht. Das müsse im Zweifel die Rechtsprechung entscheiden. Grundsätzlich sind Nachtabsenkungen aber erlaubt. Vermieter, die im Alleingang nächtliche Heiztemperaturen zu stark absenken, müssen womöglich Mietminderungen hinnehmen oder sich sogar vor Gericht verantworten. Anders sieht es aus, wenn sich Vermieter und Mieter einigen und gemeinsam über Energieeinsparungen entscheiden. In dem Fall müssen aber alle Mieter ausdrücklich einverstanden sein. Es darf niemand überstimmt werden. Da an Zentralheizungen häufig viele Mietparteien hängen, wird es vermutlich nicht so leicht sein, solche Vereinbarungen zu treffen. Gelingt es, dürfen Vermieter aber die Warmwasserversorgung begrenzen oder die Raumtemperatur senken - auch unter die gerichtlich festgelegten Grenzwerte. Der Mieterbund Deutschland setzt ebenso wie Haus und Grund beim Energiesparen auf die Eigenverantwortung der Mieter. Zu den Tipps, die auch Verbraucherzentralen empfehlen, gehören: Thermostate richtig einstellen, Stoßlüften, Heizkörper nicht mit Möbeln verstellen, sparsamer Wasserverbrauch beim Duschen und vieles mehr. Vermieter sollten sich in die Dusch- und Heizgewohnheiten ihrer Mieter besser nicht einmischen, sagt Kirchhoff. Sie rät Vermietern abzuwarten. Falls der Gesetzgeber aufgrund der aktuellen Energiekrise tatsächlich Vorgaben für den Verbrauch von Wärme oder Warmwasser schaffe, müssten Vermieter diese natürlich umsetzen. Bis dahin seien die bestehenden, gesetzlichen Vorgaben einzuhalten. Innerhalb der gesetzlichen Vorgaben nutzen Vermieter vermehrt ihre Spielräume. So empfiehlt etwa der Verband bayerischer Wohnungsunternehmen, dem rund 500 kommunale, kirchliche und genossenschaftliche Wohnungsunternehmen angehören, seinen Mitgliedern, \"die Gebäude möglichst dicht an der gesetzlich geschuldeten Mindesttemperatur auszurichten\". Diese liege in Wohnräumen, Bädern und Toiletten zwischen 6 und 23 Uhr bei mindestens 20 Grad Celsius. Ein stärkeres Aufheizen solle also möglichst verhindert werden. Auch der Bundesverband deutscher Wohnungs- und Immobilienunternehmen hält diese Maßnahme für geboten. Mieter werden im kommenden Herbst und Winter wahrscheinlich wenig dagegen unternehmen können, auch wenn es früher in ihren Wohnungen vielfach spürbar wärmer war.')\n"
     ]
    },
    {
     "name": "stderr",
     "output_type": "stream",
     "text": [
      "35it [01:44,  1.08it/s]"
     ]
    },
    {
     "name": "stdout",
     "output_type": "stream",
     "text": [
      "Pandas(Index=35, tstamp=1657692198, url='/wirtschaft/verbraucher/eurobike-fahrradmesse-frankfurt-101.html', fulltext=' In Zeiten von Energiekrise und Mobilitätswende erlebt das Fahrrad einen Boom. Heute startet die weltgrößte Fahrradmesse \"Eurobike\". Einige der dortigen Trends könnten bald auf der Straße zu sehen sein.  Bremslichter am Bike, ein im Rahmen unsichtbar eingelassener Fahrradalarm, der schrillt, wenn jemand das Rad unerlaubterweise bewegt, und Kinder-Laufräder, die sich per Fernbedienung bremsen lassen: Vom 13. bis zum 17. Juli werden mehr als 1500 Austellerinnen und Austeller ihre neuesten Fahrrad-Ideen auf dem Frankfurter Messegelände präsentieren. Das erste Mal findet die größte Fahrradmesse der Welt in der Main-Metropole statt. Nach 29 Ausgaben im beschaulichen Friedrichshafen ist sie nun ins Rhein-Main-Gebiet umgezogen. Die \"Eurobike\" hat eine sportive Historie. Mit Mountainbikes und Rennrädern ist sie bekannt geworden. In den vergangenen zehn Jahren wurde das Fahrrad dann zunehmend elektrisch und ist seitdem nicht mehr nur reines Sportgerät, sondern auch alternatives Verkehrsmittel. Dieser Entwicklung trage man nun Rechnung, indem man den Standort wechsle, sagt der Geschäftsführer des Veranstalters Fairnamic, Stefan Reisinger. \"Der Bodensee ist eine super Freizeitregion. Aber es zeichnet sich ab, dass das Fahrrad in den nächsten zehn Jahren seinen Platz als Verkehrslösung erobern wird, und damit mussten wir in die Großstadt, ins urbane Umfeld wechseln\", erklärt er den Weg der Messe nach Frankfurt. Der Fahrradmarkt ist in den vergangenen zwei Jahren geradezu explodiert. Besonders bei E-Bikes ist die Nachfrage nach wie vor immens. \"Das vergangene Jahr war das beste Jahr, was die Branche je hatte\", sagt Burkhard Stork, Geschäftsführer vom Zweirad-Industrie-Verband (ZIV). Insgesamt wurden 4,7 Millionen Räder verkauft. Trotz Ukraine-Kriegs, Inflation und Corona-Pandemie kann die Branche auch in den ersten sechs Monaten dieses Jahres das Vorjahresniveau annähernd halten. Allein im ersten Halbjahr sind 800.000 E-Bikes produziert worden, ein Prozent weniger als im Vorjahres-Halbjahr. Gleichzeitig kämpft die Branche weiter mit Lieferkettenschwierigkeiten. Das betrifft laut ZIV vor allem Batterien, Displays und Chips. So will man langfristig mehr in Europa montieren und fertigen lassen, um unabhängiger vom asiatischen Markt zu werden. Gleichzeitig würden die Wachstumsraten nicht ins Unendliche weiterwachsen, davon ist Reisinger überzeugt. Er geht davon aus, dass sich Angebot und Nachfrage auf hohem Niveau einpendeln werden. Und so feilt die Branche derzeit an Entwicklungen, die es auch wirklich auf die Straße schaffen können. Leichte, stylishe E-Bikes, denen man es nicht mehr auf den ersten Blick ansieht, dass Motor und Batterie verbaut sind, werden auf der Messe präsentiert und in wenigen Monaten wohl in Deutschlands Städten zu sehen sein. Technik und System-Integration sind inzwischen so weit, dass das E-Bike optisch vom normalen Fahrrad kaum mehr zu unterscheiden ist. Lastenfahrräder werden laut Experten noch weiter an Bedeutung gewinnen. Auch sie sind ein großes Thema auf der Messe. Besonders für Lieferdienste und Paketzusteller könnte das Lastenrad in den nächsten Jahren attraktiv werden, um damit die \"letzte Meile\" zu überwinden und Lieferwagen überflüssig zu machen. Auch für Familien sind Lastenfahrräder in der Stadt immer öfter der Autoersatz. Vom Wochenende an ist die \"Eurobike\" für jeden Fahrrad-Fan mit Teststrecken, Leihrädern und Fahrradrennen offen. Bundesverkehrsminister Wissing plant für heute seinen Messebesuch. Die Austellerinnen und Aussteller erhoffen sich davon mehr Rückenwind für die Branche und die dafür benötigte Infrastruktur. Im Schnitt seien siebzig Prozent aller unserer Wege im Alltag kürzer als zehn Kilometer, sagt ZIV-Geschäftsführer Stork. Menschen würden das Fahrrad nutzen, wenn es sich gut und sicher anfühlt. Dafür brauche es sichere Radwege. Er wünscht sich, dass gerade auf kommunaler Ebene zukünftig mehr Städte den Mut haben diese zu bauen. Damit mehr Menschen das Fahrrad nutzen - für eine effektive Verkehrswende. ')\n"
     ]
    },
    {
     "name": "stderr",
     "output_type": "stream",
     "text": [
      "36it [01:46,  1.00s/it]"
     ]
    },
    {
     "name": "stdout",
     "output_type": "stream",
     "text": [
      "Pandas(Index=36, tstamp=1657693324, url='/grings-frauenfussball-101.html', fulltext=' Große Stadien, bessere Bezahlung und mehr Akzeptanz für den Frauenfußball fordert Ex-Nationalspielerin Inka Grings im tagesschau.de -Interview. Sie rät: Frauen sollten mutiger werden.  tagesschau.de: Frau Grings, gibt es im Fußball in Deutschland Chancengleichheit? Inka Grings: Das ist schwierig zu beantworten. Die Frage ist, wie man das definiert. Wenn man davon ausgeht, ob es gute Trainingsbedingungen gibt, dann ist das bei Bundesligisten wie Bayern München, VfL Wolfsburg oder Eintracht Frankfurt meiner Meinung nach gegeben. Hier würde ich sagen: Die haben richtig gute Voraussetzungen für die Frauen, um einfach auch professionell zu arbeiten. Definiert man es darüber, inwiefern die Frauen, die Bundesliga spielen, gut bezahlt werden, ist es eine andere Sache.  tagesschau.de: Die Nationalspielerin Lina Magull fordert, dass es ein Mindestgehalt geben sollte für Frauen, die in der 1. und 2. Bundesliga spielen. Sie fordert 2000 bis 3000 Euro pro Monat. Das würde den Frauenfußball insgesamt voranbringen. Was halten Sie von diesem Vorschlag? Grings: Ich glaube, um den Frauenfußball grundsätzlich attraktiver zu machen, muss gegeben sein, dass die Frauen sich nur auf Fußball konzentrieren können. Aber wie soll das gehen, wenn eine Spielerin acht Stunden vorher arbeiten geht und anschließend nur einmal am Tag die Möglichkeit hat zu trainieren? Geschweige denn, sich vorzubereiten, zu regenerieren. Ich finde es bedenklich, dass es in Deutschland immer noch Erstligistinnen gibt, die im Vergleich zu anderen Mannschaften wirklich einen Hungerlohn bekommen und nicht davon leben können. Das zu thematisieren, ist extrem wichtig für den Frauenfußball, weil es heißt, dass es Aufmerksamkeit gibt. Jetzt geht es darum, vernünftige Lösungen zu finden. tagesschau.de: Andere Länder - wie die USA, Spanien und England - haben bereits \"Equal Pay\" eingeführt für Fußball-Nationalspielerinnen. Die Spielerinnen bekommen von ihren Fußballverbänden Prämien, die genauso hoch sind wie die der Männer. In Deutschland wurde die Siegprämie für einen EM-Triumph der Frauen zuletzt angehoben, auf 60.000 Euro. Bei den Männern hätte der DFB 2021 im Fall eines EM-Titelgewinns jedem Spieler 400.000 Euro überwiesen. Sollte Deutschland nachziehen in Sachen \"Equal Pay\"? Grings: Unbedingt. Am Anfang war es immer recht einfach, aus deutscher Perspektive zu sagen: Die USA fangen mit der \"Equal Pay\"-Diskussion an, ein Land, wo der Stellenwert des Frauenfußballs eine ganz andere Dimension hat. Aber jetzt ziehen immer mehr europäische Länder nach, Spanien zum Beispiel, wo der Frauenfußball generell wächst und einen ganz anderen Stellenwert bekommt. Das finde ich großartig, weil es irgendwann für die Herrschaften in Deutschland kein Argument mehr geben wird, hinter dem sie sich verstecken können. Den meisten Spielerinnen geht es übrigens nicht darum, 500.000 Euro im Monat zu verdienen. Sondern es geht um Akzeptanz, es geht darum, dass die Leistung, die man erbringt, gesehen wird. Statt das immer noch zu belächeln oder das nach hinten zu schieben und immer nur die Jungs nach vorne zu pushen. tagesschau.de: Die Fußball-EM 2022 in England begann mit einem Rekord: Etwa 70.000 Fans haben das Spiel im Stadion Old Trafford in Manchester verfolgt. Beim Spiel der Frauen des FC Barcelona gegen Real Madrid am 30. März haben 85.000 Menschen im Stadion zugeschaut. In Deutschland dagegen spielen die Bundesliga-Frauen oft vor leeren Rängen. Warum ist das so? Grings: In Deutschland hört man oft das Argument: \"Frauenfußball ist nicht so attraktiv\". Dann frage ich: \"Was ist denn attraktiv?\" Letztendlich ist es natürlich erstmal attraktiv ins Stadion zu gehen. Dafür müssen die deutschen Frauenmannschaften aber erstmal in den großen Stadien spielen, wir sollten sie also dort reinbringen und die Spiele bewerben. Dann kann man auch marketingtechnisch viel besser argumentieren. Für einen Sponsoren ist es ja auch interessanter, mit seinem Banner im Stadion zu hängen, als irgendwo auf einer Feldwiese und im Hintergrund ist ein Acker. Bei allem Respekt, die männlichen Bundesligisten spielen auch nicht jedes Wochenende Zauberfußball. Den Fans geht es um die Gemeinschaft im Stadion, man will einfach dabei sein, und deshalb lieben Leute es, ins Stadion zu gehen. Und das ist sicherlich noch ein Punkt, den man im Frauenfußball gerade in Deutschland intensivieren müsste. tagesschau.de: Viele erhoffen sich einen Aufwind für den Frauenfußball durch die EM, vor allem, wenn die deutsche Nationalmannschaft erfolgreich sein sollte. Wie denken Sie darüber? Grings: Ich denke: Wie viel mehr sollen die Spielerinnen denn noch leisten? Deutschland spielt international immer mit, auch wenn sie in den letzten zwei, drei Jahren keine großen Erfolge hatten. Aber sie spielen immer in der Champions League, sie spielen immer zwischen Viertel- und Halbfinale. Was ich schade finde, ist, dass bei einem Spiel wie England-Österreich, was ein attraktives Spiel gewesen ist, wenn man ein bisschen Ahnung von Fußball hat, zwei Tage darüber diskutiert wird, warum nicht 75.000, sondern \"nur\" 68.000 Zuschauer im Stadion waren. Mein Eindruck ist, dass viele immer noch nur nach den negativen Dingen suchen. Da haben wir Frauen auch irgendwann keine Lust mehr drauf. Das ist auch anstrengend, das zu argumentieren. Wenn man sich Fußball von Frauen heutzutage anschaut, dann macht das schon Spaß. tagesschau.de: Sie haben als erste Frau eine Männermannschaft in einer der vier höchsten Ligen in Deutschland trainiert. Es gibt inzwischen Frauen als Schiedsrichterinnen bei Fußballturnieren der Männer. Der Deutsche Fußball-Bund hat erstmals eine Frau als Vize-Präsidentin. Braucht es mehr Frauen, die sichtbar sind im Fußball, in verschiedensten Funktionen? Grings: Es ist einfach wichtig, dass wir Frauen generell in der Gesellschaft ein bisschen mutiger werden. Wir brauchen uns nicht zu verstecken. Und da ist sicherlich der Sport eine tolle Brücke, wo wir Frauen viel bewirken können. Das ist uns auch bewusst, das wollen wir auch. Ich glaube, dass junge Mädchen auch Vorbilder brauchen. Aber es ist ein verdammt langer Weg und macht manchmal auch keinen Spaß. Wobei ich immer gesagt habe: \"Jetzt erst recht.\" Denn ich sehe nicht mal ansatzweise, warum er, der das gleiche macht wie ich, das Fünffache verdienen soll. Nein. Diese Zeiten sind vorbei. Das Interview führte Susanna Zdrzalek, WDR')\n"
     ]
    },
    {
     "name": "stderr",
     "output_type": "stream",
     "text": [
      "37it [01:48,  1.56s/it]"
     ]
    },
    {
     "name": "stdout",
     "output_type": "stream",
     "text": [
      "Pandas(Index=37, tstamp=1657753118, url='/ausland/europa/moskau-stimmung-101.html', fulltext=' Dass in der Ukraine Krieg herrscht, ist den Menschen in Moskau natürlich bewusst. Doch ihre Haltung dazu schwankt - zwischen Angst, Ablehnung und der Überzeugung, dass Russland es nun durchziehen müsse.  Der Park nahe der Metro Station Kitai Gorod eignet sich perfekt, um kurz Pause zu machen vom Leben in der lauten Großstadt. Von hier aus geht es in die eine Richtung zu einer beliebten Ausgehmeile mit vielen, gut besuchten Bars und Cafés und in die andere Richtung zum Roten Platz. Das schöne Wetter und die sommerliche Stimmung verstärken den Eindruck, dass die in der Ukraine tobenden Kämpfe und die sich daraus ergebenden Konsequenzen im Alltag der Menschen in Russland kaum eine Rolle zu spielen scheinen. Tatsächlich habe sich ihr Leben in den vergangenen Monaten so gut wie gar nicht verändert, sagt die 45-jährige Moskauerin Marina. Natürlich sei ihr aufgefallen, dass die Preise steigen, dass sie nicht mehr nach Europa reisen könnte. \"Natürlich bin ich gegen Krieg. Ich will nicht, dass die Häuser von Leuten zerstört und Menschen dort getötet werden. Aber den meisten Menschen ist es relativ egal, solange es sie nicht persönlich betrifft\", sagt sie. Die Leute machten sich zwar Sorgen - \"aber wir sind nicht so besorgt, dass wir nicht ins Café gehen könnten.\" Auch vor weiteren Sanktionen habe sie keine Angst, sagt Marina. Angst mache ihr nur der Gedanke an eine weitere, militärische Eskalation - mit fatalen Folgen für alle. \"Aber was kann ich schon dagegen tun? Sagen: Ey, pack den roten Knopf weg?\" In einer jüngeren Umfrage des unabhängigen Meinungsforschungsinstituts Lewada-Zentrum gab die Hälfte der Befragten an, dass sie Angst vor einem möglichen Einsatz von Atomwaffen durch Russland habe. Der Kreml beteuert, diesen Schritt nicht gehen zu wollen. Im russischen Staatfernsehen aber wird besonders in den politischen Talkshows diese \"Option\" immer wieder heiß diskutiert. Vor einem Denkmal machen Wera und ihre beiden Söhne, beide etwa Anfang 20, Fotos. Sie kommen aus Wolgograd und sind zu Besuch in der Hauptstadt. Moskau gefalle ihnen gut. \"Sehr grün\", sagt Wera. Dann wird ihr Gesichtsausdruck ernst. \"Ich habe Mitleid mit denen, die es gerade schwer haben. Wir reden viel darüber, ich habe Verwandte in der Ukraine. Wir sind im Kontakt.\" Einige von ihnen seien nach Polen gezogen - die anderen seien in Charkiw. \"Jetzt gerade\", sagt Wera. Weras Sohn Tolja, der die ganze Zeit nur stumm zugehört hat, beugt sich nach vorne. \"Wir sind wirklich sehr gegen das, was passiert. Und das ist meiner Meinung nach die größte Tragödie, die sich in letzter Zeit hätte ereignen können.\" Auch Alexander, ein schlanker Mann um die 40, sagt, dass niemand einen Krieg gebraucht hätte - weder die Ukraine noch Russland. Jetzt aber werde Russland keinen Halt mehr machen. \"Wir haben Ziele und Aufgaben, gestellt von unserer Regierung. Wir dürfen nicht nachlassen. Wenn wir etwas beschlossen haben, bringen wir es zu Ende. Die Ukraine kann ohne die Unterstützung des Westen nicht durchhalten. Es wird also sowieso Verhandlungen und auch Vereinbarungen geben - bloß nicht zugunsten der Ukraine.\" Damit gehört Alexander zu den rund 75 Prozent der Russinnen und Russen, die bei Umfragen angeben, vollständig oder zumindest weitgehend hinter der sogenannten \"militärischen Spezialoperation\" zu stehen. In den vergangenen Monaten hat diese Zustimmung laut Meinungsforschungsinstituten nur minimal nachgelassen. Alexander jedenfalls ist überzeugt, dass die westlichen Sanktionen nichts an der Haltung seiner Landsleute ändern werden: \"Es gehen keine Flüge, es gibt keine Ersatzteile, man hat hier und da was zugemacht - all das halten wir aus. Je mehr Steine man uns in den Weg legt, desto stärker werden wir. Man kann uns mit diesem Druck, diesen Sanktionen keine Angst machen. Und es hält uns bestimmt nicht auf.\" Gleichzeitig hoffe Alexander, dass Russen und Ukrainer bald wieder friedlich zusammenleben könnten. Die Verantwortung dafür sieht er bei der Regierung - in Kiew.')\n"
     ]
    },
    {
     "name": "stderr",
     "output_type": "stream",
     "text": [
      "38it [01:49,  1.39s/it]"
     ]
    },
    {
     "name": "stdout",
     "output_type": "stream",
     "text": [
      "Pandas(Index=38, tstamp=1657813392, url='/ausland/afrika/mali-un-mission-bundeswehr-101.html', fulltext=' Mali verbietet vorerst sämtliche Wechsel von Kräften der UN-Mission MINUSMA. Betroffen ist davon auch die Bundeswehr. Zuvor hatte es einen Eklat um festgenommene Soldaten einer UN-Wachmannschaft gegeben.  Die Beziehungen zwischen dem westafrikanischen Mali und den Ländern der UN-Mission haben einen weiteren Rückschlag erlitten. Das Land setzt ab sofort die Personalwechsel von Blauhelmsoldaten der UN-Friedensmission MINUSMA aus, an der auch die Bundeswehr beteiligt ist. Auch geplante und bereits angekündigte Rotationen der UN-Kräfte soll es vorerst nicht mehr geben, teilte das malische Außenministerium in Bamako mit. Dies gelte, bis ein Treffen zwischen der malischen Regierung und der UN-Mission stattfinde, für das es aber noch keinen Termin gibt. Der MINUSMA-Einsatz mit 13.300 Soldaten und 1920 Polizisten war erst Ende Juni um ein Jahr verlängert worden. Rund 1100 Soldaten davon stellt Deutschland, ihr Einsatz gilt derzeit als der gefährlichste der Bundeswehr. Normalerweise rotiert das Personal permanent - deutsche Soldaten sind laut Bundeswehr in der Regel etwa vier Monate in Mali und kehrten dann nach Deutschland zurück. Erst in dieser Woche wurden Bundeswehr-Angehörige aus Mali ausgeflogen. Zu der Entscheidung Malis äußerte sich ein Sprecher der Bundeswehr zunächst nicht. Am Mittwoch hatte die malische Regierung in Bamako 49 Soldaten aus dem Nachbarland Elfenbeinküste festgenommen. Sie waren laut Militärkreisen als Austauschkontingent für eine andere Einheit nach Mali geflogen und direkt nach der Landung festgenommen worden. Die malische Regierung wirft ihnen vor, illegal ins Land gereist zu sein und einen Putsch geplant zu haben. MINUSMA-Sprecher Olivier Salgado zufolge sind die Soldaten nicht Teil der UN-Truppen, aber als logistische Unterstützung nach Mali verlegt worden, was \"gängige Praxis\" sei. Die Regierung der Elfenbeinküste erklärte, die Soldaten seien regulär angekündigt gewesen und sollten eine Wachmannschaft ablösen, die einen Flughafen in Mali beschützt. Verteidigungsministerin Christine Lambrecht hatte die Festnahme kritisiert und ihre grundsätzlichen Zweifel an einer Zusammenarbeit mit der malischen Regierung bekräftigt. Sie forderte, die Soldaten freizulassen. Mali wird seit Jahren von dschihadistischer Gewalt heimgesucht. 2012 hatte im Land ein islamistischer Aufstand begonnen, der sich auch auf die Nachbarstaaten Burkina Faso und Niger ausweitete. Mehrere tausend Soldaten und Zivilisten starben bereits, zwei Millionen Menschen wurden vertrieben. Der schlecht ausgerüsteten Armee Malis werden immer wieder Menschenrechtsverstöße vorgeworfen. Nach Militärputschen in Mali im August 2020 und im Mai 2021 haben sich die Beziehungen des westafrikanischen Landes zu westlichen Ländern wie Frankreich und Deutschland deutlich verschlechtert.')\n"
     ]
    },
    {
     "name": "stderr",
     "output_type": "stream",
     "text": [
      "39it [01:50,  1.27s/it]"
     ]
    },
    {
     "name": "stdout",
     "output_type": "stream",
     "text": [
      "Pandas(Index=39, tstamp=1657697456, url='/inland/innenpolitik/krankschreibung-lauterbach-corona-101.html', fulltext=' Nach Ärztevertretern setzt sich auch Bundesgesundheitsminister Lauterbach für eine Wiedereinführung der telefonischen Krankschreibung ein. Die Sieben-Tage-Inzidenz sank leicht und liegt knapp unter der 700er-Schwelle.  Bundesgesundheitsminister Karl Lauterbach befürwortet die Möglichkeit telefonischer Krankschreibungen bei einigen Erkrankungen. Die Rückkehr zu dem Verfahren solle \"bald beschlossen werden\", twitterte der SPD-Politiker. \"Bei den hohen COVID Fallzahlen brauchen wir nicht die Infektionen in die Praxis zu tragen.\" Die telefonische Krankschreibung war wegen der Corona-Pandemie bis zum 31. Mai möglich. Seit dem 1. Juni müssen Patienten für eine Krankschreibung wieder in die Praxis oder in eine Videosprechstunde gehen. Entschieden wird über solche Regelungen im Gemeinsamen Bundesausschuss (G-BA) des Gesundheitswesens. Das Gremium ist mit Vertretern der Ärzteschaft, der Krankenkassen und der Krankenhäuser besetzt und entscheidet über die Leistungen der gesetzlichen Kassen und Regeln wie bei der Krankschreibung. Nach Angaben einer Sprecherin des Gremiums ist eine Rückkehr zur Möglichkeit der telefonischen Krankschreibung möglich. In dem Gremium sei im Frühjahr intensiv diskutiert worden, \"ob es richtig ist, die bisherigen Sonderregelungen zur telefonischen Krankschreibung Ende Mai 2022 vorerst auslaufen zu lassen\", sagte sie der Nachrichtenagentur dpa. Alle Träger des G-BA und damit auch die KBV als Vertretung der Ärzteschaft seien sich damals einig gewesen, dass solche Sonderregeln wegen des damals ruhigeren Pandemie-Geschehens zurückgenommen werden konnten. Zuvor hatten Ärztevertreter gefordert, dass eine telefonische Krankschreibung für bestimmte Patienten dauerhaft möglich sein soll. \"Wir wollen ermöglichen, dass die niedergelassenen Ärztinnen und Ärzte unabhängig von der Corona-Pandemie bekannte Patientinnen und Patienten telefonisch krankschreiben können\", sagte der stellvertretende Vorstandsvorsitzende der Kassenärztlichen Bundesvereinigung, Stephan Hofmeister. Der Vorsitzende des Deutschen Hausärzteverbands, Ulrich Weigeldt, nannte es angesichts zahlreicher Fälle von Erkältungs- und Corona-Erkrankungen \"ein echtes Ärgernis\", dass die Möglichkeit zur telefonischen Feststellung der Arbeitsunfähigkeit nicht in die Regelversorgung übernommen worden sei. Die Corona-Lage bleibt in der derzeitigen \"Sommerwelle\" angespannt. Das Robert Koch-Institut (RKI) gibt die Sieben-Tage-Inzidenz mit 691,8 an. Am Vortag hatte der Wert der Neuinfektionen pro 100.000 Einwohner und Woche bei 702,4 gelegen. Die Gesundheitsämter meldeten dem RKI 127.611 Corona-Neuinfektionen und 104 Todesfälle innerhalb eines Tages. Allerdings liefern die Zahlen nach Expertenmeinung kein vollständiges Bild der Infektionslage. Sie gehen von einer hohen Zahl nicht vom RKI erfasster Fälle aus - vor allem weil bei weitem nicht alle Infizierten einen PCR-Test machen lassen. Nur positive PCR-Tests zählen in der Statistik. Zudem können Nachmeldungen oder Übermittlungsprobleme zur Verzerrung einzelner Tageswerte führen. Ein Großteil der Patientinnen und Patienten mit Long-Covid-Symptomen war vor der Virusinfektion bereits wegen Vorerkrankungen in ärztlicher Behandlung. Dies berichtete die \"Bild\"unter Berufung auf eine Datenauswertung des Zentralinstituts der Kassenärztlichen Versorgung (ZI). Demnach litten 96 Prozent der Patienten mit Long Covid zuvor beispielsweise an Atemwegserkrankungen oder Übergewicht. \"Diese Daten zeigen: Long-Covid-Patienten weisen häufiger als die Allgemeinbevölkerung Vorerkrankungen wie Atemwegserkrankungen, Bluthochdruck, Übergewicht und psychische Erkrankungen auf.\"\\xa0Das ZI hat dem Bericht zufolge im kassenärztlichen Bereich 2021 rund 880.000 Fälle von Long-Covid registriert. Zwei Drittel der Patienten waren nach spätestens einem Quartal beschwerdefrei - nur ein Prozent der Fälle Verlauf komplex und langwierig.')\n"
     ]
    },
    {
     "name": "stderr",
     "output_type": "stream",
     "text": [
      "40it [01:52,  1.35s/it]"
     ]
    },
    {
     "name": "stdout",
     "output_type": "stream",
     "text": [
      "Pandas(Index=40, tstamp=1657696047, url='/ausland/amerika/haiti-bandenkriege-101.html', fulltext=' In Haiti sind bei Kämpfen zwischen rivalisierenden Banden mindestens 50 Menschen getötet und 110 verletzt worden. Hilfsorganisationen warnen vor einer katastrophalen Hungersnot durch die Auswirkungen.  Haitianer verlassen im Morgengrauen ihre Häuser in Port-au-Prince. Ein Twitter-Video zeigt, wie sehr der Alltag und das Leben der Menschen inzwischen von der Bandengewalt und ständiger Todesangst bestimmt ist. \"Haiti ist nicht stabil, jeden Tag gibt es mehr Gewalt und es gibt keine Zukunft für uns junge Leute in diesem Land\", sagt der 33-jährige Nick Vandome. Ganze Stadtteile der Hauptstadt Port-au-Prince sind in der Gewalt krimineller Gruppierungen, die Schutzgelder kassieren, die Bevölkerung ausrauben, vergewaltigen, entführen oder ermorden. Die Lage sei die vergangenen 90 Tage weiter eskaliert, sagt Jean-Martin Bauer, Direktor für Haiti für das Welternährungsprogramm der Vereinten Nationen: \"Seit Freitag finden im Zentrum der Stadt, im Hafenviertel Cité Soleil, Kämpfe statt, seit gestern auch im benachbarten La Saline nahe dem Hafen und nahe den Armenvierteln, in denen Hunderttausende arme Menschen leben. Die Situation verschlimmert sich jeden Tag mehr.\" Mindestens 50 Menschen sind seit Freitag getötet worden. Nach Angaben der haitianischen Zeitung \"Le Nouvelliste\" gehörten die meisten Opfer den bewaffneten Gruppen an. Die genaue Opferzahl sei schwer zu ermitteln, da die meisten Toten verbrannt würden. In dem Armenviertel Cité Soleil gebe es keine ständige Polizeipräsenz. Die Zugangsstraßen zur Hauptstadt sind wegen der Gangs größtenteils abgeschnitten, sagt der politische Aktivist Etienne, der selbst aus Sorge vor einer Entführung nur mit dem Vornamen genannt werden will: \"Es gibt hier praktisch kein Leben mehr, Port-au-Prince ist zu einem Gefängnis geworden. Die Menschen haben Angst, ihre Häuser zu verlassen.\" Schon im März litten mindestens 4,5 Millionen Menschen im ärmsten Land des amerikanischen Kontinents an extremem Hunger. Durch den Krieg in der Ukraine habe sich die Lage weiter verschlechtert, sagt Haitis World-Food-Programm-Direktor Bauer: \"Haiti ist davon stark betroffen, weil die Lebensmittelpreise auf der ganzen Welt gestiegen sind und deshalb Haiti sehr viel höhere Preise für Importe auf Nahrungsmittel zahlen muss. Die Inflation ist hier auf 26 Prozent angestiegen, die Lebensmittelinflation auf 52 Prozent.\" Neben Hunger und Gewalt leidet die Bevölkerung an der politischen Unsicherheit. Die Banden unterwandern die lokale Wirtschaft durch Erpressung und illegale Besteuerung. Die Bandenkriege haben zugenommen, nachdem vor über einem Jahr der haitianische Präsident Jovenel Moise ermordet worden war. Die Hintergründe sind noch immer nicht aufgeklärt.')\n"
     ]
    },
    {
     "name": "stderr",
     "output_type": "stream",
     "text": [
      "41it [01:53,  1.38s/it]"
     ]
    },
    {
     "name": "stdout",
     "output_type": "stream",
     "text": [
      "Pandas(Index=41, tstamp=1657695524, url='/wirtschaft/verbraucher/gasmangellage-gaskrise-kemfert-russland-101.html', fulltext=' Die Furcht vor einem Gasmangel hält deutsche Unternehmen und Verbraucher seit Wochen in Atem. Eine Energieexpertin gibt nun jedoch Entwarnung. Selbst bei einem totalen Lieferstopp Russlands sei ein Gasmangel vermeidbar.  Unternehmen warnen vor Produktionseinbrüchen als Folge eines Gasmangels. Politiker diverser Couleur debattieren darüber, wie Verbraucher angesichts rasant steigender Gaspreise entlastet werden könnten. Und Bundeswirtschaftsminister Robert Habeck hat erst gestern die bisher vorgesehene Priorisierung von Verbrauchern gegenüber der Industrie im Falle einer Gasknappheit infrage gestellt . All das erweckt den Anschein, dass Deutschland direkt und unvermeidbar auf die Ausrufung einer Gasmangellage und damit der Notfallstufe des Gas-Notfallplans zusteuert. Diese dritte und letzte Stufe soll der Bundesnetzagentur zufolge dann ausgerufen werden, wenn eine \"außergewöhnlich hohe Nachfrage nach Gas, eine erhebliche Störung der Gasversorgung oder eine andere erhebliche Verschlechterung der Versorgungslage\" vorliegt. So sieht es der Gas-Notfallplan vor. Doch die grassierende Furcht vor einer Gasmangellage könnte sich als unbegründet erweisen. Der Energieökonomin Claudia Kemfert zufolge muss eine Gasmangellage nämlich selbst dann nicht zwingend eintreten, wenn Russland sämtliche Gaslieferungen nach Deutschland einstellen sollte. \"Ob es wirklich zu einem Gasmangel kommt, hängt an verschiedenen Aspekten\", sagte die Energieexpertin vom Deutschen Institut für Wirtschaftsforschung (DIW) der Deutschen Presse-Agentur. Dazu zählten vor allem der Aufbau von Gaslieferbeziehungen mit anderen Ländern als Russland, das stete Befüllen der Speicher und das Einsparen von Gas. Daneben gebe es weitere Möglichkeiten. \"Aber wenn zumindest die ersten drei Komponenten gut geschafft sind, sehe ich nicht, dass wir tatsächlich eine Gasmangellage bekommen müssen\", sagte Kemfert. Deutschland habe mit diesen Maßnahmen begonnen oder sei bereits auf einem guten Weg. Bei herkömmlichem Erdgas zählen bisher vor allem die Niederlande und Norwegen zu Deutschlands Alternativquellen. Bei Flüssigerdgas bemühte sich Wirtschaftsminister Habeck auf einer Katar-Reise im Frühjahr um neue Lieferbeziehungen. Ob, wann und wie viel mehr Gas wirklich aus dem Emirat kommt, ist allerdings noch offen. Der Füllstand der deutschen Gasspeicher steigt langsam, aber stetig. Derzeit liegt er bei rund 65 Prozent. Energiesparen ist eine weitere Option, um eine Mangellage zu vermeiden. Dazu haben Bundesregierung und Bundesnetzagentur Verbraucher und Industrie schon mehrmals aufgerufen. Der Präsident des Deutschen Industrie- und Handelskammertags, Peter Adrian, bat private Verbraucher und die weniger energieintensiven Unternehmen, aus Solidarität mit der Industrie ab sofort konsequent Energie einzusparen. \"Es drohen echte Versorgungsengpässe und unserer gesamten Wirtschaft eine Krise in unbekanntem Ausmaß. Die Folgewirkungen von Abschaltungen einzelner Branchen oder Betriebe sind nicht zu überblicken\", sagte Adrian der \"Rheinischen Post\".')\n"
     ]
    },
    {
     "name": "stderr",
     "output_type": "stream",
     "text": [
      "42it [01:54,  1.14s/it]"
     ]
    },
    {
     "name": "stdout",
     "output_type": "stream",
     "text": [
      "Pandas(Index=42, tstamp=1657762812, url='/ausland/europa/un-ukraine-kriegsverbrechen-101.html', fulltext=' Die UN-Untersuchungskommission für die Ukraine sei kein Tribunal, sondern eine \"Tatsachenermittlungskommission\", sagt ihr Vorsitzender Erik Møse im Interview. Was die Arbeit erschwert - und ob es Kontakte nach Russland gibt.  ARD : Eine ganze Reihe von Organisationen und Institutionen sucht nach Beweisen für Kriegsverbrechen in der Ukraine. Was ist Ihre Rolle in alledem? Erik Møse : Unsere unabhängige Kommission wurde vom UN-Menschenrechtsrat durch eine Resolution im März dieses Jahres eingesetzt. Wir sind also ein Gremium der Vereinten Nationen und haben ein sehr breites Mandat, das sich aus der Resolution ergibt. Es umfasst alle mutmaßlichen Menschenrechtsverletzungen, alle mutmaßlichen Verstöße gegen das humanitäre Völkerrecht und damit zusammenhängende Verbrechen. Wir sollen untersuchen, ob es Verstöße gegen diese Rechtsnormen gibt. Wir werden auch gebeten, die Täter, Personen oder Einrichtungen zu identifizieren, die solche Verstöße begangen haben könnten, und Vorschläge zur Rechenschaftspflicht zu machen. Das zeigt, wie breit gefächert unser Mandat im Vergleich zu vielen anderen Stellen ist, die in der Ukraine vor Ort tätig sind. ARD: Aber Sie arbeiten auch mit einigen dieser Gremien zusammen? Møse: Wir stehen zumindest mit ihnen in Kontakt, weil es wichtig ist, Koordinationsmängel zu vermeiden. Wenn alle das Gleiche tun, besteht die Gefahr, dass es zu Doppelarbeit und vielleicht sogar zu einer erneuten Traumatisierung von Zeugen kommt. Das ist natürlich nur so lange ein Problem, wie sich die Mandate überschneiden, und unser Mandat ist breit angelegt. Es ist also nur ein Teil unseres Mandats, wo dies besonders akut ist. Wir stehen in einem Dialog mit dem Internationalen Strafgerichtshof in Den Haag und der Staatsanwaltschaft der Ukraine, um eine gewisse Koordinierung zu erreichen. Aber wir sind natürlich völlig unabhängig. ARD: Wie viele Personenarbeiten für Sie vor Ort in der Ukraine? Møse: Zunächst einmal verfügen wir über das Sekretariat der Kommission, das jetzt eingerichtet worden ist und aus etwa 20 Personen besteht. Es hat seinen Sitz in Wien und unterstützt die drei Kommissare, die vom Menschenrechtsrat ernannt wurden. Wir greifen aber auch auf das Fachwissen der Mission des Hochkommissariats in der Ukraine zurück, die seit 2014 vor Ort ist. Sie haben natürlich eine Fülle von Material zur Verfügung gestellt, und wir prüfen dieses Material. Und das ist eine der Quellen, die eine Art Ausgangspunkt für unsere Ermittlungen sind. ARD: Sie haben das Mandat der Vereinten Nationen. Russland hat dieser UN-Mission nicht zugestimmt. Ist es Ihnen als Organisation bislang gelungen, mit der russischen Seite in Kontakt zu treten? Møse: Wir haben uns mit den russischen Behörden in Verbindung gesetzt und unser Interesse bekundet, mit ihnen in Kontakt zu treten. Bisher ist uns das noch nicht gelungen, aber wir setzen unsere Bemühungen fort, und für uns als unabhängige und unparteiische Organisation wäre es natürlich von Vorteil, wenn wir die Version aller Konfliktparteien kennen würden. ARD: Dieser Krieg ist offensichtlich der am besten dokumentierte aller Zeiten - mit Bildern, in sozialen Medien, mit Filmen und fast live auf jedem Smartphone. Hilft das bei der Suche nach Beweisen oder werden dadurch eher Falschnachrichten verbreitet? Møse: Es stimmt, dass dieser Konflikt durch sehr viele Quellen gekennzeichnet ist. Dokumente mit Zeugenaussagen, aber auch Bilder, Fotos, private Videos, und so weiter und so fort All das kann von Bedeutung sein, aber ich glaube nicht, dass die Gefahr besteht, dass wir darin ertrinken. Wir werden ganz normal die Möglichkeit nutzen zu untersuchen, was verfügbar ist, und wir werden das auswählen, was beweiskräftig ist oder irgendeinen Wert hat. Und natürlich werden wir jedes Material, das wir erhalten, auf seine Echtheit hin überprüfen. ARD: Ihr Auftrag ist zeitlich begrenzt. Wann entscheiden Sie, dass Sie genug Beweise gesammelt haben? Und was machen Sie danach mit diesen Beweisen? Møse: Diese Kommission muss ihren Abschlussbericht im März 2023 dem Menschenrechtsrat vorlegen. Und es ist so viel passiert und es gibt so viele Beweise, dass ich denke, dass dies in gewisser Weise das Ende der Beweissammlung markieren wird. Wenn wir uns also diesem Bericht nähern, müssen wir die weiteren Untersuchungen einstellen und den Bericht fertigstellen. Und diese Beweise, die wir gesammelt haben, werden für die Zukunft aufbewahrt, denn, wie ich bereits sagte, ist die Rechenschaftspflicht eines der Ziele der Mission. Es ist dann Sache des Menschenrechtsrates, über das weitere Vorgehen zu entscheiden. So wird sich der Menschenrechtsrat auf der Grundlage der Empfehlungen in unserem Bericht mit verschiedenen Arten der Rechenschaftspflicht befassen müssen. ARD: Können Sie etwas zu den Beweisen sagen? Møse: Generell kann ich sagen, dass es natürlich eine Fülle von Material gibt; und zwar gerade wegen der vielen Möglichkeiten, die zur Verfügung stehen. Wir führen unsere eigenen Ermittlungen durch. Wir erhalten Dokumentarfilmmaterial, Fotos, Filme. Quellen kontaktieren uns. Es gibt also eine Menge Material. ARD: Ihre Kommission hat nichts mit einem Strafgerichtshof zu tun. Heißt das: Der Internationale Strafgerichtshof hat nichts mit Ihrer Kommission zu tun? Møse: Unsere Kommission ist eine Tatsachenermittlungskommission. Sie ist kein Gericht. Wir untersuchen die Situation, geben Empfehlungen ab - und dann ist es Sache des UN-Menschenrechtsrates, über das weitere Vorgehen hinsichtlich der Rechenschaftspflicht zu entscheiden. Und eine Möglichkeit der Rechenschaftspflicht wird natürlich ein mögliches Strafverfahren sein. Richtig, es besteht ein Unterschied zwischen unserer Untersuchungskommission und Gerichten, aber wir werden in unserem Bericht mögliche Optionen in dieser Hinsicht untersuchen. Das Gespräch führte Cornelia Kolden, ARD-Studio Brüssel')\n"
     ]
    },
    {
     "name": "stderr",
     "output_type": "stream",
     "text": [
      "43it [01:55,  1.04s/it]"
     ]
    },
    {
     "name": "stdout",
     "output_type": "stream",
     "text": [
      "Pandas(Index=43, tstamp=1657755415, url='/ausland/asien/biden-israel-109.html', fulltext=' US-Präsident Biden will bei seinem Besuch in Israel zusammen mit Regierungschef Lapid offenbar eine gemeinsame Erklärung zum Schutz Israels abgeben. Der Adressat: Teheran.  Am Anfang des offiziellen Tagesprogramms steht ein Treffen von Zweien, die sich mögen. Dass Joe Biden und Israels Übergangspremier Jair Lapid, bis vor Kurzem war er noch Außenminister, gut miteinander auskommen, war der herzlichen Begrüßung am Flughafen zu entnehmen. Den US-Demokraten Biden und den israelischen Liberalen Lapid verbindet politisch mehr, als dass bei Biden und Israels Langzeitpremier Netanyahu der Fall war. Der ist jetzt Oppositionsführer. Israel wählt im Herbst. Und weil Joe Biden nicht parteiisch wirken will, trifft er nun auch Netanyahu – ganze 15 Minuten sind eingeplant. Mit Jair Lapid will sich Biden am Vormittag mehr als eine Stunde beraten. Die Bedrohung durch das iranische Atomprogramm wird im Mittelpunkt stehen. Das hatte Jair Lapid schon nach der Ankunft Bidens deutlich gemacht. Die beiden Regierungschefs werden voraussichtlich eine gemeinsame Erklärung vorstellen. Das berichteten israelische Medien schon bevor der US-Präsident überhaupt gelandet war. Die sogenannte Jerusalem-Deklaration soll die Beziehungen zwischen beiden Ländern beschreiben und eine Blaupause für die Zukunft sein. Die USA werden sich darin, den Berichten zufolge, auch dazu verpflichten zu verhindern, dass der Iran jemals Atomwaffen besitzt. Von einer sehr wichtigen Erklärung sprechen Experten wie Amos Yadlin, ehemaliger Leiter des israelischen Instituts für nationale Sicherheitsfragen. Um sich vor möglichen iranischen Bedrohungen zu schützen, hofft Israel auf finanzielle und technologische Unterstützung durch seinen wichtigsten Verbündeten. US-Präsident Biden betonte nach seiner Ankunft: Ob Joe Biden während seiner Reise nach Israel und im Anschluss nach Saudi-Arabien eine Annäherung zwischen beiden Ländern vermitteln kann, ist unsicher. Im Vorfeld der Reise war über eine militärische Kooperation zwischen Israel und arabischen Staaten wie zum Beispiel ein gemeinsames Frühwarnsystem bei der Luftabwehr spekuliert worden. Sicherheitsexperte Amos Yadlin dämpft solche Erwartungen. Nach Treffen mit Israels Premier Lapid und Staatspräsident Herzog wird Joe Biden die Eröffnungsfeier der Makkabiade besuchen - der Wettkämpfe von jüdischen Sportlern und Sportlerinnen aus aller Welt. auch eine Mannschaft aus Deutschland nimmt teil. Am letzten Tag seines Besuchs, vor der Weiterreise nach Saudi-Arabien, trifft der US-Präsident in Bethlehem den palästinensischen Präsidenten Mahmud Abbas. Im Konflikt zwischen Israelis und Palästinensern unterstütze er weiter eine Zweistaatenlösung, hatte Joe Biden nach der Landung in Israel erklärt und ergänzt, er wisse aber, dass sie in der nahen Zukunft nicht umsetzbar sei.')\n"
     ]
    },
    {
     "name": "stderr",
     "output_type": "stream",
     "text": [
      "44it [01:56,  1.12s/it]"
     ]
    },
    {
     "name": "stdout",
     "output_type": "stream",
     "text": [
      "Pandas(Index=44, tstamp=1657762709, url='/inland/innenpolitik/flut-rlp-konsequenzen-101.html', fulltext=' Behörden, die trotz Unwetterprognose Feierabend machen. Oder ein Landrat, der Privates erledigt: Auch ein Jahr nach der Flut an der Ahr ist die politische Aufarbeitung nicht abgeschlossen. Wer trägt die Verantwortung - und was hat man daraus gelernt?  Mit mächtigen Pfeilern spannt sich die alte, vom Hochwasser schwer beschädigte Steinbrücke in der Ortschaft Schuld über die Ahr. Darunter plätschert das Flüsschen sachte dahin. Kaum noch vorstellbar, mit welcher Wucht hier vor einem Jahr meterhohe Wassermassen Schutt gegen das Bauwerk drückten. Abgesehen von einem behelfsmäßigen Gerüst für Fußgänger geht es beim Wiederaufbau der Brücke genauso wenig voran wie bei der Ertüchtigung des Katastrophenschutzes. Das beklagt der 26-jährige Tobias Lussi. In der Flutnacht hat der Wehrführer der örtlichen Feuerwehr mit seinen Kameraden viele Menschen gerettet. Ein Jahr später sagt Lussi verärgert: \"Wenn eine Katastrophe jetzt hier nochmal geschehen würde, sind wir ebenso schlecht vorbereitet wie vorher.\" Seit einem Dreivierteljahr soll ein Untersuchungsausschuss des rheinland-pfälzischen Landtags klären, was in den Katastrophenstunden schief lief und wer dafür die Verantwortung trägt. Zahlreiche Zeugenaussagen zeichnen das Bild eklatanter Versäumnisse und massiver Überforderung: Das Fehlen einer funktionierenden Warnkette; die Nöte der Technischen Einsatzleitung; die Unfähigkeit von Behörden, sich überhaupt ein umfassendes Lagebild zu machen. Und nicht zuletzt: eine Landesregierung, die das Ausmaß der Katastrophe weder kommen sah noch in den entscheidenden Stunden der Krise gut untereinander kommunizierte. \"Wir sind in dieser Nacht an unsere Grenzen gekommen\", beschrieb ein Zeuge im Ausschuss die Überforderung der Einsatzleitung des Kreises Ahrweiler. Die Einsatzkräfte in der Leitstelle fühlten sich gleich von mehreren Behörden alleine gelassen. \"Wir machen gleich Feierabend\", war eine Antwort auf die dringende Frage nach einem Fachberater angesichts nie dagewesener Pegelprognosen. Für die wenigen Mitarbeiter, darunter etliche Ehrenamtliche, wurde es zur Aufgabe, sich der größten Naturkatastrophe in der Geschichte von Rheinland-Pfalz entgegenzustemmen. Was hat der damals zuständige Landrat von Ahrweiler im Kampf gegen die Katastrophe getan? Jürgen Pföhler war zuständig für die Ausrufung des Katastrophenfalls. Erst am vergangenen Freitag zeigten Zeugenaussagen und die Auswertung von Handydaten: Der Landrat hat sich in der Flutnacht in Sicherheit gebracht und private Dinge erledigt. Pföhler selbst verweigerte vor dem Ausschuss die Aussage; die Staatsanwaltschaft ermittelt gegen ihn wegen des Verdachts auf fahrlässige Tötung und fahrlässige Körperverletzung im Amt. Der Landrat hatte die Kreisverwaltung nachmittags verlassen, kam aber am Abend des 14. Juli noch einmal zurück: Innenminister Roger Lewentz (SPD), zuständig für landesweite Katastrophen, hatte seinen Besuch angekündigt. Zwischen Mitarbeitern der Einsatzleitung posierten die beiden für ein Foto, nach einer knappen halben Stunde ging der Minister wieder. Lewentz sagte dazu im Ausschuss, er habe eine ruhig und konzentriert arbeitende Einsatzleitung gesehen. Auch Ministerpräsidentin Malu Dreyer (SPD) erklärte, sie habe keinen Hinweis gehabt, dass es zu einer solchen Katastrophe kommen würde. Der Landkreis Ahrweiler hat den Katastrophenfall schließlich erst um 23.09 Uhr ausrufen lassen - dabei waren schon am Nachmittag am Oberlauf der Ahr die ersten Menschen ums Leben gekommen. SWR -Journalist Dirk Rodenkirch hat die Arbeit des Untersuchungsausschusses kontinuierlich verfolgt und weist auf eine noch offene Frage hin: Hätte das Land bei einer Katastrophe dieser Dimension die Einsatzleitung übernehmen müssen - und falls ja, ab wann? Zur Rolle der damaligen Landesumweltministerin Anne Spiegel äußerte sich im Untersuchungsausschuss der Direktor des Kieler Instituts für Krisenforschung, Frank Roselieb. Er sieht ein großes Versagen mit Blick auf die Kommunikation des Umweltministeriums, das noch am Nachmittag der Flut in einer Pressemitteilung die Formulierung verbreitete, es drohe \"kein Extremhochwasser\". \"Man hätte aus Sicht des Katastrophenforschers die Gefahrenprognose als Warnmeldung verschicken müssen, die wie der Hinweis auf Geisterfahrer direkt ins Programm der öffentlich-rechtlichen Sender eingebracht worden wäre.\" Im April wurde öffentlich, dass Spiegel - mittlerweile Bundesfamilienministerin - nur zehn Tage nach der Katastrophe in einen vierwöchigen Familienurlaub aufgebrochen war. Ihre Rolle als fachführende Ministerin habe Spiegel nicht wahrgenommen, kritisiert Roselieb: \"Sie hätte die Aufgabe wenigstens vernünftig delegieren müssen. Hat sie aber nicht, sondern sogar noch öffentlich erklärt, während ihres Urlaubs digital an den Kabinettssitzungen teilgenommen zu haben. Das erwies sich als falsch und schwerer politischer Fehler.\" Die Aufarbeitung der Katastrophennacht macht deutlich: Die Einsatzleitung vor Ort war auch deshalb unterbesetzt, weil mögliche Mitglieder in ihren Gemeinden helfen mussten. \"Die Eigenbetroffenheit wird im Katastrophenschutz oft unterschätzt\", sagt der ehemalige THW-Präsident Albrecht Broemme. \"Wenn ich mir vorstelle, dass an der Ahr jeder Feuerwehrmann, jeder Mitarbeiter der Verwaltung auch selbst betroffen war, da kann ich nicht erwarten, dass man so einen Einsatz cool durchführt, das ist menschlich und fachlich eine Herausforderung. Das geht nur, wenn man es gut trainiert hat, und da gibt es sicher Defizite.\" Krisenforscher Roselieb weist auf ein weiteres Problem hin: \"Wer als Landrat den Katastrophenfall auslöst, trifft eine mitunter recht teure Entscheidung. Man ist verpflichtet, den sogenannten Arbeitgeberersatz zu leisten, also einen Lohnersatz für die ehrenamtlichen Mitarbeiter bei THW, Rotem Kreuz und anderen Organisationen. Das geht sehr schnell in die Millionen. Deshalb haben Politiker oft eine gewisse Scheu, den Katastrophenalarm auszulösen.\" Eine Verbesserung könnte nach Einschätzung des Krisenforschers ein sogenannter Katastrophenvoralarm sein. \"Den hat man in anderen Bundesländern auch deshalb eingeführt, um die Schwelle zu senken, den Katastrophenalarm auszulösen.\" Ein weiterer Vorteil: Es wird sofort auch über die Medien gewarnt. \"Das hätte man auch in Rheinland-Pfalz mittlerweile machen können\", kritisiert Roselieb. Das rheinland-pfälzische Innenministerium verweist gegenüber tagesschau.de auf die gültige Rechtslage. Danach soll der Katastrophenschutzinspekteur auf Landkreisebene schon in den unteren Alarmstufen tätig werden. Damit sei dieser sich bewusst, dass die Lage zu einer Katastrophe \"aufwachsen\" könne, so dass es eines Voralarms nicht bedürfe. Allerdings, so das Ministerium, schließe die derzeitige Aufarbeitung auch die rechtlichen Regelungen mit ein.  In Schuld steht unterdessen Lussi vor dem uralten Feuerwehrhaus und ringt um eine diplomatische Wortwahl. Eine funktionierende Ausrüstung für den nächsten Einsatz müsse her, und zwar schnell. \"Das Ganze läuft absolut schleppend\", sagt er schließlich. \"Da ist die Politik gefordert, Worte sein zu lassen und Taten folgen zu lassen.\"')\n"
     ]
    },
    {
     "name": "stderr",
     "output_type": "stream",
     "text": [
      "45it [01:58,  1.43s/it]"
     ]
    },
    {
     "name": "stdout",
     "output_type": "stream",
     "text": [
      "Pandas(Index=45, tstamp=1657774458, url='/inland/schroeder-spd-ausschluss-101.html', fulltext=' Wegen seiner Nähe zu Russlands Präsidenten Putin steht Altkanzler Schröder stark in der Kritik. Ab heute wird erstmals über einen möglichen Parteiausschluss verhandelt. Doch die Erfolgsaussichten sind gering.  Der SPD-Unterbezirk Region Hannover verhandelt zum ersten Mal über einen möglichen Parteiausschluss von Altkanzler Gerhard Schröder. Aus der Partei seien 17 entsprechende Anträge eingegangen, die die formalen Kriterien erfüllen, sagte der Geschäftsführer des SPD-Bezirks Hannover, Christoph Matterne. Eine Entscheidung der Schiedskommission wird allerdings noch nicht erwartet, ein Parteiausschluss wird innerhalb der SPD zudem aus juristischen Gründen als unwahrscheinlich eingeschätzt. Die Verhandlung im Kurt-Schumacher-Haus findet parteiöffentlich statt und dürfte mehrere Stunden dauern. Schröder selbst will Berichten zufolge nicht persönlich erscheinen. Der frühere Bundeskanzler (1998 bis 2005)\\xa0steht seit Jahren wegen seines Engagements für russische Staatskonzerne in der Kritik und gilt als enger Freund von Russlands Präsident Wladimir Putin. Vor dem Hintergrund des Ukraine-Kriegs nahm der Druck auf ihn deswegen immer weiter zu. Im Mai kündigte Schröder schließlich an, den Aufsichtsrat des russischen Energieriesen Rosneft zu verlassen . Außerdem schlug er eine Nominierung für einen Aufsichtsratsposten bei Gazprom aus . Seinen Draht zu Putin wolle Schröder jedoch trotz des russischen Angriffskriegs weiter aufrechterhalten, hatte die \"Frankfurter Allgemeine Zeitung\" vor wenigen Tagen berichtet. \"Ich werde meine Gesprächsmöglichkeiten mit Präsident Putin nicht aufgeben\", sagte der Altkanzler demnach. Dem Bericht zufolge erklärte Schröder, er glaube nicht an eine militärische Lösung in der Ukraine, und fragte, warum man sich auf die Lieferung von Waffen konzentriere. \"Der Krieg ist nur durch diplomatische Verhandlungen zu beenden\", wurde er zitiert. Niedersachsens Ministerpräsident Stephan Weil\\xa0gehen Schröders Äußerungen über den Ukraine-Krieg nicht weit genug. Er sagte der Nachrichtenagentur dpa:\\xa0\"Gerhard Schröder hat sich leider bis heute nicht mit der notwendigen Klarheit gegen den brutalen, durch nichts gerechtfertigten Angriffskrieg Russlands gegen die Ukraine ausgesprochen. Das bedauere ich persönlich sehr.\" Mit Blick auf die Anträge zum Parteiausschluss Schröders erklärte Weil,\\xa0es gehöre sich, die Angelegenheit in einem regulären Verfahren zu behandeln: \"Dafür gibt es in der SPD eine Schiedskommission, die nach rechtsstaatlichen Grundsätzen handelt.\" Die Schiedskommission des SPD-Unterbezirks Region Hannover ist für das Parteiordnungsverfahren zuständig, weil Schröder Mitglied des dazu gehörenden SPD-Ortsvereins Oststadt-Zoo ist. Nach dem Unterbezirk sind bis zu zwei weitere Instanzen möglich: der SPD-Bezirk Hannover sowie die SPD-Bundesschiedskommission. Schröder ist nicht das erste SPD-Mitglied, gegen das ein Ausschlussverfahren eingeleitet wurde. Zuletzt wurde der ehemalige Berliner Finanzsenator Thilo Sarrazin 2020 nach zweijährigem Verfahren von der Partei ausgeschlossen. Zuvor liefen ähnliche Verfahren bereits unter anderem gegen Wolfgang Clement und dem heutigen Linken-Politiker Klaus Ernst.')\n"
     ]
    },
    {
     "name": "stderr",
     "output_type": "stream",
     "text": [
      "46it [01:59,  1.37s/it]"
     ]
    },
    {
     "name": "stdout",
     "output_type": "stream",
     "text": [
      "Pandas(Index=46, tstamp=1657774959, url='/ausland/asien/china-lockdown-coronavirus-103.html', fulltext=' In Chinas Wirtschaftsmetropole Shanghai wächst die Sorge vor neuen Corona-Beschränkungen. Kleinere Infektionsausbrüche machen den Behörden zu schaffen. Die Unsicherheit hat auch Auswirkungen auf die Wirtschaft.  Shanghai leidet gerade unter einer Hitzewelle. Temperaturen um die 40 Grad machen vielen Menschen zu schaffen. Aber auch die Unsicherheit wegen der Corona-Lage zehrt an den Nerven. Jeden Tag werden neue Infektionen gemeldet. Meist liegen sie nur im zweistelligen Bereich. Doch die Nerven liegen blank. \"Die Covid-Lage hat sich im Juli wieder deutlich verschlechtert\", sagt ein 35-Jähriger, der seinen Namen nicht nennen möchte. \"Alle haben panische Angst, dass es einen neuen Lockdown geben könnte.\" Der harte Lockdown in Shanghai im April und Mai, als die Menschen wochenlang ihre Wohnungen nicht verlassen durften, hat tiefe Spuren hinterlassen. Als diese Woche in drei Stadtbezirken die Menschen aufgefordert wurden, Lebensmittel-Vorräte für 14 Tage anzulegen, kursierten sofort Gerüchte über einen bevorstehenden neuen Lockdown. Die Stadtregierung wiegelt ab, aber viele Menschen sind misstrauisch. \"Das Vertrauen in unsere Regierung ist zerstört\", sagt eine 28-jährige Angestellte. \"Nach all den Lügen, die man uns beim letzten Mal erzählt \\u200bhat, ist es normal, dass die Leute jetzt paranoid reagieren, selbst wenn die Regierung versucht, Gerüchte auszuräumen.\" Die Behörden gehen weiterhin gegen jeden noch so kleinen Corona-Ausbruch vor. Seit Dienstag läuft in Shanghai eine neue verpflichtende Testrunde. An den Teststationen sitzen die Mitarbeiter in weißen Schutzanzügen in der Bruthitze. Eisblöcke auf dem Boden sollen für etwas Kühlung sorgen. Über 200 Gebäude in Shanghai waren diese Woche wegen Corona abgeriegelt. \\u200bIn Medienberichten heißt es, die Behörden würden auch zentrale \\u200bIsolations-Einrichtungen wieder öffnen. In China werden alle, die sich mit Corona infiziert haben, zwangsweise in Krankenhäusern oder staatlichen Einrichtungen untergebracht. Doch in der Bevölkerung mehren sich die Zweifel an der strikten Null-Covid-Politik. Aber während der Rest der Welt versucht, mit dem Virus zu leben, zeichnet sich in China keine Kursänderung ab. Die wirtschaftlichen Folgen sind überall spürbar. Gerade Kleinunternehmer, die ihre Geschäfte mal schließen müssen, dann wieder öffnen dürfen, bis zu den nächsten Restriktionen, wissen oft nicht mehr, wie sie über die Runden kommen sollen. Arbeiter aus ländlichen Regionen Chinas, die in Metropolen wie Shanghai im Niedriglohnsektor arbeiten, haben oft keine soziale Absicherung. Chinas Exporte zogen zwar im Juni erstaunlich stark an, aber der wirtschaftliche Ausblick ist nicht so rosig: \"Derzeit sind die Pandemie und das internationale Umfeld noch ernster und komplexer\", sagt der Sprecher der Zollbehörde, Li Kuiwen. Es gebe Instabilität und Unsicherheit - der Druck sei groß. Mit Spannung werden die Wirtschaftszahlen für das zweite Quartal erwartet. Analysten rechnen mit einem Wachstum, das weit hinter dem Jahresziel der Regierung von 5,5 Prozent zurückbleiben dürfte. Die Laune in Shanghai dürfte das nicht gerade heben. Die 28-jährige Angestellte etwa hat die Stadt erst einmal verlassen - nicht wegen der Hitze, sondern wegen der miesen Stimmung und aus Angst vor einem neuen Lockdown.')\n"
     ]
    },
    {
     "name": "stderr",
     "output_type": "stream",
     "text": [
      "47it [02:00,  1.10s/it]"
     ]
    },
    {
     "name": "stdout",
     "output_type": "stream",
     "text": [
      "Pandas(Index=47, tstamp=1657762951, url='/ausland/europa/polen-abtreibung-justiz-101.html', fulltext=' In Polen könnte erstmals das verschärfte Abtreibungsrecht angewandt werden: Der Aktivistin Justyna Wydrzyńska drohen drei Jahre Haft, weil sie einer ungewollt Schwangeren ein Abtreibungsmittel ausgehändigt haben soll.  Justyna Wydrzyńska ist Schwangerschaftsbegleiterin, Mutter, Abtreibungsaktivistin und steht nun im Zentrum eines wegweisenden Gerichtsprozesses: Am Donnerstag muss sie als prominente Angeklagte in Warschau vor Gericht erscheinen. Dort könnte dann zum ersten Mal das strenge, polnische Abtreibungsrecht seine volle Wirkung entfalten. Denn es wird verhandelt, ob Wydrzyńska einer anderen Frau illegal bei einer Abtreibung geholfen hat. Sollte sie schuldig gesprochen werden, drohen der Aktivistin bis zu drei Jahre Gefängnisstrafe. In Polen sind Abtreibungen de facto verboten. Die Gesetzgebung zu Schwangerschaftsabbrüchen gehört zu den strengsten in ganz Europa. Im Oktober 2020 urteilte das polnische Verfassungsgericht, dass auch Abtreibungen aufgrund schwerer Fehlbildungen des Fötus illegal seien. Damit wurde eine der ohnehin nur wenigen Ausnahmen für Abtreibungen gestrichen. Legal sind Abtreibungen in Polen - sowie die Hilfeleistungen dazu - nur nach Vergewaltigungen und Inzest oder wenn das Leben der Mutter in Gefahr ist. Grundlage der Anklage gegen Wydrzyńska sind das polnische Strafgesetzbuch und das Arzneimittelrecht. Konkret wirft die Staatsanwaltschaft ihr vor, einer anderen Frau mindestens zehn Abtreibungstabletten zugeschickt zu haben. Bei einem ersten Gerichtstermin im April bestritt Wydrzyńska auch nicht, die Tabletten verschickt zu haben. Sie habe dies \"sehr spontan beschlossen\" und eigene, persönliche Tabletten der schwangeren Frau zur Verfügung gestellt. Sie wollte \"dieser Person helfen, denn ich weiß, was sie erlebt\", sagte die 47-Jährige, die selbst offen mit einem eigenen Schwangerschaftsabbruch umgeht. Außerdem verweist Wydrzyńska auf die besonderen Umstände des Falls. Die offenbar ungewollt schwangere Frau habe sich Anfang 2020 bei Wydrzyńskas Organisation \"Abortion Without Borders\" gemeldet. Dort habe die Frau, die sich in ihrer zwölften Schwangerschaftswoche befunden haben soll, berichtet, dass sie Abtreibungspillen bestellt habe, aber diese nicht eingetroffen seien. Außerdem werde sie durch ihren gewalttätigen Ehemann erpresst, das Kind auszutragen. Deswegen habe sich Wydrzyńska entschieden, der Frau Tabletten für einen Schwangerschaftsabbruch zu schicken. Mehr als ein Jahr nach dem Vorfall, im Juni 2021, stand laut Amnesty International die Polizei vor Wydrzyńskas Haustür. In einer Hausdurchsuchung beschlagnahmten die Beamtinnen und Beamten Tabletten, Computer und Handys von Wydrzyńska und ihren Kindern. Offenbar hatte der Ehemann der Frau, der sie die Tabletten zugeschickt hatte, Wydrzyńska angezeigt. Die Bedeutung der Gerichtsverhandlung geht für viele Beobachterinnen und Beobachter über den Einzelfall von Justyna Wydrzyńska hinaus. Denn in den vergangenen Monaten und Jahren hatten die Gegnerinnen und Gegner des strengen polnischen Abtreibungsrechtes lautstark, aber vergeblich gegen Gesetzesverschärfungen protestiert. Auch bei dem Prozess gegen Wydrzyńska werden viele Demonstrantinnen und Demonstranten vor dem Gericht erwartet. Natalia Broniarczyk aus der NGO \"Abortion Dream Team\", zu der auch Wydrzyńska gehört, hält das Gerichtsverfahren für eine \"politische Sache\". Sie und ihre Mitstreiter sagen, sie hätten Angst, als Abtreibungsaktivstinnen und -Aktivisten in Polen fühlten sie sich \"verfolgt\". Auch die Linksabgeordnete Katarzyna Kotula hält den Prozess für ein \"politisches Verfahren\". Die Staatsanwaltschaft hätte beschlossen, \"eine Jagd auf Frauen zu veranstalten, die einfach anderen Frauen helfen\". Vor Gericht werden auch Vertreterinnen und Vertreter des erzkonservativen Anwaltskollektivs \"Ordo Iuris\" anwesend sein. Sie treten als Interessenvertreter des ungeborenen Lebens auf. Und auch andere Gegner von Schwangerschaftsabbrüchen, wie Marek Wilczewski von der \"Stiftung Leben und Familie“, verfolgen das Gerichtsverfahren gegen Wydrzyńska genau. Er fordert weitere Gesetzesveränderungen, damit, so sagt er, \"derartige Aktivitäten verfolgt und gestoppt werden können\" und \"man in keiner Weise zur Abtreibung anregen, dabei helfen, sie erleichtern kann\".')\n"
     ]
    },
    {
     "name": "stderr",
     "output_type": "stream",
     "text": [
      "48it [02:00,  1.11it/s]"
     ]
    },
    {
     "name": "stdout",
     "output_type": "stream",
     "text": [
      "Pandas(Index=48, tstamp=1657777032, url='/ausland/amerika/usa-uber-klage-101.html', fulltext=' Nach den Berichten über aggressives Geschäftsgebaren steht Uber erneut im Fokus: Dieses Mal wegen sexueller Übergriffe von Fahrern. Mehrere Frauen haben in den USA Klage eingereicht - das Problem ist seit Jahren bekannt.  Der Taxi-Rivale Uber ist in den USA wegen sexueller Übergriffe und Gewalt mit Klagen einer Reihe von Frauen konfrontiert. Das teilte die US-Kanzlei Slater Slater Schulman mit. Die Klägerinnen werfen dem Unternehmen vor, jahrelang nicht genug gegen diese Probleme unternommen zu haben. Dem Management sei der Ernst der Lage seit 2014 klar gewesen, trotzdem habe es seitdem viele weitere Fälle gegeben, die von Belästigungen bis hin zu Entführungen und Vergewaltigungen reichten. Die Kanzlei vertritt nach eigenen Angaben etwa 550 Mandantinnen und prüft mindestens 150 weitere Fälle. Uber erklärte auf Nachfrage zunächst, sich zu offenen Rechtsverfahren nicht äußern zu können. Später gab der Fahrdienstvermittler doch noch eine Stellungnahme ab und erklärte: \"Sexuelle Übergriffe sind ein entsetzliches Verbrechen und wir nehmen jeden einzelnen Bericht ernst\". Eine Sprecherin des Unternehmens wies zudem darauf hin, dass das Rechtsverfahren bereits seit Februar 2022 laufe. Zur konkreten Anzahl der bislang eingereichten Klagen und der Frage, wie viele der 550 von der Anwaltsfirma erwähnten Mandantinnen sich bereits daran beteiligten, machten Uber und die Kanzlei widersprüchliche Angaben. Die Probleme an sich sind seit Langem bekannt. Erst vor rund zwei Wochen veröffentlichte der Konzern das Ergebnis einer eigenen Untersuchung, wonach es allein in den Jahren 2019 und 2020 Berichte über 3824 sexuelle Übergriffe von Fahrern gab. Uber hatte sich deshalb auch in der Vergangenheit schon mit Klagen auseinandersetzen müssen. 2018 etwa akzeptierte das Unternehmen einen Vergleich mit zwei Frauen. Uber teilte mit, die Probleme ernstzunehmen und Maßnahmen dagegen zu ergreifen. Doch nicht alle kaufen dem Konzern das ab. \"Uber könnte so viel mehr tun, um seine Mitfahrerinnen und Mitfahrer zu schützen\", sagte Klägeranwalt Adam Slater. \"Kameras, um Angriffe zu verhindern, robustere Background-Checks für Fahrer, ein Warnsystem, wenn Fahrer von ihren Routen abweichen.\" Doch das Unternehmen lehne diese Maßnahmen ab. In der Vergangenheit hat Uber sich unter anderem damit verteidigt, nicht für das Verhalten von Fahrern zur Verantwortung gezogen werden zu können, da diese keine festen Mitarbeiter seien. Das Unternehmen behauptet aber auch, seine Fahrer gründlich zu überprüfen und bereits Sicherheitsmaßnahmen eingeführt zu haben - zum Beispiel einen Notfall-Button in der App. Für den in der Vergangenheit schon häufig wegen seines aggressiven Geschäftsgebarens kritisierten US-Konzern kommen die Anschuldigungen zur Unzeit. Vor wenigen Tagen erst geriet Uber durch ein großes Datenleck unter Druck, das das ganze Ausmaß der umstrittenen und mitunter am Rande der Legalität stattfindenden Lobby-Arbeit der Jahre 2013 bis 2017 aufzeigte.  Die Unterlagen stammen allerdings aus der Ära von Mitgründer und Ex-Chef Travis Kalanick. Er trat 2017 nach Skandalen zurück , die von Sexismus und Diskriminierung über Technologie-Diebstahl bis hin zu Spionage-Affären reichten. Heute distanziert sich das Unternehmen von Kalanick und seinen Methoden. Anmerkung der Redaktion: Diese Meldung wurde am 04.08.2022 nachträglich korrigiert, nachdem die Nachrichtenagentur dpa fälschlicherweise berichtet hatte, dass über 500 Frauen Uber wegen sexueller Übergriffe von Fahrern verklagt hätten. Noch ist aber nicht klar, um wie viele Klagen und Klägerinnen es sich tatsächlich handelt.')\n"
     ]
    },
    {
     "name": "stderr",
     "output_type": "stream",
     "text": [
      "49it [02:01,  1.32it/s]"
     ]
    },
    {
     "name": "stdout",
     "output_type": "stream",
     "text": [
      "Pandas(Index=49, tstamp=1657774592, url='/wirtschaft/verbraucher/netzagentur-gaspreise-verdreifachung-101.html', fulltext=' Der Präsident der Bundesnetzagentur warnt vor einer Verdreifachung der Gaspreise. Im Falle einer Gasmangellage würden Privathaushalte aber \"bis zum Ende\" geschützt, so Müller.  Der Präsident der Bundesnetzagentur, Klaus Müller, hat vor einer Verdreifachung der Gaspreise für Verbraucher oder einem sogar noch stärkeren Preisanstieg gewarnt. \"Bei denen, die jetzt ihre Heizkostenabrechnung bekommen, verdoppeln sich die Abschläge bereits - und da sind die Folgen des Ukraine-Krieges noch gar nicht berücksichtigt\", sagte Müller den Zeitungen des Redaktionsnetzwerks Deutschland. \"Ab 2023 müssen sich Gaskunden auf eine Verdreifachung der Abschläge einstellen, mindestens.\" Es sei \"absolut realistisch\", dass Kunden, die derzeit 1500 Euro im Jahr für Gas bezahlen, künftig mit 4500 Euro und mehr zur Kasse gebeten werden, sagte Müller weiter. Die Menschen müssten jetzt vorsorgen - und zwar sowohl technisch wie finanziell, mahnte er. \"Erhöht freiwillig euren Abschlag oder legt jeden Monat etwas Geld zurück, etwa auf ein Sonderkonto.\" Und: \"Redet mit eurem Vermieter oder einem Handwerker, wenn er noch verfügbar ist. Was kann man tun, um die Heizung zu optimieren?\" Etwa die Hälfte der Gasthermen in Deutschland sei nicht gut eingestellt, sagte Müller weiter. Mit kleinem Aufwand lasse sich \"ein großer Spareffekt erzielen\". Auf die Frage, was er davon halte, die höheren Beschaffungskosten der Gashändler mit einer Umlage an die Gaskunden weiterzugeben, sagte der Netzagenturchef: \"Das ist eine politische Entscheidung, die man sehr genau abwägen muss.\" Man könnte so mit Milliarden die Unternehmen unterstützen. Die andere Variante wäre, \"die Preise durchzugeben und dann zielgenau denen zu helfen, die sie nicht mehr tragen können\". Müller wies gegenüber den RND-Zeitungen außerdem Befürchtungen zurück, dass Privathaushalte im Fall einer Gasmangellage nachrangig versorgt werden könnten. \"Die deutsche und die europäische Rechtslage sehen vor, private Haushalte bis zum Ende zu schützen\", sagte Müller. Ein Szenario, in dem kein Gas mehr bei den Menschen zu Hause ankomme, halte er für \"nicht sehr wahrscheinlich\", fügte der Chef der Netzagentur hinzu. \"Selbst im schlimmsten Szenario wird Deutschland weiter Gas bekommen aus Norwegen und von Terminals aus Belgien oder Holland, demnächst auch direkt von Terminals an der deutschen Küste.\" Auf Wirtschaft und Verbraucher könnten angesichts der drohenden Gaskrise erhebliche Energiesparmaßnahmen zukommen. Ein Entwurf für einen Notfallplan der Europäischen Kommission sieht vor, dass öffentliche Gebäude, Büros und kommerzielle Gebäude ab Herbst bis maximal 19 Grad beheizt werden sollen. \"Jetzt handeln kann die Auswirkungen einer plötzlichen Versorgungsunterbrechung um ein Drittel reduzieren\", heißt es in dem Text, der der Deutschen Presse-Agentur vorliegt. Es gebe mittlerweile ein \"erhebliches Risiko\", dass Russland in diesem Jahr Gaslieferungen nach Europa stoppt. Unternehmen, die Gas ersetzen können, sollten ihren Verbrauch reduzieren, heißt es. Ziel sei es, Industrien zu schützen, die für die Lieferketten und die Wettbewerbsfähigkeit besonders wichtig sind. Auch Haushalte werden dazu aufgerufen, freiwillig weniger zu verbrauchen. \"Jeder kann Gas sparen, jetzt\", schreibt die Kommission. Bereits bestehende Regeln sehen vor, dass bei Gasknappheit Haushalte und etwa Krankenhäuser priorisiert würden. Wenn die Stromproduktion in Gefahr sei, könnten Länder jedoch die Versorgung von Gaskraftwerken für die Stromversorgung über bestimmte geschützte Verbraucher stellen, heißt es. Simulationen der Regulierungsbehörde ENTSO-G ergaben laut dem Entwurf, dass ein Lieferstopp im Juli dazu führen würde, dass die Gasspeicher nicht ausreichend befüllt werden könnten und somit im Winter sowie im nächsten Jahr noch Knappheit herrschen könnte. Käme eine Unterbrechung im Oktober oder später, gäbe es weniger Risiken für die Nachfrage im Winter. Man hätte dann aber weniger Zeit, zu reagieren. Die Auswirkungen für die Mitgliedsstaaten hingen davon ab, wie abhängig sie von russischem Gas seien, heißt es. Deutschland gehört hier zu den am stärksten betroffenen Ländern. Mögliche Einschränkungen für Privathaushalte stoßen bei Verbänden in Deutschland weiterhin auf Kritik. Hintergrund sind Überlegungen von Bundeswirtschaftsminister Robert Habeck, die EU-weite Priorisierung von Verbrauchern und kritischer Infrastruktur vor der Industrie bei der Zuteilung von Gas zu überdenken. \"Es geht um elementare Bedürfnisse wie eine warme Mahlzeit, warmes Wasser oder ein warmes Zimmer, und nicht um Luxusgüter, auf die sich leicht verzichten lässt\", sagte die Präsidentin des Sozialverbandes VdK, Verena Bentele, den Zeitungen der Funke Mediengruppe. \"Gerade Familien mit kleinen Kindern, Menschen mit einer Behinderung sowie ältere, chronisch kranke und pflegebedürftige Menschen sind auf eine sichere Versorgung mit Gas angewiesen.\" \"Habeck verunsichert mit seiner Gas-Priorisierungsdebatte gerade pflegebedürftige und kranke Menschen daheim, in Pflegeeinrichtungen und Krankenhäusern\", sagte der Vorstand der Deutschen Stiftung Patientenschutz, Eugen Brysch, der \"Neuen Osnabrücker Zeitung\". \"Wer tatsächlich Gas im Winter bekommt, darf nicht ein Bundesminister entscheiden. Der Bundestag ist gefordert, die Frage der Priorisierung allgemeingültig zu klären.\" Arbeitgeberpräsident Rainer Dulger macht sich große Sorgen um die deutsche Wirtschaft. \"Es sieht so aus, als ob Russland das Gas stark verknappt oder auf Dauer gar nichts mehr liefert\", sagte Dulger der \"Süddeutschen Zeitung\". \"Wir stehen vor der größten Krise, die das Land je hatte.\"')\n"
     ]
    },
    {
     "name": "stderr",
     "output_type": "stream",
     "text": [
      "50it [02:02,  1.12it/s]"
     ]
    },
    {
     "name": "stdout",
     "output_type": "stream",
     "text": [
      "Pandas(Index=50, tstamp=1657780168, url='/wirtschaft/unternehmen/warnstreik-hafenarbeiter-container-stau-hamburger-hafen-101.html', fulltext=' Im Konflikt um die Entlohnung der Hafenarbeiter haben in allen wichtigen deutschen Nordseehäfen erneut Warnstreiks der Gewerkschaft ver.di begonnen. Damit droht Deutschlands größten Seehäfen bis Samstagmorgen der Stillstand.  In allen wichtigen deutschen Nordseehäfen hat am Morgen ein weiterer Warnstreik der Hafenarbeiter begonnen. Seit 6.00 Uhr hätten Mitarbeiter der Frühschicht in Bremen und Bremerhaven die Arbeit niedergelegt, wie der ver.di-Bezirksgeschäftsführer Bremen-Nordniedersachsen, Markus Westermann, am Morgen der Deutschen Presse-Agentur sagte. Die Arbeitsniederlegungen seien bis Samstagmorgen um 6.00 Uhr geplant. Auch am Hamburger Hafen habe der Warnstreik begonnen, sagte der Gewerkschaftssekretär im Fachbereich Verkehr und Maritime Wirtschaft bei ver.di Hamburg, Stephan Gastmeier. \"Die Kollegen haben ihre Posten bezogen.\" Der Streik sei ebenfalls bis zum Samstagmorgen geplant. Damit droht Deutschlands größten Seehäfen abermals Stillstand - diesmal für 48 Stunden. Die Gewerkschaft ver.di hat die Beschäftigten aufgefordert, bis zum Samstagmorgen die Arbeit niederzulegen. Die Warnstreiks sollen laut ver.di-Verhandlungsführerin Maya Schwiegershausen-Güth neben dem mit Abstand größten deutschen Seehafen Hamburg auch Emden, Wilhelmshaven und Brake betreffen. Bei einem gestern kurzfristig anberaumten Verhandlungstermin sei keine Einigung mit dem Zentralverband der deutschen Seehafenbetriebe (ZDS) gelungen. Die Verhandlungen seien aktuell unterbrochen. Dennoch strebe ver.di nach wie vor eine Lösung des Tarifkonflikts auf dem Verhandlungsweg an. Beide Seiten verhandeln für rund 12.000 Beschäftigte in 58 tarifgebundenen Betrieben in Hamburg, Niedersachsen und Bremen. Die Hafenarbeiter hatten bereits im Juni zweimal die Abfertigung von Schiffen lahmgelegt, zuletzt am 23. Juni für 24 Stunden . Ver.di fordert für die Beschäftigten eine Erhöhung der Entgelte um 1,20 Euro pro Stunde sowie einen Inflationsausgleich von 7,4 Prozent bei einer Laufzeit des Tarifvertrages von zwölf Monaten. Außerdem will die Gewerkschaft eine Aufstockung der jährlichen Zulage für Containerbetriebe um 1200 Euro durchsetzen. Der ZDS hat nach mehrmaligen Nachbesserungen zuletzt ein \"finales Angebot\" auf den Tisch gelegt, das der Verband für Containerbetriebe mit einem Volumen von bis zu 12,5 Prozent beziffert, und für konventionelle Betriebe mit 9,6 Prozent, allerdings bei einer Laufzeit von 24 Monaten. Die Auswirkungen des Warnstreiks auf die Abfertigung der Container- und Frachtschiffe dürften erheblich sein und das Be- und Entladen der Schiffe weitgehend zum Erliegen bringen. Damit verschärft sich die ohnehin gespannte Lage mit einem Schiffsstau auf der Nordsee weiter und die Abläufe an den Kaikanten dürften noch weiter aus dem Tritt geraten. ZDS-Verhandlungsführerin Ulrike Riedel nannte den Streikaufruf angesichts der zulasten von Verbrauchern und Unternehmen gestörten Lieferketten \"unverantwortlich\". Coronabedingt herrscht im globalen Verkehr von Container- und Frachtschiffen ohnehin schon lange großes Chaos. Nach jüngsten Berechnungen des Kieler Instituts für Weltwirtschaft stecken in der Nordsee mehr als zwei Prozent der globalen Frachtkapazität im Stau. Derzeit warten rund 20 Frachter auf Ankerplätzen in der Deutschen Bucht auf Abfertigung, die meisten mit Ziel Hamburg.')\n"
     ]
    },
    {
     "name": "stderr",
     "output_type": "stream",
     "text": [
      "51it [02:03,  1.02it/s]"
     ]
    },
    {
     "name": "stdout",
     "output_type": "stream",
     "text": [
      "Pandas(Index=51, tstamp=1657780323, url='/inland/schroeder-parteiausschluss-101.html', fulltext=' Die SPD startet ihr Parteiausschlussverfahren gegen Schröder. Doch ob die Partei den Altkanzler auch wirklich los wird, ist zweifelhaft. Wo ist das Problem?  Aus der tiefen Verehrung von einst ist kalte Abneigung geworden: Die SPD hat in ihrem Verhältnis zu Gerhard Schröder einen weiten Weg zurückgelegt. Wer das Ohr an die Graswurzeln der Partei legt und bei der Basis nachfragt, der bekommt eine Ahnung davon, wie tief der Frust sitzt: \"Gerhard Schröder verrät nicht nur die Werte der SPD, sondern auch Europas\", sagt Jan Bühlbecker, Vorsitzender des SPD-Ortsvereins Wattenscheid-Mitte im Gespräch mit dem ARD-Hauptstadtstudio . Bei vielen ist die Empörung über den in seiner Putin-Treue offenbar unerschütterlichen Ex-Kanzler so groß, dass sie ihn loswerden wollen: Insgesamt 17 SPD-Verbände haben ein Parteiordnungsverfahren beantragt, die meisten wollen seinen Ausschluss. Damit befasst sich nun erstmalig die Schiedskommission des Unterbezirks Hannover, Schröders Heimatbezirk. Dass der Altkanzler seinen Genossinnen und Genossen viel zugemutet hat, steht fest. Aber ob das für einen Rauswurf aus der Partei reicht, ist nun die Frage. Nach dem Ende seiner Kanzlerschaft im Herbst 2005 dauerte es nur wenige Monate, bis der erklärte Freund von Russlands Präsident Putin zum Aufsichtsratschef der Nord Stream AG wurde. Seither war Schröder in unterschiedlichen Funktionen als Gaslobbyist tätig, wiederholte seinen Satz von Putin als \"lupenreinem Demokraten\", warf noch kurz vor Beginn von dessen Angriffskrieg nicht etwa dem Mann im Kreml, sondern der Ukraine \"Säbelrasseln\" vor. Und er verhöhnte all jene, die vor einer russischen Invasion warnten: \"Es ist ja nicht gleich jeder, der sich dafür hält, ein außenpolitischer Stratege.\" Kurze Zeit später erfolgte genau diese befürchtete Invasion der Ukraine - befohlen von Schröders Freund Putin. Aus einem Mann, der sich zweifelsohne für einen Strategen hielt, war ein Störfall für seine Partei geworden. Eine Partei, der ohnehin der Ruf anhaftete, zu russlandfreundlich zu sein. Und die seit Ende Februar fieberhaft daran arbeitet, ihre Ostpolitik neu zu erfinden. Wer heute innerhalb der SPD die Genossen auf den Altkanzler Schröder anspricht, erntet neben einem Augenrollen stets die selbe Reaktion: Man distanziert sich dort,\\xa0verurteilt seine Russland-Geschäfte, betont, wie sehr er innerhalb der Partei nun isoliert sei. Doch es schwingt auch viel Erschütterung mit, was aus dem SPD-Kanzler geworden ist. Schröder war für viele ein Wegbegleiter und Förderer. Diese Erschütterung\\xa0ist auch\\xa0beim SPD-Parteivorsitzenden Lars Klingbeil zu spüren, der dem Ex-Kanzler über Jahre sehr nahe stand. Er habe ihn persönlich geprägt, aber es gehe nun nicht mehr um seine Gefühle,\\xa0machte Klingbeil bei einer Pressekonferenz klar. Es gehe nun um eine klare Haltung. Und diese sei: Schröder soll die Geschäfte mit Russland einstellen, seine Ämter niederlegen, sonst habe er in der SPD nichts mehr zu suchen. Rote Linien hat Schröder in den vergangenen Monaten reihenweise überschritten. Sei es mit seinem Besuch in Moskau, einem angeblichen Vermittlungsversuch, nicht abgesprochen mit dem Kanzleramt. Er sei nicht im Auftrag der Bundesregierung unterwegs, hieß es immer wieder zähneknirschend aus dem Umfeld von Olaf Scholz. Ein Instagram-Foto von Schröders Frau, das sie betend in einem Hotelzimmer vor dem roten Platz zeigte, garnierte die Aktion. Intern sorgte es in der SPD für noch mehr Kopfschütteln. Doch es folgten weitere Affronts wie ein Interview in der \"New York Times\", in dem sich Schröder offen dazu bekannte, dass er keine Reue zeigte, Geschäfte\\xa0mit Putin zu machen. \"Mea culpa\" sei eben nicht so sein Ding. Der Parteivorsitzenden Saskia Esken platzte daraufhin der Kragen. Man sollte aufhören, ihn als Elder Statesman - als Altkanzler - wahrzunehmen, machte sie klar. Er verdiene sein Geld mit der Arbeit für russische Staatsunternehmen. Zwar kündigte Schröder - wohl vor allem aus Angst vor EU-Sanktionen - inzwischen an, seinen Aufsichtsratsposten beim russischen Staatskonzern Rosneft niederzulegen. Doch dass er weiter an seiner Freundschaft zu Putin festhält und an die russische Verhandlungsbereitschaft glaubt, stellte der Ex-Kanzler erst dieser Tage in der \"FAZ\" klar. Schröder ist bereits eine Menge losgeworden: die Ehrenmitgliedschaft bei Borussia Dortmund, die Ehrenbürgerschaft der Stadt Hannover, sein Büro und seine Mitarbeiter im Bundestag - verliert er nun auch noch sein Parteibuch? Dazu muss ihm bewusstes parteischädigendes Verhalten nachgewiesen werden. Was, wie andere Fälle zeigen, juristisch extrem kompliziert ist. Und sich vermutlich am ehesten mit seiner Interessenkollision als Politiker und Gaslobbyist erreichen ließe. Innerhalb von drei Wochen nach der mündlichen Verhandlung muss das Schiedsgericht seine Entscheidung mitteilen. Doch mit Berufungsverhandlungen könnte das Verfahren sich Jahre hinziehen. Dass Schröder selbst zur Anhörung erscheint, gilt als so gut wie ausgeschlossen. \"Er missachtet dadurch die demokratischen Institutionen der SPD und zeigt keinen Respekt\", findet SPD-Mitglied Bühlbecker aus Wattenscheid. Doch dass \"Mea culpa\" eben nicht so sein Ding ist, hatte Schröder ja bereits klargemacht.')\n"
     ]
    },
    {
     "name": "stderr",
     "output_type": "stream",
     "text": [
      "52it [02:05,  1.09s/it]"
     ]
    },
    {
     "name": "stdout",
     "output_type": "stream",
     "text": [
      "Pandas(Index=52, tstamp=1657781018, url='/ausland/amerika/shark-awareness-day-101.html', fulltext=' Haie spielen eine wichtige Rolle für die Gesundheit der Meere und müssten besser geschützt werden, betonen US-Experten anlässlich des \"Shark Awareness Days\". Doch vor allem in den USA haben Hai-Attacken zuletzt zugenommen.  Schon wieder mehrere Hai-Angriffe an Stränden von Long Island im US-Bundesstaat New York. Ernsthaft verletzt wurde zwar niemand. Aber die Aufregung ist groß, wie der Fernsehsender CBS berichtet. Unter anderem wurde der Rettungsschwimmer Zachari Gallovon bei einem Trainingseinsatz vor der Küste von Long Island von einem Hai in die Hand gebissen. \"Dreimal habe ich zurückgeschlagen. Dann hat der Hai mit seinem Schwanz auf meine Brust geschlagen\", erzählt Gallovon.  Mehr als 40 Mal haben Haie seit Jahresbeginn Menschen in den USA angegriffen. Neben Long Island sind vor allem die Küsten des US-Bundesstaates Florida betroffen. Fast immer gehen diese Angriffe glimpflich aus. Glücklicherweise stünden Menschen nicht auf der Speisekarte von Haien, betont Neil Hammerschlag. Er leitet das Zentrum für Haiforschung und -schutz an der Universität von Miami in Florida. Und er gibt ein anschauliches Beispiel: Jedes Jahr würden in der New Yorker U-Bahn mehr Menschen von anderen Menschen gebissen als weltweit gesehen von Haien. Hai-Experten wie Hammerschlag wünschen sich ein größeres Bewusstsein für Haie. Denn die Tiere gehören zu den so genannten Schlüsselarten oder Schlüsselspezies. So nennen Biologen Tierarten, die im Vergleich zu ihrer geringen\\xa0Häufigkeit\\xa0einen sehr großen Einfluss auf die\\xa0Artenvielfalt\\xa0innerhalb eines Ökosystems haben. Zum Beispiel im Meer. Hier sind Haie so etwas wie Park-Ranger oder Aufpasser. \"Haie sind wichtig, denn sie helfen dabei, das Gleichgewicht der Lebewesen im Meer zu regulieren\", erläutert der Hai-Experte. Haie würden beispielsweise dazu beitragen, die Fischarten zurückzudrängen, die zu dominant würden und dadurch andere Arten bedrohen. Auch kranke, schwache und tote Fische werden von Haien gefressen. Sie helfen also dabei, das Meer sauber zu halten, erklärt Hammerschlag. Er gehört zu den anerkanntesten Hai-Experten der USA, wo er seit Jahren unermüdlich für den Schutz der Haie wirbt. Zu tun gebe es aber vor allem in Europa einiges, betont Hammerschlag. Zum Beispiel was den Handel mit Haifischflossen angeht, obwohl diese in Europa fast gar nicht gegessen werden. \"Haifischflossen werden allesamt nach China verkauft und von dort gehen sie weiter in andere asiatische Staaten\". Doch viele der Fischereiflotten, die diese Haifischflossen liefern, würden aus der Europäischen Union kommen. \"Eines der größten Länder beim Handel mit den Flossen ist Spanien\", sagt Hammerschlag. Mehrere nichtstaatliche Organisationen fordern die Europäische Union auf, den Handel mit Haifischflossen zu verbieten, um die Tiere besser zu schützen. Hammerschlag schätzt, dass jedes Jahr weltweit bis zu 100 Millionen Haie getötet werden. Viel zu viele seien das natürlich, aber dennoch ist der Professor der Universität Miami optimistisch. \"Noch nie zuvor haben sich so viele Menschen für Haie interessiert und für den Schutz der Meere eingesetzt wie heute. Noch nie gab es auch so viele Gesetze für den Schutz der Ozeane und der Haie.\" Das mache ihn zuversichtlich.')\n"
     ]
    },
    {
     "name": "stderr",
     "output_type": "stream",
     "text": [
      "53it [02:06,  1.09s/it]"
     ]
    },
    {
     "name": "stdout",
     "output_type": "stream",
     "text": [
      "Pandas(Index=53, tstamp=1657779134, url='/wirtschaft/unternehmen/curevac-klage-biontech-mrna-technologie-101.html', fulltext=' CureVac galt einst als großer Hoffnungsträger - doch BioNTech machte das Rennen um den mRNA-Impfstoff gegen Covid-19. Jetzt wirft CureVac dem Konkurrenten Patentrechtsverletzungen vor. Was steckt dahinter?  Zu Beginn der Covid-19-Impfstoffentwicklung bekundete der damalige US-Präsident Donald Trump großes Interesse daran, das deutsche Forschungsunternehmen CureVac in die USA zu holen. Doch daraus wurde nichts: Die EU schritt ein, der deutsche Staat wurde Hauptanteilseigner. Doch der mRNA-Impfstoff aus dem Hause CureVac wurde nicht zur erhofften Erfolgsgeschichte. Der ursprüngliche Impfstoff-Kandidat scheiterte an der letzten klinischen Studie - zu einem Zeitpunkt, als ähnliche Produkte von BioNTech und Moderna schon längst weltweit verimpft wurden. Das Tübinger Biotech-Unternehmen versucht dennoch, auf dem Corona-Impfstoff-Markt weiter mitzumischen. CureVac hat nach eigenen Angaben Klage wegen Patentverletzung beim Landgericht Düsseldorf gegen BioNTech eingereicht. Dem Tübinger Unternehmen geht es um das geistige Eigentum an vier Patenten, das verletzt worden sei. Sie betreffen den Aufbau und die Herstellung der mRNA-Sequenz, die für die Impfstoffe benötigt wird. CureVac-Sprecherin Sarah Fakih stellt klar: \"Wir sehen ganz klar den Beitrag von CureVac, der ermöglicht hat, so schnell den BioNTech-Impfstoff auf den Markt zu bringen. Wir möchten, dass unser Beitrag fair anerkannt wird.\" BioNTech reagierte auf die Vorwürfe bisher mit einer schriftlichen Stellungnahme: \"BioNTech respektiert geistige Eigentumsrechte. Die Arbeit von BioNTech ist originär, und wir werden sie entschieden gegen alle Anschuldigungen der Patentverletzung verteidigen.\" Zu Beginn der Pandemie waren die beiden deutschen Biotech-Unternehmen im globalen Wettstreit um den Impfstoff so etwas wie stille Konkurrenten. Es herrschte eine Art Waffenstillstand. Im Dezember 2020 wurde der BioNTech-Impfstoff schließlich zugelassen. Warum reicht CureVac gerade jetzt die Klage ein? \"Zum Peak der Pandemie wären wir nicht auf die Idee gekommen, die Sache auf den Tisch zu bringen. Globale Impfkampagnen, Booster-Impfungen: In diese Maßnahmen wollten wir nicht reingrätschen. Jetzt, wo es eine bessere Kontrolle über die Pandemie gibt, war daher der richtige Zeitpunkt\", so Unternehmenssprecherin Fakih. Sie hätten keine Absicht, den Zugang zu dem Impfstoff zu blockieren oder zu erschweren, so Fakih weiter. Das Unternehmen habe keine einstweilige Verfügung eingereicht, fordere kein Verbot der Patentnutzung oder den Produktionsstopp. Worum dürfte es CureVac also gehen? Manuel Kunst ist Patentanwalt und promovierter Biochemiker aus Freiburg. Aus der Klage hört er heraus: \"Sie wollen etwas vom Kuchen abhaben. CureVac braucht Geld. Andere Produkte sind schon in der Pipeline, zum Beispiel Impfstoffe gegen Krebs, und außerdem sind sie an sekundären Impfstoffen gegen COVID-19 dran - versuchen, damit doch noch auf den Markt zu kommen und zu zeigen: \\'Hallo, wir sind auch noch da\\'.\" Einst Hoffnungsträger auch für die Bundesregierung, ist CureVac eher als Verlierer aus der Pandemie hervorgegangen. Noch immer hat es kein Produkt auf den Markt gebracht. Während BioNTech Milliardengewinne macht und allein im ersten Quartal 2022 das Dreifache im Vergleich zum Vorjahr erwirtschaftete, macht CureVac weiterhin Verluste: im vorigen Jahr 412 Millionen Euro vor Steuern. Möglicher Schadenersatz oder Lizenzzahlungen könnten das Überleben von CureVac sichern. Wie hoch sich CureVac die geforderte \"faire Vergütung\" vorstellt, verrät die Tübinger Firma bisher nicht. In der Medikamentenforschung ist es üblich, in sehr frühen Forschungsstadien und noch vor Beginn von Studien eigene Entdeckungen zu schützen. Erste Patente zur mRNA-Impftechnologie meldete Curevac-Mitbegründer Ingmar Hörr bereits 1999 an, ein Jahr vor der Firmengründung. Streitigkeiten um Patentrecht hätten in den vergangenen Jahren zugenommen, stellt Rolf Hömke vom Verband forschender Arzneimittelhersteller (VFA) fest: \"Nicht, weil die Unternehmen streitlustiger geworden sind, sondern weil es um immer komplexere Moleküle oder Verfahren geht. Da ist es oft schwierig zu beurteilen, wo die Gültigkeit des einen Patents endet und die des anderen beginnt.\" Im Zusammenhang mit den zugelassenen mRNA-Impfstoffen gegen Covid-19 gibt es bereits mehrere laufende Patentauseinandersetzungen. Anwalt Kunst spricht von einem regelrechten Netzwerk an Patentanmeldungen. Das US-Pharmaunternehmen Alnylam, welches mRNA-Technologie zur Heilung von Krankheiten nutzt, hat sowohl BioNTech als auch Moderna auf Schadenersatz verklagt. CureVac geht also nicht als erstes in den Rechtsstreit. In den meisten Fällen endeten Patentklagen in der Pharmabranche allerdings im außergerichtlichen Vergleich. Das sei auch im Fall CureVac gegen BioNTech nicht auszuschließen. Eines hat CureVac in jedem Fall schon jetzt erreicht: Das Unternehmen hat sich wieder ins Gespräch gebracht.')\n"
     ]
    },
    {
     "name": "stderr",
     "output_type": "stream",
     "text": [
      "54it [02:07,  1.07s/it]"
     ]
    },
    {
     "name": "stdout",
     "output_type": "stream",
     "text": [
      "Pandas(Index=54, tstamp=1657786311, url='/ausland/europa/ukraine-getreide-105.html', fulltext=' Etwa 20 Millionen Tonnen Getreide stecken wegen der russischen Seeblockade in ukrainischen Häfen fest. Doch nach Verhandlungen mit Russland, der Türkei und den UN hofft die Ukraine auf eine schnelle Lösung.  Der ukrainische Präsident Wolodymyr Selenskyj hat sich optimistisch gezeigt, dass sein Land bald wieder Getreide exportieren kann. \"Die ukrainische Delegation hat mir mitgeteilt, dass es einige Fortschritte gibt\", sagte er in seiner Videoansprache zu den Verhandlungen in der Türkei über die Aufhebung der Seeblockade ukrainischer Häfen durch die russische Marine. Gelinge es, die russische Bedrohung der Schifffahrt im Schwarzen Meer zu beenden, werde die globale Lebensmittelkrise an Schärfe verlieren. Gestern hatten sich Vertreter der Vereinten Nationen, der Ukraine, Russlands und der Türkei in Istanbul getroffen, um eine Lösung im Getreidekonflikt zu finden. Nach Angaben des UN-Generalsekretärs António Guterres war dabei ein \"entscheidender Schritt\" gelungen. \"Heute haben wir endlich ein bisschen Hoffnung\", sagte er, ohne Details zu nennen. \"Es wird noch mehr technische Arbeit notwendig sein, damit sich der heutige Fortschritt materialisiert.\" Der türkische Verteidigungsminister Hulusi Akar gab seinerseits Einigungen bei technischen Themen wie gemeinsamen Kontrollen der Ankünfte und Ausfahrten aus den Häfen bekannt, wie die Nachrichtenagentur Anadolu berichtete. Auch bei der Gewährleistung der \"Schifffahrtssicherheit bei den Überführungsrouten\" habe man sich geeinigt. Zudem solle ein Koordinierungszentrum mit Vertretern aller Seiten am Bosporus in Istanbul entstehen. Die Verhandler der Länder wollten sich nächste Woche erneut treffen, um die Vereinbarung zu unterzeichnen, sagte Akar. In ukrainischen Häfen stecken wegen des Krieges Schätzungen zufolge etwa 20 Millionen Tonnen Getreide fest. Auf Russland und die Ukraine entfallen fast ein Drittel der weltweiten Weizenlieferungen. Hauptabnehmer sind normalerweise Staaten des Nahen Ostens und nördlichen Afrikas. Nach Einschätzung der UN könnte die derzeitige Blockade im nächsten Jahr eine Hungersnot bei bis zu 19 Millionen Menschen auslösen.')\n"
     ]
    },
    {
     "name": "stderr",
     "output_type": "stream",
     "text": [
      "55it [02:07,  1.03it/s]"
     ]
    },
    {
     "name": "stdout",
     "output_type": "stream",
     "text": [
      "Pandas(Index=55, tstamp=1657787229, url='/wirtschaft/unternehmen/deutsche-telekom-funkmasten-101.html', fulltext=' Die Deutsche Telekom verkauft die Mehrheit ihres Funkturm-Geschäfts an zwei Investoren aus Nordamerika. Das bringt dem Konzern viele Milliarden ein. Als Mieter wird die Telekom die Funkmasten weiter nutzen.  Die Deutsche Telekom verkauft ihr Funkturm-Geschäfts GD Towers an zwei nordamerikanische Partner. Die kanadische Brookfield Asset Management und DigitalBridge aus Florida, ein Spezialist für digitale Infrastruktur, übernehmen demnach 51 Prozent der Anteile an GD Towers mit einer Gesamtbewertung von rund 17,5 Milliarden Euro. Der DAX-Konzern rechnet mit Einnahmen von rund 10,7 Milliarden Euro, die unter anderem zur \"Entschuldung des Konzerns\" dienen sollen. \"Wir machen den Wert unseres Funkturmgeschäfts sichtbar und schaffen damit Wert für unsere Aktionäre\", sagte Telekom-Chef Tim Höttges. Weil der Konzern 49 Prozent der GD-Towers-Anteile behalte, werde er zudem von \"weiteren Wertzuwächsen im Funkturmgeschäft profitieren\". Laut Telekom hat der Konzern nach Abgabe der Mehrheitsanteile weiter bedeutende Minderheitsrechte. Der Bonner Konzern wolle sich nun weiter entschulden und den Weg in Richtung des angestrebten Mehrheitsanteils von 50,1 Prozent an T-Mobile US beschleunigen. Mit rund 800 Beschäftigten betreibt das Funkturmgeschäft GD Towers mehr als 40.000 Standorte in Deutschland und Österreich. Das Unternehmen erzielte im vergangenen Jahr laut der Telekom einen Umsatz von rund 1,1 Milliarden Euro, das bereinigte operative Ergebnis lag bei rund 640 Millionen Euro. Wichtigster Mieter der Funktürme ist die Telekom selbst. Diese Mietverträge werden nach Angaben des Unternehmens zu \"vorteilhaften\" Konditionen weitergeführt, darunter etwa garantierter Zugang zu strategisch entscheidenden Standorten und priorisierte Kapazität für Netzmodernisierungen. DigitalBridge und Brookfield brächten Expertise im Funkturmgeschäft und Kapital mit, um die strategischen Pläne von GD Towers weiterzuentwickeln, betonte die Telekom. Der Konzern wird die Standorte weiter mieten. Auch das Telekom-Geschäft rund um die Funktürme hatte zahlreiche Interessenten auf sich gezogen. Laut Insidern hatte auch ein Konsortium um den US-Finanzinvestor KKR Interesse bekundet, auch die spanische Cellnex hatte mit Partnern die Funktürme in Deutschland und Österreich im Visier. Letztlich konnten sich aber die beiden Unternehmen aus Nordamerika durchsetzen, deren Offerte es der Telekom möglich macht, weiter ein gewichtiges Wort in dem Geschäft mitzusprechen. Zudem kann sie mit ihrem Minderheitsanteil von künftigem Wachstum profitieren. Die Telekom folgt mit dem teilweisen Verkauf ihrer Funkmasten den Konkurrenten Vodafone und Telefonica, die bereits vor einiger Zeit ihre Funktürme ausgegliedert oder verkauft hatten. Vodafone brachte seine Funkturm-Tochter Vantage Towers im vergangenen Jahr an die Börse. Dem Konzern gehören noch rund 82 Prozent des Grundkapitals. Bei Telefonica Deutschland gehören die meisten Funktürme der US-Firma American Tower, nur ein kleiner Teil ist noch im Eigentum von O2.')\n"
     ]
    },
    {
     "name": "stderr",
     "output_type": "stream",
     "text": [
      "56it [02:09,  1.08s/it]"
     ]
    },
    {
     "name": "stdout",
     "output_type": "stream",
     "text": [
      "Pandas(Index=56, tstamp=1657784764, url='/wirtschaft/unternehmen/uniper-gespraeche-101.html', fulltext=' Die Bundesregierung strebt eine schnelle Lösung zur Rettung des Energiekonzerns Uniper an. Heute gibt es dazu ein Treffen mit der finnischen Europaministerin - denn Haupteigner von Uniper ist der finnische Konzern Fortum.  Die Verhandlungen zur Rettung des angeschlagenen Gas-Importeurs Uniper laufen seit Tagen. Heute könnte Bewegung in die Sache kommen. Die finnische Ministerin für europäische Angelegenheiten und staatliche Beteiligungsführung, Tytti Tuppurainen, trifft sich in Berlin mit Kanzleramtsminister Wolfgang Schmidt und Staatssekretär Jörg Kukies. Bei dem Treffen soll es um Uniper gehen. Das bestätigte ein Regierungssprecher auf Anfrage des ARD-Hauptstadtstudios . Bei der Rettung von Uniper könnte die finnische Regierung eine wichtige Rolle spielen. Rund 80 Prozent der Uniper-Anteile gehören der Firma Fortum. Und Fortum wird mehrheitlich vom finnischen Staat kontrolliert. Die finnische Regierung hatte zuletzt allerdings betont, Fortum könne nicht mehr Geld in Uniper investieren. Ein Sprecher des Bundeswirtschaftsministeriums hatte am Mittwoch in Berlin gesagt, die Gespräche zu Uniper dauerten an. Sie würden intensiv geführt. Es müsse kurzfristig eine Lösung für das angeschlagene Unternehmen gefunden werden. Es gehe darum eine Liquiditätskrise zu verhindern. In welchem Zeitrahmen die Gespräche abgeschlossen werden, sei nicht absehbar. Uniper ist unter Druck geraten, nachdem Russland zuletzt die Gaslieferungen nach Deutschland gedrosselt hat. Um seine Lieferverträge zu erfüllen, muss Uniper am Markt Gas zukaufen - zu deutlich höheren Preisen. Jeden Tag macht der Konzern damit aktuell laut eigenen Aussagen einen zweistelligen Millionenverlust. Vor diesem Hintergrund hat der Konzern Staatshilfen beantragt , über die der Bund mit der Unternehmen im Rahmen der Möglichkeiten des neu geschaffenen Schutzschirms verhandelt. Bundeskanzler Olaf Scholz hatte Uniper nach dessen Antrag auf Staatshilfe bereits Unterstützung zugesichert. \"Wir haben uns auf alle Fälle politisch entschieden, dass wir Uniper helfen werden\", sagte Scholz Ende voriger Woche. Auch Bundeswirtschaftsminister Robert Habeck hatte den Unternehmen Unterstützung zugesagt, aber am Wochenende mit Blick auf den finnischen Mutterkonzern Fortum erklärt, er wolle die Uniper-Eigentümer in die Pflicht nehmen: \"Es gehört ja jemandem, auch jemandem, der solvent ist und der stützen kann.\"')\n"
     ]
    },
    {
     "name": "stderr",
     "output_type": "stream",
     "text": [
      "57it [02:09,  1.12it/s]"
     ]
    },
    {
     "name": "stdout",
     "output_type": "stream",
     "text": [
      "Pandas(Index=57, tstamp=1657788730, url='/wissen/klima/pazifikstaaten-fordern-globale-sofortmassnahmen-klimawandel-101.html', fulltext=' Bei einem Treffen in Fidschi haben mehrere Pazifik-Staaten \"dringende und weltweite Maßnahmen\" gegen den Klimawandel gefordert. Die Zeit sei knapp, um die \"schlimmsten Szenarien\" für ihre Länder zu verhindern.  Mehrere Inselstaaten im Pazifischen Ozean haben die Weltgemeinschaft nach einem dreitägigen Treffen in Fidschis Hauptstadt Suva eindringlich dazu aufgerufen, mehr beim Kampf gegen die Klimaerwärmung zu tun. In einem gemeinsamen Strategiepapier erklärten die Staats- und Regierungschefs: \"Wir stehen an der Spitze bei den negativen Auswirkungen des Klimawandels\". Darum seien \"dringende, robuste und transformative Maßnahmen\" auf \"weltweiter, regionaler und nationaler\" Ebene nötig.\\xa0 Die Zeit sei knapp, um die \"schlimmsten Szenarien\" für ihre Länder zu verhindern, erklärten die Gipfelteilnehmer. Steigende Meeresspiegel und stärker werdende Stürme verursachen bereits jetzt schwerwiegende Probleme für die Pazifik-Staaten, wo viele Menschen nur knapp über dem Meeresspiegel leben. Außerdem ging es bei dem Gipfeltreffen um geopolitische Rivalitäten in der Region - insbesondere zwischen den USA und China. US-Vizepräsidentin Kamala Harris kündigte in einer Videobotschaft an, dass Washington neue Botschaften in Tonga und Kiribati eröffnen, einen Regionalgesandten ernennen und weitere 600 Millionen Dollar für die Region zur Verfügung stellen werde. Hintergrund ist, dass China bereits seit einiger Zeit versucht, eine größere militärische, politische und wirtschaftliche Präsenz in der Region aufzubauen. Zuletzt unterzeichnete Peking mit den Salomonen ein weitreichendes Sicherheitsabkommen. Der Regierungschef der Salomonen, Manasseh Sogavare, bekräftigte in Suva, dass die Einrichtung eines ausländischen Militärstützpunktes in seinem Land nicht geplant sei. Ein solcher Schritt würde den Inselstaat zu einem \"Feind\" im Pazifik machen und \"unser Land und unser Volk zu potenziellen Zielen für Militärschläge machen\", sagte Sogavare dem Fernsehsender \"RNZ Pacific\".')\n"
     ]
    },
    {
     "name": "stderr",
     "output_type": "stream",
     "text": [
      "58it [02:10,  1.12it/s]"
     ]
    },
    {
     "name": "stdout",
     "output_type": "stream",
     "text": [
      "Pandas(Index=58, tstamp=1657789217, url='/investigativ/ndr/blutplasma-153.html', fulltext=' Blutplasma wird für viele Medikamente gebraucht. Rund zwei Drittel des weltweiten Bedarfs kommen aus den USA - dort spendeten viele Mexikaner Plasma gegen Geld. Das ist nun verboten. Pharmafirmen klagen dagegen. Von Stefanie Dodt.  Blutplasma wird für viele Medikamente gebraucht. Rund zwei Drittel des weltweiten Bedarfs kommen aus den USA - dort spendeten viele Mexikaner Plasma gegen Geld. Das ist nun verboten. Pharmafirmen klagen dagegen.  Das Ausmaß des bezahlten Spendentourismus an der amerikanisch-mexikanischen Grenze war weitaus größer als bislang bekannt: Das Plasma mexikanischer Blutspender machte bis zu zehn Prozent der insgesamt produzierten Mengen in den Vereinigten Staaten und sechs Prozent der weltweiten Plasmaspenden aus. Das zeigen Gerichtsunterlagen aus den USA, die dem NDR und \"ProPublica\" vorliegen. Die beiden Medien hatten im Jahr 2019 berichtet, dass jede Woche mindestens 10.000 Mexikaner von Pharmafirmen über die US-Grenze gelockt werden, um dort ihr Blutplasma zu verkaufen. Plasma, das auch in Deutschland landete, um hier zu Medikamenten verarbeitet zu werden. Die Spender waren häufig finanziell von der Bezahlung abhängig und riskierten aufgrund der hohen Spendenfrequenz ihre Gesundheit. Jetzt wird deutlich: Es waren noch viele mehr. Ein führender Manager der spanischen Pharmafirma Grifols erklärt laut Gerichtsakten, dass allein in den von Grifols betriebenen Zentren in Texas \"rund 30.000 Mexikaner [jährlich] etwa 600.000 Liter Plasma\" spenden. Grifols führt demnach 18 Spendenzentren in Texas, insgesamt gibt es mehr als 50 Zentren entlang der Grenze. \"Mexikanische Spender sind besonders loyal und selbstlos\", heißt es in seiner Erklärung. Den Reportern gegenüber hatte Grifols die Bedeutung der Grenzzentren heruntergespielt und stets betont, dass die meisten Spendenzentren in weiter Distanz zur Grenze liegen. Jetzt räumte ein hochrangiger Vertreter von Grifols gegenüber NDR und \"ProPublica\" ein, dass durch das Verbot vor einem Jahr insgesamt rund drei Millionen Liter Plasma fehlten. Nach Deutschland gelangten 2020 rund 5,5 Millionen Liter Blutplasma aus den USA, auch aus der Grenzregion, vor allem weil große Pharmafirmen das Plasma hier weiterverarbeiten - für den inländischen Markt und den erneuten Export. Daraus lassen sich Arzneien gegen chronische Immunerkrankungen, zur Krebstherapie und für die Notfallmedizin herstellen. In den USA werden rund zwei Drittel des weltweiten Blutplasmas gewonnen, von dem Europa stark abhängt, um den stetig wachsenden Bedarf nach den Medikamenten zu decken. Während der Europarat bislang vorschlägt, dass Spender 33 Mal im Jahr Plasma spenden sollten und Deutschland bis zu 60 Spenden zulässt, darf ein US-Spender zwei Mal pro Woche, also 104 Mal pro Jahr spenden. Anders als in Deutschland ist in US-Spendenzentren kein Arzt dauerhaft vor Ort und zentrale Blutwerte der Spender werden deutlich seltener überprüft. In Deutschland sinken die Spendenzahlen für Blut und Plasma stetig. Nach der Veröffentlichung von NDR, SWR , \"SZ\" und \"ProPublica\" hatte die US-Grenzschutzbehörde eine interne Leitlinie verschickt, die faktisch den Spendentourismus an der Grenze zu Mexiko im Juni 2021 als verboten erklärte und zum Erliegen brachte. Grifols sowie die australische Firma CSL klagten dagegen, verloren in erster Instanz und erreichten in zweiter Instanz, dass ihrer Berufung stattgegeben wurde. Nun liegt der Fall wieder bei einem Gericht in Washington, das darüber entscheiden muss, ob mexikanische Spender die Grenze in Zukunft wieder überqueren dürfen. Auch die Plasma Protein Therapeutics Association (PPTA), die viele Pharmafirmen vertritt, argumentiert gegenüber den US-Gerichten nun anders als bislang gegenüber den Journalisten. 2019 hieß es in einem Statement der Firma gegenüber dem NDR , dass einige Spendenzentren \"zufällig in Bereiche fallen, die als Grenzzone definiert werden\". Auf Spendenzahlen habe man keinen Zugriff. In einer Erklärung vor Gericht heißt es nun, dass ein \"Zentrum im Grenzbereich durchschnittlich 31 Prozent mehr Plasma als ein durchschnittliches Zentrum im Rest des Landes\" erhält. Seit dem Verbot hätten die Zentren zwischen 20 und 90 Prozent weniger Spenden verzeichnet, wie Zahlen aus zwölf Spendenzentren zeigen würden. In einem Fall sammelt ein Zentrum nun statt 5000 Spenden die Woche nur noch etwa 200 ein, so die Präsidentin der PPTA, Amy Enfantis, in ihrer Erklärung vor Gericht. Facebook-Werbung der Firmen zeigt, dass inzwischen bis zu 1000 US-Dollar monatlich für neue Plasmaspender geboten wird, 2019 waren es noch rund 400 Dollar. Die Gerichtsunterlagen bestätigen auch, dass die Spendenzentren alles andere als zufällig im Grenzbereich stehen, sondern Teil von \"strategischen Bemühungen\" waren, die auf mexikanische Spender abzielten. In einem Vermerk der Anwälte der Firmen heißt es, dass die Firmen \"Millionen Dollar in den letzten Jahren für Werbung ausgegeben haben, um mexikanische Bürger zu ermutigen, in einem der Zentren an der Grenze gegen Geld Plasma zu spenden\". In Mexiko ist das Spenden von Blut und Plasma gegen Geld sowie die Werbung dafür illegal. Viele frühere Spender sind verärgert über das bestehende Verbot. \"Jetzt sind wir wohl keine Helden mehr, die Leben retten\", hieß es in einem Kommentar auf einer Grifols Firmenseite auf Facebook, der später gelöscht wurde. \"Sie haben uns nur benutzt\". Andere sind erleichtert, dass nun die Legalität des Grenzspendens geklärt wird. Genesis, eine 23-Jährige Studentin aus dem mexikanischen Ciudad Juarez, sagte NDR und \"ProPublica\", dass sie klare Regeln befürworten würde und bislang große Angst an der Grenze hatte, da nicht klar war, ob das Spenden gegen Geld in den USA legal war. Bislang hatten Grenzschutzbeamte von Fall zu Fall entschieden, ob Mexikaner mit Besuchervisa zu diesem Zweck die Grenze überqueren dürften. Der Chef eines Spendenzentrums, der nicht mit Namen genannt werden möchte, sagte, er würde sehr darauf hoffen, dass das Verbot wieder fallen gelassen wird. Er habe etwa zwei Drittel seiner Mitarbeiter entlassen und die Öffnungszeiten reduzieren müssen. \"Die Menschen sind abhängig von dieser Sache, auf beiden Seiten.\"')\n"
     ]
    },
    {
     "name": "stderr",
     "output_type": "stream",
     "text": [
      "59it [02:12,  1.10s/it]"
     ]
    },
    {
     "name": "stdout",
     "output_type": "stream",
     "text": [
      "Pandas(Index=59, tstamp=1657786717, url='/inland/innenpolitik/verschaerfung-regeln-gegen-bestechlichkeit-101.html', fulltext=' Die Ampelkoalition will die Regeln gegen Bestechlichkeit von Abgeordneten verschärfen, da die lukrativen Maskendeals für zwei CSU-Politiker juristisch ohne Folgen blieben. Die Notwendigkeit wird auch in der Union gesehen.  Die Regierungskoalition strebt eine zügige Verschärfung der Regeln gegen die Bestechlichkeit von Abgeordneten an. Dies ist die Folge der Entscheidung des Bundesgerichtshofs in der Maskenaffäre zugunsten zweier CSU-Politiker . Das Gericht hatte den Vorwurf der Bestechlichkeit gegen einen bayerischen Landtagsabgeordneten und einen einstigen Bundestagsabgeordneten als nicht erfüllt angesehen. Bestehende Strafbarkeitslücken müssten \"schnellstmöglich\" geschlossen werden, sagte die rechtspolitische Sprecherin der SPD-Bundestagsfraktion, Sonja Eichwede, dem \"Tagesspiegel\". Man arbeite bereits intensiv an einer wirksamen und praxistauglichen Gesetzesverschärfung, sagte sie weiter. Dazu stehe man innerhalb der Ampelfraktionen im engen Austausch und sei in Gesprächen mit dem Bundesministerium der Justiz. \"Angesichts der schamlosen Selbstbereicherung einzelner Abgeordneter aus CDU/CSU mit Maskendeals sind viele Menschen zurecht empört, dass diese Abgeordneten nun straffrei bleiben\", sagte Britta Haßelmann dem Redaktionsnetzwerk Deutschland (RND). Die Fraktionschefin der Grünen betont, im Koalitionsvertrag stehe: \"Wir werden den Straftatbestand der Abgeordnetenbestechung und -bestechlichkeit wirksamer ausgestalten.\" \"Das müssen wir jetzt angehen\", sagte Haßelmann. Auch der SPD-Fraktionsvize Dirk Wiese zeigte sich empört über das Urteil. Bei Abgeordnetenbestechung und -bestechlichkeit handele es sich \"um keine Lappalie, sondern um nunmehr ein Verbrechen\", sagte Wiese. Schuld sei jedoch nicht das Gericht, sondern die bestehenden Gesetze, erläuterte der Grünen-Politiker Konstantin von Notz. \"Es musste auf Grundlage der bestehenden gesetzlichen Regelungen entscheiden. Diese reichen nicht aus. Das wurde nun noch einmal schmerzhaft deutlich\", sagte von Notz dem \"Tagesspiegel\". Auch die CSU sieht die Notwendigkeit gesetzlicher Änderungen. \"Das Gesetz zur Abgeordnetenbestechlichkeit muss verschärft werden\", sagte der CSU-Bundestagsabeorndete Volker Ullrich, der \"Augsburger Allgemeinen\". Die BGH-Entscheidung zeige, dass gehandelt werden müsse. \"Wenn immer es einen direkten Mandatsbezug gibt und daraus Geschäfte entstehen, sollte es künftig von der Vorschrift umfasst sein\", so Ullrich. Er werde sich in der Unionsfraktion dafür einsetzen. Die Entscheidung des BGH sei zu respektieren, das Handeln der beiden Politiker sei dennoch \"grundfalsch\" gewesen, betonte er. \"Mit der Krise Geld zu verdienen, mag nicht strafbar gewesen sein. Es bleibt aber politisch und moralisch verwerflich.\" Die langjährigen CSU-Abgeordneten Alfred Sauter und Georg Nüßlein hatten in der ersten Phase der Corona-Pandemie beim Ankauf von Masken durch die Bundesregierung und die bayerische Staatsregierung vermittelt - und dafür üppige Provisionen erhalten. Nach Darstellung des BGH hatte eine GmbH, deren Geschäftsführer Nüßlein ist, 660.000 Euro erhalten. Eine Firma, auf die Sauter maßgeblichen Einfluss hat, erhielt sogar mehr als 1,2 Millionen Euro. Nüßlein, der einst für die CSU im Bundestag saß, trat in Folge der Affäre aus der CSU aus, der Landtagsabgeordnete Sauter aus der Fraktion. Sauter gab überdies alle Parteiämter ab, insbesondere seine Sitze in CSU-Vorstand und -Präsidium sowie den CSU-Kreisvorsitz Günzburg.')\n"
     ]
    },
    {
     "name": "stderr",
     "output_type": "stream",
     "text": [
      "60it [02:14,  1.34s/it]"
     ]
    },
    {
     "name": "stdout",
     "output_type": "stream",
     "text": [
      "Pandas(Index=60, tstamp=1657790530, url='/wirtschaft/weltwirtschaft/eu-gas-notfallplan-103.html', fulltext=' Kommende Woche stellt die EU-Kommission ihren Entwurf eines Gas-Notfallplans vor. Er enthält unter anderem empfohlene Höchsttemperaturen für das Heizen von öffentlichen Gebäuden und Geschäftsgebäuden. Ein Überblick.  Die EU-Kommission arbeitet an einem Gas-Notfallplan. Er enthält eine Reihe von Maßnahmen, um auf einen möglichen Gasmangel im Herbst oder Winter zu reagieren. Zugleich sind Empfehlungen und Schritte vorgesehen, um Versorgungsengpässen vorzubeugen oder deren Auswirkungen zu minimieren. \"Wenn wir jetzt handeln, könnten die Auswirkungen einer plötzlichen Versorgungsunterbrechung um ein Drittel reduziert werden\", heißt es in dem ersten Entwurf, aus dem mehrere Nachrichtenagenturen zitieren. Offiziell wird die EU-Kommission ihren Entwurf in der kommenden Woche vorstellen. Doch eine Reihe von Details sind bereits im Vorfeld bekannt geworden, auch wenn noch Änderungen bis zur offiziellen Präsentation möglich sind. Es gebe mittlerweile ein \"erhebliches Risiko\", dass Russland in diesem Jahr Gaslieferungen nach Europa stoppe. Unternehmen, die Gas ersetzen können, sollten ihren Verbrauch reduzieren, heißt es in dem Papier. Ziel sei es, Industrien zu schützen, die für die Lieferketten und die Wettbewerbsfähigkeit besonders wichtig sind. Auch Haushalte werden dazu aufgerufen, freiwillig weniger zu verbrauchen. \"Jeder kann Gas sparen, jetzt\", schreibt die EU-Kommission. Konkret schlägt sie vor, dass in öffentlichen Gebäuden und Geschäftsgebäuden weniger geheizt wird - als mögliche Obergrenze nennt die EU-Kommission dabei eine Temperatur von 19 Grad. Diese reduzierte Heiztemperatur sollen die EU-Staaten nach der Vorstellungen aus Brüssel im Winter anordnen dürfen. Außerdem folgt die EU-Kommission den Vorstellungen der Bundesregierung, Unternehmen mit finanziellen Anreizen zum Verzicht auf den Verbrauch von Gas zu motivieren - etwa über Auktionen. Firmen sollen aber auch beim Umstieg auf andere Energieträger national gefördert werden können. Die Regierung der EU-Staaten sollten dem Entwurf zufolge auch entscheiden, in welcher Reihenfolge sie die Industrie im Falle eines Versorgungsengpasses zur Schließung zwingen würden. Bei der Anordnung soll danach berücksichtigt werden, wie wichtig eine Anlage ist und wie sich ihre Schließung auf die Lieferketten auswirken würde. In Deutschland werden hierzu derzeit durch die Bundesnetzagentur ohnehin bereits Kriterien für den Fall notwendiger Abschaltungen infolge einer Gasmangellage vorbereitet - auf Basis des deutschen Gas-Notfallplans. Im Entwurf für den EU-weiten Gas-Notfallplan betonte die EU-Kommission, dass Haushalte nach EU-Recht \"geschützte Kunden\" sind. Das bedeutet, dass sie als letzte von einer Gasrationierung betroffen wären. Wenn die Stromproduktion in Gefahr sei, könnten Länder jedoch die Versorgung von Gaskraftwerken für die Stromversorgung über bestimmte geschützte Verbraucher stellen, heißt es. Die Länder könnten zudem anderen Verbrauchern wie Büros oder Einkaufszentren im Falle einer ernsten Gasknappheit verpflichtende Heiz- oder Kühlbeschränkungen auferlegen. Für die Zeit von Oktober bis März schlägt die EU-Kommission zudem umfangreiche Kampagnen zur Einsparungen beim Gasverbrauch vor. Damit sollen Privathaushalte aufgerufen werden, \"das Thermostat um ein Grad herunterzudrehen\".')\n"
     ]
    },
    {
     "name": "stderr",
     "output_type": "stream",
     "text": [
      "61it [02:14,  1.02s/it]"
     ]
    },
    {
     "name": "stdout",
     "output_type": "stream",
     "text": [
      "Pandas(Index=61, tstamp=1657793983, url='/wirtschaft/konjunktur/deutschland-erdgas-speicher-fuellstand-101.html', fulltext=' Der Stopp der russischen Gaslieferungen durch die Ostsee-Pipeline Nord Stream 1 macht sich offenbar an den Füllständen der deutschen Speicher bemerkbar. Erstmals seit vielen Wochen gab es wieder ein Minus.  Am Montag hat die Wartung der Erdgaspipeline Nord Stream 1 begonnen, seitdem liefert Russland kein Gas mehr über die Rohrleitung. Das wirkt sich offenbar auf die vorhandenen Gasvorräte Deutschlands aus: Nach Informationen von Europas Gasinfrastruktur-Betreiber (GIE) sank der Füllstand der deutschen Gasspeicher innerhalb eines Tages um 0,06 Prozentpunkte auf 64,53 Prozent. Am Vortag war er noch um 0,09 Punkte angestiegen. \"Es wird jetzt wieder ausgespeichert - allerdings nur in geringem Umfang\", sagte eine Sprecherin der Bundesnetzagentur. Angesichts der fehlenden Lieferungen aus Russland bedienten sich die Gasversorger anderweitig. Sie kauften entweder woanders auf dem Markt ein oder griffen auf die Gasspeicher zurück. Das sei auch eine Frage des Preises. Nach Angaben der Betreibergesellschaft sollen die Arbeiten bis zum 21. Juli dauern. In Deutschland geht die Sorge um, dass die Pipeline nach den Wartungsarbeiten nicht wieder in Betrieb genommen und im Winter das Gas knapp wird. Um eine Gasmangellage im Winter zu vermeiden, ist Deutschland aktuell bemüht, seine Gasspeicher so schnell wie möglich zu füllen. Laut Gesetz sollen die Gasspeicher bis zum 1. Oktober zu 80 Prozent und bis zum 1. November zu 90 Prozent gefüllt sein. Am 18. März hatte der Füllstand der deutschen Erdgasspeicher mit 24,19 Prozent den absoluten Tiefststand im laufenden Jahr erreicht. Der nun erfolgte Rückgang ist das erste Minus innerhalb von 24 Stunden seit dem 8. Juni. Damals war der Speicherstand um 0,09 Punkte gesunken. Dieser Rückgang folgte damals auf eine besonders starke Phase der Gaseinspeicherung. Denn vom 1. bis 7. Juni war der Füllstand insgesamt um gut vier Punkte geklettert - im Schnitt um 0,58 Punkte pro Tag. Am Gasmarkt führte die neuesten Daten zunächst zu keinen weiteren Preissteigerungen. Am niederländischen Gashandelspunkt TTF gaben die Preise für die kommenden sechs Monate tendenziell leicht nach. Dennoch liegen sie immer noch im Bereich von 180 Euro pro Megawattstunde, das sind umgerechnet 18 Cent je Kilowattstunde. Allerdings sind in diesen Preisen noch nicht die staatlich vorgeschriebenen Preisbestandteile, Steuern und auch die Gewinnmarge der Energieversorger enthalten.')\n"
     ]
    },
    {
     "name": "stderr",
     "output_type": "stream",
     "text": [
      "62it [02:14,  1.21it/s]"
     ]
    },
    {
     "name": "stdout",
     "output_type": "stream",
     "text": [
      "Pandas(Index=62, tstamp=1657790992, url='/wirtschaft/unternehmen/starbucks-schliesst-shops-101.html', fulltext=' Starbucks schließt mehrere Kaffeeläden in US-Innenstädten - aus Sorge um die Sicherheit von Kunden und Angestellten, heißt es. Einige Beschäftigte halten die Gründe jedoch für vorgeschoben.  Das US-Unternehmen Starbucks schließt mehr als ein Dutzend Kaffeeläden in US-Innenstädten aus Sorge um die Sicherheit von Kunden und Angestellten. Die betroffenen Ecken der Innenstädte stünden Problemen wie steigendem Drogenkonsum und den Folgen psychischer Erkrankungen gegenüber, heißt es in einem Schreiben der Unternehmensführung an die Angestellten. Mari Cosgrove, die in einem der betroffenen Shops in Seattle arbeitet, sagt im Lokalfernsehen, sie halte die Gründe für fingiert: \"Ich war beleidigt. Die Angestellten erklären, wir haben keine Probleme. Und dann wird ihnen gesagt, doch, ihr habt Sorgen und deshalb schließen wir.\" Starbucks hat dem Vorwurf widersprochen, das Unternehmen ziehe sich zurück, um einer stark wachsenden Zahl vom Betriebsratsgründungen zu entgehen. In Los Angeles zum Beispiel gebe es bisher in keinem der sechs Läden, die geschlossen werden sollen, Bestrebungen von Angestellten, sich gewerkschaftlich zu organisieren. Es ist auch nicht ungewöhnlich, dass die Kaffeekette Läden schließt. Laut Geschäftsbericht sind im vergangenen Jahr über 420 Shops verschwunden und fast 450 neu eröffnet worden. Bei der aktuellen Ankündigung sei aber die Begründung der wachsendne Kriminalität neu, schreibt die \"Washington Post\". In großen US-Städten wie New York, Detroit und Los Angeles hat die Zahl der Straftaten seit Beginn der Pandemie wieder zugenommen. Auch wenn die Innenstädte von den katastrophalen Zuständen in den 80er- und 90er-Jahren weit entfernt sind, ist das für Geschäfte und Handel schon jetzt ein Problem. Man sei immer davon ausgegangen, dass sich die Situation bessert, wenn die Leute wieder arbeiten, wenn die Kinder wieder in die Schule gehen, sagt Christophe Herrmann, Assistenzprofessor am John Jay College für Strafjustiz im Gespräch mit der Zeitung \"USA Today\". Aber das sei nicht das, was man derzeit erlebe. Und so sind es nicht nur die großen Ketten, die sich aus Teilen der Innenstadt zurückziehen. Auch Einzelhändler verlieren das Vertrauen, zumal sie immer noch mit den wirtschaftlichen Folgen der Pandemie zu kämpfen haben: \"Wir müssen jetzt etwas tun. Dass Starbucks sich zurückzieht, ist ein schlechtes Zeichen. Es müsse etwas geschehen\", sagt Matthew Humphrey, der in Seattle einen Friseurladen betreibt. Zwei Mal wurde in sein Geschäft schon eingebrochen.')\n"
     ]
    },
    {
     "name": "stderr",
     "output_type": "stream",
     "text": [
      "63it [02:15,  1.34it/s]"
     ]
    },
    {
     "name": "stdout",
     "output_type": "stream",
     "text": [
      "Pandas(Index=63, tstamp=1657798647, url='/wirtschaft/verbraucher/eugh-abschaltvorrichtungen-diesel-101.html', fulltext=' Wann darf die Abgasreinigung abgeschaltet werden? Das kommt darauf an - etwa auf die Temperatur, entschied nun der EuGH. Von einem weiteren anstehenden Urteil hängt ab, wie gut die Chancen von Diesel-Kunden auf Schadensersatz sind.  Im Zuge des Dieselskandals verklagten viele Autokäufer Volkswagen und andere Autohersteller auch wegen der Nutzung von sogenannten Thermofenstern auf Schadensersatz. Thermofenster bedeutet in diesem Zusammenhang, dass die Abgasreinigung nur in einem bestimmten Temperaturbereich vollständig läuft und außerhalb dieses \"Fensters\" reduziert oder ganz abgeschaltet wird. Aus Sicht des Gerichtshofs der Europäischen Union (EuGH) ist ein solches Thermofenster nur unter strengen Voraussetzungen zulässig. Und zwar nur dann, wenn die Abschalteinrichtung \"ausschließlich notwendig\" ist, um eine Beschädigung des Motors oder einen Unfall zu vermeiden und es dafür keine andere technische Möglichkeit gab. Inwieweit dies der Fall ist, müssen die nationalen Gerichte prüfen. Der EuGH schiebt allerdings ein großes \"Aber\" hinterher: Jedenfalls unzulässig sei eine Abschalteinrichtung, die \"den überwiegenden Teil des Jahres\" aktiv sein müsste, um den Motor vor Beschädigung oder vor einem Unfall zu schützen. Nach Angaben des EuGH lief die Abgasreinigung in dem konkreten Fall nur zwischen 15 und 33 Grad Celsius und unterhalb von 1000 Höhenmetern vollständig. Außerhalb des Bereichs wurde sie verringert. \"Das vorlegende Gericht gibt zu bedenken, dass in Österreich die Temperatur die meiste Zeit des Jahres unter 15 Grad Celsius liege.\" Volkswagen widerspricht dem: Die Abgasreinigung werde erst bei unter zehn Grad reduziert. Die Abgasreinigung sei \"die meiste Zeit des Jahres zu 100 Prozent\" aktiv. Aus Sicht des Konzerns sind die Auswirkungen des Urteils auf Volkswagen deshalb \"gering\". Volkswagen sieht sich durch das Urteil außerdem in seiner Rechtsauffassung bestätigt: \"Nach den Kriterien, die der EuGH in seinem Urteil aufgestellt hat, bleiben die in Fahrzeugen des VW-Konzerns verwendeten Thermofenster zulässig. Sie schützen vor unmittelbaren Risiken für den Motor in Form von Beschädigungen oder Unfall. Die Risiken wiegen so schwer, dass sie eine konkrete Gefahr beim Betrieb des Fahrzeugs darstellen.\" Hintergrund des Urteils sind Schadensersatzklagen von Kunden aus Österreich. Die Entscheidung des EuGH ist aber auch für alle anderen nationalen Gerichten bindend. Auch in Deutschland sind zahlreiche Schadensersatzklagen von Diesel-Kunden anhängig, die auf die Verwendung von Thermofenstern gestützt sind. Inwieweit sie tatsächlich Ansprüche haben, ist mit dem heutigen Urteil noch nicht geklärt. Wie gut ihre Chancen sind, hängt auch von einem weiteren EuGH-Urteil ab, das im Laufe des Jahres erwartet wird. In diesem Verfahren hatte der Generalanwalt des EuGH Anfang Juni seine Schlussanträge veröffentlicht, mit denen er eine rechtliche Einschätzung abgibt. Er sieht dabei zwei wesentliche Punkte anders als der deutsche Bundesgerichtshof in seiner bisherigen Rechtsprechung. So geht der Generalanwalt davon aus, dass die EU-Abgasregeln teilweise drittschützenden Charakter haben - das heißt, dass sie auch die Rechte von Diesel-Kunden schützen sollen. Das hätte zur Folge, dass Autobauer auch schon dann haften, wenn sie Abgasnormen fahrlässig verletzt haben. Bisher mussten Kläger ihnen Sittenwidrigkeit nachweisen, was viel schwieriger zu beweisen ist, vor allem beim Einbau von Thermofenstern. Außerdem hat sich der Generalanwalt zum Umfang des Schadensersatzes geäußert. In Deutschland müssen sich Betroffene für jeden Kilometer, den sie mit ihrem Auto gefahren sind, einen bestimmten Cent-Betrag von der Schadensersatzsumme abziehen lassen. Bei Vielfahrern kann das dazu führen, dass nichts mehr übrig bleibt vom Schadensersatz. Aus Sicht des Generalanwalts ist das nicht mit dem EU-Recht zu vereinbaren. Der Gerichtshof ist nicht an die Schlussanträge des Generalanwalts gebunden. Er kann also auch anders entscheiden. Der Bundesgerichtshof will die Entscheidung nun abwarten, bevor er weiter über Diesel-Verfahren verhandelt. Und hat dazu auch die unteren Gerichte aufgerufen.')\n"
     ]
    },
    {
     "name": "stderr",
     "output_type": "stream",
     "text": [
      "64it [02:15,  1.42it/s]"
     ]
    },
    {
     "name": "stdout",
     "output_type": "stream",
     "text": [
      "Pandas(Index=64, tstamp=1657795845, url='/wirtschaft/konjunktur/eu-prognose-inflation-konjunktur-101.html', fulltext=' Die Preise in der Eurozone werden in diesem Jahr so stark steigen wie noch nie. Die EU-Kommission sagt nun eine Teuerung von 7,6 Prozent voraus. Die Wirtschaft werde langsamer wachsen als zuletzt erwartet.  Die Folgen des russischen Angriffs auf die Ukraine treiben die Teuerungsrate nach Einschätzung der EU-Kommission auf ein Rekordniveau und verlangsamen die wirtschaftliche Erholung. Die Behörde erwartet laut ihrer in Brüssel vorgelegten Sommerprognose für 2022 eine Inflationsrate von 7,6 Prozent in der Eurozone. Sie korrigierte damit ihre Schätzung vom Mai nochmals um 1,5 Prozentpunkte nach oben. Dies geschah auch vor dem Hintergrund, dass die Teuerungsrate im Juni mit 8,6 Prozent einen neuen Höchstwert erreicht hatte. Auch das Wirtschaftswachstum in Europa leidet unter den Folgen des Ukraine-Kriegs. Die EU-Kommission rechnet nun für das laufenden Jahr noch mit einem Plus des Bruttoinlandsprodukts von 2,6 Prozent. Für 2023 sagt sie den Ländern der Euro-Zone nur noch ein geringes Wirtschaftswachstum von 1,4 Prozent voraus. EU-Wirtschafts- und Währungskommissar Paolo Gentiloni sieht die Folgen des Ukraine-Kriegs als Hauptgrund der Entwicklung. \"Russlands grundlose Invasion der Ukraine sendet weiter Schockwellen durch die Weltwirtschaft.\" Dadurch würden die Energie- und Getreideversorgung durcheinandergebracht. In der Folge stiegen die Preise, und das Vertrauen leide. In Europa habe das Hochfahren der Wirtschaft nach der Corona-Pandemie zwar das Wachstum angekurbelt. Doch trotz einer vielversprechend angelaufenen Urlaubssaison im Sommer sei für die zweite Jahreshälfte nur mit einer gedämpften Wirtschaftsaktivität zu rechnen. Die EU\\xa0räumt in ihrer Prognose ein, dass es der russische Präsident Wladimir Putin in den kommenden Monaten in der Hand habe, die EU-Wirtschaft aus dem Tritt zu bringen. Die Prognosen der wirtschaftlichen Aktivität und der Inflation seien abhängig von der Entwicklung des\\xa0Kriegs in der Ukraine \"und insbesondere seinen Folgen auf die Gasversorgung Europas\", hieß es in einer Erklärung. Aber auch die noch nicht ausgestandene Corona-Pandemie könne für weiteren Abschwung sorgen. Für Deutschland erwartet die EU-Kommission 2022 eine Teuerungsrate von 7,9 Prozent und für 2023 von 4,8 Prozent. Ihre Prognose für das Wirtschaftswachstum schraubte sie zugleich für dieses Jahr auf 1,4 Prozent zurück. Für 2023 erwartet sie ein Plus des deutschen Bruttoinlandsprodukt von 1,3 Prozent. ')\n"
     ]
    },
    {
     "name": "stderr",
     "output_type": "stream",
     "text": [
      "65it [02:16,  1.70it/s]"
     ]
    },
    {
     "name": "stdout",
     "output_type": "stream",
     "text": [
      "Pandas(Index=65, tstamp=1657800223, url='/kultur/van-gogh-selbstportraet-101.html', fulltext=' Bei den Vorbereitungen für eine Ausstellung in der Schottischen Nationalgalerie haben die Kuratoren per Zufall offenbar ein Selbstporträt des Künstlers van Gogh entdeckt. Das Bild befindet sich auf der Rückseite eines Gemäldes.  Ein unbekanntes Selbstporträt mutmaßlich vom niederländischen Maler Vincent van Gogh (1853-1890) ist durch Zufall in einem schottischen Museum entdeckt worden. Es handele sich \"sehr wahrscheinlich\" um eine Zeichnung des berühmten Künstlers, teilte die Schottische Nationalgalerie in Edinburgh mit. Das Bild, das einen bärtigen Mann mit Halstuch und Hut zeigt, sei entdeckt worden, als das Van-Gogh-Gemälde \"Kopf einer Bäuerin mit weißer Haube\" (1885) zur Vorbereitung einer Ausstellung mit Röntgenstrahlen untersucht wurde. Das Selbstporträt befinde sich auf der Rückseite der Leinwand. Es sei mit mehreren Schichten Leim und Pappe überklebt gewesen, die vermutlich zu Beginn des 20. Jahrhunderts wegen einer Ausstellung angebracht wurden. Es sei bekannt, dass van Gogh die Rückseite von Gemälden nutzte, um Geld zu sparen. Das linke Ohr, das sich der Maler 1888 abschnitt, ist deutlich zu sehen. Die Zeichnung muss also vorher entstanden sein. Die Kuratoren glauben, dass das Bild zu einer Reihe experimenteller Selbstporträts gehört. Fünf ähnliche Werke sind im Van Gogh Museum in Amsterdam ausgestellt. Der Künstler malte sie, bevor er 1886 nach Paris zog. Die Galerie will Besuchern mithilfe einer speziell angefertigten Lichtbox einen Blick auf die Skizze ermöglichen. Kuratorin Frances Fowle zeigte sich \"völlig begeistert\". \"Solche Momente sind unheimlich selten\", sagte sie. \"Wir haben ein unbekanntes Werk von Vincent van Gogh entdeckt, einem der wichtigsten und bekanntesten Künstler der Welt.\" Dies sei ein unvorstellbares Geschenk für Schottland und ein \"weiterer kleiner Schatz, der uns diesen unglaublichen Künstler ein wenig näher bringt\". Experten schließen nicht aus, dass die Werke getrennt werden können. Allerdings stelle vor allem das Entfernen von Leim und Pappe eine Herausforderung dar, um das Gemälde auf der anderen Seite nicht zu beschädigen.')\n"
     ]
    },
    {
     "name": "stderr",
     "output_type": "stream",
     "text": [
      "66it [02:16,  1.75it/s]"
     ]
    },
    {
     "name": "stdout",
     "output_type": "stream",
     "text": [
      "Pandas(Index=66, tstamp=1657798366, url='/wirtschaft/weltwirtschaft/eugh-herkunftsbezeichungen-101.html', fulltext=' Parma-Schinken aus Parma, Champagner aus der Champagne: Geschützte Ursprungsbezeichungen spielen im EU-Recht eine wichtige Rolle. Hierzu hat der EuGH nun ein Urteil zu Lasten Dänemarks gefällt.  Dänemark hat ein Vertragsverletzungsverfahren der EU-Kommission verloren. Grund: Das Land hat nichts dagegen unternommen, dass Käse, der in Dänemark hergestellt wurde, als Feta-Käse in Drittländer außerhalb der EU verkauft wurde. Das war widerrechtlich, sagt der Europäische Gerichtshof (EuGH). Denn Feta sei seit 20 Jahren eine geschützte Ursprungsbezeichnung - kurz: g.U. - für ein bestimmtes Gebiet in Griechenland. Die Dänen hatten die Ansicht vertreten, die Ausfuhr ihres unechten Feta-Käses sei nur in EU-Länder verboten, nicht aber in Drittländer außerhalb der Europäischen Union. Doch davon stehe nichts in der Verordnung, so die Richter am höchsten europäischen Gericht in Luxemburg. Ursprungsbezeichnungen und geografische Angaben sollen das geistige Eigentum ihrer Schöpfer schützen, und zwar auch außerhalb der Union. Diese Ziele hat Dänemark beeinträchtigt, weil es zuließ, dass Feta-Käse, der kein Feta-Käse ist, exportiert wurde - wohin auch immer. Dänemark muss nun schleunigst dafür sorgen, dass der Export des verbotenen Feta-Käses aufhört, ansonsten drohen eine weitere Klage und finanzielle Sanktionen. Die Vertragsverletzungsklage der EU-Kommission gegen Kopenhagen haben Griechenland und Zypern unterstützt. Sie profitieren von der seit 2002 geltenden EU-Verordnung. Danach darf Feta-Käse nur so heißen, wenn er aus Schafs- und/oder Ziegenmilch besteht, in Salzlake gereift ist und auf dem griechischen Festland und den Inseln der ehemaligen Präfektur Lesbos hergestellt wurde. Dänischer sogenannter Feta hingegen wird fast nur aus Kuhmilch produziert. Der Europäische Gerichtshof erklärt auch, warum er die Ursprungs- und die geografischen Bezeichnungen schützt. Sie sollen faire Einkünfte für die Qualität der Erzeugnisse gewährleisten, und die Verbraucher sollen klare Informationen über die wertsteigernden Merkmale des Erzeugnisses erhalten. So richtig einheitlich ist die EuGH-Rechtsprechung dabei nicht - oder zumindest nicht jedem verständlich. So darf sich ein schwäbischer Whiskey nicht Glen Buchenbach nennen, weil Glen - gälisch für \"schmales Tal\" - exklusiv schottisch ist. Aceto Balsamico darf aber auch so heißen, wenn er in Deutschland gemacht wurde, solange nicht \"di Modena\" dabeisteht: Diese geografische Angabe ist geschützt. Danach ist auch klar, dass Chianti aus der Toscana kommen muss. Und Parma-Schinken und Schwarzwälder Schinken müssen unter bestimmten Voraussetzungen zumindest in Parma beziehungsweise im Schwarzwald geschnitten und verpackt werden. Az: C-159/20')\n"
     ]
    },
    {
     "name": "stderr",
     "output_type": "stream",
     "text": [
      "67it [02:18,  1.20it/s]"
     ]
    },
    {
     "name": "stdout",
     "output_type": "stream",
     "text": [
      "Pandas(Index=67, tstamp=1657799546, url='/ausland/europa/italien-vertrauensfrage-101.html', fulltext=\" In Italien droht weiter eine Regierungskrise: Bemühungen einiger Parteien, eine Vertrauensabstimmung abzuwenden, sind gescheitert. Die Fünf-Sterne-Bewegung hatte angekündigt, dabei die Vielparteienregierung nicht zu unterstützen.  In Italien droht weiterhin ein Bruch der Regierung von Ministerpräsident Mario Draghi. Bemühungen einiger Parteien, die für heute im Senat angesetzte Vertrauensabstimmung über ein Konjunkturpaket zu umgehen, seien gescheitert, teilte der Staatssekretär für Parlamentarische Angelegenheiten, Federico D'Inca mit. Draghi habe in einem Gespräch mit D'Inca von der Fünf-Sterne-Bewegung signalisiert, dass er ein Votum im Senat für den einzig gangbaren Weg halte. Dieses soll nach einer Debatte im Verlauf des Tages stattfinden. Zuvor war aus Parteikreisen verlautet, dass einige Parteien sich darum bemühten, einen Zusammenbruch des Regierungsbündnisses zu vermeiden. Es habe Überlegungen gegeben, dass nicht über das Paket als Ganzes abgestimmt werden solle, sondern über einzelne Artikel, sagten zwei mit den Überlegungen vertraute Personen. Das hätte aber auch bedeutet, dass die Fünf-Sterne-Bewegung Forderungen, die sie zur Bedingung für den Verbleib in der Koalition gemacht habe, zurückzöge. Mit dem Konjunkturpaket sollen Familien und Unternehmen bei der Bewältigung der Energiekrise unterstützt werden. Bliebe die Fünf-Sterne-Bewegung wie am Mittwoch angekündigt dem Votum fern, hätte die Regierung keine Mehrheit. Ein Bruch der Koalition wäre die Folge. Seit Wochen kritisiert die Führung der Fünf-Sterne-Bewegung die Prioritäten der Regierung bei der geplanten Verteilung der Hilfsgelder. Die Partei fordert großzügigere finanzielle Entlastungen für Familien und Unternehmen, die von den hohen Energiekosten besonders betroffen sind. Für eine weitere Auszahlung eines garantierten Monatsgehalts an jene, die keine Arbeit finden können, tritt die Fünf-Sterne-Bewegung ebenfalls ein. Am Montag hatte sich die Partei bereits bei einem Votum über die Gesetzesvorlage in der Abgeordnetenkammer enthalten, bei der zuvor gestellten Vertrauensfrage unterstützte sie noch die Regierung. Im Senat aber kann nicht getrennt über Entwurf und Vertrauensfrage votiert werden. Der Chef der rechten Partei Lega, Matteo Salvini, hatte angekündigt, er werde Draghi nicht länger unterstützten, sollte die Fünf-Sterne-Bewegung die Koalition verlassen. Eine vorgezogene Wahl sei die beste Lösung. Auch die Demokratische Partei sei nicht bereit, ohne die Fünf-Sterne-Bewegung eine neue Regierung zu bilden, verlautete aus Parteikreisen. Draghi selbst hatte seinen Rücktritt angekündigt, sollte die Fünf-Sterne-Bewegung die Koalition aufkündigen. In der ersten Hälfte des kommenden Jahres wird in Italien regulär ein neues Parlament gewählt. Eine Wahl könnte zwar auf den Herbst vorgezogen werden. Dies wäre jedoch ungewöhnlich, weil in dieser Zeit traditionell der Haushalt vorbereitet wird, der bis Ende des Jahres verabschiedet werden muss.\")\n"
     ]
    },
    {
     "name": "stderr",
     "output_type": "stream",
     "text": [
      "68it [02:18,  1.28it/s]"
     ]
    },
    {
     "name": "stdout",
     "output_type": "stream",
     "text": [
      "Pandas(Index=68, tstamp=1657805190, url='/ausland/europa/ukraine-tote-und-verletzte-zentralukraine-101.html', fulltext=' Nach ukrainischen Angaben sind bei einem russischen Raketenangriff in der Zentralukraine mindestens 21 Menschen getötet worden. Präsident Selenskyj bezeichnete den Angriff als \"offenen Terrorakt\".  Bei einem russischen Raketenangriff auf die zentralukrainische Stadt Winnyzja sind nach ukrainischen Angaben mindestens 21 Menschen getötet und Dutzende weitere verletzt worden. Zuvor hatte bereits der ukrainische Präsident Wolodymyr Selenskyj in einer Schalte bei einer internationalen Konferenz über Kriegsverbrechen in Den Haag über den Angriff gesprochen. Auch die örtliche Polizei bestätigte zahlreiche Verletzte - der Behörde in Winnyzja zufolge mussten mehr als 100 Verletzte medizinisch behandelt werden, etwa 50 von ihnen befanden sich in einem kritischen Zustand. Unter den Todesopfern sollen auch zwei Kinder sein. Außerdem sollen noch mehr als 40 Menschen vermisst sein. Die Angaben konnten nicht unabhängig überprüft werden. Bei dem Angriff mit drei Raketen sei auch ein medizinisches Zentrum getroffen worden. Außerdem seien auch andere Wohn- und Bürogebäude zerstört oder schwer beschädigt worden. Das ukrainische Militär teilte mit, Russland habe von einem U-Boot im Schwarzen Meer aus Kalibr-Raketen auf Winnyzja abgefeuert. Die Stadt liegt rund 200 Kilometer südwestlich von Kiew und fernab der Hauptfronten im Osten und Süden der Ukraine. \"Was ist das, wenn kein offener Terrorakt?\", schrieb Selenskyj auf Telegram. Und auch der ukrainische Außenminister Dmytro Kuleba äußerte sich zu dem Angriff: Er warf Russland auf Twitter vor, ein weiteres Kriegsverbrechen verübt zu haben. Vom russischen Verteidigungsministerium gab es zunächst keine Stellungnahme zu den Berichten aus Winnyzja. Die russischen Streitkräfte berichteten allerdings von \"schweren Artillerie-, Luft- und Raketenangriffen, die dem ukrainischen Militär hohe Verluste\" zugefügt haben sollen. Die jüngsten Luftschläge hätten die Ukrainer demnach bis zu 1000 Soldaten und mehr als 100 Militärfahrzeuge und Waffensysteme gekostet, sagte der Sprecher des russischen Verteidigungsministeriums, Igor Konaschenkow. Unter anderem seien in Tschassiw Jar im ostukrainischen Gebiet Donezk 43 Soldaten getötet und 170 verletzt worden, sagte Konaschenkow. Der russische Armeesprecher berichtete zudem vom erneuten Einsatz der seegestützten Kalibr-Raketen. Diese Lenkwaffen mit mehreren Hundert Kilometern Reichweite seien auf eine Fabrik für Hochspannungsanlagen in Saporischschja abgefeuert worden und hätten mehrere dort in den Hangars stehende Raketenwerfer vernichtet. Der Angriff auf Winnyzja passt eigentlich nicht ins derzeitige Kriegsgeschehen, da sich die russischen Truppen vor allem auf die Region Donezk im Osten der Ukraine konzentrieren. Nach Luhansk soll auch dieses Gebiet vollständig eingenommen werden. Dann hätte Russland die volle Kontrolle über den Donbass, die industriell geprägte Region, die bereits seit 2014 teilweise von pro-russischen Separatisten kontrolliert wird. Heute griffen russische Truppen erneut die Stadt Kramatorsk in Donezk an. Aber auch im Süden gingen die Angriffe weiter. Die Stadt Mykolajiw lag nach Angaben von Bürgermeister Olexandr Senkewytsch weiter unter russischem Beschuss. Mykolajiw liegt unweit von Odessa, der größten ukrainischen Hafenstadt, die bereits vereinzelt unter Beschuss geraten ist. Die Ukraine fürchtet, dass Russland auch die Hafenstadt einnehmen will, um dann die gesamte Küste des Schwarzen Meeres zu kontrollieren.')\n"
     ]
    },
    {
     "name": "stderr",
     "output_type": "stream",
     "text": [
      "69it [02:19,  1.32it/s]"
     ]
    },
    {
     "name": "stdout",
     "output_type": "stream",
     "text": [
      "Pandas(Index=69, tstamp=1657805496, url='/ausland/twitter-stoerung-101.html', fulltext=' Twitter hat heute zeitweise mit einer weitreichenden Störung zu kämpfen gehabt. Zahlreiche Nutzer meldeten Probleme beim Laden der Beiträge. Inzwischen sind die Schwierigkeiten behoben, die Ursache ist noch unbekannt.  Die US-Online-Plattform Twitter ist in vielen Ländern zeitweise für Tausende von Nutzern nicht erreichbar gewesen. Das geht aus Daten der Website Downdetector.com hervor, die Ausfallmeldungen aus verschiedenen Quellen sammelt. Der Website zufolge meldeten bis 14.30 Uhr (MESZ) mehr als 54.000 Personen in den USA Probleme mit dem sozialen Netzwerk. Auch in anderen Ländern wie Großbritannien, Mexiko, Brasilien und Italien wurde gemeldet, dass Twitter nicht normal funktioniere. Die Ursache des Ausfalls ist noch unklar. Von Twitter gibt es bisher noch keine Stellungnahme. Störungen bei Web-Diensten sind keine Seltenheit, die Plattform des Kurznachrichtendienstes lief aber in den vergangenen Monaten eher stabil. Zuletzt war Twitter im Februar von einem ähnlichen Ausfall betroffen. Damals teilte das Unternehmen mit, es hätte einen Softwarefehler behoben.')\n"
     ]
    },
    {
     "name": "stderr",
     "output_type": "stream",
     "text": [
      "70it [02:19,  1.64it/s]"
     ]
    },
    {
     "name": "stdout",
     "output_type": "stream",
     "text": [
      "Pandas(Index=70, tstamp=1657806306, url='/wirtschaft/konjunktur/immobilienmarkt-111.html', fulltext=' Die steigenden Baukosten und Bauzinsen zeigen Wirkung. Die Nachfrage potenzieller Käufer von Wohnungen und Häusern sinkt. Das führt in einigen deutschen Metropolen bereits zu sinkenden Preisen. Dagegen steigen die Mieten.  Die Nachfrage nach Kauf-Immobilien in großen deutschen Städten ist im zweiten Quartal gesunken. Das führte auch zu sinkenden Preisen, wie das Online-Portal Immoscout24 mitteilte. \"Wohnungen und Einfamilienhäuser zum Kauf haben in den deutschen Metropolen Düsseldorf, Frankfurt, Hamburg, Köln, München und Stuttgart in den Angebotspreisen um bis zu 6,6 Prozent nachgegeben.\" Deutlich nachlassende Preise gab es danach bei Einfamilienhäusern: Bestehende Einfamilienhäuser waren im zweiten Quartal in allen deutschen Metropolen mit Ausnahme Berlins deutlich günstiger. In Köln beispielsweise sanken die Preise innerhalb von drei Monaten um vier Prozent, in Stuttgart sogar um 6,6 Prozent. Allerdings zeigte der bundesweite Trend bei den Immobilienpreisen - also bezogen auf alle Regionen - noch immer leicht nach oben. Der Immobilienmarkt befinde sich in einer Phase der Anpassung an die neue ökonomische Realität, erklärte Immoscout24. Die Folgen gestiegener Baukosten, der hohen Inflation und der deutlich gestiegenen Zinsen seien deutlich spürbar. \"Erstmals seit der Finanzkrise 2008 sehen wir so deutliche Preiskorrekturen, vor allem bei Neubau-Eigentumswohnungen und Einfamilienhäusern in Bestand und Neubau\" erläuterte Immoscout24-Geschäftsführer Thomas Schroeter. Bei Bestands-Eigentumswohnungen stagnierten die Preise danach in München, Stuttgart und Hamburg, während sie in Berlin, Düsseldorf und Köln weiter stiegen. \"Anbietende haben es aktuell deutlich schwerer, Käufer:innen für ihre Immobilienangebote zu finden\", erklärte Schroeter. Die Nachfrage auf dem Immobilienportal sei im Vergleich zum vergangenen Jahr um 36 Prozent zurückgegangen, die Anzahl der inserierten Angebote habe hingegen um 46 Prozent zugenommen. Inserate blieben auch länger online als im Vorjahr. Kaufinteressenten mit genügend Eigenkapital kämen die fallenden Angebotspreise zwar entgegen. \"Sie finden aktuell deutlich mehr Angebote und können wieder eher über den Kaufpreis verhandeln als zuvor.\" Für viele Kaufinteressenten hingegen sei es durch das hohe Zinsniveau von über drei Prozent nun deutlich schwieriger, den Traum vom Eigenheim umzusetzen als noch vor einem halben Jahr. \"Die monatlichen Raten haben sich gegenüber dem Tiefstand der Zinsen im letzten Jahr für ein typisches Finanzierungsmodell bis auf das Doppelte verteuert.\" Die deutlich höheren Finanzierungskosten für den Immobilienkauf führen allerdings zu einer steigenden Nachfrage nach Mietwohnungen. Hier verzeichnete Immoscout24 nach eigenen Angaben einen Anstieg um 48 Prozent. Für das zweite Quartal 2022 zeigt das WohnBarometer der Online-Plattform, dass die Angebotspreise für Mietwohnungen deutschlandweit deutlich stärker klettern als zuletzt. Bestandswohnungen wurden in der Neuvermietung demnach im Schnitt um 2,7 Prozent teurer als zu Jahresanfang angeboten. Für Neubauwohnungen gab es ein Plus von 3,6 Prozent. Im Bundesdurchschnitt lagen die Angebotsmieten für Bestandswohnungen bei 7,66 Euro pro Quadratmeter und bei Neubauwohnungen bei 10,59 Euro.')\n"
     ]
    },
    {
     "name": "stderr",
     "output_type": "stream",
     "text": [
      "71it [02:20,  1.65it/s]"
     ]
    },
    {
     "name": "stdout",
     "output_type": "stream",
     "text": [
      "Pandas(Index=71, tstamp=1657808689, url='/wirtschaft/unternehmen/jpmorgan-chase-morgen-stanley-101.html', fulltext=' Schlechtere Zahlen für US-Großbanken: Im Vergleich zum Vorjahreszeitraum gingen die Gewinne von JPMorgan Chase und Morgan Stanley im zweiten Quartal deutlich zurück. Die Gründe sind unterschiedlich.  Zwei US-Großbanken haben sich heute in ihre Bücher schauen lassen, und die Zahlen fallen ernüchternd aus. JPMorgan Chase verdiente von April bis Juni 8,6 Milliarden US-Dollar, 28 Prozent weniger als entsprechenden Vorjahreszeitraum. Das lag vor allen an den schlechteren Konjunkturaussichten wegen der Krise rund um den Ukraine-Krieg und der stark gestiegenen Inflation, auf die die Bank mit höheren Risikovorsorge für drohende Kreditausfälle reagierte. Analysten hatten mit einem weniger starken Gewinnrückgang gerechnet. Auf der Einnahmeseite verzeichnete JPMorgan im Jahresvergleich einen leichten Zuwachs der verwalteten Erträge um ein Prozent auf 31,6 Milliarden Dollar. Allerdings lief die Entwicklung in den unterschiedlichen Bereichen deutlich auseinander: Während der Zinsüberschuss um fast ein Fünftel zulegte, gingen die übrigen Erträge um zwölf Prozent zurück. Dies lag unter anderem an rückläufigen Gebühreneinnahmen im Investmentbanking. Konzernchef Jamie Dimon betonte in seinem Ausblick mehrere Risikofaktoren wie die geopolitischen Spannungen, hohe Inflation, schwindendes Verbrauchervertrauen und eine \"nie zuvor gesehene\" quantitative geldpolitische Straffung als Bedrohung für das globale Wirtschaftswachstum. Vor Kurzem hatte er bereits vor einem ökonomischen \"Hurrikan\" gewarnt. Um Geld zu sparen, setzt der Konzern den im April angekündigten milliardenschweren Rückkauf eigener Aktien vorerst aus, um höhere Kapitalanforderungen zu erfüllen. Morgan Stanley musste im zweiten Quartal ebenfalls einen kräftigen Gewinneinbruch hinnehmen. Der Nettogewinn ging gegenüber dem Vorjahreszeitraum um rund 30 Prozent auf 2,4 Milliarden Dollar zurück. Die Erträge sanken um elf Prozent auf 13,1 Milliarden Dollar. Analysten hatten mit besseren Zahlen gerechnet. Zwar florierte der Handel mit Wertpapieren, auch wegen der hohen Kursschwankungen durch die Inflations- und Rezessionsängste. Doch die Einnahmen im Investmentbanking - hierzu zählen Gebühren für die Betreuung von Börsengängen und Fusionen - brachen um 55 Prozent ein. Auch die Vermögensverwaltung schwächelte.')\n"
     ]
    },
    {
     "name": "stderr",
     "output_type": "stream",
     "text": [
      "72it [02:20,  1.90it/s]"
     ]
    },
    {
     "name": "stdout",
     "output_type": "stream",
     "text": [
      "Pandas(Index=72, tstamp=1657811400, url='/inland/wohnungslose-tafeln-101.html', fulltext=' Zwei aktuelle Statistiken zeichnen ein düsteres Bild der sozialen Lage in Deutschland: Die Tafeln versorgen derzeit so viele Menschen wie noch nie - und das Bundesamt legte erstmals Zahlen zu Wohnungslosen vor, die bitter sind.  Die Zahl der Menschen, die von den Tafeln in Deutschland als Kunden geführt werden, ist deutlich angestiegen. Aufgrund von Inflation, Pandemie und Kriegsfolgen habe sie sich seit Jahresbeginn um etwa die Hälfte erhöht, erklärte der Vorsitzende der Tafel Deutschland, Jochen Brühl. Mittlerweile würden deutlich mehr als zwei Millionen von Armut betroffene Menschen in Deutschland die Angebote wie kostenlose Lebensmittel nutzen. Dies seien so viele Bezieher wie nie zuvor. \"Die Tafeln sind am Limit und berichten uns, dass viele Menschen zu ihnen kommen, die bisher gerade so über die Runden gekommen sind und zum ersten Mal Hilfe in Anspruch nehmen müssen\", so Brühl. Jede dritte Tafel musste den Angaben zufolge einen Aufnahmestopp einführen. Es fehlten Lebensmittel oder Ehrenamtliche, um allen zu helfen, die nach Unterstützung fragten. Der Dachverband hat nach eigenen Angaben im Juni und Juli 962 Mitglieds-Tafeln befragt, 603 Tafeln hätten sich an der Umfrage beteiligt. Einen Rückgang der Kunden verzeichnete demnach praktisch keine Tafel. Etwa 60 Prozent gaben an, dass sich ihre Kundschaft seit Jahresbeginn um bis zu 50 Prozent erhöht habe. Knapp ein Viertel bezifferte den Zuwachs auf 50 bis 100 Prozent. Gut 16 Prozent sagten sogar, die Zahl ihrer Kundinnen und Kunden habe sich verdoppelt oder mehr als verdoppelt. Die Tafeln sammeln überschüssige Lebensmittel von Händlern und Herstellern und verteilen diese. Kunden sind nach Angaben des Verbands unter anderem viele Arbeitslose, Geringverdiener sowie Rentnerinnen und Rentner - also Gruppen, die besonders stark von der Inflation betroffen sind. Der Verbandsvorsitzende Brühl forderte die Bundesregierung auf, dringend ein neues Hilfspaket vorzulegen. Von dem bisherigen Entlastungspaket der Bundesregierung komme der geringste Teil bei armutsbetroffenen Menschen an. Nötig seien jetzt gezielte Soforthilfen für arme Menschen, \"Schluss mit der Gießkanne\", so Brühl. Zum klassischen Kundenkreis der Tafeln hinzugekommen sind in den vergangenen Monaten viele Geflüchtete aus der Ukraine. Der Tafel-Verband übte in diesem Zusammenhang auch deutlich Kritik an den Behörden. Sie würden Geflüchtete weiterhin ohne Rücksprache an die Tafeln verwiesen. Besonders bei vielen Menschen aus der Ukraine sei der falsche Eindruck entstanden, die Tafeln seien ein staatliches Angebot, auf das Anspruch bestehe. Experten und Verbände hatten zuletzt immer wieder darauf hingewiesen, dass die Zahl der Menschen in Deutschland, die von Armut betroffen sind, wächst - auch als Folge von Corona und dem daraus resultierenden Wirtschaftseinbruch. Laut \"Armutsbericht\" des Paritätischen Wohlfahrtsverbandes leben im 83-Millionen-Einwohner-Land Deutschland inzwischen 13,8 Millionen Menschen unterhalb der - statistisch definierten - \"Armutsquote\". Das sind etwa 600.000 mehr als vor der Pandemie. \"Die Befunde sind erschütternd, die wirtschaftlichen Auswirkungen der Pandemie schlagen inzwischen voll durch\", sagte der Hauptgeschäftsführer des Wohlfahrtsverbands, Ulrich Schneider, bei der Vorstellung des Berichts Ende Juni. Noch nie habe sich die Armut in jüngerer Zeit so rasant ausgebreitet wie in der Pandemie. Angesichts der aktuell hohen Inflationsrate rechnet der Verband mit einer weiteren Verschärfung der Lage. Am untersten Ende der \"Armutsskala\" sind wohl die Menschen, die noch nicht einmal ein Dach über dem Kopf haben. Wie viele es davon in Deutschland gibt, lässt sich nur schätzen - denn statistisch erfasst werden sie bislang nicht. Das Statistische Bundesamt hat aber nun zumindest für eine Teilgruppe von ihnen erstmals Daten vorgelegt: für diejenigen, die in Not- und Gemeinschaftsunterkünften oder in vorübergehenden Quartieren leben. Das Amt gibt ihre Zahl mit 178.000 an. Das entspricht in etwa der Einwohnerzahl einer Großstadt wie Saarbrücken oder Potsdam. Knapp zwei Drittel der Untergebrachten sind demnach Männer, gut ein Drittel Frauen. 37 Prozent sind jünger als 25 Jahre, knapp fünf Prozent 65 Jahre alt oder älter. Familien oder Alleinerziehende mit Kindern machen 46 Prozent der Fälle aus. Erfasst wurden den Angaben zufolge Menschen, die zum Stichtag 31. Januar 2022 in Räumen oder Übernachtungsgelegenheiten lebten, die ihnen von Gemeinden oder mit Kostenerstattung durch andere Träger von Sozialleistungen zur Verfügung gestellt wurden. Nicht erfasst wurden dabei Wohnungslose, die bei Freunden, Familien oder Bekannten unterkommen, und Obdachlose, die auf der Straße leben. Fälle von Flüchtlingen flossen nur ein, wenn sie einen positiven Asylbescheid hatten und durch das Wohnungsnotfallhilfesystem untergebracht waren. \"Die jetzt veröffentlichten Zahlen sind ein wichtiger Schritt und besser als bisherige Schätzungen\", sagte die stellvertretende Hauptgeschäftsführerin des Deutschen Städtetags, Verena Göppert. Um auch verdeckte Formen von Wohnungslosigkeit, etwa das Unterkommen bei Bekannte, und die Obdachlosigkeit auf der Straße überblicken zu können, hat das Bundessozialministerium nach eigenen Angaben eine repräsentative Studie in Auftrag gegeben. Zahlen dazu sollen in diesem Herbst vorliegen. Schätzungen gibt es bereits heute. Die Bundesarbeitsgemeinschaft Wohnungslosenhilfe beziffert die Zahl wohnungsloser Menschen in Deutschland auf rund 233.000.')\n"
     ]
    },
    {
     "name": "stderr",
     "output_type": "stream",
     "text": [
      "73it [02:22,  1.24it/s]"
     ]
    },
    {
     "name": "stdout",
     "output_type": "stream",
     "text": [
      "Pandas(Index=73, tstamp=1657807253, url='/ausland/europa/waldbraende-suedeuropa-115.html', fulltext=' Hitze und Dürre machen den Ländern in Südeuropa weiter zu schaffen. In Spanien gilt in einigen Regionen Alarmstufe Rot. Auch in Portugal, Italien, Griechenland und Frankreich brennt es. Ein Großfeuer in Kroatien ist weitgehend unter Kontrolle.  In den südeuropäischen Urlaubsländern brechen immer mehr Brände in den ausgetrockneten Wäldern aus. Das Problem verschärft sich zusehends, gleichzeitig werden in Italien und Frankreich in den kommenden Tagen Temperaturen von bis zu 40 Grad erwartet. In Italien herrscht seit Wochen eine extreme Dürre. Auf der Ferieninsel Sizilien gilt in weiten Teilen noch immer eine erhöhte Waldbrand-Warnstufe, ebenso wie auf Sardinien. Zuletzt waren Feuerwehrkräfte immer wieder zu Wald- und Buschbränden ausgerückt, etwa in Südtirol, der Toskana sowie in und um Rom. In fünf nördlichen Regionen entlang des Flusses Po verhängte die Regierung wegen der Trockenheit bereits den Notstand. Weitere Regionen könnten folgen, wie Landwirtschaftsminister Stefano Patuanelli sagte. In Frankreich erwarten Meteorologen bis Ende Juli einen Dürrerekord. Zwar hatte es in der zweiten Junihälfte vielerorts Unwetter mit viel Regen gegeben, doch der Effekt ist weitgehend verflogen - und die Böden trocknen wieder aus. An der Atlantikküste nahe der Großstadt Bordeaux dauern die Waldbrände an. Mehr als 3700 Hektar Land fielen den\\xa0Flammen zum Opfer, wie die Präfektur der Gironde mitteilte. In den frühen\\xa0Morgenstunden räumten Einsatzkräfte eine weitere Siedlung und brachten etwa 60 Menschen in Sicherheit. Im Bereich bei Teste-de-Buch sei die Situation noch immer ungewiss, denn der Zugang sei hier schwierig. Bei den Bränden um Teste-de-Buch und Landiras sind laut Präfektur rund 1000 Feuerwehrleute im Einsatz. In dem Gebiet gilt mittlerweile die Waldbrand-Warnstufe Orange. Auf Wald- und Landwegen dürfen ab nachmittags nun keine motorisierten Gefährte mehr verkehren. In stark bewaldeten Kommunen ist Feuerwerk vorerst verboten. Heute ist Nationalfeiertag in Frankreich. Üblicherweise gibt es an diesem Tag überall im Land viel Feuerwerk. Drei Flugzeuge des Zivilschutzes, die bei der Militärparade in Paris anlässlich des Nationalfeiertags mitfliegen sollten, seien derzeit im Einsatz, um die Waldbrände zu löschen, sagte ein Sprecher des Zivilschutzes dem\\xa0Sender BFMTV. Ein leichtes Aufatmen gibt es in Kroatien: Der Waldbrand nahe der dalmatinischen Stadt Sibenik ist seit dem Morgen weitgehend unter Kontrolle. Die Brandherde an der sogenannten Krka-Riviera breiten sich nicht mehr unkontrolliert aus und sind eingegrenzt, wie der Zivilschutz in Sibenik mitteilte. Zugleich sind in den betroffenen Gebiete große Schäden zu beklagen. Der Brand, der 24 Stunden zuvor ausgebrochen war, zerstörte den Angaben zufolge in den Gemeindegebieten von Vodice, Zaton und Raslina rund 3000 Hektar an Vegetation. Darunter sind Laub- und Nadelbäume, Gebüsch und Wiesen, aber auch Weinstöcke und Olivenbäume. In Zaton und Raslina brannten mindestens 20 Häuser ab. Die Bewohner dieser beiden Dörfer hatten die Behörden am Mittwoch mit Booten über die Stubalj-Bucht in Sicherheit gebracht. Bei der Bekämpfung des Brandes kamen 350 Feuerwehrleute, Dutzende Löschfahrzeuge und fünf Löschflugzeuge zum Einsatz. Erst am letzten Wochenende hatte ein Brand nahe der Stadt Pula auf der Halbinsel Istrien 40 Hektar Vegetation vernichtet. Auf der griechischen Insel Samos wütet im Westen den zweiten Tag in Folge ein großer Waldbrand. Feuerwehrleute und freiwillige Helfer hätten die ganze Nacht über gegen die Flammen gekämpft, teilte die Feuerwehr mit. Bei Tagesanbruch hätten auch die Löschhubschrauber und -flugzeuge die Arbeit wieder aufgenommen. Das Militär und die Kommunalverwaltung unterstützten mit Baumaschinen und Wassertankwagen. Gestern war bei den Löscharbeiten ein Hubschrauber ins Meer gestürzt. Zwei der vier Insassen kamen bei dem Unglück ums Leben. Warum der Hubschrauber abstürzte, ist noch unklar. In der Region herrschte starker Wind, was die Arbeit der Feuerwehr erschwerte. Auch in Portugal wüten in verschiedenen Teilen des Landes zahlreiche Waldbrände. Insgesamt kämpften rund 1900 Einsatzkräfte gegen die Feuer. Brände in Aveiro im Norden und in Leiria im Zentrum des Landes, in Setúbal, etwa 50 Kilometer südlich von Lissabon, sowie in Faro im Süden bereiteten die größten Sorgen. Der seit Montag in ganz Portugal geltende dritthöchste Notstand werde bis inklusive Sonntag verlängert, gab Ministerpräsident António Costa bekannt. In Spanien finden unterdessen Ventilatoren reißenden Absatz: So kletterten in Bilbao im Norden des Landes die Verkaufszahlen nach Medienberichten um mehr als 50 Prozent in die Höhe. In 16 der insgesamt 17 Autonomen Gemeinschaften Spaniens sollte heute weiterhin Hitzealarm gelten, in fünf dieser Regionen teilweise sogar Alarmstufe Rot. Im Gegensatz zur extremen Hitze im Mittelmeerraum werden in Deutschland zwar hochsommerliche, aber vergleichsweise angenehme Temperaturen erwartet. Richtig heiß wird es laut Deutschem Wetterdienst (DWD) nur im Süden, dort ist mit bis zu 35 Grad im Breisgau zu rechnen. Weniger warm wird es im Norden mit Höchstwerten zwischen 18 und 21 Grad, im Rest des Landes sind 22 bis 28 Grad zu erwarten.')\n"
     ]
    },
    {
     "name": "stderr",
     "output_type": "stream",
     "text": [
      "74it [02:24,  1.30s/it]"
     ]
    },
    {
     "name": "stdout",
     "output_type": "stream",
     "text": [
      "Pandas(Index=74, tstamp=1657811608, url='/inland/flut-ahrtal-101.html', fulltext=' Ein Jahr nach der Flut im Ahrtal läuft der Wiederaufbau auch Hochtouren. An einigen Stellen gibt es sogar Fortschritte, die den Menschen im Tal langfristig Vorteile bringen können.  Markus Blasweiler hat ein Geschenk für Ursula Hellmuth dabei. Der Architekt vom Bürger-Infopoint in Altenburg im Ahrtal hatte am Vorabend an seiner Werkbank eine kniehohe Figur aus Schrott zusammengeschweißt. Zwei Zangen, eine Schaufel, Schrauben und ein Türschloss. \"Das ist ein Erd-Poseidon\", sagt er, \"der soll dein neues Haus vor Unheil schützen\". Das neue Haus der 76-jährigen Dame steht noch gar nicht. Alles was man auf dem geräumten Grundstück sieht, sind die Markierungen aus Holz und Schnur, die die Maße ihres zukünftigen Zuhauses abstecken. Denn sie hat das Glück und kann eine Flutgeschichte erzählen, die einen positiven Ausgang zu nehmen scheint. Gerührt nimmt sie den eisernen Poseidon, trägt ihn in das, was von ihrem Garten übriggeblieben ist, und platziert ihn unter einem Rankbogen, den die Flut verschont hat. Dann erzählt sie ihre Geschichte: Bis ins Dachgeschoss ihres alten Hauses stand das ölige Wasser in der Flutnacht. Sie wäre sicher ertrunken, sagt sie, wenn nicht der Nachbarsjunge plötzlich durch ihr kaputtes Badezimmerfenster hineingeschwommen wäre und ihr den Weg hinaus und hoch in den Weinberg gezeigt hätte. Dort hatte sie bis zum nächsten Vormittag gewartet, bis sie, gemeinsam mit anderen Nachbarn und deren Baby, gerettet wurde. Wie die meisten hier hat Ursula Hellmuth alles verloren, was sie besaß - außer ihren Optimismus. Das mit Heizöl kontaminierte Haus musste abgerissen werden. Aber ihre Versicherung erkannte den Totalschaden an und zahlt. Doch wie organisiert eine Frau ihres Alters allein einen Hausbau? So kam Blasweiler ins Spiel. Der vom Land für die Flutopfer beauftragte Architekt nahm die Planung in die Hand. \"Wenn ich ihn nicht in dem Info-Zelt kennengelernt hätte, ich wäre heute nicht da, wo ich bin\", sagt Hellmuth und umarmt den Architekten wie einen Freund. \"Ich habe ihm damals gesagt, ich selbst habe von nichts eine Ahnung, und von da an hat er sich unwahrscheinlich für mich eingesetzt.\" Das Einfamilienhäuschen, das er für Hellmuth entworfen hat, wird hochwassersicher und energetisch besser, als es die strengste deutsche Vorschrift verlangt. Hellmuth wird zukünftig also auch Energiekosten sparen. Vorher hatte sie eine Ölheizung, und obwohl niemand hier sagen würde, die Flut hätte auch nur irgendetwas Gutes. Aber: Die Katastrophe wird letztendlich bewirken, dass vieles im Tal angestoßen wird, was sonst noch lange nicht angegangen worden wäre. Zum Beispiel die Energieversorgung. Das zeigt auch der Blick ins Nachbardorf Mayschoß. Doch Nachbardorf klingt näher, als es seit der Flut ist. Statt der vier Kilometer durch den Tunnel muss man 16 Kilometer über den Berg fahren. Das Wasser hatte Straße und Tunnel so stark beschädigt, dass der Weg noch immer nicht wieder frei ist. Überhaupt sieht man dem einst idyllischen Touristengebiet nach einem Jahr die Flutschäden noch sehr stark an. Immer noch klebt der Schlamm an einigen Häusern. Nur wenige sind schon fertig renoviert und wieder bewohnbar. Und wenn, steht oft direkt daneben noch eine Ruine. Im ganzen Tal wird noch an weggespülten Land- und Ortsstraßen gearbeitet. Die Bahnstrecke war schnell etwa bis zur Hälfte wieder hergestellt, doch im weiteren Verlauf der Ahrtalbahn sind Gleise, Bahndämme, Brücken, Signalanlagen und auch Bahnhöfe so stark beschädigt, dass es noch bis 2025 dauern soll, bis die Bahn wieder bis Altenburg fahren kann. Es gibt Menschen, die das Ahrtal für immer verlassen haben. Aber die meisten haben von Anfang an gesagt, sie würden bleiben und ihr Tal wieder aufbauen. Ganze Familien, die seit Generationen hier wohnen, würden niemals wegziehen. Dafür nehmen sie sogar die Gefahr einer neuen Flut in Kauf. Und bei einem sehr großen Teil der Flutgeschädigten ist bis heute nicht geklärt, von wem sie wieviel Geld für den Wiederaufbau erstattet bekommen oder ob sie am Ende doch auf Teilen des Schadens sitzenbleiben. Ob das zukünftige Zuhause jetzt neu gebaut, wiederaufgebaut oder noch eine Baustelle ist - ab Herbst müssen die Häuser geheizt werden. In vielen Dörfern gibt es keine Gasleitungen. Von Heizöl wollen die meisten nichts mehr hören, und die aktuelle Energiekrise weckt auch im Ahrtal den Wunsch, sich unabhängig zu machen. Im besagten Mayschoß ist die Planung für ein Nahwärmenetz so weit, dass man eigentlich nicht mehr zurück kann, sagt Hartwig Baltes, der ehrenamtliche Bürgermeister der Gemeinde. \"In die neuen Häuser wieder Heizungen in die Keller zu bauen, die wieder überflutet werden könnten, macht keinen Sinn. Also haben wir nach zukunftsfähigen Alternativen gesucht und sind auf einen zentralen Heizpunkt gekommen, der über ein Netz das Dorf mit Wärme versorgt.\" Am Dorfrand, außerhalb des Überflutungsgebietes, soll ein Holzschnitzel-Heizwerk entstehen. Hier wird Wasser erhitzt und in ein Rohrsystem geleitet. Dieses Wasser wird dann Wärmepumpen in den Häusern betreiben. 140 Interessenten gibt es schon in Mayschoß, das vor der Flut 950 Einwohner hatte und jetzt noch gut 800. Gerd Baltes ist Leiter des Wiederaufbaustabes und sagt ein wenig stolz: \"Damit planen wir eines der größten Nahwärmekraftwerke in Rheinland-Pfalz.\" Für die Abnehmer sollen Anschaffung und Betrieb günstiger werden als individuelle Heizungen in ihren Häusern. Und die Anlage wäre nachrüstbar, sollten andere Energieträger in Zukunft Holz, Gas und Öl ersetzen. \"Leider baut man so etwas nicht in einem Jahr, für den kommenden Winter muss noch eine andere Lösung her, sagt Bürgermeister Hartwig Baltes, \"aber ohne die Flut, wäre ein Heizkraftwerk für Mayschoß nie ein Thema gewesen.\" An einigen Stellen im Tal wird sichtbar: Nach der Katastrophe wird es im Ahrtal langfristig Fortschritte geben, die es sonst absehbar nicht gegeben hätte.')\n"
     ]
    },
    {
     "name": "stderr",
     "output_type": "stream",
     "text": [
      "75it [02:25,  1.30s/it]"
     ]
    },
    {
     "name": "stdout",
     "output_type": "stream",
     "text": [
      "Pandas(Index=75, tstamp=1657813752, url='/ausland/europa/litauen-sanktionen-russland-103.html', fulltext=' Die russische Exklave Kaliningrad kann wieder mit sanktionierten Waren beliefert werden. Litauen erklärte sich bereit, entsprechende EU-Richtlinien umzusetzen und seine Blockade zu beenden.  Litauen hat den Streit über den Transitverkehr in die russische Ostsee-Exklave Kaliningrad für beendet erklärt. Ministerpräsidentin Ingrida Simonyte sagte: \"Es ist nicht vernünftig, unsere Zeit und Aufmerksamkeit ablenken zu lassen und zu diskutieren, ob eine Kilotonne Stahl per Bahn aus einem Teil Russlands in die Region Kaliningrad transportiert werden kann.\" Weitere Auseinandersetzungen wären \"ein echter Sieg für den Kreml\", sagte Simonyte weiter. Das Augenmerk sollte vielmehr auf die Unterstützung der Ukraine gelegt werden, die seit Ende Februar von Russland angegriffen wird. Das baltische EU- und NATO-Mitglied Litauen hatte Mitte Juni den Transport von mit Sanktionen belegten Waren aus Russland nach Kaliningrad unterbunden. Das Gebiet rund um das frühere Königsberg ist vom übrigen russischen Staatsgebiet räumlich getrennt und auf dem Landweg nur über die EU-Staaten Polen und Litauen zu erreichen. Die russische Führung hatte Litauen und die EU am Freitag gewarnt, dass es \"harte Maßnahmen\" ergreifen könnte, wenn der Transit einiger Waren zwischen Russland und Kaliningrad nicht \"in den nächsten Tagen\" wieder aufgenommen würde. Die EU-Kommission erstellte daraufhin neue Leitlinien für den Transitverkehr nach Kaliningrad. Russland darf jetzt auf der Sanktionsliste stehende zivile Güter wieder ohne große Einschränkungen per Bahn durch Litauen bringen. Den Leitlinien zufolge muss dies in den bislang üblichen Mengen erfolgen. Wann genau der Transit wieder aufgenommen wird, ist noch unklar.')\n"
     ]
    },
    {
     "name": "stderr",
     "output_type": "stream",
     "text": [
      "76it [02:26,  1.08s/it]"
     ]
    },
    {
     "name": "stdout",
     "output_type": "stream",
     "text": [
      "Pandas(Index=76, tstamp=1657815032, url='/ausland/europa/johnson-nachfolger-103.html', fulltext=' Bei der zweiten Abstimmung zur Johnson-Nachfolge ist Generalstaatsanwältin Braverman ausgeschieden. Am besten schnitt erneut Ex-Finanzminister Sunak ab. Doch das könnte bei der nächsten Abstimmung ganz anders aussehen.  Das Feld der Kandidatinnen und Kandidaten für die Nachfolge des britischen Premierministers Boris Johnson ist auf nunmehr fünf geschrumpft. In einer zweiten Abstimmungsrunde der Tory-Abgeordneten landete die Generalstaatsanwältin für England und Wales, Suella Braverman, mit 27 Stimmen auf dem letzten Platz und schied damit aus dem Rennen aus. Wie schon in der ersten Abstimmung a m Mittwoch - bei der das Feld der Kandidierenden von acht auf sechs geschrumpft war - kam erneut der kürzlich zurückgetretene Finanzminister Rishi Sunak auf den ersten Platz. Er erhielt nun 101 Stimmen. Auf dem zweiten Platz folgte erneut Außenhandels-Staatssekretärin Penny Mordaunt, für die 83 Parlamentarier stimmten. Dahinter lagen Außenministerin Liz Truss mit 64 Stimmen, die frühere Gleichberechtigungsministerin Kemi Badenoch (49) und der Abgeordnete Tom Tugendhat (32). Der Wahlgang sei ein \"starkes Vertrauensvotum\" für Sunak, sagte dessen ehemaliger Kabinettskollege Matt Hancock dem Sender Sky News. Allerdings bedeutet die klare Führung Sunaks noch keine Vorentscheidung. Erwartet wird, dass Bravermans Unterstützer nun für Außenministerin Truss oder Ex-Staatssekretärin Badenoch stimmen, die ebenfalls dem rechten Lager zugeordnet werden. Die Bewerberinnen und Bewerber liegen bei vielen Themen allerdings nicht allzu weit auseinander. So zweifelt niemand den Brexit an, zu umstrittenen Plänen der Johnson-Regierung herrscht Einigkeit. Alle kündigen - wie vom Gros der Partei gefordert - Steuersenkungen an. Allerdings wurde der Ton rauer. Unmittelbar vor der Abstimmung sprach der frühere Brexit-Minister David Frost seiner einstigen Stellvertreterin Mordaunt, die als Favoritin der Parteibasis gilt, die Fähigkeit zum Regieren ab. Frost sagte dem Sender Talk TV: \"Ich hatte das Gefühl, dass sie die Details nicht beherrschte, die bei den Verhandlungen im letzten Jahr notwendig waren.\" Die nächsten Abstimmungen in der Fraktion mit 358 Mitgliedern sind für kommende Woche geplant. Am Mittwoch soll dann klar sein, zwischen welchen beiden Bewerbern die Parteimitglieder in einer Stichwahl entscheiden. Das Ergebnis - und damit die Nachfolge von Johnson als Partei- und Regierungschef - soll spätestens am 5. September feststehen. Johnson war am vergangenen Donnerstag durch eine parteiinterne Revolte zum Rücktritt als Parteivorsitzender gezwungen worden, was auch das Aus für sein Regierungsamt bedeutete. Er will aber noch bis zur Bestimmung des Nachfolgers im Amt bleiben.')\n"
     ]
    },
    {
     "name": "stderr",
     "output_type": "stream",
     "text": [
      "77it [02:27,  1.19s/it]"
     ]
    },
    {
     "name": "stdout",
     "output_type": "stream",
     "text": [
      "Pandas(Index=77, tstamp=1657816773, url='/wirtschaft/unternehmen/energiehilfen-eu-101.html', fulltext=' Betriebe, deren Energiekosten sich mehr als verdoppelt haben, können künftig Staatshilfen bekommen. Die EU erlaubte das Instrument der Bundesregierung, das Pleiten verhindern soll. Die Chefs müssen dafür auf Boni verzichten.  Deutschland darf wegen der stark gestiegenen Energiepreise energieintensive Unternehmen mit bis zu fünf Milliarden Euro Staatshilfen unterstützen. Die EU-Kommission genehmigte die geplanten Zuschüsse. \"Damit kann das Energiekostendämpfungsprogramm für energieintensive Industrien morgen starten\", teilten Wirtschafts- und Finanzministerium mit. Mit den Zahlungen will die Bundesregierung vermeiden, dass Firmen mit hohem Energiebedarf angesichts der stark gestiegenen Energiepreise pleite gehen. Die EU musste zustimmen, weil für solche Hilfen strenge Regeln gelten, um Wettbewerbsverzerrungen zu vermeiden. Wegen der Folgen des russischen Angriffs auf die Ukraine wurden die Regeln aber gelockert. Energieintensive Betriebe seien von der Energiekrise \"besonders hart getroffen\" worden, sagte EU-Wettbewerbskommissarin Margrethe Vestager. Bei den Zuschüssen geht es um bis zu 50 Millionen Euro für Unternehmen, für die sich Strom und Gas mehr als verdoppelt haben. Je nach Schwierigkeit der Lage sind drei verschiedene Förderstufen vorgesehen. Die Chefetage der Firmen muss sich zudem verpflichten, keine Boni an sich auszuzahlen. So soll sichergestellt werden, dass nur tatsächlich notleidende Firmen die Hilfen in Anspruch nehmen.')\n"
     ]
    },
    {
     "name": "stderr",
     "output_type": "stream",
     "text": [
      "78it [02:28,  1.08it/s]"
     ]
    },
    {
     "name": "stdout",
     "output_type": "stream",
     "text": [
      "Pandas(Index=78, tstamp=1657811630, url='/ausland/asien/sri-lanka-proteste-113.html', fulltext=' In Sri Lanka haben die Demonstranten ihren Rückzug aus den besetzten Regierungsgebäuden angekündigt - der Protest soll aber weitergehen.  Der geflohene Präsident Rajapaksa erklärte offenbar schriftlich seinen Rücktritt.  Die Protestierenden in Sri Lanka haben die Rückgabe des von ihnen besetzten Präsidentenpalastes und anderer Gebäude in der Hauptstadt Colombo angekündigt. \"Wir ziehen uns mit sofortiger Wirkung friedlich aus dem Präsidentenpalast, dem Präsidentenbüro und dem Amtssitz des Regierungschefs zurück, werden unseren Kampf aber fortsetzen\", sagte eine Sprecherin der Protestbewegung. Die seit knapp 100 Tagen andauernden Proteste vor dem Präsidentensitz sollen also dennoch weitergehen. Kurz zuvor hatte die Anwaltskammer Sri Lankas mitgeteilt, die Protestierenden fortan nicht mehr wie zuvor etwa bei Festnahmen kostenlos zu verteidigen, wenn sie weiter illegal staatliche Gebäude besetzten. Einer der Anführer der Demonstrierenden sagte der Nachrichtenagentur AP, man habe sich zum Rückzug entschlossen, nachdem Parlamentspräsident Mahinda Yapa Abeywardena erklärt habe, das Parlament werde nach dem Rücktritt des geflohenen Präsidenten Gotabaya Rajapaksa nach rechtlichen Optionen suchen. Vor dieser Entwicklung hatte das Militär das Parlamentsgebäude abgeriegelt, um dessen Übernahme durch Demonstrierende zu verhindern. Der Premier und mittlerweile auch geschäftsführende Präsident Ranil Wickremesinghe hatte das Militär aufgefordert, wieder für Recht und Ordnung zu sorgen. Vom Donnerstagnachmittag bis Freitag um 5.00 Uhr (Ortszeit) soll wie in der Nacht zuvor eine Ausgangssperre gelten. Präsident Rajapaksa hat indes nach Medienangaben seinen Rücktritt per E-Mail eingereicht. Der\\xa0Parlamentspräsident werde am Freitag eine offizielle Bekanntgabe machen, hieß es aus seinem Mitarbeiterstab. Das offizielle Schreiben soll demnach aus Singapur eingeflogen werden. Rajapaksa war am Mittwoch wegen der Demonstrationen im Land aus Sri Lanka geflohen. Er verließ an Bord einer Maschine der Gesellschaft Saudia die Malediven, wie ein Vertreter der örtlichen Flughafenbehörden der Nachrichtenagentur AFP sagte. Die Nachrichtenagentur AP berichtet, er reise über Singapur nach Saudi-Arabien. Das Außenministerium in Singapur erklärte, Rajapaksa sei privat in das Land gereist. Er habe dort weder um Asyl ersucht noch dieses erhalten. Wickremesinghe war nach Rajapaksas Flucht zum Übergangspräsidenten ernannt worden. Am Samstag hatte er ebenfalls seinen Rücktritt angeboten, um den Weg für eine Einheitsregierung frei zu machen.\\xa0Davon war aber zunächst nicht mehr die Rede. Der Inselstaat südlich von Indien mit seinen etwa 22 Millionen Einwohnern erlebt die schlimmste Wirtschaftskrise seit Jahrzehnten. Viele Menschen protestieren, weil die Regierung ihr nicht Herr werden konnten. Es mangelt an Treibstoff, Gas zum Kochen, aber auch an Medikamenten und Lebensmitteln. Dem stark verschuldeten Land fehlt das Geld, um wichtige Güter zu importieren.')\n"
     ]
    },
    {
     "name": "stderr",
     "output_type": "stream",
     "text": [
      "79it [02:29,  1.13it/s]"
     ]
    },
    {
     "name": "stdout",
     "output_type": "stream",
     "text": [
      "Pandas(Index=79, tstamp=1657816839, url='/wirtschaft/weltwirtschaft/nord-stream-weiterbetrieb-101.html', fulltext=' Nach Darstellung Russlands hängt der Weiterbetrieb von Nord Stream 1 auch vom Westen ab. Als mögliches Hindernis werden etwa Sanktionen im Zusammenhang mit der in Kanada reparierten Turbine aufgeführt.  Die Wiederinbetriebnahme der Gas-Pipeline Nord Stream\\xa01 nach den aktuellen Wartungsarbeiten liegt nach Angaben Russlands auch im Verantwortungsbereich des Westens. So werden als mögliches Hindernis etwa die westlichen Sanktionen aufgeführt. \"Was den Betrieb der Gas-Pipeline in der Zukunft betrifft, so wird viel von unseren Partnern abhängen - sowohl in Bezug auf die Nachfrage nach Gas als auch in Bezug auf die Verhinderung negativer Auswirkungen unrechtmäßiger restriktiver Maßnahmen\", sagte die Sprecherin des russischen Außenministeriums, Maria Sacharowa, laut der Agentur Interfax. Sacharowa verwies konkret auf den Fall einer Gasturbine, die in Kanada überholt, dann aber aufgrund westlicher Sanktionen nicht nach\\xa0Russland zurückgeliefert wurde. Nach russischen Angaben ist die Turbine zur Wiederinbetriebahme von Nord Stream 1 unverzichtbar. Mittlerweile hat Kanada allerdings entschieden, die Turbine an Deutschland zu übergeben. Von dort aus soll sie weitergereicht werden nach Russland. Gegen russisches Gas hat die Europäische Union noch keine Sanktionen verhängt, weshalb die Lieferung von Deutschland aus legal wäre. Die Bundesregierung hatte zuvor erklärt, mit der Lieferung der in Kanada gewarteten Turbine gebe es für Russland keinen Grund mehr, die Gaslieferungen durch Nord Stream 1 zu drosseln. Derzeit wird die Pipeline bis zum 21. Juli aber ohnehin gewartet . Russland hatte im Juni die Gaslieferungen nach Deutschland deutlich gedrosselt und das mit dem fehlenden Teil begründet. In Europa wiederum gibt es derzeit die Sorge, dass Russland aus politischen Gründen den Gashahn nach Ende der aktuellen Wartungsarbeiten an den Rohren nicht wieder aufdrehen könnte. Erst am Mittwoch hatte der russische Energiereise Gazprom erklärt, er könne keine Prognose zur Wiederinbetriebnahme der Ostsee-Pipeline abgeben. Grund sei, dass ihm eine Bestätigung fehle, dass die Turbine tatsächlich an das für die Installation verantwortliche Unternehmen Siemens geliefert werde.')\n"
     ]
    },
    {
     "name": "stderr",
     "output_type": "stream",
     "text": [
      "80it [02:29,  1.36it/s]"
     ]
    },
    {
     "name": "stdout",
     "output_type": "stream",
     "text": [
      "Pandas(Index=80, tstamp=1657816790, url='/ausland/europa/italien-vertrauensfrage-103.html', fulltext=' Eine wichtige Abstimmung im italiensichen Parlament hat Ministerpräsident Draghi zwar gewonnen - doch die Koalitionspartner der Fünf-Sterne-Bewegung nahmen nicht an der Abstimmung teil. Nun könnte die Regierungskoalition zerbrechen.  Das italienische Parlament hat ein Konjunkturpaket der Regierung von Ministerpräsident Mario Draghi mit großer Mehrheit durchgewunken. Auch eine mit der Abstimmung verknüpfte Vertrauensfrage überstand der Regierungschef. Trotzdem droht nun eine Regierungskrise, denn die Fünf-Sterne-Bewegung war der Abstimmung wie angekündigt ferngeblieben, obwohl sie Teil der Regierungskoalition ist. Draghi hatte vor dem Votum angekündigt, seine Regierung könne ohne Unterstützung der Fünf-Sterne-Bewegung nicht fortbestehen. Direkt im Anschluss begab er sich für ein einstündiges Gespräch zu Staatspräsident Sergio Mattarella. Mattarella muss entscheiden, wie die Krise gelöst werden kann. Er könnte Draghi überreden, zunächst im Amt zu bleiben und sich in den nächsten Tagen einer weiteren Abstimmung zu stellen. Oder er benennt einen Interimsregierungschef, der die Amtsgeschäfte bis zur nächsten Parlamentswahl führt. Regulär würde diese in der ersten Hälfte des kommenden Jahres stattfinden, könnte jedoch auch auf Herbst vorgezogen werden. Die Nachrichtenagentur Ansa berichtete, Draghi habe beim Treffen mit Mattarella kein Rücktrittsgesuch eingereicht. Nach dem Gespräch berief Draghi kurzfristig den Ministerrat zu einer Sitzung am Abend ein. Aus Parteikreisen der Fünf-Sterne-Bewegung verlautete vor der Abstimmung im Parlament, dass sich einige darum bemühten, einen Zusammenbruch des Regierungsbündnisses zu vermeiden. Es habe Überlegungen gegeben, dass nicht über das Konjunkturpaket als Ganzes abgestimmt werden solle, sondern über einzelne Artikel, sagten zwei mit den Überlegungen vertraute Personen. Das hätte aber auch bedeutet, dass die Fünf-Sterne-Bewegung Forderungen, die sie zur Bedingung für den Verbleib in der Koalition gemacht habe, zurückzöge. Mit dem Konjunkturpaket sollen Familien und Unternehmen bei der Bewältigung der Energiekrise unterstützt werden. Seit Wochen kritisiert die Führung der Fünf-Sterne-Bewegung die Prioritäten der Regierung bei der geplanten Verteilung der Hilfsgelder. Die Partei fordert großzügigere finanzielle Entlastungen für Familien und Unternehmen, die von den hohen Energiekosten besonders betroffen sind. Für eine weitere Auszahlung eines garantierten Monatsgehalts an jene, die keine Arbeit finden können, sowie die Einführung eines Mindestlohns tritt die Fünf-Sterne-Bewegung ebenfalls ein. Am Montag hatte sich die Partei bereits bei einem Votum über die Gesetzesvorlage in der Abgeordnetenkammer enthalten, bei der zuvor gestellten Vertrauensfrage unterstützte sie noch die Regierung. Der Chef der rechten Partei Lega, Matteo Salvini, hatte angekündigt, er werde Draghi nicht länger unterstützten, sollte die Fünf-Sterne-Bewegung die Koalition verlassen. Eine vorgezogene Wahl sei die beste Lösung. Auch die Demokratische Partei sei nicht bereit, ohne die Fünf-Sterne-Bewegung eine neue Regierung zu bilden, verlautete aus Parteikreisen. Draghi selbst hatte seinen Rücktritt angekündigt, sollte die Fünf-Sterne-Bewegung die Koalition aufkündigen.')\n"
     ]
    },
    {
     "name": "stderr",
     "output_type": "stream",
     "text": [
      "81it [02:29,  1.56it/s]"
     ]
    },
    {
     "name": "stdout",
     "output_type": "stream",
     "text": [
      "Pandas(Index=81, tstamp=1657819505, url='/ausland/denhaag-kriegsverbrechen-konferenz-101.html', fulltext=' Ob Morde, Entführungen oder Angriffe auf Krankenhäuser: Die Liste mutmaßlicher Kriegsverbrechen in der Ukraine ist lang. Bei einer Konferenz berieten die EU-Staaten mit hochrangigen Anklägern über die Strafverfolgung.  Gezielte Tötungen, Vergewaltigungen, Entführungen und Deportationen von Zivilisten - die Liste der Vorwürfe gegen die russische Armee ist lang. Deshalb wollen man ein klares Signal geben, dass man hinter dem Recht stehe, sagt Tobias Lindner. Der Staatsminister im Außenamt vertrat Deutschland bei der Konferenz in Den Haag: Bei dem Treffen ging es auch um ganz praktische Fragen, beispielsweise ob der Internationale Strafgerichtshof mehr Mittel braucht, ob die Zahl der Forensiker aufgestockt werden muss oder wie man ins Ausland geflohene Zeugen ausfindig machen kann. Deren Aussagen spielten eine zentrale Rolle, sagt Bundesjustizminister Marco Buschmann. Und man müsse da vor\\xa0allem\\xa0sehr schnell sein. Die irische Hilfsorganisation Front Line Defenders hat bisher 338 mögliche Kriegsverbrechen gezählt. Und EU-Justizkommissar Didier Reynders spricht von mehr als 21.000 Ermittlungen wegen Kriegsverbrechen. Es brauche endlich eine gemeinsame Strategie, um Kriegsverbrechen in der Ukraine zu ahnden, forderte der Chefankläger des Internationalen Strafgerichtshofs,\\xa0Karim Khan, im Gespräch mit dem ARD-Studio Brüssel : Der ukrainische Präsident Wolodymyr Selenskyj ließ sich zur Konferenz per Video zuschalten und berichtete, dass am Morgen in der Stadt Winnyzja, rund 200 Kilometer südwestlich von Kiew, mindestens 20 Zivilisten bei der Bombardierung eines Bürogebäude getötet wurden. Russland hat bisher immer bestritten, zivile Ziele anzugreifen. Außerdem weist Moskau Anschuldigungen zurück, dass russische Truppen in der Ukraine Kriegsverbrechen begingen.')\n"
     ]
    },
    {
     "name": "stderr",
     "output_type": "stream",
     "text": [
      "82it [02:30,  1.71it/s]"
     ]
    },
    {
     "name": "stdout",
     "output_type": "stream",
     "text": [
      "Pandas(Index=82, tstamp=1657813294, url='/wirtschaft/unternehmen/brauereien-gasmangel-veltins-101.html', fulltext=' Brauereien sind wie ihre Flaschen-Lieferanten auf Gas angewiesen. Ein Stopp der Gaslieferungen hätte dramatische Folgen. Wie bereiten sich die Brauereien auf den Notfall vor? Klar ist schon: Bier wird teurer.  \"Die Deutschen lernen das Biertrinken gerade wieder\", sagt Michael Huber. Der Chef der Veltins-Brauerei spricht von einem unheimlichen Nachholbedürfnis bei den Deutschen. Das Bier wird in seiner Brauerei im Sauerland in Nordrhein-Westfalen in großen Mengen gebraut und in Flaschen abgefüllt. Doch wer Bier braut, braucht dafür Energie. Und die könnte knapp werden, wenn Russland die Erdgaslieferungen stoppen sollte. \"Das Biergeschäft in der Gastronomie zieht deutlich an. Doch das Bierbrauen ist so teuer wie nie\", sagt Huber. Energie sei die wichtigste Zutat beim Brauen, der Preis für Erdgas sei aber in den vergangenen zwölf Monaten um 340 Prozent gestiegen. Die Kostenexplosion treffe alle in der Branche, nicht nur Veltins. \"Nach wie vor sind gerade regionale Brauer gefährdet. Sie können nicht alle höheren Kosten durch höhere Preise kompensieren\", sagt Huber. Ein Großteil der 1500 Brauereien in Deutschland, die neben Bier auch alkoholfreie Getränke und Wasser abfüllen, ist nach Angaben des Deutschen Brauer-Bundes auf Gas angewiesen. Seit vielen Jahren suchen die Betriebe Lösungen, um ihren Energieverbrauch zu senken und unabhängiger von Gas zu werden. \"Seit Monaten bereitet sich die gesamte Getränkeindustrie intensiv auf einen drohenden Gasmangel vor\", sagt Holger Eichele, Hauptgeschäftsführer des Deutschen Brauer-Bundes. \"Eine Gasknappheit hätte dramatische Auswirkungen - auch indirekt, da nicht nur Brauereien von Import-Gas abhängig sind, sondern auch deren Vorlieferanten, etwa die Mälzereien oder die Produzenten von Glas, Dosen, Kartonagen und anderen Verpackungen.\" Und das in einer Zeit, in der der Durst der Menschen wieder da ist und erstmals seit Beginn der Coronavirus-Pandemie wieder mehr Bier konsumiert wird. Aufgrund der Corona-Lockdowns waren Gaststätten, Kneipen, Bars, Cafés und Hotels monatelang geschlossen, wodurch der Markt für Fassbier zusammenbrach. Auch die Absage Tausender Veranstaltungen war für die Brauereien verheerend. \"Fassbier wurde praktisch über Nacht unverkäuflich, die Brauereien mussten abgelaufenes Bier in den Gully schütten und Kurzarbeit anmelden\", sagt Eichele. \"Eine katastrophale Situation für die Brauwirtschaft. Die Betriebe haben sich davon noch lange nicht erholt - viele stehen weiter mit dem Rücken zur Wand.\" Wird am Ende das Bier teurer werden? \"Es ist wenig überraschend, dass drastische Kostensteigerungen irgendwann auch auf den Endpreis umgelegt werden müssen\", sagt der Geschäftsführer des Deutschen Brauer-Bundes. \"Wir denken, die meisten Verbraucherinnen und Verbraucher haben dafür auch Verständnis.\" Die Sudhäuser, in denen Bier-Vorprodukte erhitzt werden, werden meist mit Gas betrieben. Die Brauerei Veltins im Sauerland hat mittlerweile einen Öl-Vorrat für fünf Wochen angeschafft, um im Notfall von Gas auf Öl zu wechseln. Neue Tank-Kapazitäten hat Huber aufgebaut, um den Dampfkessel auch über eine gewisse Zeit mit Heizöl zu betreiben. Vorzeitig hat er außerdem große Glasmengen geordert, damit die Flaschen nicht ausgehen. Die Unsicherheit auf dem Markt sei so groß wie nie. \"Auf dem schrumpfenden Biermarkt herrscht ein harter Verdrängungswettbewerb. Viele Marken verlieren seit Jahren Menge und Image. Der Ausstoß von Veltins dagegen ist in den vergangenen zehn Jahren um 15 Prozent gewachsen, der Umsatz um knapp 30 Prozent\", sagt Huber. Der Chef der Veltins-Brauerei hofft, dass seine Brauerei und auch die gesamte Branche gut durch die neue Krise kommen. Eigentlich ging es für die Brauer nach einer Talsohle gerade wieder aufwärts. \"Wenn russisches Gas ausbleibt, hätten wir ein erhebliches Problem.\"')\n"
     ]
    },
    {
     "name": "stderr",
     "output_type": "stream",
     "text": [
      "83it [02:31,  1.54it/s]"
     ]
    },
    {
     "name": "stdout",
     "output_type": "stream",
     "text": [
      "Pandas(Index=83, tstamp=1657820665, url='/ausland/asien/biden-israel-113.html', fulltext=' US-Präsident Biden und Israels Premierminister Lapid haben sich einig gezeigt, dass der Iran nicht in den Besitz von Atomwaffen gelangen darf. Bei seinem Besuch in Israel warnte Biden Teheran, dass die Geduld der USA Grenzen habe.  Der Iran darf nach den Worten von US-Präsident Joe Biden nicht in den Besitz einer Atomwaffe gelangen. \"Dies ist ein vitales Sicherheitsinteresse sowohl für Israel als auch für die Vereinigten Staaten. Und ich möchte hinzufügen: auch für den Rest der Welt\", sagte Biden nach einem Treffen mit Israels neuem Premierminister Jair Lapid in Jerusalem. \"Ich bin nach wie vor der Meinung, dass die Diplomatie der beste Weg ist, um dieses Ziel zu erreichen.\" Biden bezog sich auf Bemühungen seiner Regierung, das Atomabkommen mit dem Iran wiederzubeleben. Die USA würden jedoch nicht ewig auf Teherans Antwort auf die Rückkehr zu einem Atomabkommen von 2015 warten, so der US-Präsident weiter. \"Wir haben der iranischen Führung dargelegt, was wir zu akzeptieren bereit sind, um wieder in den JCPOA aufgenommen zu werden. Wir warten auf ihre Antwort. Wann die kommt, bin ich mir nicht sicher.\" \"Wir werden nicht zulassen, dass der Iran in den Besitz einer Atomwaffe gelangt\", bekräftigte Biden. Man werde auch weiter daran arbeiten, anderen Bedrohungen durch den Iran in der Region entgegenzuwirken. Dabei gehe es etwa um Unterstützung des Terrorismus, das ballistische Raketenprogramm des Iran und die Weitergabe von Waffen an Terroristen. Israel ist strikt gegen eine Wiederbelebung des Atomabkommens, aus dem die USA unter Bidens Vorgänger Donald Trump ausgestiegen waren. Die Verhandlungen zwischen dem Iran und den anderen Vertragspartnern - China, Deutschland, Frankreich, Großbritannien, Russland und USA - stocken. Der Iran kann nach den Worten von Israels Ministerpräsident Lapid nur mit einer \"glaubwürdigen militärischen Drohung\" vom Besitz nuklearer Waffen abgehalten werden. \"Das Einzige, was den Iran aufhalten wird, ist die Gewissheit, dass die freie Welt Gewalt anwenden wird, wenn das Land sein Atomprogramm weiter ausbaut\", sagte Lapid. Dabei solle es sich auch nicht um einen \"Bluff\" handeln. Der iranische Präsident Ebrahim Raisi warnte seinerseits Israel und die USA vor einer \"harten und bedauerlichen Reaktion\" auf jedes Vorgehen gegen sein Land. Raisi warf den USA \"und ihren regionalen Verbündeten\" vor, die Instabilität in der Region geschürt zu haben, wie die staatliche Nachrichtenagentur Irna berichtete. \"Jedem Fehler der Amerikaner und ihrer Verbündeten in der Region und weltweit wird mit einer harten und bedauerlichen Reaktion begegnet werden\", sagte Raisi. Der neue israelische Regierungschef Lapid äußerte die Hoffnung, dass im Nahen Osten neue Möglichkeiten der Zusammenarbeit entstehen. \"Wir sind dabei, ein Bündnis gemäßigter Länder zu schaffen, die an den Frieden glauben und die glauben, dass unsere Kinder die Chance auf ein besseres Leben verdient haben\", sagte Lapid. Staatschef Izchak Herzog verlieh Biden bei seinem Besuch die Ehrenmedaille des israelischen Präsidenten. Er würdigte den US-Präsidenten als \"treuen, lebenslangen Freund des Staates Israel und des jüdischen Volkes\". \"Ihr unermüdliches Eintreten für die dauerhafte Partnerschaft zwischen den USA und Israel in Wort und Tat hat den Test der Zeit überdauert\", sagte Herzog. Biden wird am Freitag weiter nach Saudi-Arabien reisen. Er bekräftigte das Ziel, dass Israel mit weiteren arabischen Staaten diplomatische Beziehungen aufnimmt. \"Wir werden auch weiterhin auf die Abraham-Abkommen aufbauen, die ich nachdrücklich unterstütze, weil sie die Integration Israels in die weitere Region vertiefen und dauerhafte Verbindungen für Wirtschaft, Zusammenarbeit und Tourismus schaffen.\" Im Rahmen der sogenannten Abraham-Abkommen haben unter Vermittlung der USA inzwischen mehrere arabische Staaten Beziehungen mit Israel aufgenommen. Ein Beitritt Saudi-Arabiens gilt derzeit als unwahrscheinlich. Es gibt aber Spekulationen, dass beide Länder etwa in Sicherheitsfragen enger zusammenarbeiten könnten.')\n"
     ]
    },
    {
     "name": "stderr",
     "output_type": "stream",
     "text": [
      "84it [02:31,  1.48it/s]"
     ]
    },
    {
     "name": "stdout",
     "output_type": "stream",
     "text": [
      "Pandas(Index=84, tstamp=1657815939, url='/inland/jahrestag-flut-gedenken-101.html', fulltext=' Es ist ein Tag des Gedenkens in Rheinland-Pfalz, Nordrhein-Westfalen und dem benachbarten Belgien. Bundespräsident Steinmeier besuchte das von der Flut besonders getroffene Ahrtal - und mahnte auch zum Kampf gegen den Klimawandel.  Mehr als 180 Menschen starben vor einem Jahr bei der Hochwasserkatastrophe in Teilen von Rheinland-Pfalz und Nordrhein-Westfalen sowie im benachbarten Belgien. Besonders betroffen war das Ahrtal im Norden von Rheinland-Pfalz - allein hier kamen 134 Menschen ums Leben. Am Jahrestag der Flut kommen gerade in dieses Tal viele Politikerinnen und Politiker, um sich über den Stand des Wiederaufbaus zu informieren und ihre Solidarität mit den Menschen in der Region zu bekunden. Bereits am Vormittag traf Bundespräsident Frank-Walter Steinmeier ein. Zusammen mit der rheinland-pfälzischen Ministerpräsidentin Malu Dreyer besuchte er unter anderem ein Weinlokal in Altenahr und eine Schreinerei in Dernau. \"Ich habe bei den Besuchen in der Vergangenheit hier im Ahrtal gesagt: Wir werden euch nicht vergessen\", sagte Steinmeier nach dem Besuch des wieder aufgebauten Lokals. Mit seinem Kommen zum ersten Jahrestag der Katastrophe wolle er signalisieren, dass dem auch so sei. Beim Wiederaufbau sei bereits Vieles geschafft und zum Teil neu geschaffen worden, aber es gebe immer noch viel zu tun. Angesichts langer Wartezeiten bei Handwerksbetrieben und Gutachtern seien die Bedingungen dafür aber nicht einfach. Deshalb wüssten die Menschen im Ahrtal auch, dass der Wiederaufbau \"keine Aufgabe von 365 Tagen\" sei. Helfende Hände würden immer noch gebraucht. Unmittelbar nach der Flut hatte es massive Kritik an den Behörden gegeben. Zwar hatten Meteorologen vor massiven Regenfällen in der Nacht des 14. Juli 2021 gewarnt. Die Warnungen waren aber nicht ernst genug genommen worden, den überforderten Behörden unterliefen beim Krisenmanagement viele Fehler. Steinmeier sagte bei seinem Besuch im Ahrtal, Aufgabe von Verantwortungsträgern und Regierungen sei es nun, die Folgen des Klimawandels zu bekämpfen und den Katastrophenschutz im Land zu verbessern. \"Der Klimawandel hat uns erreicht\", so Steinmeier. Das zeigten auch wieder diese Tage mit brennenden Wäldern und sinkendem Grundwasserspiegel. In vielen Regionen drohe nach den Jahren 2018 bis 2020 nun \"ein vierter Dürresommer\". Der Kampf gegen den Klimawandel habe nicht an Dringlichkeit verloren. Auch viele Experten forderten anlässlich des Jahrestags der Flut eine Verbesserung des Katastrophenschutzes: Deutschland müsse krisenfester werden - mit einer besseren Organisation und Warnung sowie sensibilisierten Bürgerinnen und Bürgern, sagte etwa der Präsident des Bundesamtes für Bevölkerungsschutz und Katastrophenhilfe (BBK), Ralph Tiesler. Alle Menschen müssten sich fragen: \"Was können wir dazu tun?\" Wichtig sei eine bessere Zusammenarbeit zwischen den Akteuren und der Ausbau des Warnsystems, so Tiesler im gemeinsamen Morgenmagazin von ARD und ZDF. Auch Deutschlands westlicher Nachbar Belgien erinnerte an die Flut. König Philippe und Königin Mathilde trafen sich in der wallonischen Stadt Limburg mit Einwohnern und Vertretern der Rettungsdienste und der Behörden. In Belgien starben bei dem Unwetter 39 Menschen. In Nordrhein-Westfalen gab es 49 Todesopfer, in Rheinland-Pfalz 135.')\n"
     ]
    },
    {
     "name": "stderr",
     "output_type": "stream",
     "text": [
      "85it [02:32,  1.40it/s]"
     ]
    },
    {
     "name": "stdout",
     "output_type": "stream",
     "text": [
      "Pandas(Index=85, tstamp=1657816938, url='/wirtschaft/technologie/ausbau-von-windraedern-stagniert-101.html', fulltext=' Der Ausbau von Windrädern kommt in Deutschland nicht voran. Die Ziele der Politik, bis 2032 zwei Prozent der Fläche an Land für Windkraft zu nutzen, sind in weiter Ferne - und das bleibt nicht ohne Folgen für die Branche.  Der Ausbau von Windkraftanlagen kommt weiterhin nicht voran. Diese Stagnation setzt die Branche zunehmend unter Druck. Um das Ausbauziel erreichen zu können, bis 2032 zwei Prozent der Fläche an Land für Windkraft zu nutzen, werde das fünffache Volumen benötigt. Verbände forderten die Politik auf, dringend weitere Reformen auf den Weg zu bringen. Genehmigungsverfahren müssten deutlich verkürzt werden. Bereits beschlossene Maßnahmen, damit mehr Flächen für Windräder ausgewiesen werden, müssten schnell wirken. \"Der politische Wille ist da, die Ausbauziele wurden angepasst, aber es hakt weiterhin an den für den Zubau so wichtigen richtigen Rahmenbedingungen und deren konsequenter Anwendung\", erklärte Dennis Rendschmidt, Geschäftsführer vom Verband Deutscher Maschinen- und Anlagenbau (VDMA). Im ersten Halbjahr 2022 wurden 238 neue Windräder mit einer Leistung von zusammen 977 Megawatt installiert. Damit ist die Geschwindigkeit des Windkraftausbaus im Vergleich zum Vorjahreszeitraum ähnlich - sie hat sich sogar leicht verringert, erklärten der Bundesverband WindEnergie (BWE) und der VDMA. Da auch alte Anlagen stillgelegt wurden, lag der sogenannte Netto-Zubau im ersten Halbjahr bei 878 Megawatt, was etwas mehr ist als im Vorjahresvergleich. Zum Ende des ersten Halbjahres gab es demnach in Deutschland 28.000 Windanlagen mit einer Gesamtleistung von knapp 57.000 Megawatt. Die Zahlen der Bundesländer im ersten Halbjahr unterscheiden sich drastisch: Rund 80 Prozent der neu gebauten Windanlagen entfielen auf vier Bundesländer: Schleswig-Holstein, Nordrhein-Westfalen, Brandenburg und Niedersachsen. In den Stadtstaaten Berlin, Hamburg und Bremen entstanden keine neuen Windräder, aber auch die großen Flächenstaaten Bayern und Baden-Württemberg wiesen mit neun beziehungsweise 21 Anlagen nur einen sehr geringen Anteil der neuen Anlagen auf. Der Zubau habe nur in 62 von 294 Landkreisen stattgefunden, sagte Hermann Albers, Präsident des Bundesverbands Windenergie. Das macht auch deutlich, welche Flächenpotenziale sich ergeben, wenn alle Landkreise mitmachten. Ein Nord-Süd-Gefälle bereite der Branche seit Jahren große Sorgen, erläutert Albers. Insbesondere Bayern und Baden-Württemberg mit einer sehr starken Industrie hätten eine starke Nachfrage aus der Industrie. \"Wir befürchten eine Versorgungslücke, wenn nicht die Ministerpräsidenten sich aktiv zum Ziel der Bundesregierung der Flächenausweisung von zwei Prozent bekennen\", sagte Albers. Ansiedlungen erneuerbarer Energien-Anlagen seien ein Standortvorteil. Ziel der Bundesregierung ist es, den Anteil des aus erneuerbaren Energien erzeugten Stroms am Stromverbrauch bis 2030 auf mindestens 80 Prozent zu steigern. Derzeit liegt er knapp unter 50 Prozent. Um das Ziel zu erreichen, sollen zwei Prozent der gesamten Bundesfläche an Land für Windräder ausgewiesen werden. Das ist mehr als eine Verdoppelung. Die Länder werden künftig gesetzlich verpflichtet, mehr Flächen bereitzustellen. Für die einzelnen Länder gelten bis Ende 2032 unterschiedliche Ziele, weil es unterschiedliche Voraussetzungen für den Ausbau der Windenergie gibt. Für das Jahr 2027 gibt es Zwischenziele. Mehr Ökostrom spielt eine zentrale Rolle in der Strategie der Bundesregierung, um Klimaziele erreichen zu können und weniger abhängig von fossilen Energien wie russischem Gas zu werden. Laut Albers liegt die durchschnittliche Genehmigungsdauer für ein Windrad bei 60 Monaten. Die Branche fordert seit Jahren, dass dies deutlich verkürzt wird. Die geringe Ausbaudynamik in den vergangenen Jahren hat die Probleme der Branche verschärft. Grund sind auch Kostensteigerungen bei Materialien und ein Wettbewerbsdruck durch günstige Anbieter etwa aus China. Die Branche sei erheblich unter Druck geraten, sagte Dennis Rendschmidt, Geschäftsführer von VDMA Power Systems. So hatte der Windkraftanlagen-Hersteller Nordex angekündigt, seine Rotorblatt-Fertigung in Rostock zu schließen. Eine Kombination aus einem \"Kostensenkungswettbewerb\" und einer unzureichenden Marktdynamik \"sei brandgefährlich\", sagte Rendschmidt. Notwendig sei ein verlässlicher Ausbau von Windrädern in Deutschland. In der gesamten Branche gibt es laut Rendschmidt aktuell rund 100.000 Jobs. Es seien aber einmal 40.000 bis 50.000 mehr gewesen. Dies sei Folge von Markteinbrüchen in den vergangenen Jahren. Wenn es kein \"Aufwärts\" gebe, seien weitere Jobs gefährdet.')\n"
     ]
    },
    {
     "name": "stderr",
     "output_type": "stream",
     "text": [
      "86it [02:33,  1.30it/s]"
     ]
    },
    {
     "name": "stdout",
     "output_type": "stream",
     "text": [
      "Pandas(Index=86, tstamp=1657822147, url='/inland/gedenken-flut-101.html', fulltext=' Am ersten Jahrestag der Flutkatastrophe in Rheinland-Pfalz und NRW haben Tausende Menschen an die Opfer erinnert. Aus der EU-Kommission kommt der Vorschlag, einen europäischen Gedenktag für die Opfer des Klimawandels zu schaffen.  Zum ersten Jahrestags der Flutkatastrophe in Rheinland-Pfalz und Nordrhein-Westfalen haben beide Länder am Donnerstag der rund 190 Toten gedacht. Am Nachmittag fanden zentrale Gedenkveranstaltungen in Bad Neuenahr-Ahrweiler sowie in Euskirchen statt, die beide besonders von den Fluten getroffen worden waren. Allein in Bad Neuenahr-Ahrweiler gedachten Hunderte Angehörige, Betroffene und Helfer der Toten, auch Bundeskanzler Olaf Scholz nahm teil. \"Das heutige Gedenken hat eine klare Botschaft: Die Menschen im Ahrtal sind nicht alleine und können auf eine große Verbundenheit aus dem ganzen Land zählen\", sagte die rheinland-pfälzische Ministerpräsidentin Malu Dreyer laut Redetext bei der Gedenkveranstaltung. Von den mindestens 135 Toten in Rheinland-Pfalz waren 134 im Ahrtal gestorben. Zwei weitere Opfer werden noch immer vermisst. \"Ich kann verstehen, wenn Ihnen alles trotzdem manchmal nicht schnell genug geht, wenn Sie einfach nur wollen, dass es vorangeht.\" Es werde aber jeden Tag \"hart daran\" gearbeitet, dass der Wiederaufbau für alle gelinge, sagte Dreyer. \"Das Ahrtal ist nicht vergessen.\" Sie dankte dem Bund, der allein für Rheinland-Pfalz 15 Milliarden Euro Wiederaufbauhilfe zur Verfügung gestellt habe. In Euskirchen erinnerte neben NRW-Ministerpräsident Hendrik Wüst auch Bundespräsident Frank-Walter Steinmeier in einem ökumenischen Gottesdienst an die Geschehnisse vor einem Jahr. Wüst sagte in der Kirche, die bei dem Hochwasser beschädigt worden war: \"Das sind die Folgen unseres Umgangs mit der Erde.\" Die Katastrophe sei ein trauriges, mahnendes Zeugnis des menschengemachten Klimawandels gewesen. Das Klima zu schützen, sei eine der größten Herausforderungen: \"Es liegt an unserer Generation, die richtigen Weichen zu stellen\", sagte Wüst. In NRW waren 49 Menschen bei der Flut ums Leben gekommen - viele Betroffene und Retter hatten berichtet, an einigen Orten seien die Warnungen nicht oder zu spät angekommen, zudem habe es Defizite in den Kommunikationsketten gegeben. Bundespräsident Steinmeier äußerte Verständnis für Fragen, warum nicht schnell und umfassend genug gewarnt worden sei. Zügige Lösungen für einen besseren Katastrophenschutz müsse nun das ganze Land finden.  EU-Kommissionsvizepräsident Frans Timmermans brachte anlässlich des Jahrestags ein jährliches Gedenken an die Opfer des Klimawandels ins Gespräch. Timmermans, der auch für Umwelt zuständig ist, sagte am Rande des Umweltministertreffens in Prag: \"Es ist Zeit, dass wir diesen Opfern etwas mehr Aufmerksamkeit schenken.\" Er wolle den Ministern vorschlagen, einen Gedenktag zu schaffen, \"an dem wir der Opfer dieser schrecklichen Wetterlagen gedenken, die von der Klimakrise ausgelöst werden\".')\n"
     ]
    },
    {
     "name": "stderr",
     "output_type": "stream",
     "text": [
      "87it [02:34,  1.26it/s]"
     ]
    },
    {
     "name": "stdout",
     "output_type": "stream",
     "text": [
      "Pandas(Index=87, tstamp=1657826087, url='/ausland/europa/draghi-ruecktritt-101.html', fulltext=' Italiens Ministerpräsident Draghi hat nach einem Streit mit der Fünf-Sterne-Bewegung seinen Rücktritt angekündigt. Staatspräsident Mattarella lehnte diesen jedoch ab. Draghi könnte nun versuchen, erneut Unterstützer zu sammeln.  Italien steckt mitten in einer neuen Regierungskrise. Ministerpräsident Mario Draghi hat heute seinen Rücktritt angekündigt, Staatspräsident Sergio Mattarella aber lehnte ab. Er forderte Draghi auf, dem Parlament Bericht zu erstatten und die Lage zu bewerten, hieß es in einer Mitteilung seines Amtssitzes. Draghi könnte nun versuchen, im Zwei-Kammern-Parlament wieder Unterstützer hinter sich zu vereinen und sich dies per Vertrauensvotum bestätigen zu lassen. Schon mit der bisherigen Vielparteienregierung hätte er die nötige Mehrheit gehabt, auch ohne die Fünf-Sterne-Bewegung. Die Legislaturperiode endet in Italien planmäßig im kommenden Jahr. Vorausgegangen war ein Streit mit der mitregierenden Fünf-Sterne-Bewegung um eine Abstimmung über ein milliardenschweres Hilfsdekret im Senat, mit dem auch eine Vertrauensabstimmung verbunden war. Die Sterne-Senatoren blieben dem Votum fern und verweigerten Draghi damit ihr Vertrauen. Der Senat - die kleinere Kammer im italienischen Zwei-Kammern-Parlament - votierte aber schließlich trotzdem mit 172 Stimmen für den Erlass, 39 Abgeordnete stimmten dagegen. Das Dekret sieht Milliardenhilfen und Investitionen für Familien und Unternehmen vor. Die Fünf Sterne hatten mehr Geld gefordert. Parteichef Giuseppe Conte sah außerdem Forderungen wie die Einführung eines Mindestlohns nicht erfüllt. Und so kam es zu dem Zerwürfnis. Draghi hatte vor der Vertrauensabstimmung gewarnt, dass er die im Februar 2021 zur Bewältigung der Corona-Krise und ihrer wirtschaftlichen Folgen gebildete Einheitsregierung ohne Unterstützung der Fünf-Sterne-Bewegung nicht weiter führen würde. Die Koalition der \"Nationalen Einheit\", die seine Regierung getragen habe, existiere nicht mehr, erklärte er nun auch. Damit seien die Bedingungen zur Fortsetzung seiner Arbeit nicht mehr gegeben. Italiens Sozialdemokraten gehen trotz der Rücktrittsankündigung von Draghi weiter von einer Zukunft mit ihm aus. \"Wir arbeiten für ein Draghi Zwei, um die Arbeit am Corona-Wiederaufbauplan, dem Haushaltsgesetz und der Lage in der Ukraine in den kommenden Monaten abzuschließen\", schrieb Ex-Ministerpräsident Matteo Renzi von der Splitterpartei Italia Viva auf Twitter. Die rechtsextremen Fratelli d\\'Italia forderten dagegen vorgezogene Wahlen. Diese hatte auch die rechte Regierungspartei Lega von Matteo Salvini in der Vergangenheit nicht ausgeschlossen.')\n"
     ]
    },
    {
     "name": "stderr",
     "output_type": "stream",
     "text": [
      "89it [02:35,  1.80it/s]"
     ]
    },
    {
     "name": "stdout",
     "output_type": "stream",
     "text": [
      "Pandas(Index=88, tstamp=1657826683, url='/inland/corona-ausbrueche-heime-101.html', fulltext=' Heime haben wieder häufiger mit Corona-Ausbrüchen zu kämpfen, die Zahl der dem RKI gemeldeten Einrichtungen stieg binnen einer Woche stark an. Das Institut rechnet unter anderem mit mehr Klinikeinweisungen.  Die Zahl von Corona-Ausbrüchen in Alten- und Pflegeheimen nimmt wieder deutlich zu. In der vergangenen Woche wurden dem Robert Koch-Institut (RKI) 235 Einrichtungen gemeldet, in denen es mindestens einen neuen Fall gab, wie aus dem neuen Wochenbericht des RKI hervorgeht. In der Vorwoche waren es demnach 192 Heime. Menschen über 80 Jahre sind auch diejenigen, die weiterhin am häufigsten mit schweren Verläufen zu kämpfen haben: Von ihnen kommen laut RKI derzeit binnen einer Woche etwa 25 pro 100.000 Einwohner mit einer Covid-Infektion ins Krankenhaus, während dieser Wert über alle Altersgruppen hinweg nur bei 3,7 liegt. Auch für die Allgemeinbevölkerung bleibe der Infektionsdruck hoch - und damit auch die Belastung für das Gesundheitswesen. Für die vergangene Woche schätzt das RKI, dass zwischen 800.000 und 1,3 Millionen Menschen an einer aktiven Corona-Infektion litten. Wegen Atemwegserkrankungen gehen derzeit deutlich mehr Menschen zum Arzt als zu dieser Jahreszeit üblich . Das RKI rechnet daher weiter mit mehr schweren Verläufen, mehr Einweisungen in Kliniken und auch mehr Todesfällen. Auch die Zahl der Corona-Patienten auf den Intensivstationen steigt weiter. Die aktuelle Sieben-Tage-Inzidenz gibt das RKI mit 720,4 an - der tatsächliche Wert dürfte deutlich höher liegen, da viele Infektionen nicht mehr erfasst werden. 29,46 Millionen Corona-Infektionen hat das RKI bundesweit insgesamt seit Beginn der Pandemie gezählt. Aber auch hier dürfte die tatsächliche Zahl deutlich größer sein.')\n",
      "Pandas(Index=89, tstamp=1657700661, url='/ausland/asien/sri-lanka-praesident-flucht-malediven-proteste-101.html', fulltext=' Sri Lankas Präsident Rajapaksa hat sich auf die Malediven abgesetzt - wohl um einer Strafverfolgung zu entgehen. Übergangsweise wird Premier Wickremesinghe das Amt übernehmen - dies könnte neue Proteste auslösen.  Sri Lankas faktisch entmachteter Präsident Gotabaya Rajapaksa hat sich auf die Malediven abgesetzt. Eine Militärmaschine mit dem 73-Jährigen und seiner Ehefrau an Bord landete auf dem Hauptstadtflughafen in Male, wie die dortigen Behörden bestätigten. Inzwischen soll er unter Polizeischutz an einen unbekannten Ort gebracht worden sein. Rajapaksa hatte am Samstag angekündigt, heute offiziell als Präsident des südasiatischen Inselstaates zurücktreten zu wollen. Er hatte die Verzögerung damit begründet, eine \"geordnete Machtübergabe\" organisieren zu wollen. Am 20. Juli soll das Parlament einen neuen Staatschef wählen. Für den Übergang wird Ranil Wickremesinghe das Präsidentenamt übernehmen. Dies gab ein Parlamentssprecher in Colombo bekannt. Dies ist auch in der Verfassung so vorgesehen, wird bei vielen Demonstranten aber auf Widerstand stoßen. Wickremesinghe gilt als enger Vertrauter des geflohenen Präsidenten. Die Drohung mit einem Generalstreik steht im Raum. Ähnlich wie Rajapaksa hatte auch Wickremesinghe nach Massenprotesten seinen Rücktritt angeboten. Am Wochenende stürmte eine aufgebrachte Menschenmenge den Präsidentenpalast sowie ein Bürogebäude des Staatschefs. Die Sicherheitskräfte ließen sie gewähren. In der privaten Residenz von Premierminister Wickremesinghe war Feuer gelegt worden. In Sri Lanka wurde inzwischen der Notstand ausgerufen. Die Maßnahme gelte landesweit, sagte ein Regierungssprecher der Nachrichtenagentur AFP. Die Polizei verhängte zudem für Sri Lankas Westprovinz - zu der auch die Hauptstadt Colombo gehört - eine Ausgangssperre. Ein hochrangiger Polizeibeamter verwies laut AFP auf fortdauernde Proteste vor dem Sitz des Ministerpräsidenten. Die Polizei habe den Befehl, gegen die Demonstrierende vorzugehen, heiß es. Gestern hatte der Präsident noch erfolglos versucht, das Land zu verlassen. Beobachtern zufolge wollte er durch eine Ausreise vor seinem Rücktritt einer möglichen Festnahme entgehen. Dem Staatschef wird Missmanagement der Wirtschaft vorgeworfen. Solange er noch Präsident ist, genießt er Immunität vor Strafverfolgung. Der Inselstaat erlebt eine massive Wirtschaftskrise. Die Regierung war zuletzt nicht mehr in der Lage, die wichtigsten Importe wie Lebensmittel, Treibstoff und Medikamente zu finanzieren. Immer wieder fällt der Strom aus. Im Zuge der Corona-Pandemie ist der wirtschaftlich wichtige Tourismussektor auf Sri Lanka zusammengebrochen. Der kleine Inselstaat ist hoch verschuldet und bat den Internationalen Währungsfonds (IWF) sowie Russland um Hilfe gebeten. Für die Missstände machen viele Demonstranten den Präsidenten und dessen Familie verantwortlich. Rajapaksa hatte viele Schlüsselstellen der Regierung mit engen Familienmitgliedern besetzt.')\n"
     ]
    },
    {
     "name": "stderr",
     "output_type": "stream",
     "text": [
      "90it [02:35,  2.08it/s]"
     ]
    },
    {
     "name": "stdout",
     "output_type": "stream",
     "text": [
      "Pandas(Index=90, tstamp=1657830237, url='/wirtschaft/finanzen/marktberichte/geldanlage-dollar-euro-aktien-fed-ezb-leitzins-rezession-inflation-berichtssaison-quartalsberichte-101.html', fulltext=' Die US-Börsen haben nach schwachem Beginn ihre Verluste eingegrenzt. Davon konnte beim DAX keine Rede sein, der deutsche Leitindex musste kräftig Federn lassen. Rezessionsängste sorgten für viel Nervosität.  Enttäuschend aufgenommene Quartalsberichte der beiden Großbanken JP Morgan und Morgan Stanley zum Beginn der neuen Berichtssaison lasteten heute besonders auf den Standardwerten. Insgesamt aber konnten sich die großen US-Aktienindizes im Verlauf von anfänglich deutlicheren Verlusten erholen. Unter den Techaktien drehte der Auswahlindex Nasdaq 100 am Ende sogar noch 0,34 Prozent ins Plus, der Composite-Index schloss ebenfalls ganz leicht im Plus. Der Leitindex Dow Jones schaffte dies aber nicht mehr und ging bei 30.630 Punkten um 0,46 Prozent leichter aus dem Handel. Er behauptete damit aber die Marke von 30.000 Punkten, die beim Tagestief von 30.143 Zählern schon bedrohlich wackelte. Der marktbreite S&P-500-Index endete bei 3790 Punkten um 0,3 Prozent moderat im Minus. Deutlich wurde heute, dass die US-Banken dem drohenden Abschwung der Weltwirtschaft Tribut zollen müssen. Milliarden-Rückstellungen für drohende Kreditverluste und maue Geschäfte mit Fusionen und Übernahmen haben die Gewinne deutlich schrumpfen lassen. Der US-Branchenprimus JP Morgan erzielte im zweiten Quartal einen Überschuss von 8,6 Milliarden Dollar - ein Rückgang von 28 Prozent, wie der Finanzkonzern heute mitteilte. Die Bank setzte zudem geplante Aktienrückkäufe aus. Bankchef Jamie Dimon betonte in seinem Ausblick mehrere Risikofaktoren, wie die geopolitischen Spannungen, hohe Inflation, schwindendes Verbrauchervertrauen und eine \"nie zuvor gesehene\" quantitative geldpolitische Straffung als Bedrohung für das globale Wirtschaftswachstum. Auch beim Rivalen Morgan Stanley fielen die Gewinne kräftig. Der Ergebnisrückgang bei beiden Instituten war zudem größer als von Analysten erwartet. Bei Investoren kam das nicht gut an. Beide Papiere gaben zunächst deutlich nach, konnten ihre Verluste aber im Verlauf reduzieren. Für Aufregung sorgte auch die Regierungskrise in Italien, die in einer Rücktrittsankündigung von Ministerpräsident Mario Draghi am frühen Abend in Europa gipfelte. Danach beschleunigte sich der Ausverkauf bei Staatsanleihen des Landes noch einmal. Im Gegenzug stieg die Rendite der zehnjährigen Papiere auf 3,549 Prozent nach 3,407 am Vortag an. Der Renditeabstand zu den zehnjährigen Bundespapieren vergrößerte sich auf 224 nach 208 Basispunkten gestern. Um unterschiedliche Renditeentwicklungen zwischen den Euro-Mitgliedstaaten abzufedern, will die EZB alsbald ein neues Instrument vorstellen. Italiens Staatspräsident Sergio Mattarella lehnte den Rücktritt von Draghi dann aber ab. Mattarella forderte ihn auf, dem Parlament Bericht zu erstatten und die Lage zu bewerten, hieß es in einer Mitteilung seines Amtssitzes. Der heimische Aktienmarkt wiederum bleibt weiter fest im Griff von Zins- und Rezessionsängsten. Auch aus New York kam heute Gegenwind, sodass der Leitindex DAX erneut Boden verlor. Er fiel am Ende auf 12.519 Punkte, ein Tagesverlust von 1,86 Prozent. Der Index weitete dabei am Nachmittag seine Verluste aus und markierte bei 12.434 Punkten sein Tagestief, ein Minus von deutlich über zwei Prozent. Zwar gibt es, so wie heute auch, immer wieder Investoren, die auf niedrigerem Niveau zugreifen. Meist kann der Markt davon aber nur kurzzeitig profitieren und rutscht danach wieder ab. Das Tageshoch lag heute bei 12.788 Zählern - rund 350 Punkte höher. Der Handel verläuft also, wie von vielen Fachleuten erwartet, weiterhin volatil. Unter den Einzelwerten im DAX gab es kaum Gewinner. Die roten Pfeile dominierten das Geschehen, wobei auch das Papier der Telekom für seine Verhältnisse stärker unter Druck geriet. Die Bonner kündigten heute an, die Mehrheit ihrer Funkturm-Sparte zu verkaufen . Die Aktie hatte sich im unsteten Umfeld zuletzt besser behauptet, nun nahmen die Investoren auch dort Gewinne mit. Auch die Allianz gab nach. Beide Aktien gehören zu den Schwergewichten im deutschen Leitindex. Ebenso zählten Continental und Adidas zu den stärksten Verlierern. Lediglich das Papier des Onlinehändlers Zalando lag gegen den Trend moderat im Plus. Hauptthema am Aktienmarkt bleiben die hohe Inflation und die mit einer Anhebung der Zinsen verbundenen Rezessionssorgen. Die Stimmung unter den Marktteilnehmern schwanke zwischen Inflations- und Zinsangst sowie den Sorgen vor einer Rezession, schreiben die Marktbeobachter der Helaba in ihrem Tageskommentar. In den USA waren die Verbraucherpreise im Juni um 9,1 Prozent gestiegen und hatten den höchsten Wert seit über 40 Jahren erreicht. An dieser Zahl hat der Markt weiterhin schwer zu tragen. Denn damit steht die US-Notenbank Fed unter Druck, ihre Geldpolitik deutlich zu straffen. Der Markt rechnet mit einem Zinsschritt von 75 Basispunkten auf der Sitzung Ende Juli, vereinzelt werden sogar Forderungen nach einem ganzen Punkt laut. \"Der erschreckende Teil des gestrigen Inflationsberichts ist, dass auch die über neun Prozent Teuerung laut Meinung vieler Ökonomen noch nicht den Hochpunkt darstellen könnten\", erläuterte Marktanalyst Jochen Stanzl von CMC Markets. Des Weiteren schwebt hierzulande der ungewisse Ausgang der Gaskrise wie ein Damokles-Schwert über den Märkten. Vor allem wenn Russland den Gashahn komplett abdrehen sollte, drohen der deutschen und europäischen Wirtschaft schwere Zeiten. Auch innerhalb der Eurozone wird der Inflationsdruck größer: Angesichts der hohen Energiepreise rechnet die EU-Kommission im Jahresdurchschnitt mit einer Teuerung von 7,6 Prozent . Bei ihrer Frühlingsprognose im Mai war die Kommission noch von 6,1 Prozent Inflation für die Euro-Länder ausgegangen. Beim Wirtschaftswachstum geht die EU-Kommission nach wie vor davon aus, dass die EU-Wirtschaft 2022 um 2,7 Prozent wachsen wird. Im Euro-Raum werden 2,6 Prozent Wachstum erwartet, eine leichte Anpassung verglichen mit den im Mai vorhergesagten 2,7 Prozent. Der Kurs des Euro ringt im US-Handel mit der Parität zum US-Dollar und lag zwischenzeitlich im Tagesverlauf bei 0,9952 Dollar schon deutlich darunter. Aktuell hat sich die Gemeinschaftswährung wieder etwas erholt. Die Europäische Zentralbank setzte den Referenzkurs auf 1,0005 (Mittwoch: 1,0067) Dollar fest.. \"Dem Euro droht dennoch weiteres Ungemach, denn die technischen Indikatoren stehen auf Verkauf und richten sich trotz der über-verkauften Marktlage weiter gen Süden\", so die Devisenexperten der Helaba. Am Mittwoch war der Euro erstmals seit 2002 zeitweise weniger als einen Dollar wert gewesen, nachdem in den USA eine überraschend hohe Inflation für den Juni gemeldet worden war. Dies hatte Spekulationen bezüglich eines entschiedenen Zinsschrittes der US-Notenbank Fed zur Bekämpfung der starken Teuerung geweckt. Im Vergleich dazu geht die EZB nur sehr zögerlich gegen die hohe Teuerung vor. Der bereits angekündigte Zinsschritt von lediglich 25 Basispunkten am 21. Juli wird am Markt als nicht ausreichend erachtet. Zudem lastet die drohende Energiekrise in Europa auf dem Euro. Mit dem erneuten Fall unter die Paritätsgrenze notiert der Euro so schwach wie seit fast 20 Jahren nicht mehr. \"Derzeit scheint nahezu alles gegen den Euro zu sprechen\", kommentierte Thomas Gitzel, Chefökonom der VP Bank. \"Der Euro verliert, und die Inflationsprobleme werden dadurch noch größer.\" Die Ölpreise fielen indes zurück. Sowohl ein Barrel (159 Liter) der Nordseesorte Brent als auch der US-Sorte West Texas Intermediate (WTI) geben über 1,3 Prozent nach. Brent kostet damit gut 98 Dollar je Fass. Die beiden Ölsorten kosten damit deutlich weniger als noch Mitte Juni, als ein Fass der Sorte Brent noch rund 125 Dollar gekostet hatte. Alleine am Dienstag hatten die Ölpreise bis zu acht Prozent nachgegeben. Ausschlaggebend war die Furcht vor einem Konjunktureinbruch infolge einer drohenden Energiekrise in Europa. Der Goldpreis steht an den Finanzmärkten weiter unter Druck. Heute fiel der Preis für das Edelmetall unter die Marke von 1700 US-Dollar. Edelmetallen setzen derzeit vor allem zwei Entwicklungen zu. Zum einen steigt der US-Dollar in der Gunst der Anleger immer weiter. Das verteuert den rechnerischen Einkaufspreis von Gold und Silber für Interessenten, die sich außerhalb des Dollarraums befinden. Zum anderen werden Edelmetalle durch die vielerorts steigenden Leitzinsen belastet. Da Gold und Silber keine laufenden Erträge wie Zinsen abwerfen, verlieren sie gegenüber festverzinslichen Wertpapieren wie Staatsanleihen an Glanz. Das dämpft die Nachfrage, die Preise fallen. Diese Effekte überlagern derzeit die Funktion des Edelmetalls als sicherer Hafen in Krisenzeiten. Nach dem krisenbedingt starken Abrutschen der Produktion sieht der neue VW-Kernmarkenchef Thomas Schäfer Chancen für eine höhere Auslastung des Stammwerks Wolfsburg. \"Wir sind vorsichtig optimistisch, weil alles getan wird, um das zweite Halbjahr spürbar stabiler fahren zu können\", sagte der Manager der Firmenzeitschrift \"Mitbestimmen\" zur Frage, ob ein Aufholen gelingen könne. \"Trotz der schwierigen Situation für die Menschen können die Zulieferer aus der Ukraine derzeit wieder verlässlicher Kabelstränge liefern, und auch bei den Halbleitern sieht es besser aus.\" Im Ringen um die Zukunft des größten deutschen Gas-Importeurs Uniper gibt es noch keinen Durchbruch. \"Bislang wurden noch keine Entscheidungen getroffen\", teilte der Uniper-Mehrheitseigner Fortum am Donnerstagabend mit, an dem auch der finnische Staat beteiligt ist. Die finnische Europaministerin Tytti Tuppurainen hatte zuvor mit deutschen Regierungsvertretern in Berlin gesprochen, auch Fortum verhandelt. Tuppurainen dringt dabei ebenso wie Fortum auf eine rasche Lösung. Uniper hat die Bundesregierung in der Gas-Krise um Hilfe gebeten. Offen ist, wie die finnische Regierung und Fortum in die Pflicht genommen werden. Der Medizin- und Sicherheitstechnikkonzern Drägerwerk hält trotz eines bisher enttäuschenden Jahresverlaufs an seiner Prognose für 2022 fest. Umsatz und Ergebnis hatten sowohl im ersten Halbjahr als auch im zweiten Quartal deutlich unter den Vorjahreswerten gelegen, wie das SDAX-Unternehmen am Abend nach Börsenschluss bekannt gab. Zum einen hätten die Erlöse aufgrund der eingeschränkten Verfügbarkeit von Produkten nicht so schnell realisiert werden können, hieß es zur Begründung. Zum anderen sei das Geschäft durch einen Lockdown-bedingten Umsatzrückgang in China belastet worden. Zumindest beim ersten Problem rechnet Drägerwerk aber im zweiten Halbjahr mit einer Entspannung. Dies und der hohe Auftragsbestand lasse das Unternehmen von einer deutlichen Erholung der Geschäftsentwicklung ausgehen. Im zweiten Quartal war der Umsatz um 24,7 Prozent auf 653 Millionen Euro gesunken. Das Ebit lag bei minus 77 Millionen Euro (VJ: +80,3). Der Auftragseingang war hingegen währungsbereinigt um 7,6 Prozent auf 822 Millionen Euro gestiegen. Der Streamingdienst Netflix arbeitet für ein künftiges Geschäftsmodell mit Werbung auf seiner Plattform mit dem Microsoft-Konzern zusammen. Microsoft verfüge über das nötige Know-how, \"um uns ein neues Abonnement-Angebot mit Werbung aufzubauen\", erklärte Netflix-Geschäftsführer Greg Peters. Werbung auf der Plattform soll günstigere Abonnements ermöglichen, wie das Unternehmen im April mitgeteilt hatte. Laut der US-Fachpresse hatte Netflix dafür auch andere Partner in Betracht gezogen. Microsoft hat den Vorteil, dass es selbst kein mit Netflix konkurrierendes Streaming-Angebot im Portfolio hat. Italiens Wettbewerbshüter haben den Internetgiganten Google ins Visier genommen. Die Behörde AGCM untersuche den mutmaßlichen Missbrauch der beherrschenden Stellung des US-Konzerns bei der Datenübertragung, teilte AGCM mit. Es werde dem Verdacht nachgegangen, dass Google den Zugang zu anderen Internet-Plattformen behindere. Die Behörde habe am Mittwoch zusammen mit der italienischen Finanzpolizei Räumlichkeiten von Google durchsucht. Google wies die Vorwürfe zurück. Nach italienischem Recht droht Google eine Geldstrafe von bis zu zehn Prozent seines weltweiten Jahresumsatzes, wenn der Konzern für schuldig. befunden wird. Beim schwedischen Netzwerkausrüster Ericsson stieg das um Umbaukosten bereinigte operative Ergebnis (Ebit) im Vergleich zum Vorjahr um gut ein Viertel auf 7,4 Milliarden schwedische Kronen (697 Millionen Euro). Allerdings hatten sich Analysten mehr erhofft. Die starke Nachfrage nach 5G-Produkten in Nordamerika konnte die höheren Kosten und niedrigeren Lizenzeinnahmen nicht ausgleichen. Der Quartalsumsatz kletterte um 14 Prozent auf 62,5 Milliarden Kronen. Hierbei belastete der Rückzug aus dem Russland-Geschäft infolge des Ukraine-Krieges mit rund 1,2 Milliarden Kronen. Unter dem Strich stieg der Gewinn um fast ein Fünftel auf 4,7 Milliarden Kronen. Die US-Lebensmittel- und Arzneimittelbehörde FDA hat den Corona-Impfstoff Novavax für Erwachsene freigegeben. Empfehlungen für die Verabreichung der Impfung werden nächste Woche erwartet. Die US-Regierung kaufte bereits 3,2 Millionen Dosen des Impfstoffs. Laut Novavax-Chef Stanley Erck könne noch im Juli mit den Impfungen begonnen werden. Novavax gehört zu den eher traditionellen, auf Protein basierenden Impfstoffen und ist bereits in Europa und anderen Ländern zugelassen. Tesla-Zulieferer Panasonic Energy baut im US-Bundesstaat Kansas angesichts der hohen Nachfrage für Elektroautos ein neues Batteriewerk. Nach Angaben des Bundesstaates werden am neuen Standort De Soto durch die Investition von rund vier Milliarden Dollar bis zu 4000 Arbeitsplätze entstehen. Panasonic Energy will durch eine höhere Energiedichte die Reichweite der Batterien steigern und damit für Elektroautos effizienter machen. Die Tochter des japanischen Elektronikkonzerns betreibt bereits eine Fabrik in Nevada, die Tesla beliefert. Nach kräftigen Zuwächsen im zweiten Quartal sieht sich der Modekonzern Hugo Boss auf Rekordkurs. Hugo Boss prognostiziert nunmehr, den Konzernumsatz zwischen 20 und 25 Prozent auf ein Rekordniveau von 3,3 bis 3,5 Milliarden Euro steigern zu können. Die bisherige Prognose sah einen Anstieg zwischen zehn und 15 Prozent auf ein Niveau von 3,1 bis 3,2 Milliarden Euro vor. Für das operative Ergebnis (Ebit) wird ein Anstieg zwischen 25 und 35 Prozent auf 285 bis 310 Millionen Euro erwartet (bisherige Prognose: Anstieg zwischen zehn und 25 Prozent auf 250 bis 285 Millionen Euro).')\n"
     ]
    },
    {
     "name": "stderr",
     "output_type": "stream",
     "text": [
      "91it [02:38,  1.22s/it]"
     ]
    },
    {
     "name": "stdout",
     "output_type": "stream",
     "text": [
      "Pandas(Index=91, tstamp=1657701374, url='/ausland/asien/tepco-fukushima-103.html', fulltext=' Aktionäre des japanischen Atomkonzerns Tepco haben eine Entschädigung von 94,6 Milliarden Euro erstritten. Bisher hatten Gerichte Unternehmen von einer Verantwortlichkeit für die Fukushima-Atomkatastrophe freigesprochen.  Mehr als elf Jahre nach der Atomkatastrophe von Fukushima sind vier ranghohe Ex-Manager des Energiekonzerns Tepco zu einer hohen Milliardenzahlung verurteilt worden. Ein Gericht in Tokio ordnete die Zahlung von 13 Billionen Yen (94,6 Milliarden Euro) an, wie japanische Medien berichteten. Geklagt hatten Aktionäre. Der Konzern will zu der Entscheidung keine Stellungnahme abgeben. Laut den Berichten ist es das erste Mal, dass ein Gericht ehemalige Führungskräfte für die Katastrophe verantwortlich gemacht hat. Das Urteil steht im Widerspruch zu der Entscheidung in einem Strafverfahren aus dem Jahr 2019, in dem das Bezirksgericht Tokio drei Tepco-Führungskräfte von dem Vorwurf der Fahrlässigkeit freisprach und urteilte, dass sie den gewaltigen Tsunami, der das Kernkraftwerk heimsuchte, nicht hätten vorhersehen können. Das am Meer gelegene Atomkraftwerk Fukushima war kurz nach einem schweren Erdbeben am 11. März 2011 von einem fast 15 Meter hohen Tsunami getroffen worden. Das Kühlsystem des Kraftwerks fiel aus, in drei der sechs Reaktoren kam es zur Kernschmelze. Die Katastrophe verwandelte umliegende Orte in Geisterstädte. Es war das schlimmste Atomunglück seit der Tschernobyl-Katastrophe von 1986.\\xa0Durch den Tsunami kamen etwa 18.500 Menschen ums Leben. Der Kraftwerksbetreiber Tepco wurde wegen der Folgen der Atomkatastrophe sowohl von Betroffenen als auch von Aktionären verklagt. Kostspielig für den Energiekonzern ist auch der aufwendige Rückbau der Atomanlage.')\n"
     ]
    },
    {
     "name": "stderr",
     "output_type": "stream",
     "text": [
      "92it [02:38,  1.02s/it]"
     ]
    },
    {
     "name": "stdout",
     "output_type": "stream",
     "text": [
      "Pandas(Index=92, tstamp=1657701954, url='/wirtschaft/konjunktur/inflation-deutschland-113.html', fulltext=' Nach immer neuen Rekordständen ist die Inflationsrate im Juni leicht zurückgegangen. Hauptgründe waren der Tankrabatt und das 9-Euro-Ticket. Doch die leichten Entspannungssignale dürften nur von kurzer Dauer sein.  Trotz des anhaltenden Anstiegs der Energie- und Lebensmittelpreise hat die Inflation in Deutschland im Juni etwas an Dynamik verloren. Die Verbraucherpreise legten nach Angaben des Statistischen Bundesamtes gegenüber dem Vorjahresmonat um 7,6 Prozent zu. Die Wiesbadener Behörde bestätigte damit ihre erste Schätzung. Im Mai hatte die Inflationsrate noch bei 7,9 Prozent gelegen, im April betrug sie 7,4 Prozent. Im Gegensatz zur ersten Schätzung machten die Statistiker nun auch konkrete Angaben zu den Gründen für den Rückgang der Teuerungsrate im vergangenen Monat. \"Hauptursachen für die hohe Inflation sind nach wie vor Preiserhöhungen bei den Energieprodukten\", sagte der Präsident des Statistischen Bundesamtes, Georg Thiel. \"Leicht dämpfend wirkten sich im Juni 2022 das 9-Euro-Ticket und der Tankrabatt auf die Gesamtteuerung aus.\" Auch wenn das Statistische Bundesamt den Effekt der zum 1. Juni für drei Monate eingeführten Entlastungsmaßnahmen nicht genau beziffern konnte, so zeigt er sich jedoch in den Zahlen deutlich: Die Teuerungsrate im Bereich Verkehr halbierte sich und lag im Juni noch bei 8,3 Prozent im Vergleich zum Vorjahresmonat. Im Mai waren es noch 16,3 Prozent gewesen. Die Statistiker verwiesen darauf, dass sich die Auswirkungen den Tankrabatts wegen der schwankenden Rohölpreise nicht exakt beziffern lasse. \"Wären jedoch - ohne Entlastungsmaßnahmen - die Preise für Kraftstoffe und für den öffentlichen Personenverkehr im Juni 2022 unverändert gegenüber Mai 2022 geblieben, hätte sich der Verbraucherpreisindex insgesamt rein rechnerisch um 8,6 Prozent gegenüber Juni 2021 erhöht.\" Die staatlichen Entlastungen dürften vor dem Hintergrund dieser Zahlen auch in den weiteren Sommermonaten Juli und August den Preisdruck dämpfen. Allerdings könnte die Inflationsrate wieder nach oben schnellen, sobald die Maßnahmen Ende August auslaufen. Energie verteuerte sich im Juni im Vergleich zum Vorjahr wegen des russischen Kriegs gegen die Ukraine um 38 Prozent und bleibt damit Preistreiber Nummer eins. Die Preise für leichtes Heizöl haben sich innerhalb eines Jahres mehr als verdoppelt. Erdgas kostete knapp 61 Prozent mehr als im Juni 2021 und Strom 22 Prozent mehr. Die Teuerungsrate für Kraftstoffe sank zwar dank des Tankrabatts etwas, lag aber im Juni immer noch bei 33,2 Prozent im Vergleich zum Vorjahresmonat. Nahrungsmittel kosteten 12,7 Prozent mehr als im Juni 2021. Erneut waren bei Speiseölen (+43,1 Prozent), bei Fleisch (+18,9 Prozent) sowie bei Molkereiprodukten und Eiern (+15,3 Prozent) deutlich überdurchschnittliches Preissteigerungen zu beobachten. Für die aktuelle Entwicklung der Verbraucherpreise spielt die Verteuerung vieler Lebensmittel neben den Energiekosten eine große Rolle. Ohne Nahrungsmittel und Energie hätten die Inflationsrate im Juni nach Berechnungen des Statistischen Bundesamts bei lediglich 3,2 Prozent gelegen. Inflationsraten auf dem derzeitigen Niveau gab es im wiedervereinigten Deutschland noch nie. In den alten Bundesländern gab es ähnlich hohe Werte im Winter 1973/1974. Damals stiegen die Ölpreise infolge der ersten Ölkrise stark. Die Europäische Zentralbank (EZB) will nächste Woche angesichts der rekordhohen Inflation in der Währungsunion erstmals seit dem Jahr 2011 ihren Leitzins anheben und im September nachlegen .')\n"
     ]
    },
    {
     "name": "stderr",
     "output_type": "stream",
     "text": [
      "93it [02:39,  1.10it/s]"
     ]
    },
    {
     "name": "stdout",
     "output_type": "stream",
     "text": [
      "Pandas(Index=93, tstamp=1657832745, url='/newsticker/liveblog-ukraine-donnerstag-139.html', fulltext=' Außenministerin Baerbock will trotz der Gaskrise die Sanktionen gegen Russland beibehalten. Nach Kritik hat Kanadas Premier Trudeau die Entscheidung verteidigt, eine gewartete russische Turbine zurückzugeben. Die Entwicklungen vom Donnerstag zum Nachlesen.  Wir beenden den Liveblog für heute und bedanken uns herzlich für Ihr Interesse. Auch am Freitag sind wir wieder mit einem Liveblog zum Krieg in der Ukraine für Sie da. Außenministerin Annalena Baerbock hat eine Lockerung der gegen Russland verhängten Sanktionen ausgeschlossen. Auch ein solcher Schritt würde die Gas-Versorgung aus Russland nicht sicherstellen, \"sondern wir wären doppelt erpressbar\", sagte sie in einer Diskussion mit Bürgern in Bremen. Würde man akzeptieren, dass jemand \"auf brutalste Art und Weise» internationales Recht breche, dann wäre das \"eine Einladung an all diejenigen, die Menschenrechte, Freiheit und Demokratie mit Füßen treten\". Daher werde Deutschland die Ukraine unterstützen, \"so lange sie uns braucht\", betonte Baerbock. \"Und daher werden wir auch diese Sanktionen aufrechterhalten und zugleich sicherstellen, dass bei uns die Gesellschaft nicht gespalten wird.\" Die westlichen Staaten haben ihre Strafmaßnahmen gegen Russland seit Kriegsbeginn Schritt für Schritt verschärft. Politiker der Linkspartei und der AfD haben sich für eine Lockerung ausgesprochen, weil die Strafmaßnahmen auch die deutsche Wirtschaft belasten. Bei russischen Angriffen auf die ukrainische Stadt Winnyzja sind nach ukrainischen Angaben am Donnerstag mindestens 23 Menschen getötet und mehr als 100 verletzt worden. Präsident Selenskyj sprach bei Telegram von einem \"offenen Akt des Terrorismus\" gegen die Zivilbevölkerung in Gebieten ohne militärische Bedeutung. Russland bestätigte die Angriffe bisher nicht offiziell. Nach Behördenangaben trafen vom Schwarzen Meer aus abgegebene Marschflugkörper zivile Gebäude in der Stadt in der Mitte der\\xa0Ukraine.36 Häuser seien beschädigt worden. Polizeichef\\xa0Ihor Klymenko gab an, 39 Menschen würden noch vermisst. Vertreter von UN und EU reagierten entsetzt auf den Angriff. Lettlands\\xa0Parlament hat den Import von\\xa0Gas aus Russland\\xa0verboten. Die Volksvertretung Saeima\\xa0beschloss gesetzliche\\xa0Änderungen am Energiegesetz, die eine Diversifizierung der Erdgasversorgungswege und die Sicherung strategischer Erdgasreserven vorgeben.\\xa0Die Regelung sieht\\xa0auch ein Verbot der Lieferung von Erdgas aus Russland vor.\\xa0Zuvor hatte die Regierung im April beschlossen, Gasimporte aus dem Nachbarland bis zum 1. Januar 2023 aufzugeben.\\xa0Um die Energieversorgung sicherzustellen, muss der lettische Gasnetz- und -speicherbetreiber dem Parlamentsbeschluss zufolge\\xa0eine strategische Gasreserve aufbauen. Russland war für Lettland die wichtigste Erdgasquelle. Als Konsequenz aus dem russischen Angriffskrieg in der Ukraine hat der Baltenstaat die Importe aus Russland gestoppt - und bezieht sein Gas\\xa0nun hauptsächlich\\xa0aus dem benachbarten Litauen.\\xa0Lettland\\xa0plant zudem den Bau eines eigenen Flüssiggas-Terminals. Auch Slowenien hat\\xa0dem Beitritt von Schweden und\\xa0Finnland zur NATO zugestimmt. Das Parlament billigte mit großer Mehrheit die Ratifizierung des Beitrittsprotokolls für die beiden Länder, berichtete die Nachrichtenagentur STA. Lediglich die Abgeordneten der Linkspartei Levica, die an der links-liberalen Regierung beteiligt ist, stimmten dagegen. Lettland\\xa0hat dem Beitritt von\\xa0Finnland und Schweden zur NATO zugestimmt. Das Parlament in Riga billigte einstimmig\\xa0entsprechende\\xa0Gesetzesvorschläge. Staatspräsident Egils Levits begrüßte die Entscheidung und rief die NATO-Verbündeten dazu auf, ebenfalls diesen Schritt zu unternehmen, damit die sogenannten Beitrittsprotokolle in Kraft treten können.\\xa0Finnland und\\xa0Schweden hatten nach dem russischen Angriff auf die Ukraine die Aufnahme in das\\xa0westliche Verteidigungsbündnis beantragt. Bisher waren die beiden nordischen Staaten neutral. Kanadas Premierminister Justin Trudeau hat die Entscheidung verteidigt, eine in seinem Land gewartete russische Turbine zurückzugeben. Es sei eine schwierige, aber notwendige Entscheidung gewesen, sagte Trudeau kanadischen Medienberichten zufolge bei einer Pressekonferenz. Angesichts drohender Energie-Engpässe habe sein Land Deutschland und andere europäische Verbündete unterstützen müssen. \"Wir sehen, wie Russland immer wieder versucht, Energie als Waffe zu benutzen, um die Verbündeten zu spalten\", sagte Trudeau. Man habe die Entscheidung getroffen, um sicherzustellen, dass Regierungen und Bevölkerung \"fest und großzügig in ihrer Unterstützung der Ukraine bleiben\". Der ukrainische Präsident Wolodymyr Selenskyj hatte zuvor kritisiert, dass die geplante Lieferung der Turbine für die Ostsee-Pipeline Nord Stream 1 ein völlig falsches Signal an Moskau sende. Seit Juni hatte der russische Staatskonzern Gazprom die Gaslieferungen durch die Pipeline Nord Stream 1 in der Ostsee deutlich gedrosselt und dies mit der fehlenden Turbine von Siemens Energy begründet, die in Kanada gewartet wurde. Wegen der Sanktionen weigerte sich Kanada zunächst, die Turbine an Russland zurückzugeben - entschied sich dann aber doch dafür, sie stattdessen an Deutschland zu übergeben. Die Bundeswehr hat seit Anfang März über 400.000 Essensrationen für Soldaten in die Ukraine geschickt. Das sagte Bundesverteidigungsministerin Christine Lambrecht beim Besuch des zuständigen Verpflegungsamtes der Bundeswehr in Oldenburg. Im Rahmen ihrer Truppenbesuchsreihe war die Ministerin auch bei Marinefliegern in Nordholz und an der Wurster Nordseeküste zu Gast. Die Verteidigungsministerin zeigte sich beeindruckt von der Flexibilität des Oldenburger Verpflegungsamtes. \"Innerhalb kürzester Zeit wurde hier die Produktion verdoppelt\", sagte sie. Zwischen dem 3. März und 7. Juni lieferte die Bundeswehr hauptsächlich sogenannte Einpersonenpackungen an das von Russland angegriffene Land. Die Verpflegungspakete enthalten laut dem Bundesverteidigungsministerium genügend Nahrung für einen Tag. Darin befinden sich unter anderem Getränkepulver, erwärmbare Gerichte, Energieriegel oder Dessertcremes. Die Tagesrationen werden im Bundeswehr-Verpflegungsamt in Oldenburg produziert. Der Rüstungskonzern Rheinmetall modernisiert derzeit nach eigenen Angaben mehr als zwei\\xa0Dutzend Schützenpanzer vom Typ Marder für einen möglichen Ringtausch zur Unterstützung der Ukraine. Man habe bereits 30 Stück \"in Arbeit genommen\", um sie für die erhofften Verkäufe vorzubereiten, sagte ein Unternehmenssprecher am Standort\\xa0Unterlüß in Niedersachsen. Insgesamt ließen sich rund 100 Stück \"relativ einfach herrichten\". Rheinmetall hatte die Lieferung der von der Bundeswehr ausgemusterten und wieder aufzubereitenden Marder angeboten. Die Bundesregierung hat nach bisherigem öffentlichen Stand aber noch nicht entschieden. Rheinmetall-Chef Armin Papperger geht von einer baldigen Genehmigung der geplanten Verkäufe alter Marder-Panzer aus. Der Sprecher erklärte, Ziel sei es, die Schützenpanzer von Typ 1A3 an andere Länder abzugeben, die dafür dann ihrerseits eigene Rüstungsgüter an die ukrainischen Streitkräfte liefern könnten. Der Ukraine-Krieg hat offenbar bei vielen Schweizern zu einem Umdenken in der Sicherheitspolitik geführt. Die Unterstützung für eine Annäherung an die NATO stieg auf den Rekordwert von 52 Prozent, wie eine Studie der Eidgenössischen Technischen Hochschule (ETH) in Zürich ergab. Einen Beitritt zu der Militärallianz befürworteten aber weiterhin nur 27 Prozent der Befragten. Der Anteil der Schweizer, welche die traditionelle Neutralität ihres Landes unterstützen, sank laut der Umfrage im Vergleich zum Januar um acht Punkte auf 89 Prozent. Dies war der höchste Rückgang seit 20 Jahren. Den Angaben zufolge sind inzwischen nur noch 58 Prozent der Eidgenossen davon überzeugt, dass die Neutralität der Schweiz das Land vor internationalen Konflikten schützt. Im Januar waren es noch 69 Prozent. Die EU-Kommission hat deutsche Hilfen im Umfang von fünf Milliarden Euro für Unternehmen mit besonders hohem Energieverbrauch gebilligt. Wettbewerbskommissarin Margrethe Vestager erklärte in Brüssel, dieser Industriezweig sei von dem russischen Angriffskrieg in der Ukraine und dem Energiepreisanstieg besonders stark getroffen. Die Zuschüsse würden die Folgen für die Unternehmen abfedern. Die Hilfen wurden unter einer EU-Sonderregelung vom März genehmigt. Danach sind staatliche Beihilfen ausnahmsweise erlaubt, wenn sie \"zur Behebung einer beträchtlichen Störung im Wirtschaftsleben der EU\" beitragen. Von den deutschen Zuschüssen könnten etwa Firmen aus der Chemie-, Glas- oder Metallindustrie profitieren. Die USA und über 40 weitere Staaten haben sich in Den Haag darauf verständigt, die Untersuchungen zu möglichen Kriegsverbrechen in der Ukraine zu koordinieren. Zusammenarbeiten wollen damit einigen EU-Staaten auch Großbritannien, Kanada, Mexiko und Australien. Außerdem wollen die Länder den Internationalen Gerichtshof, die Vereinten Nationen und die Ermittlungen in der Ukraine mit 20 Millionen Euro unterstützen. Die Südukraine wird einem russischen Beamten zufolge über einen möglichen Anschluss an Russland abstimmen. Das Referendum sei für den Frühherbst geplant, kündigt Jewgeni Balizky, der oberste russische Beamte in der teilweise unter russischer Kontrolle stehenden Region an. \"Die Mechanismen werden derzeit ausgearbeitet. Die Abstimmung wird entscheiden, was die Bewohner der Region Saporischschja wollen und wie sie leben möchten,\" sagt Balizky. Die Nachrichtenagentur RIA Novosti zitiert einen anderen Beamten mit der Aussage, der voraussichtliche Termin liege in der ersten Septemberhälfte. Die russische Regierung lehnt eine Stellungnahme mit der Begründung ab, solche Abstimmungen seien Sache der regionalen Beamten. Frankreich will nach den Worten von Präsident Emmanuel Macron so bald wie möglich komplett auf russisches Erdgas verzichten. In einem Fernsehinterview am Nationalfeiertag sagte Macron, das Land habe bereits neue Lieferquellen erschlossen und die Vorräte aufgestockt. Der Verbrauch sei zudem im Vergleich zum Vorjahr \"ein bisschen\" zurückgegangen. Er bekräftigte die Pläne zum Ausbau der Atomenergie - sie sei eine \"nachhaltige Lösung\" für Frankreich und auch für andere Länder. Frankreich nutzt so viel Atomstrom wie kein anderes Land in der Europäischen Union und bekommt Schätzungen zufolge weniger als 20 Prozent seiner Gasimporte aus Russland. Der Verzicht auf dieses Gas bedeute, \"dass der Sommer und der Herbstanfang wahrscheinlich sehr hart werden\", sagte Macron weiter. Bis Herbst aber werde das Land seine Vorräte \"zu nahe 100 Prozent\" aufgestockt haben. Frankreich bekommt demnach mehr Erdgas aus Norwegen, Katar, Algerien und den USA.\\xa0Energie einzusparen sei nicht nur für die Unabhängigkeit von Russland gut, sondern auch fürs Klima, so Macron. Die Zahl der Todesopfer nach dem Angriff auf die ukrainische Stadt Winnyzja im Westen des Landes is t nach ukrainischen\\xa0Angaben erneut gestiegen. Demnach wurden mindestens 20 Menschen getötet. Weitere 90 Menschen seien verletzt worden, teilte der Vizechef des Präsidentenbüros in Kiew, Kyrylo Tymoschenko, mit. Nach\\xa0Angaben des Zivilschutzes wurden 14 Menschen in Krankenhäuser gebracht. Neben mehreren anderen Gesetzen hat der russische Präsident Putin auch ein Gesetz gegen angebliche \"ausländische Agenten\" unterzeichnet. Die Definition des Begriffs \"ausländische Agenten\" wird durch die Reform erweitert, wie die Regierung mitteilte. Nach der neuen Regelung kann nun jeder, der \"unter ausländischem Einfluss\" steht oder Unterstützung aus dem Ausland erhält - nicht nur in Form von Geld - in Russland zum \"ausländischen Agenten\" erklärt werden. Das nun verschärfte Gesetz wurde in den vergangenen Jahren häufig gegen Oppositionelle, Journalisten und Menschenrechtsaktivisten angewandt. Die Änderung soll am 1. Dezember in Kraft treten. Russland fordert von der Ukraine, die \"territoriale Realität\" zu akzeptieren. \"Ein künftiges Abkommen sollte (...) die bestehenden territorialen Gegebenheiten anerkennen, einschließlich des derzeitigen Status der Krim sowie der Volksrepubliken Donezk und Luhansk\", zitierte Interfax den stellvertretenden russischen Außenminister Andrej Rudenko. Zudem erwarte die Regierung in Moskau eine klare Antwort auf die Forderung nach einem neutralen, bündnisfreien und atomwaffenfreien Status der Ukraine. Die SPD-Schiedskommission in der Region Hannover hat ihre Verhandlung über einen möglichen Parteiausschluss von Altkanzler Gerhard Schröder ohne Ergebnis beendet. Die dreiköpfige Kommission werde sich am Freitag intern beraten, sagte der Geschäftsführer des SPD-Bezirks Hannover, Christoph Matterne. Eine Entscheidung werde im Laufe der nächsten drei Wochen getroffen. Der frühere Bundeskanzler steht seit Jahren wegen seiner Nähe zu Russland in der Kritik. Auch nach dem russischen Angriff auf die Ukraine im Februar hat sich Schröder nach Auffassung vieler Parteigenossen nicht ausreichend von Russland distanziert. Knapp fünf Monate nach dem Angriff auf die Ukraine hat Russlands Präsident Wladimir Putin den Weg freigemacht für eine stärkere Ausrichtung der russischen Wirtschaft auf Bedürfnisse der Armee. Der Kremlchef unterzeichnete ein Gesetz, das der Regierung \"Spezialmaßnahmen\" für Militäreinsätze im Ausland erlaubt. Damit können einzelne Branchen zur Belieferung der Streitkräfte verpflichtet werden. Zudem können Arbeiter in diesen Betrieben zu Nacht-, Wochenend- und Feiertagsarbeit sowie zum Verzicht auf Urlaub gezwungen werden. Auf eine Frage, unter welchen Umständen die Regierung gedenke, solche Maßnahmen umzusetzen, antwortete Kremlsprecher Dmitri Peskow nach Angaben der Agentur Interfax lediglich: \"In dem Maße, in dem die Regierung es für sinnvoll hält, hat sie das Recht, sie (die Maßnahmen) anzuwenden.\" Vergangene Woche hatte das Parlament das Gesetz verabschiedet. Vize-Regierungschef Juri Borissow begründete es unter anderem mit den westlichen Sanktionen gegen Russland und den westlichen Waffenlieferungen an die Ukraine. Litauen hat den Streit über den Transitverkehr in die russische Ostsee-Exklave Kaliningrad für beendet erklärt. Ministerpräsidentin Ingrida Simonyte sagte: \"Es ist nicht vernünftig, unsere Zeit und Aufmerksamkeit ablenken zu lassen und zu diskutieren, ob eine Kilotonne Stahl per Bahn aus einem Teil Russlands in die Region Kaliningrad transportiert werden kann.\" Weitere Auseinandersetzungen wären \"ein echter Sieg für den Kreml\". Das Augenmerk sollte vielmehr auf die Unterstützung der Ukraine gelegt werden. Das baltische EU- und NATO-Mitglied Litauen hatte Mitte Juni den Transport von mit Sanktionen belegten Waren aus Russland nach Kaliningrad unterbunden . Das Gebiet rund um das frühere Königsberg ist vom übrigen russischen Staatsgebiet räumlich getrennt und auf dem Landweg nur über die EU-Staaten Polen und Litauen zu erreichen. Nach Protesten und Drohungen aus Moskau erstellte die EU-Kommission neue Leitlinien für den Transitverkehr nach Kaliningrad. Russland darf jetzt auf der Sanktionsliste stehende zivile Güter wieder ohne große Einschränkungen per Bahn durch Litauen bringen. Den Leitlinien zufolge muss dies in den bislang üblichen Mengen erfolgen. Wann genau der Transit wieder aufgenommen wird, ist noch unklar. Nach dem Angriff auf die zentral-ukrainische Stadt Winnyzja meldet die Ukraine nun mindestens 17 Todesopfer und 90 Verletzte. Unter den Todesopfern sind demnach auch zwei Kinder. Wohn- und Bürogebäude seien zerstört oder schwer beschädigt worden. Der Polizei zufolge befinden sich etwa 50 Verletzte in einem kritischen Zustand. Bei dem Angriff mit drei Raketen sei auch ein medizinisches Zentrum getroffen worden. Das ukrainische Militär teilte mit, Russland habe von einem U-Boot im Schwarzen Meer aus Kalibr-Raketen auf Winnyzja abgefeuert. Die Stadt liegt rund 200 Kilometer südwestlich von Kiew und fernab der Hauptfronten im Osten und Süden der Ukraine. Die russischen Streitkräfte haben nach eigenen Angaben mit schweren Artillerie-, Luft- und Raketenangriffen dem ukrainischen Militär hohe Verluste zugefügt. Die jüngsten Luftschläge hätten die Ukrainer bis zu 1000 Soldaten und mehr als 100 Militärfahrzeuge und Waffensysteme gekostet, sagte der Sprecher des russischen Verteidigungsministeriums, Igor Konaschenkow. Unabhängig ließen sich diese Angaben nicht überprüfen. Unter anderem seien in Tschassiw Jar im ostukrainischen Gebiet Donezk 43 Soldaten getötet und 170 verletzt worden, sagte Konaschenkow. Die Ukraine hatte am Samstag einen Luftschlag auf ein Wohnhaus in der Kleinstadt gemeldet. Inzwischen sind nach ukrainischen Angaben 48 tote Zivilisten aus den Trümmern geborgen worden. Der russische Armeesprecher berichtete zudem vom erneuten Einsatz der seegestützten Kalibr-Raketen. Die Lenkwaffen mit mehreren Hundert Kilometern Reichweite seien auf eine Fabrik für Hochspannungsanlagen in Saporischschja abgefeuert worden und hätten mehrere dort in den Hangars stehende Raketenwerfer vernichtet. Der mögliche Kompromiss zu Getreidelieferungen aus der Ukraine macht Hilfsorganisationen Hoffnung. \"Es ist ermutigend, dass die Verhandlungen substanzielle Fortschritte machen, denn es hängt so viel davon ab\", sagte der Direktor des UN-Welternährungsprogramms in Deutschland, Martin Frick, dem Redaktionsnetzwerk Deutschland. Wenn Seewege versperrt blieben, sei dies angesichts der Hungerzahlen weltweit besorgniserregend. Über Flüsse und Schienen habe man im Juni 2,5 Millionen Tonnen Getreide aus dem Land bringen können. \"Das ist ein bemerkenswerter Erfolg, aber dennoch nur die Hälfte dessen, was die Ukraine in Friedenszeiten monatlich exportiert.\" Nach einem Treffen von Vertretern der Ukraine und Russlands in der Türkei hatte es nach Angaben der UN und der Türkei zuvor Fortschritte in den Verhandlungen über die Nutzung der ukrainischen Schwarzmeer-Häfen gegeben. Über diese läuft ein Großteil des ukrainischen Getreide-Exports. Außenministerin Annalena Baerbock begrüßt die Vorbereitung eines EU-Aktionsplans für den Fall eines Gas-Notstands in Europa. Es sei \"sehr, sehr wichtig und richtig, dass die EU-Kommission hier Vorschläge macht für unterschiedliche Szenarien\", sagte die Grünen-Politikerin. \"In Zeiten, wo die Unsicherheit größer ist als zu normalen friedlichen Zeiten, muss man vorbereitet sein.\" Gerade diejenigen Bürger, die nur sehr wenig haben, müssten unterstützt werden. Die EU-Kommission will am kommenden Mittwoch einen Notfallplan vorlegen. In einem Entwurf wird erwogen, öffentliche Gebäude, Büros und kommerzielle Gebäude ab Herbst nur noch bis maximal 19 Grad zu beheizen. Die deutschen Gasspeicher haben sich nach der Sperrung der Pipeline Nord Stream 1 am Montag nicht weiter gefüllt. Von Montag auf Dienstag sank der Speicherstand erstmals seit April wieder leicht , wie aus Daten der europäischen Speicherbetreiber und der Bundesnetzagentur hervorgeht. Die Speicher sind im Schnitt jetzt zu rund 64,5 Prozent gefüllt. Im Sommer sollen sie eigentlich für den Winter mit Gas gefüllt werden, bis sie im Winter zu 90 Prozent voll sind. Das russische Außenministerium stellt eine Wiederaufnahme der Gasversorgung über die Pipeline Nord Stream 1 in Aussicht. Dies hänge zum einen von der Nachfrage in Europa ab, zum anderen aber auch von \"einseitigen\" Sanktionen, sagt Ministeriumssprecherin Maria Sacharowa. Die derzeitige Wartung der Pipeline sei mit den Kunden abgesprochen. Die Arbeiten sollen bis zum 21. Juli abgeschlossen sein. Die Bundesregierung fürchtet, dass Russland die Lieferungen danach nicht wieder aufnehmen könnte, was die Gasversorgung massiv beeinträchtigen würde. Die Organisation für Sicherheit und Zusammenarbeit in Europa (OSZE) ist besorgt über die mutmaßliche Misshandlung zehntausender Ukrainer in russischen Einrichtungen in der selbsternannten Volksrepublik Donezk. Die dortigen sogenannten Filterzentren seien eine \"alarmierende\" Entwicklung, heißt es in einem OSZE-Bericht, welcher der Nachrichtenagentur AFP vorliegt. Demnach werden Zivilisten zu zehntausenden in solche Zentren gebracht, um herauszubekommen, ob sie mit den ukrainischen Behörden kooperieren. Laut OSZE-Bericht müssen etwa Ukrainer, die aus von Russland besetzten Städten wie Mariupol in die sogenannte Volksrepublik Donezk gebracht werden, ein solches Zentrum durchlaufen. Bei ihnen werden Fingerabdrücke genommen, Personendaten erfasst und Ausweispapiere kopiert. Auf diese Weise solle offenbar festgestellt werden, ob sie auf Seiten der ukrainischen Armee gekämpft oder andere Verbindung zur ukrainischen Regierung haben. Bei einem russischen Raketenangriff sind im Zentrum der westukrainischen Großstadt Winnyzja Behördenangaben zufolge mindestens zwölf Menschen, darunter ein Kind, getötet worden. Weitere 25 Menschen seien verletzt worden. Die ukrainische Polizei erklärte, drei Raketen hätten ein Bürogebäude getroffen und nahe gelegene Wohngebäude in der Stadt südwestlich der Hauptstadt Kiew beschädigt. Der Raketenangriff habe ein Feuer verursacht, das sich auf 50 Autos auf einem benachbarten Parkplatz ausgeweitet habe. Der ukrainische Präsident Wolodymyr Selenskyj reagierte umgehend: \"Was ist das, wenn nicht ein offener terroristischer Akt?\", schrieb er im Nachrichtendienst Telegram. Russland töte jeden Tag Zivilisten und greife mit Raketen zivile Objekte an, in denen sich keine Soldaten aufhielten. \"Unmenschen. Mörderstaat. Terrorstaat\", schrieb Selenskyj. Russland betont seit dem Einmarsch in die Ukraine Ende Februar immer wieder, im Nachbarland nur militärische Ziele anzugreifen - auch wenn die vielen zivilen Opfer mittlerweile offensichtlich sind. Auch die südukrainische Hafenstadt Mykolajiw wurde in der Nacht erneut mit Raketen beschossen. Von den insgesamt neun Raketen seien etwa ein Hotel und mindestens eine Schule getroffen worden. Die Behörden sprachen von einem Verletzten. Im ostukrainischen Donezker Gebiet wurden derweil die Aufräumarbeiten in Tschassiw Jar beendet, wo am vergangenen Samstag ein Wohnhaus zerstört wurde. Seitdem wurden den Behörden zufolge insgesamt 48 Leichen geborgen. Für seine Einblicke in die ukrainische Gesellschaft erhält der Schriftsteller, Dichter und Musiker Serhij Zhadan den \"Hannah-Arendt-Preis für politisches Denken 2021\". Die Jury würdigte ihn als großen Erzähler, der die Tradition der mitteleuropäischen Literatur fortführe und revolutioniere, wie der Senat in Bremen mitteilte. Wie er über das Überleben im Krieg von 2014 erzähle, das \"steht einzigartig in der jüngeren europäischen Literatur\". Der Preis wird von der Stadt Bremen und der Heinrich-Böll-Stiftung vergeben, ist mit 10.000 Euro dotiert. Er wird an Menschen verliehen, die mit einer \"mutigen Intervention\" an die Öffentlichkeit gehen. Der Preis wird Zhadan am 2. Dezember im Bremer Rathaus überreicht. Der 47 Jahre alte Schriftsteller beschreibt laut Jury die ukrainische Welt nicht nur, er helfe, sie zu verstehen - \"in all ihrem Chaos, ihrem Leid, ihrer Menschlichkeit\". Die ukrainische Armee hat eigenen Angaben zufolge erneut Ziele im von Russlands Truppen besetzten Gebiet\\xa0Cherson im Süden des Landes beschossen. Dem Sprecher der Odessaer Militärverwaltung, Serhij Bratschuk, zufolge wurden in der Stadt Nowa Kachowka zwei Kommandopunkte und ein Landeplatz attackiert. Das Kommando Süd teilte in der Nacht mit, es seien 13 feindliche Soldaten getötet und mehrere gepanzerte Fahrzeuge zerstört worden.\\xa0Das ließ sich zunächst nicht überprüfen. Die in Nowa Kachowka eingesetzte prorussische Verwaltung sprach von insgesamt 30 ukrainischen Raketen, die abgefeuert worden seien. Ein Großteil sei jedoch abgefangen worden, hieß es weiter. Den russischen Angaben zufolge soll niemand getötet worden sein. Bereits in der Nacht zum Dienstag hatte die ukrainische Armee eine Gegenoffensive auf Nowa Kachowka begonnen. Auch mithilfe westlicher Waffen will die Ukraine Gebiete zurückerobern, die im Zuge des mittlerweile seit viereinhalb Monaten andauernden Krieges von russischen Soldaten besetzt wurden. Der Chefankläger am Internationalen Strafgerichtshof, Karim Khan, hat eine \"allumfassende Strategie\" gefordert, um Kriegsverbrechen in der Ukraine zu ahnden. \"Die einfache Wahrheit ist, dass, während wir sprechen, Kinder, Frauen und Männer, Alte und Junge, im Terror leben\", sagte Khan bei der Eröffnung einer Ukraine-Konferenz in Den Haag. \"Sie leiden in der Ukraine und in so vielen verschiedenen Teilen der Welt. Trauern um das, was sie gestern verloren haben, halten den Atem an über das, was sie heute verlieren könnten und was Morgen bringen kann. In Zeiten wie diesen kann das Recht kein Zuschauer sein.\" Der niederländische Außenminister\\xa0Wopke\\xa0Hoekstra bekräftigte die Notwendigkeit einer gemeinsamen Strategie. Angesichts der Berichte über Vergewaltigungen, Morde und Folter sei Handeln geboten. EU-Kommissar Didier Reynders sprach von einer \"Riesenaufgabe\", für deren Bewältigung ein starkes Justizsystem in der\\xa0Ukraine notwendig sei. Mehr als 30 Minister und Ankläger Europas sowie anderer westlicher Staaten beraten in Den Haag über gemeinsame Strategien, Kriegsverbrechen in der Ukraine strafrechtlich zu verfolgen. Die Konferenz wurde von der EU-Kommission, dem niederländischen Außenministerium und dem Ankläger des Internationalen Strafgerichtshofs einberufen. Nach den ersten Berichten über mutmaßliche Kriegsverbrechen nach der russischen Invasion am 24. Februar hatte das Weltstrafgericht Ermittlungen eingeleitet und das bisher größte Team von Ermittlern ins Kriegsgebiet geschickt. Die Justiz in der\\xa0Ukraine ermittelt nach eigenen Angaben zu mehr als 15.000 mutmaßlichen Fällen. Die ukrainische Regierung hofft, dass Weizenlieferungen bald wieder möglich werden. ARD-Korrespondentin Isabel Shayani erklärt auf tagesschau24 , welche Streitpunkte dafür noch geklärt werden müssen. Sie berichtet zudem, dass die russische Armee vor allem die Städte Kramatorsk und Slowjansk angreift. Aber auch Charkiw, die zweitgrößte Stadt der Ukraine, werde immer wieder angegriffen. Wegen der drohenden Gaslieferstopps durch Russland schlägt die EU-Kommission umfangreiche Energiesparmaßnahmen in ganz Europa vor. Nach dem Entwurf des Gas-Notfallplans der Brüsseler Behörde, der der Nachrichtenagentur AFP vorliegt, sollen die Mitgliedstaaten im Winter eine reduzierte Heiztemperatur von 19 Grad in öffentlichen Gebäuden und in Geschäftsgebäuden anordnen können. Für die Zeit von Oktober bis März schlägt die EU-Kommission zudem umfangreiche Gaseinspar-Kampagnen vor. Damit sollen Privathaushalte aufgerufen werden, \"das Thermostat um ein Grad herunterzudrehen\".\\xa0\"Jeder kann jetzt Gas sparen\", heißt es in dem Entwurf. \"Je höher die Reduzierung durch freiwillige Maßnahmen ist, desto geringer ist die Notwendigkeit obligatorischer Einschränkungen für die Industrie.\" Russische Truppen greifen offenbar auch die Großstadt Kramatorsk im Donbass im Osten der Ukraine an. Raketen seien im Industriegebiet der Stadt eingeschlagen, schreibt Bürgermeister Olexandr Hontscharenko auf Facebook. In einigen Teilen der Stadt sei der Strom ausgefallen. Kramatorsk liegt in der Region Donzek, die zusammen mit der Region Luhansk den von Industrie geprägten Donbass bildet. Nach der erklärten Einnahme von Luhansk konzentriert Russland seine Offensive nun auf Donezk. Die südukrainische Stadt Mykolaiw liegt nach Angaben von Bürgermeister Olexandr Senkewytsch weiter unter russischem Beschuss. Mehrere zivile Gebäude seien getroffen worden, schreibt er auf dem Kurznachrichtendienst Telegram. Rettungskräfte und Helfer seien bereits vor Ort im Einsatz. Der Hauptgeschäftsführer des Deutschen Städte- und Gemeindebundes, Gerd Landsberg, fordert angesichts steigender Gaspreise ein weiteres Entlastungspaket. Wenn die Preise um das Fünf- bis Zehnfache stiegen, \"können das untere, aber auch mittlere Einkommen nicht finanzieren\", sagt Landsberg im gemeinsamen Morgenmagazin von ARD und ZDF. \"Dann brauchen wir ein Entlastungspaket des Bundes, die Signale gibt es ja auch aus der Bundesebene schon.\" Auch die Stadtwerke brauchten einen Schutzschirm, betonte Landsberg: \"Wenn die Stadtwerke zum fünf-, sechsfachen Preis Gas einkaufen müssen, können das aber an den Kunden nicht weitergeben, dann kommen sie in eine Schieflage, und das wäre verheerend.\" Sollten Stadtwerke in Konkurs gehen, dann scheitere die Versorgung auch ohne den Einfluss von Russland. Der Bund habe die Dramatik erkannt, und auch aus den Ländern höre er, dass sie teilweise insbesondere kleinere Stadtwerke stützen werden. Ein Weg sei auch, Kommunen die Möglichkeit zu geben, Zusatzeinlagen einzubringen, damit die Stadtwerke erhalten bleiben. \"Sie sind unverzichtbar für die Versorgung.\" In der von russischen Truppen besetzten südukrainischen Hafenstadt Mariupol soll noch in diesem Monat die Wasserversorgung wieder funktionieren. Das kündigt der von Russland eingesetzte Bürgermeister Konstantin Iwaschenko der Nachrichtenagentur Tass zufolge an. Die Behörden planten zudem, den Passagierhafen der Stadt wieder in Betrieb zu nehmen, der mit Rostow am Don und weiteren russischen Städten verbunden ist, sagt Iwaschenko. Seine Ernennung zum Bürgermeister wird von der Ukraine nicht anerkannt. Im der ostukrainischen Region Donezk haben die von der russischen Armee unterstützten Separatisten Gebietsgewinne bei der Kleinstadt Soledar für sich reklamiert. Separatistenvertreter Witali Kisseljow sagte der staatlichen russischen Agentur Tass am Mittwoch, die russischen Truppen seien nach Soledar eingedrungen und hätten die ukrainische Armee zum Rückzug gezwungen. Er rechne mit einer Eroberung der Stadt innerhalb der nächsten zwei Tage. Der Militärverwaltungschef der Kleinstadt, Serhij Hoschko, widersprach der Darstellung. \"Es gab den Versuch der russischen Armee, nach Jakowliwka vorzudringen, den die ukrainischen Soldaten erfolgreich zurückgeschlagen haben\", sagte er dem ukrainischen öffentlich-rechtlichen Fernsehen. Drei Häuser seien in dem Ort nordöstlich von Soledar zerstört worden. Auch im nahe gelegenen Dorf Bachmutske, südöstlich von Soledar, seien vier Häuser zerstört worden. Das nördlich gelegene Rosdoliwka sei ebenfalls beschossen worden. Der SPD-Unterbezirk Region Hannover verhandelt heute zum ersten Mal über einen möglichen Parteiausschluss von Altkanzler Gerhard Schröder . Aus der Partei waren 17 entsprechende Anträge eingegangen, die die formalen Kriterien erfüllen, wie der Geschäftsführer des SPD-Bezirks Hannover, Christoph Matterne, mitteilte. Eine Entscheidung der Schiedskommission wird heute allerdings noch nicht erwartet, ein Parteiausschluss wird innerhalb der SPD zudem aus juristischen Gründen als unwahrscheinlich eingeschätzt. Die Verhandlung im Kurt-Schumacher-Haus findet parteiöffentlich statt und dürfte mehrere Stunden dauern. Schröder selbst will Berichten zufolge nicht persönlich erscheinen. Der Präsident der Bundesnetzagentur, Klaus Müller, hat vor einer Verdreifachung der Gaspreise für Verbraucherinnen und Verbraucher oder einem sogar noch stärkeren Preisanstieg gewarnt. \"Bei denen, die jetzt ihre Heizkostenabrechnung bekommen, verdoppeln sich die Abschläge bereits - und da sind die Folgen des Ukraine-Krieges noch gar nicht berücksichtigt\", sagte Müller den Zeitungen des Redaktionsnetzwerks Deutschland. \"Ab 2023 müssen sich Gaskunden auf eine Verdreifachung der Abschläge einstellen, mindestens.\" Es sei \"absolut realistisch\", dass Kunden, die derzeit 1500 Euro im Jahr für Gas bezahlen, künftig mit 4500 Euro und mehr zur Kasse geben werden, sagte Müller weiter. \"An den Börsen haben sich die Preise zum Teil versiebenfacht. Das kommt nicht alles sofort und nicht in vollem Umfang bei den Verbrauchern an, aber irgendwann muss es bezahlt werden.\" Der ukrainische Präsident Wolodymyr Selenskyj sieht gute Chancen, dass die blockierten Getreideexporte bald freigegeben werden. \"Die ukrainische Delegation hat mir mitgeteilt, dass es einige Fortschritte gibt\", sagte Selenskyj in seiner Videoansprache. Er bezog sich dabei auf die Verhandlungen in der Türkei über die Aufhebung der russischen Seeblockade ukrainischer Häfen. Gelinge es, die russische Bedrohung der Schifffahrt im Schwarzen Meer zu beseitigen, werde die globale Lebensmittelkrise an Schärfe verlieren, versicherte Selenskyj. Der ukrainische Präsident ging zudem in seiner Videoansprache auf seinen heute geplanten Auftritt bei einem Forum in Den Haag zur Strafverfolgung von Kriegsverbrechen in der Ukraine ein. \"Wir müssen unsere Bemühungen so koordinieren, dass alle Schuldigen ihre gerechte Strafe erhalten\", sagte Selenskyj. Seit Beginn des russischen Angriffskriegs gegen die Ukraine wurden zahlreiche Kriegsverbrechen auch gegen die Zivilbevölkerung registriert. Selenskyj zeigte sich davon überzeugt, dass die Täter vor ein internationales Gericht gestellt werden. Nordkorea hat die selbsternannten \"Volksrepubliken\" Donezk und Luhansk im Osten der Ukraine anerkannt. Die in Moskau ansässigen diplomatischen Vertretungen der beiden pro-russischen Separatisten-Gebiete veröffentlichten Fotos im Onlinedienst Telegram, auf denen ein entsprechende Schreiben des nordkoreanischen Botschafters zu sehen sein soll. Die staatliche nordkoreanische Nachrichtenagentur KCNA bestätigte die Anerkennung etwa später. Demnach erklärte Pjöngjang in den Briefen, die \"Unabhängigkeit\" der beiden \"Volksrepubliken\" anzuerkennen und \"zwischenstaatliche Beziehungen mit diesen Ländern im Geiste der Unabhängigkeit, des Friedens und der Freundschaft\" entwickeln zu wollen.')\n"
     ]
    },
    {
     "name": "stderr",
     "output_type": "stream",
     "text": [
      "94it [02:46,  2.65s/it]"
     ]
    },
    {
     "name": "stdout",
     "output_type": "stream",
     "text": [
      "Pandas(Index=94, tstamp=1657703376, url='/inland/innenpolitik/bundessicherheitsrat-101.html', fulltext=' Wenn es um Waffenexporte geht, ist eigentlich der Bundessicherheitsrat zuständig. Doch der Ausschuss hat seit Beginn des Ukraine-Krieges offenbar nicht einmal getagt. Wie kann das sein? Gibt es ein wenig transparentes Parallelgremium?  Wenn es um deutsche Waffenexporte geht, dann ist der geheim tagende Bundessicherheitsrat seit 1955 das entscheidende Gremium. Aktuell gehören ihm neben Kanzler Olaf Scholz unter anderem der Chef des Bundeskanzleramts Wolfgang Schmidt, Außenministerin Annalena Baerbock, Verteidigungsministerin Christine Lambrecht, Finanzminister Christian Lindner, Innenministerin Nancy Faeser, Justizminister Marco Buschmann, Wirtschaftsminister Robert Habeck und Entwicklungsministerin Svenja Schulze an. Das ist bekannt. Doch dann wird es nebulös. Denn fragt man nach, bestätigt einem die Regierungssprecherin noch nicht einmal, ob der Bundessicherheitsrat getagt hat oder nicht. Diese totale Zurückhaltung ist zumindest erstaunlich, denn das Verteidigungsministerium hat zu einer parlamentarischen Anfrage des CDU-Abgeordneten Thomas Röwekamp zuletzt zumindest einige, durchaus überraschende Details öffentlich gemacht. Dort heißt es unter anderem, dass \"der Bundessicherheitsrat im Jahr 2022 bisher keine Genehmigungsentscheidungen zum Export von Rüstungsgütern, dazu zählen auch Waffenlieferungen aus Bundeswehrbeständen, getroffen\" hat. Offenbar hat der zuständige Kabinettsausschuss seit dem Beginn des Ukraine-Kriegs Ende Februar also noch kein einziges Mal offiziell getagt. Stattdessen ist in der Antwort auf die parlamentarische Anfrage die Rede davon, dass \"Genehmigungsentscheidungen über die Ausfuhr von Kriegswaffen sowie bestimmte Hochwertgüter derzeit regelmäßig auf Leitungsebene vom Bundeskanzleramt und den Bundessicherheitsressorts getroffen\" werden. Eine schriftliche Anfrage des ARD-Hauptstadtstudios an das Bundespresseamt, wer sich hinter dieser Leitungsebene verbirgt und wer die Entscheidungen über Rüstungsexporte getroffen hat, blieb unbeantwortet. Letztlich bleibt also unklar, wer in der Regierung über Rüstungsexporte an die Ukraine, wie den Flugabwehrpanzer \"Gepard\" oder die Lieferung der Panzerhaubitze 2000 aus Bundeswehrbeständen, entschieden hat. Noch verwirrender wird es, wenn man sich die Aussagen von Verteidigungsministerin Lambrecht in der Regierungsbefragung vom 22. Juni anhört. Damals hatte die SPD-Politikerin nämlich behauptet, dass die Anträge zu Rüstungsexporten \"selbstverständlich auch weiterhin vom Bundessicherheitsrat entschieden\" würden und dass dessen Sitzungen \"nicht unbedingt in Präsenz stattfinden\". Man könne über Waffen-Lieferungen auch schriftlich, im sogenannten Umlaufverfahren abstimmen. Wer entscheidet also? Der CDU-Abgeordnete Röwekamp vermutet ein Parallelgremium, mit dem die \"selbstauferlegte Berichts- und Kontrollpflicht des Parlaments\" umgangen werden soll. Denn der Bundessicherheitsrat hat eine offizielle Satzung, die grundsätzlich eine schriftliche Unterrichtung des Bundestags vorsieht. Allerdings auch nur, wenn \"verfassungsrechtliche Interessen einer Veröffentlichung nicht entgegenstehen\". Fest steht, Kanzler und Verteidigungsministerin haben bei Waffenexporten in die Ukraine wochen- und monatelang gemauert - angeblich aus sicherheitspolitischen Gründen. Erst einen Tag bevor die Union die mangelnde Transparenz zum Bundestagsthema machen wollte, hat die Bundesregierung reagiert. Seit 21. Juni werden gelieferte Waffen und Hilfsleistungen im Netz öffentlich gemacht. Allerdings ohne die Entscheidungen zu begründen. Außerdem fehlen Informationen zu den beteiligten deutschen Unternehmen und zum finanziellen Gesamtvolumen der Waffen-Exporte. Dem Unionsabgeordneten Röwekamp reichen diese öffentlich zugänglichen Informationen nicht aus, er ist aber als Oppositionspolitiker weitgehend machtlos. Denn der Streit zwischen Abgeordneten und Regierung um die mangelnde Transparenz bei Waffenlieferungen schwelt nicht erst seit dem Ukraine-Krieg. Schon 2014 hat das Bundesverfassungsgericht entschieden, dass der Informationsanspruch der Abgeordneten bei Waffenlieferungen nicht grenzenlos ist und die Bundesregierung ihre Waffen-Exportgenehmigungen durch den Bundessicherheitsrat auch nicht begründen muss. Damals stellte die Union die Kanzlerin und die Grünen hatten wegen geplanten Panzerlieferungen nach Saudi-Arabien geklagt. Aktuell regiert die Ampel-Koalition, die noch in ihrem Koalitionsvertrag mit einem Rüstungsexportkontrollgesetz mehr Transparenz versprochen hat. Doch dann kam der russische Angriffskrieg gegen die Ukraine dazwischen.')\n"
     ]
    },
    {
     "name": "stderr",
     "output_type": "stream",
     "text": [
      "95it [02:47,  2.09s/it]"
     ]
    },
    {
     "name": "stdout",
     "output_type": "stream",
     "text": [
      "Pandas(Index=95, tstamp=1657704970, url='/ausland/europa/torys-nachfolge-johnson-101.html', fulltext=' Die Kandidaten stehen fest, nun geht es ans Aussieben. Ab heute bestimmen die Abgeordneten der Torys, welche zwei Kandidaten am Ende in den Mitgliederentscheid über die Nachfolge von Johnson ziehen dürfen. Wie genau geht das?  Nachdem Johnson in der vergangenen Woche in einem sich über nahezu zwei Tage hinziehenden Drama seinen Rückzug verkündet hatte, meldeten mehr als ein Dutzend Konservative ihre Kandidatur an. Einige von ihnen zogen diese aber schnell wieder zurück, bevor sich das Auswahlverfahren am Dienstag in die Fraktion verlagerte. Dort mussten die Bewerber einzeln auftreten und sich die Unterstützung von mindestens 20 Abgeordneten sichern, um überhaupt zum Wahlverfahren zugelassen zu werden. Am Ende blieben acht Kandidaten übrig. Das Auswahlverfahren bleibt zunächst weiter in der Tory-Fraktion. 358 Abgeordneten bestimmen in geheimer Wahl die beiden Kandidaten, die sich am Ende dem Votum der Parteimitglieder stellen dürfen. Im ersten Wahlgang an diesem Mittwoch fliegt raus, wer nicht mindestens 30 Unterstützer hinter sich bringt. Anschließend wird bei jeder weiteren Runde der Letztplatzierte ausgesiebt - bis nur noch zwei übrig sind. Dann entscheiden die Parteimitglieder per Brief in einer Stichwahl. Wie viele Tories stimmberechtigt sind, ist unbekannt. Schätzungen gehen von 100.000 bis 200.000 aus. Die Entscheidung soll spätestens nach der Sommerpause am 5. September feststehen. Dann kehrt das Parlament aus der Sommerpause zurück. Das hängt vom Vergleichsfall ab. Die Nachfolgeregelung bei Johnsons Vorvorgänger David Cameron lief deutlich schneller. Cameron trat im Juni 2016 nach dem Brexit-Referendum zurück, danach dauerte es nicht einmal vier Wochen, bis May neue Premierministerin war. Länger dauerte es, bis Johnson endlich das ersehnte Amt übernehmen konnte- Als May Ende Mai 2019 ankündigte, ihr Amt aufzugeben, gingen nicht ganz neun Wochen ins Land, bis er von der Partei gewählt worden und von der Queen zum Premierminister ernannt worden war. Um den Posten des Parteivorsitzenden bewerben sich sowohl hochrangige Kabinettsmitglieder als auch Außenseiter. Als gesetzt für die letzte Runde gilt Ex-Finanzminister Rishi Sunak. Der 42-Jährige hat zahlreiche prominente Unterstützer um sich geschart. Allerdings schlägt ihm auch heftige Ablehnung entgegen, weil er für die größte Steuererhöhung seit Jahrzehnten verantwortlich gemacht wird und als Johnson-Gegner gilt. Kritiker unterstellen ihm, schon seit Monaten auf dessen Sturz hingearbeitet zu haben. Erwartet wird, dass sich Außenministerin Liz Truss und Handels-Staatssekretärin Penny Mordaunt ein Duell um den zweiten Platz liefern. Truss gilt als Favoritin der Johnson-Getreuen, Mordaunt als Liebling der konservativen Basis. Interessant wird sein, wie Kemi Badenoch abschneidet. Die frühere Staatssekretärin für Gleichstellung hat viel Lob vom rechten Flügel der Tories bekommen mit ihrer Kritik an der Identitätspolitk, in der sie eine \"Kultur des Selbsthasses\" erkennt, die Großbritannien \"zerstöre\". Ob das aber reicht, um Truss zu verdrängen, bleibt ungewiss. Truss immerhin muss sich mit dem Vorwurf der Beliebigkeit auseinandersetzen - denn sie trat 2016 vehement für einen Verbleib Großbritanniens in der EU ein. Davon ist heute von ihr nichts mehr zu hören. Die Ankündigungen der Kandidatinnen und Kandidaten ähneln sich. Alle versprechen Steuererleichterungen. Schon jetzt sieht es so aus, als ob die Tories noch weiter nach rechts rücken. Wer den Brexit anzweifelt oder zurück will in den EU-Binnenmarkt, hat keine Chance. Im Streit mit der EU um Sonderregeln für Nordirland gibt es keinen Widerspruch zu Johnsons Plänen, das Abkommen auszuhebeln. Einige Kandidaten haben bereits angekündigt, Großbritannien auch aus der Europäischen Menschenrechtskonvention zu führen. Auch beim Thema Migration halten die Bewerber an umstrittenen Vorhaben fest. Illegal Eingereiste sollen ohne Prüfung ihres Asylantrags und unabhängig von ihrer Nationalität ins ostafrikanische Ruanda gebracht werden. Das fordert die Opposition. Das Problem: Aktuell sehen Umfragen die Labour-Partei weit vor den Tories. Viele konservative Abgeordnete haben kein Interesse an einer baldigen Wahl, weil sie ihren Sitz verlieren könnten. Einen gesetzlichen Zwang für eine Neuwahl nach einem Wechsel in der Downing Street gibt es nicht, der reguläre Termin für die nächste Parlamentswahl ist spätestens 2024. Deshalb dürfte auch das Misstrauensvotum, das Labour gegen Johnson angesetzt hat, scheitern - es würde, falls Labour genügend Stimmen zusammenbekommt, Neuwahlen nach sich ziehen. Diese Frage stellen auch seine Gegner - Dominic Raab könnte als stellvertretender Premier die Amtsgeschäfte weiterführen. Johnson selbst sagt, es sei sein Job, bis zur Regelung der Nachfolge  weiter umzusetzen, \"was wir in den Wahlen versprochen haben: Wachstum. Dazu gehört, den Status Großbritanniens als wissenschaftliche Supermacht wieder herstellen.\" Das nimmt ihm nicht jeder ab. Kritiker unterstellen ihm ein viel profaneres - und eitles - Motiv: Johnson wolle so sicherstellen, dass er auf jeden Fall länger im Amt bleibt als die von ihm herausgedrängte Theresa May. Die war auf 1106 Tage gekommen. Um das zu übertreffen, müsste Johnson mindestens bis zum 4. August Hausherr in 10 Downing St bleiben. Wie es aussieht, sollte ihm das gelingen.. Die Aufgaben sind gewaltig. Die Partei ist zerrissen. Ihr Image liegt nach etlichen Skandalen in Trümmern. Bei Nachwahlen gab es zuletzt schwere Klatschen, selbst in traditionellen Tory-Wahlkreisen. Zwar betont Johnson stets, die britische Wirtschaft sei stark aus der Corona-Pandemie gekommen. Doch die Zahlen zeigen ein anderes Bild: Die Bevölkerung leidet unter der höchsten Inflation seit rund 40 Jahren und den höchsten Steuern seit rund 70 Jahren. Der Handel mit der EU, dem wichtigsten Handelspartner, ist massiv eingebrochen. Spielraum gibt es wegen des russischen Kriegs gegen die Ukraine kaum. Die Energiekosten steigen auch auf der Insel immer weiter. Im Gegensatz zu den EU-Staaten kommt hinzu, dass die negativen wirtschaftlichen Folgen des Brexits immer deutlicher werden. Mit Material von Christoph Prössl, ARD-Studio London und dpa')\n"
     ]
    },
    {
     "name": "stderr",
     "output_type": "stream",
     "text": [
      "96it [02:48,  1.93s/it]"
     ]
    },
    {
     "name": "stdout",
     "output_type": "stream",
     "text": [
      "Pandas(Index=96, tstamp=1657712293, url='/ausland/asien/sri-lanka-notstand-103.html', fulltext=' Präsident geflohen, Ausgangssperre in der Hauptstadt und Notstand im gesamten Land: In Sri Lanka protestieren weiterhin Tausende gegen die politische Führung. Die Übergangsregierung muss weitere Unruhen befürchten.  Einen Krankenwagen soll doch jemand rufen, schreit ein Demonstrant, während ein Mann verletzt auf dem Boden liegt. Seit Stunden schon herrscht Chaos im Zentrum von Colombo, der Hauptstadt Sri Lankas. Zehntausende protestieren, sind wütend, nachdem Noch-Präsident Gotabaya Rajapaksa am frühen Morgen geflohen war. Die Menschen wollten zwar immer, dass er zurücktritt - aber auch, dass er und sein Clan sich für das verantworten, was sie in Sri Lanka angerichtet haben. \"Jetzt herrscht die Macht des Volkes, das ist das Wichtigste\", sagt ein Demonstrant der Nachrichtenagentur AP. Diese Macht, sie habe ihren Höhepunkt erreicht. Jetzt sollten die Politiker die Macht des Volkes sehen und den Befehlen des Volkes folgen. Seit dem frühen Morgen überschlagen sich die Ereignisse. Präsident Rajapaksa war zusammen mit seiner Frau und einem Leibwächter in eine Militärmaschine gestiegen und hatte sich auf die Malediven fliegen lassen , nur etwa eine Flugstunde von Colombo entfernt. Zu diesem Zeitpunkt war er noch amtierendes Staatsoberhaupt. Es wird vermutet, dass er schon deshalb nicht zurückgetreten war, um im Schutz der Immunität als Präsident aus seinem Land zu fliehen. Am Morgen dann beanspruchte Premierminister Ranil Wickremesinghe für sich, die Funktion des Präsidenten zu übernehmen. Er ließ den Notstand ausrufen und eine Ausgangssperre über Colombo und die gesamte Westprovinz Sri Lankas verhängen. Die Proteste im Land richten sich längst nicht mehr nur gegen den Präsidenten, der vor seiner Verantwortung geflohen ist, gegen seinen Clan oder gegen den Premier, der ebenfalls der alten Garde angehört. Die herrschenden Politiker seien diskreditiert, sagt ein Demonstrant dem ARD-Hörfunk . Der Präsident werde heute zurücktreten, hat nun ein Sprecher erklärt. Er werde ein Rücktrittsschreiben schicken. Am 20. Juli, also in sieben Tagen, solle dann ein neuer Präsident gewählt werden. Es war jüngst die Rede von einer All-Parteien-Regierung. Doch auf den Straßen gibt es keine Beruhigung. Tränengas, Hubschrauber werden eingesetzt, Barrikaden von Demonstrierenden eingerissen. Es droht ein Sturm auf den Sitz des Premierministers. Denn die Menschen fühlen sich betrogen von ihren Führern - und sie geben ihnen die Schuld an der Wirtschaftskrise. Kein Treibstoff, keine Medikamente, keine Lebensmittel, die Währung verfallen: So etwas hatte der Inselstaat seit mehr als 70 Jahren nicht erlebt. Wie der Tag weitergeht - niemand weiß es. Noch sieht es nicht so aus, als ließen sich die Massen beruhigen.')\n"
     ]
    },
    {
     "name": "stderr",
     "output_type": "stream",
     "text": [
      "97it [02:49,  1.50s/it]"
     ]
    },
    {
     "name": "stdout",
     "output_type": "stream",
     "text": [
      "Pandas(Index=97, tstamp=1657711829, url='/ausland/europa/russland-jaschin-opposition-nawalny-butscha-101.html', fulltext=' Die russische Justiz hat Ermittlungen gegen den Oppositionellen Jaschin eingeleitet. Wegen angeblicher Verbreitung von Falschinformationen drohen ihm zehn Jahre Haft - und der Ausschluss von den Kommunalwahlen.  Eigentlich sollte Ilja Jaschin in der Nacht freikommen. Seine Haftstrafe wegen angeblichen Ungehorsams gegen Polizeibeamte hatte der bekannte Oppositionspolitiker nach 15 Tagen abgesessen. Wenige Stunden vor seiner geplanten Entlassung meldete sich aber der\\xa0Anwalt des 39-Jährigen, Wadim Prochorow, auf Facebook. Gegen Jaschin sei ein Strafverfahren eingeleitet, seine Wohnung durchsucht worden. Er, der Anwalt, sei auf dem Weg dorthin, Updates würden folgen. Später erklärte Prochorow im Youtube-Kanal \"Populäre Politik\", der von den Mitarbeitern des inhaftierten Kreml-Kritikers Nawalny aus dem Exil bespielt wird: \"Die Durchsuchung wurde ohne Gerichtsbeschluss durchgeführt. Es gibt eine Form, dass in dringenden Fällen eine Durchsuchung möglich ist, die dann im Nachhinein durch einen Gerichtsbeschluss legalisiert wird.\" Diese Methode werde in letzter Zeit immer häufiger angewandt. Nun gehe es um die Frage der Anklageerhebung und der Wahl der vorläufigen Maßnahmen. \"Im Prinzip aber haben die Behörden den folgenden Aktionsalgorithmus gewählt: Erheben einer Verwaltungsklage und Verhängung einer Verwaltungsverhaftung aus absolut banalen Gründen\", so Prochorow. \"Und in dieser Zeit versuchen sie tatsächlich etwas zu finden.\" Es sei eine Maßnahme, auch noch die letzten Reste der in Russland verbliebenen Opposition platt zu walzen, erklärt Prochorow weiter und vergleicht den Fall Jaschin mit dem bereits seit April inhaftierten, prominenten Kreml-Kritiker Wladimir Kara-Mursa. Auch er bekam zunächst wegen angeblichen Ungehorsams gegen Polizeibeamte eine 15-tägige Haftstrafe. Und auch er wurde - so wie nun Jaschin - anschließend beschuldigt, Falschinformationen gegen die russische Armee verbreitet zu haben. In beiden konkreten Fällen könnte das bis zu zehn Jahren Haft bedeuten. Noch immer hat der Prozess gegen Kara-Murza nicht begonnen. Seine Untersuchungshaft wurde vorerst bis zum 12. August verlängert. Bis zu seiner Festnahme vor gut zwei Wochen hatte Jaschin auf seinem Youtube-Kanal immer wieder klar gemacht, dass es für ihn nur eine Frage der Zeit sei, bis er hinter Gittern lande. Wegen seiner öffentlichen Anti-Kriegs-Äußerungen hatte er schon mehrere Vorladungen erhalten und auch die ersten Prozesse hinter sich gebracht. \"Natürlich mache ich mir keine Illusionen über unsere Gerichte\", erklärte Jaschin im Juni. \"Egal welche überzeugenden Argumente wir haben, egal welche Experten wir mitbringen, Fakten wir auf den Tisch legen und Reden halten - die Entscheidung wird immer noch zugunsten des Systems ausfallen.\" Dennoch betonte der Oppositionspolitiker immer wieder, dass er Russland nicht verlassen werde. \"Das ist mein Land, meine Erde - ich gehe nirgendwo hin. Und ich werde weiter offen reden. Selbst wenn Sie mich hinter Gitter bringen, werde ich trotzdem dafür sorgen, dass meine Stimme auch von dort gehört wird.\" Heute wurde nun offiziell Anklage gegen Jaschin erhoben wegen angeblicher Verbreitung von Falschinformationen über die russische Armee. Laut seinen Anwälten beziehen sich die Vorwürfe auf Aussagen, die Jaschin im Zusammenhang mit den Gräueltaten von Butscha getätigt hatte. Unter anderem hatte er auf seinem Youtube-Kanal die Berichterstattung der russischen Medien kritisiert, die von einer \"ukrainischen Inszenierung\" sprachen. Gegenüber russischen Medien sagten Jaschins Anwälte, dass die Ermittler bereits die Inhaftierung des Oppositionellen gefordert hätten. Vorerst bis zum 12. September. Damit könnte der Politiker Jaschin auch nicht aktiv an den bevorstehenden Kommunal- und Regionalwahlen teilnehmen, die in diesem Jahr am 11. September stattfinden.')\n"
     ]
    },
    {
     "name": "stderr",
     "output_type": "stream",
     "text": [
      "98it [02:49,  1.17s/it]"
     ]
    },
    {
     "name": "stdout",
     "output_type": "stream",
     "text": [
      "Pandas(Index=98, tstamp=1657714837, url='/wirtschaft/benzin-e10-diesel-preise-adac-101.html', fulltext=' Der langsame Sinkflug der Spritpreise setzt sich fort. Dennoch kritisiert der ADAC die Preise für Benzin und Diesel als \"nach wie vor stark überhöht\".  Die Preise an den Tankstellen geben weiter langsam nach. Berechnungen des ADAC zufolge ist Superbenzin der Sorte E10 die fünfte Woche in Folge billiger geworden. Gestern kostete ein Liter im bundesweiten Tagesdurchschnitt 1,826 Euro, das waren 1,7 Cent weniger als eine Woche zuvor. Bei den Dieselpreisen ging es nach den Untersuchungen des ADAC in der dritten Woche in Folge abwärts auf 1,963 Euro am Dienstag - ein Rückgang um 2,6 Cent. Dennoch hält der Verkehrsclub die Preise nach wie vor für \"stark überhöht\". Treiber des aktuellen Rückgangs dürften unter anderem die Ölpreise sein, die wegen der Konjunktursorgen seit einigen Wochen tendenziell nachgeben. Kostete ein Barrel der Nordsee-Sorte Brent vor einigen Wochen noch mehr als 120 US-Dollar, liegt der Preis derzeit im Bereich von 100 Dollar. Allerdings bremst die Schwäche des Euro gegenüber der US-Währung diesen Effekt. Erfahrungsgemäß besteht zwischen der Entwicklung der Ölpreise an den Märkten und den deutschen Tankstellenpreise kein absoluter Gleichlauf. Denn auch nach der Einführung des Tankrabatts kassiert der Bund neben der Mehrwertsteuer und der CO2-Steuer auch die Energiesteuer, die ehemalige Mineralölsteuer, von 33 Cent pro Liter für Diesel und 35,9 Cent pro Liter für Benzin. Ein weiterer wichtiger, häufiger unterschätzter Faktor sind die Gewinnmargen der Raffinerien, die das Rohöl \"cracken\" und dabei seine Bestandteile aufspalten. Auf diese Weise wird es zu Ölprodukten wie Benzin und Diesel verarbeitet. Zu den größten Raffineriebetreibern in Deutschland gehören die Ölmultis Shell, BP und Total. Fachleute achten dabei auf den so genannten \"Crack-Spread\" - also die Preisdifferenz zwischen den raffinierten Ölprodukten und den Ölpreisen. Und wie hoch der war, zeigen zwei Beispiel aus der jüngeren Vergangenheit. So berichtete der britische Ölkonzern Shell erst in der vergangenen Woche, dass sich seine Raffineriemarge vom ersten zum zweiten Quartal fast verdreifacht hat. Sie stieg von 10,23 auf 28,04 US-Dollar je Barrel. Das waren umgerechnet knapp 18 US-Cent je Liter nach rund sechs Cent im ersten Quartal. Auch der österreichische Ölkonzern OMV, in Deutschland hauptsächlich in Bayern aktiv, bezifferte seine Marge aus dem Raffineriegeschäft im zweiten Quartal auf 20,46 Dollar. Ein Jahr zuvor hatte sie gerade einmal bei 2,23 Dollar je Barrel gelegen. Doch wie kommt es eigentlich zu so starken Schwankungen der Gewinnmargen bei der Ölverarbeitung? Autofahrer als die größten Verbraucher von Ölprodukten benötigen für ihre Fahrzeuge kein Rohöl, sondern raffinierte Ölprodukte wie Diesel oder Benzin. Nimmt die Nachfrage nach diesen stärker zu als die kurzfristig verfügbare Raffineriekapazität, steigen Preise für Benzin und Diesel schneller als die der zugrundeliegenden Ölpreise. Genau diese Entwicklung hat es offenbar in den vergangenen Monaten gegeben.')\n"
     ]
    },
    {
     "name": "stderr",
     "output_type": "stream",
     "text": [
      "99it [02:50,  1.02s/it]"
     ]
    },
    {
     "name": "stdout",
     "output_type": "stream",
     "text": [
      "Pandas(Index=99, tstamp=1657715925, url='/ausland/afrika/mali-minusma-festnahmen-101.html', fulltext=' Die Regierung in Mali hat 49 ivorische Soldaten festgenommen. Die Machthaber vermuteten einen Putschversuch - tatsächlich kamen die Männer zum Schutz eines UN-Stützpunktes. Verteidigungsministerin Lambrecht übte Kritik.  Die Militärregierung im westafrikanischen Mali hat die Wachmannschaft eines Camps der UN-Truppe MINUSMA auf dem Flughafen der Hauptstadt Bamako festnehmen lassen. Die Männer aus der benachbarten Elfenbeinküste waren als Austauschkontingent für eine andere Einheit nach Mali geflogen, wie die Nachrichtenagentur dpa unter Berufung auf Militärkreise berichtete. Nach Angaben von MINUSMA-Sprecher Olivier Salgado sollen die ivorischen Soldaten die Blauhelmmission unterstützen. Sie zählten zwar nicht zum Kontingent der Blauhelme, seien aber zur logistischen Unterstützung der UN-Truppen im Land. Das sei \"gängige Praxis\" bei Friedensmissionen. Die Soldaten sind Austausch für eine Truppe, die einen MINUSMA-Stützpunkt auf dem Flughafen sichert. Zuvor hatte die malische Regierung in Bamako erklärt, sie habe 49 Soldaten aus dem Nachbarland als \"Söldner\" festgenommen. Sie seien mit Waffen, Munition und militärischer Ausrüstung ohne Erlaubnis in der Hauptstadt gelandet. Die Soldaten seien \"illegal in das Staatsgebiet von Mali eingedrungen\". Nach Darstellung von Malis Militärregierung soll ein Putschversuch geplant gewesen sein. Der ivorische Sicherheitsrat in Abidjan widersprach in einer Mitteilung der Darstellung, dass die festgenommenen Soldaten unangekündigt und bewaffnet eingereist seien. Vielmehr seien die Soldaten wie von MINUSMA angegeben als Austausch für eine Truppe angemeldet gewesen, die einen Stützpunkt der UN-Truppe auf dem Flughafen sichert. Verteidigungsministerin Christine Lambrecht kritisierte die Machthaber in Mali nach der Festnahme scharf. \"Das Verhalten der malischen Machthaber ist ein sehr problematisches Signal. Hier sind - leider erneut - erhebliche Zweifel angebracht, ob Mali überhaupt noch ein Interesse an einer konstruktiven Zusammenarbeit im Rahmen von MINUSMA hat\", sagte Lambrecht der Nachrichtenagentur dpa. Sie rief die malischen Verantwortlichen auf, die ivorischen Soldaten umgehend freizulassen. Mali hat seit 2012 drei Militärputsche erlebt und gilt als politisch äußerst instabil. Seit dem bisher letzten Putsch im vergangenen Mai wird das Land von einer militärischen Übergangsregierung geführt, die wegen enger Beziehungen zu Russland kritisiert wird. Die Militärjunta hat Wahlen bis Ende März 2024 versprochen. Dem Staat machen seit Jahren islamistische Terrorgruppen zu schaffen. Die Bundeswehr ist in Mali weiterhin an der UN-Friedensmission MINUSMA beteiligt. Die europäische Ausbildungsmission EUTM soll jedoch weitgehend gestoppt werden.')\n"
     ]
    },
    {
     "name": "stderr",
     "output_type": "stream",
     "text": [
      "100it [02:50,  1.71s/it]\n"
     ]
    }
   ],
   "source": [
    "df_text_1 = df_texts.iloc[0:100, :]\n",
    "with jl.open(f\"{_dd}/2_processed-localhost.jsonl\", \"w\") as f_out:\n",
    "    for article in tqdm(df_text_1.loc[:, [\"tstamp\", \"url\", \"fulltext\"]].itertuples()):\n",
    "        doc = nlp(article.fulltext)\n",
    "        entities = entity_list(doc)\n",
    "        if entities:\n",
    "            f_out.write(dict(_index=article[0], tstamp=article.tstamp, url=article.url, entities=entities))"
   ]
  },
  {
   "cell_type": "markdown",
   "id": "e97c5cad",
   "metadata": {},
   "source": [
    "100 Artikel in 2:36 Minuten - 1,56 Sekunden pro Artikel. Das ist nicht schnell genug. Wir brauchen mehr Parallelität!"
   ]
  },
  {
   "cell_type": "code",
   "execution_count": 42,
   "id": "03d863a2",
   "metadata": {},
   "outputs": [
    {
     "name": "stderr",
     "output_type": "stream",
     "text": [
      "c:\\Users\\p\\miniconda3\\envs\\mbb-asud-proto-tagesschau\\Lib\\site-packages\\distributed\\node.py:182: UserWarning: Port 8787 is already in use.\n",
      "Perhaps you already have a cluster running?\n",
      "Hosting the HTTP server on port 56588 instead\n",
      "  warnings.warn(\n"
     ]
    },
    {
     "data": {
      "text/html": [
       "<div>\n",
       "    <div style=\"width: 24px; height: 24px; background-color: #e1e1e1; border: 3px solid #9D9D9D; border-radius: 5px; position: absolute;\"> </div>\n",
       "    <div style=\"margin-left: 48px;\">\n",
       "        <h3 style=\"margin-bottom: 0px;\">Client</h3>\n",
       "        <p style=\"color: #9D9D9D; margin-bottom: 0px;\">Client-523e4b48-14d1-11ee-a8f4-6245b4f669ad</p>\n",
       "        <table style=\"width: 100%; text-align: left;\">\n",
       "\n",
       "        <tr>\n",
       "        \n",
       "            <td style=\"text-align: left;\"><strong>Connection method:</strong> Cluster object</td>\n",
       "            <td style=\"text-align: left;\"><strong>Cluster type:</strong> distributed.LocalCluster</td>\n",
       "        \n",
       "        </tr>\n",
       "\n",
       "        \n",
       "            <tr>\n",
       "                <td style=\"text-align: left;\">\n",
       "                    <strong>Dashboard: </strong> <a href=\"http://127.0.0.1:56588/status\" target=\"_blank\">http://127.0.0.1:56588/status</a>\n",
       "                </td>\n",
       "                <td style=\"text-align: left;\"></td>\n",
       "            </tr>\n",
       "        \n",
       "\n",
       "        </table>\n",
       "\n",
       "        \n",
       "\n",
       "        \n",
       "            <details>\n",
       "            <summary style=\"margin-bottom: 20px;\"><h3 style=\"display: inline;\">Cluster Info</h3></summary>\n",
       "            <div class=\"jp-RenderedHTMLCommon jp-RenderedHTML jp-mod-trusted jp-OutputArea-output\">\n",
       "    <div style=\"width: 24px; height: 24px; background-color: #e1e1e1; border: 3px solid #9D9D9D; border-radius: 5px; position: absolute;\">\n",
       "    </div>\n",
       "    <div style=\"margin-left: 48px;\">\n",
       "        <h3 style=\"margin-bottom: 0px; margin-top: 0px;\">LocalCluster</h3>\n",
       "        <p style=\"color: #9D9D9D; margin-bottom: 0px;\">e1df96b7</p>\n",
       "        <table style=\"width: 100%; text-align: left;\">\n",
       "            <tr>\n",
       "                <td style=\"text-align: left;\">\n",
       "                    <strong>Dashboard:</strong> <a href=\"http://127.0.0.1:56588/status\" target=\"_blank\">http://127.0.0.1:56588/status</a>\n",
       "                </td>\n",
       "                <td style=\"text-align: left;\">\n",
       "                    <strong>Workers:</strong> 4\n",
       "                </td>\n",
       "            </tr>\n",
       "            <tr>\n",
       "                <td style=\"text-align: left;\">\n",
       "                    <strong>Total threads:</strong> 12\n",
       "                </td>\n",
       "                <td style=\"text-align: left;\">\n",
       "                    <strong>Total memory:</strong> 15.90 GiB\n",
       "                </td>\n",
       "            </tr>\n",
       "            \n",
       "            <tr>\n",
       "    <td style=\"text-align: left;\"><strong>Status:</strong> running</td>\n",
       "    <td style=\"text-align: left;\"><strong>Using processes:</strong> True</td>\n",
       "</tr>\n",
       "\n",
       "            \n",
       "        </table>\n",
       "\n",
       "        <details>\n",
       "            <summary style=\"margin-bottom: 20px;\">\n",
       "                <h3 style=\"display: inline;\">Scheduler Info</h3>\n",
       "            </summary>\n",
       "\n",
       "            <div style=\"\">\n",
       "    <div>\n",
       "        <div style=\"width: 24px; height: 24px; background-color: #FFF7E5; border: 3px solid #FF6132; border-radius: 5px; position: absolute;\"> </div>\n",
       "        <div style=\"margin-left: 48px;\">\n",
       "            <h3 style=\"margin-bottom: 0px;\">Scheduler</h3>\n",
       "            <p style=\"color: #9D9D9D; margin-bottom: 0px;\">Scheduler-192ca7e2-4b50-44b1-acc4-383d2af05594</p>\n",
       "            <table style=\"width: 100%; text-align: left;\">\n",
       "                <tr>\n",
       "                    <td style=\"text-align: left;\">\n",
       "                        <strong>Comm:</strong> tcp://127.0.0.1:56590\n",
       "                    </td>\n",
       "                    <td style=\"text-align: left;\">\n",
       "                        <strong>Workers:</strong> 4\n",
       "                    </td>\n",
       "                </tr>\n",
       "                <tr>\n",
       "                    <td style=\"text-align: left;\">\n",
       "                        <strong>Dashboard:</strong> <a href=\"http://127.0.0.1:56588/status\" target=\"_blank\">http://127.0.0.1:56588/status</a>\n",
       "                    </td>\n",
       "                    <td style=\"text-align: left;\">\n",
       "                        <strong>Total threads:</strong> 12\n",
       "                    </td>\n",
       "                </tr>\n",
       "                <tr>\n",
       "                    <td style=\"text-align: left;\">\n",
       "                        <strong>Started:</strong> Just now\n",
       "                    </td>\n",
       "                    <td style=\"text-align: left;\">\n",
       "                        <strong>Total memory:</strong> 15.90 GiB\n",
       "                    </td>\n",
       "                </tr>\n",
       "            </table>\n",
       "        </div>\n",
       "    </div>\n",
       "\n",
       "    <details style=\"margin-left: 48px;\">\n",
       "        <summary style=\"margin-bottom: 20px;\">\n",
       "            <h3 style=\"display: inline;\">Workers</h3>\n",
       "        </summary>\n",
       "\n",
       "        \n",
       "        <div style=\"margin-bottom: 20px;\">\n",
       "            <div style=\"width: 24px; height: 24px; background-color: #DBF5FF; border: 3px solid #4CC9FF; border-radius: 5px; position: absolute;\"> </div>\n",
       "            <div style=\"margin-left: 48px;\">\n",
       "            <details>\n",
       "                <summary>\n",
       "                    <h4 style=\"margin-bottom: 0px; display: inline;\">Worker: 0</h4>\n",
       "                </summary>\n",
       "                <table style=\"width: 100%; text-align: left;\">\n",
       "                    <tr>\n",
       "                        <td style=\"text-align: left;\">\n",
       "                            <strong>Comm: </strong> tcp://127.0.0.1:56625\n",
       "                        </td>\n",
       "                        <td style=\"text-align: left;\">\n",
       "                            <strong>Total threads: </strong> 3\n",
       "                        </td>\n",
       "                    </tr>\n",
       "                    <tr>\n",
       "                        <td style=\"text-align: left;\">\n",
       "                            <strong>Dashboard: </strong> <a href=\"http://127.0.0.1:56630/status\" target=\"_blank\">http://127.0.0.1:56630/status</a>\n",
       "                        </td>\n",
       "                        <td style=\"text-align: left;\">\n",
       "                            <strong>Memory: </strong> 3.98 GiB\n",
       "                        </td>\n",
       "                    </tr>\n",
       "                    <tr>\n",
       "                        <td style=\"text-align: left;\">\n",
       "                            <strong>Nanny: </strong> tcp://127.0.0.1:56593\n",
       "                        </td>\n",
       "                        <td style=\"text-align: left;\"></td>\n",
       "                    </tr>\n",
       "                    <tr>\n",
       "                        <td colspan=\"2\" style=\"text-align: left;\">\n",
       "                            <strong>Local directory: </strong> C:\\Users\\p\\AppData\\Local\\Temp\\dask-scratch-space\\worker-9d4b8k0x\n",
       "                        </td>\n",
       "                    </tr>\n",
       "\n",
       "                    \n",
       "\n",
       "                    \n",
       "\n",
       "                </table>\n",
       "            </details>\n",
       "            </div>\n",
       "        </div>\n",
       "        \n",
       "        <div style=\"margin-bottom: 20px;\">\n",
       "            <div style=\"width: 24px; height: 24px; background-color: #DBF5FF; border: 3px solid #4CC9FF; border-radius: 5px; position: absolute;\"> </div>\n",
       "            <div style=\"margin-left: 48px;\">\n",
       "            <details>\n",
       "                <summary>\n",
       "                    <h4 style=\"margin-bottom: 0px; display: inline;\">Worker: 1</h4>\n",
       "                </summary>\n",
       "                <table style=\"width: 100%; text-align: left;\">\n",
       "                    <tr>\n",
       "                        <td style=\"text-align: left;\">\n",
       "                            <strong>Comm: </strong> tcp://127.0.0.1:56632\n",
       "                        </td>\n",
       "                        <td style=\"text-align: left;\">\n",
       "                            <strong>Total threads: </strong> 3\n",
       "                        </td>\n",
       "                    </tr>\n",
       "                    <tr>\n",
       "                        <td style=\"text-align: left;\">\n",
       "                            <strong>Dashboard: </strong> <a href=\"http://127.0.0.1:56633/status\" target=\"_blank\">http://127.0.0.1:56633/status</a>\n",
       "                        </td>\n",
       "                        <td style=\"text-align: left;\">\n",
       "                            <strong>Memory: </strong> 3.98 GiB\n",
       "                        </td>\n",
       "                    </tr>\n",
       "                    <tr>\n",
       "                        <td style=\"text-align: left;\">\n",
       "                            <strong>Nanny: </strong> tcp://127.0.0.1:56594\n",
       "                        </td>\n",
       "                        <td style=\"text-align: left;\"></td>\n",
       "                    </tr>\n",
       "                    <tr>\n",
       "                        <td colspan=\"2\" style=\"text-align: left;\">\n",
       "                            <strong>Local directory: </strong> C:\\Users\\p\\AppData\\Local\\Temp\\dask-scratch-space\\worker-bwvgr51b\n",
       "                        </td>\n",
       "                    </tr>\n",
       "\n",
       "                    \n",
       "\n",
       "                    \n",
       "\n",
       "                </table>\n",
       "            </details>\n",
       "            </div>\n",
       "        </div>\n",
       "        \n",
       "        <div style=\"margin-bottom: 20px;\">\n",
       "            <div style=\"width: 24px; height: 24px; background-color: #DBF5FF; border: 3px solid #4CC9FF; border-radius: 5px; position: absolute;\"> </div>\n",
       "            <div style=\"margin-left: 48px;\">\n",
       "            <details>\n",
       "                <summary>\n",
       "                    <h4 style=\"margin-bottom: 0px; display: inline;\">Worker: 2</h4>\n",
       "                </summary>\n",
       "                <table style=\"width: 100%; text-align: left;\">\n",
       "                    <tr>\n",
       "                        <td style=\"text-align: left;\">\n",
       "                            <strong>Comm: </strong> tcp://127.0.0.1:56624\n",
       "                        </td>\n",
       "                        <td style=\"text-align: left;\">\n",
       "                            <strong>Total threads: </strong> 3\n",
       "                        </td>\n",
       "                    </tr>\n",
       "                    <tr>\n",
       "                        <td style=\"text-align: left;\">\n",
       "                            <strong>Dashboard: </strong> <a href=\"http://127.0.0.1:56626/status\" target=\"_blank\">http://127.0.0.1:56626/status</a>\n",
       "                        </td>\n",
       "                        <td style=\"text-align: left;\">\n",
       "                            <strong>Memory: </strong> 3.98 GiB\n",
       "                        </td>\n",
       "                    </tr>\n",
       "                    <tr>\n",
       "                        <td style=\"text-align: left;\">\n",
       "                            <strong>Nanny: </strong> tcp://127.0.0.1:56595\n",
       "                        </td>\n",
       "                        <td style=\"text-align: left;\"></td>\n",
       "                    </tr>\n",
       "                    <tr>\n",
       "                        <td colspan=\"2\" style=\"text-align: left;\">\n",
       "                            <strong>Local directory: </strong> C:\\Users\\p\\AppData\\Local\\Temp\\dask-scratch-space\\worker-f34owiam\n",
       "                        </td>\n",
       "                    </tr>\n",
       "\n",
       "                    \n",
       "\n",
       "                    \n",
       "\n",
       "                </table>\n",
       "            </details>\n",
       "            </div>\n",
       "        </div>\n",
       "        \n",
       "        <div style=\"margin-bottom: 20px;\">\n",
       "            <div style=\"width: 24px; height: 24px; background-color: #DBF5FF; border: 3px solid #4CC9FF; border-radius: 5px; position: absolute;\"> </div>\n",
       "            <div style=\"margin-left: 48px;\">\n",
       "            <details>\n",
       "                <summary>\n",
       "                    <h4 style=\"margin-bottom: 0px; display: inline;\">Worker: 3</h4>\n",
       "                </summary>\n",
       "                <table style=\"width: 100%; text-align: left;\">\n",
       "                    <tr>\n",
       "                        <td style=\"text-align: left;\">\n",
       "                            <strong>Comm: </strong> tcp://127.0.0.1:56623\n",
       "                        </td>\n",
       "                        <td style=\"text-align: left;\">\n",
       "                            <strong>Total threads: </strong> 3\n",
       "                        </td>\n",
       "                    </tr>\n",
       "                    <tr>\n",
       "                        <td style=\"text-align: left;\">\n",
       "                            <strong>Dashboard: </strong> <a href=\"http://127.0.0.1:56628/status\" target=\"_blank\">http://127.0.0.1:56628/status</a>\n",
       "                        </td>\n",
       "                        <td style=\"text-align: left;\">\n",
       "                            <strong>Memory: </strong> 3.98 GiB\n",
       "                        </td>\n",
       "                    </tr>\n",
       "                    <tr>\n",
       "                        <td style=\"text-align: left;\">\n",
       "                            <strong>Nanny: </strong> tcp://127.0.0.1:56596\n",
       "                        </td>\n",
       "                        <td style=\"text-align: left;\"></td>\n",
       "                    </tr>\n",
       "                    <tr>\n",
       "                        <td colspan=\"2\" style=\"text-align: left;\">\n",
       "                            <strong>Local directory: </strong> C:\\Users\\p\\AppData\\Local\\Temp\\dask-scratch-space\\worker-iv3hgg7p\n",
       "                        </td>\n",
       "                    </tr>\n",
       "\n",
       "                    \n",
       "\n",
       "                    \n",
       "\n",
       "                </table>\n",
       "            </details>\n",
       "            </div>\n",
       "        </div>\n",
       "        \n",
       "\n",
       "    </details>\n",
       "</div>\n",
       "\n",
       "        </details>\n",
       "    </div>\n",
       "</div>\n",
       "            </details>\n",
       "        \n",
       "\n",
       "    </div>\n",
       "</div>"
      ],
      "text/plain": [
       "<Client: 'tcp://127.0.0.1:56590' processes=4 threads=12, memory=15.90 GiB>"
      ]
     },
     "execution_count": 42,
     "metadata": {},
     "output_type": "execute_result"
    }
   ],
   "source": [
    "# cluster = LocalCluster()\n",
    "# client = Client(cluster)\n",
    "# client"
   ]
  },
  {
   "cell_type": "code",
   "execution_count": 13,
   "id": "a4b88878",
   "metadata": {},
   "outputs": [
    {
     "name": "stdout",
     "output_type": "stream",
     "text": [
      "[########################################] | 100% Completed | 33m 10s\n"
     ]
    }
   ],
   "source": [
    "def do_extract_entities(df, partition_info: dict):\n",
    "    file_name = f\"{_dd}/2_5_processed-{partition_info['number']}.jsonl\"\n",
    "\n",
    "    with jl.open(file_name, \"w\") as f_out:\n",
    "        for text in df.loc[:, [\"url\", \"fulltext\"]].itertuples():\n",
    "            doc = nlp(text.fulltext)\n",
    "            entities = entity_list(doc)\n",
    "            for entity in entities:\n",
    "                f_out.write(dict(url=text.url, **entity))\n",
    "\n",
    "ddf_text = dd.from_pandas(df_texts, chunksize=200)\n",
    "\n",
    "with ProgressBar():\n",
    "    ddf_text.map_partitions(do_extract_entities, meta=(\"entities\", \"object\")).compute()"
   ]
  },
  {
   "cell_type": "markdown",
   "id": "66e939df",
   "metadata": {},
   "source": [
    "Outputfiles zusammenführen:"
   ]
  },
  {
   "cell_type": "code",
   "execution_count": 14,
   "id": "5ba99ec5",
   "metadata": {},
   "outputs": [],
   "source": [
    "with open(f\"{_dd}/2_5_processed.jsonl\", \"wb\") as f_out:\n",
    "    for chunk in Path(_dd).glob(\"2_5_processed-*.jsonl\"):\n",
    "        with open(chunk,'rb') as f_in:\n",
    "            shutil.copyfileobj(f_in, f_out)\n",
    "        chunk.unlink()"
   ]
  },
  {
   "cell_type": "markdown",
   "id": "07402932",
   "metadata": {},
   "source": [
    "JSONL -> Parquet:"
   ]
  },
  {
   "cell_type": "code",
   "execution_count": 21,
   "id": "d42deb21",
   "metadata": {},
   "outputs": [
    {
     "data": {
      "text/html": [
       "<div>\n",
       "<style scoped>\n",
       "    .dataframe tbody tr th:only-of-type {\n",
       "        vertical-align: middle;\n",
       "    }\n",
       "\n",
       "    .dataframe tbody tr th {\n",
       "        vertical-align: top;\n",
       "    }\n",
       "\n",
       "    .dataframe thead th {\n",
       "        text-align: right;\n",
       "    }\n",
       "</style>\n",
       "<table border=\"1\" class=\"dataframe\">\n",
       "  <thead>\n",
       "    <tr style=\"text-align: right;\">\n",
       "      <th></th>\n",
       "      <th>url</th>\n",
       "      <th>ner_text</th>\n",
       "      <th>label</th>\n",
       "      <th>wd_id</th>\n",
       "      <th>wd_url</th>\n",
       "      <th>score</th>\n",
       "    </tr>\n",
       "  </thead>\n",
       "  <tbody>\n",
       "    <tr>\n",
       "      <th>462202</th>\n",
       "      <td>/ausland/weltbevoelkerung-133.html</td>\n",
       "      <td>Afrika</td>\n",
       "      <td>LOC</td>\n",
       "      <td>Q15</td>\n",
       "      <td>https://www.wikidata.org/wiki/Q15</td>\n",
       "      <td>0.6299</td>\n",
       "    </tr>\n",
       "    <tr>\n",
       "      <th>453713</th>\n",
       "      <td>/inland/merkel-regierungserklaerung-corona-103...</td>\n",
       "      <td>Merkel</td>\n",
       "      <td>PER</td>\n",
       "      <td>Q567</td>\n",
       "      <td>https://www.wikidata.org/wiki/Q567</td>\n",
       "      <td>0.3106</td>\n",
       "    </tr>\n",
       "    <tr>\n",
       "      <th>532794</th>\n",
       "      <td>/ausland/interview-tuerkei-gipfel-101.html</td>\n",
       "      <td>Türkei</td>\n",
       "      <td>LOC</td>\n",
       "      <td>Q43</td>\n",
       "      <td>https://www.wikidata.org/wiki/Q43</td>\n",
       "      <td>0.6760</td>\n",
       "    </tr>\n",
       "    <tr>\n",
       "      <th>431195</th>\n",
       "      <td>/ausland/usa-einwanderung-107.html</td>\n",
       "      <td>Mexiko</td>\n",
       "      <td>LOC</td>\n",
       "      <td>Q96</td>\n",
       "      <td>https://www.wikidata.org/wiki/Q96</td>\n",
       "      <td>0.6736</td>\n",
       "    </tr>\n",
       "    <tr>\n",
       "      <th>943235</th>\n",
       "      <td>/newsticker/liveblog-ukraine-samstag-205.html</td>\n",
       "      <td>ukrainischer</td>\n",
       "      <td>MISC</td>\n",
       "      <td>Q212</td>\n",
       "      <td>https://www.wikidata.org/wiki/Q212</td>\n",
       "      <td>0.7078</td>\n",
       "    </tr>\n",
       "  </tbody>\n",
       "</table>\n",
       "</div>"
      ],
      "text/plain": [
       "                                                      url      ner_text label  \\\n",
       "462202                 /ausland/weltbevoelkerung-133.html        Afrika   LOC   \n",
       "453713  /inland/merkel-regierungserklaerung-corona-103...        Merkel   PER   \n",
       "532794         /ausland/interview-tuerkei-gipfel-101.html        Türkei   LOC   \n",
       "431195                 /ausland/usa-einwanderung-107.html        Mexiko   LOC   \n",
       "943235      /newsticker/liveblog-ukraine-samstag-205.html  ukrainischer  MISC   \n",
       "\n",
       "       wd_id                              wd_url   score  \n",
       "462202   Q15   https://www.wikidata.org/wiki/Q15  0.6299  \n",
       "453713  Q567  https://www.wikidata.org/wiki/Q567  0.3106  \n",
       "532794   Q43   https://www.wikidata.org/wiki/Q43  0.6760  \n",
       "431195   Q96   https://www.wikidata.org/wiki/Q96  0.6736  \n",
       "943235  Q212  https://www.wikidata.org/wiki/Q212  0.7078  "
      ]
     },
     "execution_count": 21,
     "metadata": {},
     "output_type": "execute_result"
    }
   ],
   "source": [
    "df_found_entities = pd.read_json(f\"{_dd}/2_5_processed.jsonl\", lines=True)\n",
    "df_found_entities.to_parquet(f\"{_dd}/2_5_processed.parquet\", index=False)\n",
    "df_found_entities.sample(5)\n",
    "# del(df_found_entities)"
   ]
  },
  {
   "cell_type": "markdown",
   "id": "0bf7ca66",
   "metadata": {},
   "source": [
    "### Entities von Wikidata scrapen\n",
    "\n",
    "2. Entities in neues Dict, dabei Infos aus der NER beibehalten und Anreicherung durch Wikidata vorbereiten\n",
    "3. Liste aller Entities für Scraper generieren (in jsonl oder so)\n",
    "4. Alle Entities von Wikidata scrapen\n",
    "   1. Herausforderung I: Manche Einträge haben kein Label/keine Description -> dann statt dessen Entitätskenner\n",
    "   2. Herausforderung II: Manche Einträge leiten auf andere Entitäten weiter -> dann weitergeleitete ID speichern\n",
    "5. Zusammenführen (direkt im Scraper?)"
   ]
  },
  {
   "cell_type": "markdown",
   "id": "fc7b9e43",
   "metadata": {},
   "source": [
    "Der Datensatz enthält disambiguierte und niedrig bewertete Entitäten:"
   ]
  },
  {
   "cell_type": "code",
   "execution_count": 38,
   "id": "c6a47b41",
   "metadata": {},
   "outputs": [
    {
     "name": "stdout",
     "output_type": "stream",
     "text": [
      "996274\n",
      "(996274, 6)\n",
      "(118857, 6)\n"
     ]
    }
   ],
   "source": [
    "print(df_found_entities[\"wd_id\"].notna().sum())\n",
    "print(df_found_entities.shape)\n",
    "print(df_found_entities.query(\"score < 0.1\").shape)"
   ]
  },
  {
   "cell_type": "markdown",
   "id": "6ad763a9",
   "metadata": {},
   "source": [
    "Die entfernen wir:"
   ]
  },
  {
   "cell_type": "code",
   "execution_count": 40,
   "id": "bf0c37ef",
   "metadata": {},
   "outputs": [],
   "source": [
    "df_found_entities.dropna(inplace=True)\n",
    "df_found_entities = df_found_entities[df_found_entities[\"score\"] >= 0.1]"
   ]
  },
  {
   "cell_type": "markdown",
   "id": "73dc99ca",
   "metadata": {},
   "source": [
    "Der Rest darf bleiben:"
   ]
  },
  {
   "cell_type": "code",
   "execution_count": 41,
   "id": "ea3853a7",
   "metadata": {},
   "outputs": [
    {
     "name": "stdout",
     "output_type": "stream",
     "text": [
      "(877417, 6)\n"
     ]
    }
   ],
   "source": [
    "print(df_found_entities.shape)"
   ]
  },
  {
   "cell_type": "markdown",
   "id": "1a552526",
   "metadata": {},
   "source": [
    "Entitätsliste für den Wikidata-Scraper generieren:"
   ]
  },
  {
   "cell_type": "code",
   "execution_count": 31,
   "id": "badcb9d8",
   "metadata": {},
   "outputs": [],
   "source": [
    "with open(f\"{_dd}/3_catalog.json\", \"w\") as f_out:\n",
    "    json.dump(df_found_entities[\"wd_id\"].sort_values().drop_duplicates().to_list(), f_out)"
   ]
  },
  {
   "cell_type": "markdown",
   "id": "32d8f09c",
   "metadata": {},
   "source": [
    "### Step X: Entitäten aus Wikidata scrapen\n",
    "\n",
    "```bash\n",
    "cd wdscrape\n",
    "scrapy crawl wdspider -O 4_wd-catalog.jsonl\n",
    "```"
   ]
  },
  {
   "cell_type": "markdown",
   "id": "17d80ec6",
   "metadata": {},
   "source": [
    "### Step X: Knoten und Kanten für Graphen generieren\n",
    "\n",
    "Knoten sind die Entitäten aus `4_wd-catalog.jsonl`. Als technische Knoten-ID dient der numerische Teil der Wikidata-ID."
   ]
  },
  {
   "cell_type": "code",
   "execution_count": 4,
   "id": "66701e75",
   "metadata": {},
   "outputs": [
    {
     "data": {
      "text/html": [
       "<div>\n",
       "<style scoped>\n",
       "    .dataframe tbody tr th:only-of-type {\n",
       "        vertical-align: middle;\n",
       "    }\n",
       "\n",
       "    .dataframe tbody tr th {\n",
       "        vertical-align: top;\n",
       "    }\n",
       "\n",
       "    .dataframe thead th {\n",
       "        text-align: right;\n",
       "    }\n",
       "</style>\n",
       "<table border=\"1\" class=\"dataframe\">\n",
       "  <thead>\n",
       "    <tr style=\"text-align: right;\">\n",
       "      <th></th>\n",
       "      <th>wd_url</th>\n",
       "      <th>wd_entity_id</th>\n",
       "      <th>wd_label</th>\n",
       "      <th>wd_description</th>\n",
       "      <th>wd_redirect</th>\n",
       "    </tr>\n",
       "    <tr>\n",
       "      <th>node_id</th>\n",
       "      <th></th>\n",
       "      <th></th>\n",
       "      <th></th>\n",
       "      <th></th>\n",
       "      <th></th>\n",
       "    </tr>\n",
       "  </thead>\n",
       "  <tbody>\n",
       "    <tr>\n",
       "      <th>1584027</th>\n",
       "      <td>https://www.wikidata.org/wiki/Special:EntityDa...</td>\n",
       "      <td>Q1584027</td>\n",
       "      <td>Monika Krüger</td>\n",
       "      <td>German veterinarian</td>\n",
       "      <td>NaN</td>\n",
       "    </tr>\n",
       "    <tr>\n",
       "      <th>3741108</th>\n",
       "      <td>https://www.wikidata.org/wiki/Special:EntityDa...</td>\n",
       "      <td>Q3741108</td>\n",
       "      <td>Rimi Baltic</td>\n",
       "      <td>company based in Riga, Latvia</td>\n",
       "      <td>NaN</td>\n",
       "    </tr>\n",
       "    <tr>\n",
       "      <th>7916262</th>\n",
       "      <td>https://www.wikidata.org/wiki/Special:EntityDa...</td>\n",
       "      <td>Q7916262</td>\n",
       "      <td>Varyl Begg</td>\n",
       "      <td>Royal Navy admiral of the fleet (1908-1995)</td>\n",
       "      <td>NaN</td>\n",
       "    </tr>\n",
       "    <tr>\n",
       "      <th>189692</th>\n",
       "      <td>https://www.wikidata.org/wiki/Special:EntityDa...</td>\n",
       "      <td>Q189692</td>\n",
       "      <td>Genk</td>\n",
       "      <td>municipality in Limburg, Belgium</td>\n",
       "      <td>NaN</td>\n",
       "    </tr>\n",
       "    <tr>\n",
       "      <th>15851383</th>\n",
       "      <td>https://www.wikidata.org/wiki/Special:EntityDa...</td>\n",
       "      <td>Q15851383</td>\n",
       "      <td>EU Transparency Register</td>\n",
       "      <td>Q15851383</td>\n",
       "      <td>NaN</td>\n",
       "    </tr>\n",
       "  </tbody>\n",
       "</table>\n",
       "</div>"
      ],
      "text/plain": [
       "                                                     wd_url wd_entity_id  \\\n",
       "node_id                                                                    \n",
       "1584027   https://www.wikidata.org/wiki/Special:EntityDa...     Q1584027   \n",
       "3741108   https://www.wikidata.org/wiki/Special:EntityDa...     Q3741108   \n",
       "7916262   https://www.wikidata.org/wiki/Special:EntityDa...     Q7916262   \n",
       "189692    https://www.wikidata.org/wiki/Special:EntityDa...      Q189692   \n",
       "15851383  https://www.wikidata.org/wiki/Special:EntityDa...    Q15851383   \n",
       "\n",
       "                          wd_label  \\\n",
       "node_id                              \n",
       "1584027              Monika Krüger   \n",
       "3741108                Rimi Baltic   \n",
       "7916262                 Varyl Begg   \n",
       "189692                        Genk   \n",
       "15851383  EU Transparency Register   \n",
       "\n",
       "                                       wd_description wd_redirect  \n",
       "node_id                                                            \n",
       "1584027                           German veterinarian         NaN  \n",
       "3741108                 company based in Riga, Latvia         NaN  \n",
       "7916262   Royal Navy admiral of the fleet (1908-1995)         NaN  \n",
       "189692               municipality in Limburg, Belgium         NaN  \n",
       "15851383                                    Q15851383         NaN  "
      ]
     },
     "execution_count": 4,
     "metadata": {},
     "output_type": "execute_result"
    }
   ],
   "source": [
    "df_nodes_entities = pd.read_json(f\"{_dd}/4_wd-catalog.jsonl\", lines=True)\n",
    "df_nodes_entities[\"node_id\"] = df_nodes_entities[\"wd_entity_id\"].str.lstrip(\"Q\").astype(int)\n",
    "df_nodes_entities.set_index(\"node_id\", inplace=True)\n",
    "df_nodes_entities.sample(5)"
   ]
  },
  {
   "cell_type": "markdown",
   "id": "b57b73e6",
   "metadata": {},
   "source": [
    "Wir errechnen die Kanten aus `2_processed.parquet`. Wenn zwei Entitäten in einem Artikel vorkommen, wird eine Kante zwischen ihnen gezogen. Die Kanten werden gewichtet, indem die Anzahl der gemeinsamen Artikel als Gewicht verwendet wird. Dabei sind zwei Aspekte zu beachten:\n",
    "\n",
    "- Wenn die Liste sowohl das Knotenpaar (159, 212) als auch (212, 159) enthalten kann, ist sie implizit gerichtet. Das wollen wir vermeiden, also sortieren wir die Knotenliste pro Artikel, bevor wir Knotenpaare bilden, so dass $ u \\le v $.\n",
    "- Die Liste wird viele parallele Kanten zwischen denselben Knoten enthalten, die in einem späteren Schritt gegebenenfalls aggregiert werden müssen"
   ]
  },
  {
   "cell_type": "code",
   "execution_count": 5,
   "id": "1a44063a",
   "metadata": {},
   "outputs": [
    {
     "name": "stderr",
     "output_type": "stream",
     "text": [
      "100%|██████████| 24918/24918 [00:05<00:00, 4813.63it/s]\n"
     ]
    }
   ],
   "source": [
    "from itertools import combinations\n",
    "\n",
    "df_mentions = pd.read_parquet(f\"{_dd}/2_processed.parquet\")\n",
    "df_mentions.dropna(inplace=True)\n",
    "df_mentions = df_mentions[df_mentions[\"score\"] >= 0.1]\n",
    "df_mentions[\"node_id\"] = df_mentions[\"wd_id\"].str.lstrip(\"Q\").astype(int)\n",
    "\n",
    "df_edges = pd.DataFrame(columns=[\"node1\", \"node2\", \"weight\"])\n",
    "\n",
    "url_mentions = []\n",
    "for url, df in tqdm(df_mentions.groupby(\"url\")):\n",
    "    url_mentions.extend([\n",
    "        {\"u\": node1, \"v\": node2, \"weight\": 1}\n",
    "        for node1, node2 in combinations(np.sort(df[\"node_id\"].unique().astype(int)), 2)\n",
    "    ])\n",
    "\n",
    "df_edges_entities = pd.DataFrame(url_mentions)"
   ]
  },
  {
   "cell_type": "markdown",
   "id": "6508f1cd",
   "metadata": {},
   "source": [
    "Zur Behandlung des zweiten Aspekts aggregieren wir parallele Kanten und ermitteln ein Gewicht, das die Anzahl der gemeinsamen Artikel berücksichtigt:"
   ]
  },
  {
   "cell_type": "code",
   "execution_count": 6,
   "id": "538f2a47",
   "metadata": {},
   "outputs": [],
   "source": [
    "df_aggregated_edges_entities = df_edges_entities.groupby([\"u\", \"v\"]).sum().reset_index()"
   ]
  },
  {
   "cell_type": "code",
   "execution_count": 8,
   "id": "581c5c06",
   "metadata": {},
   "outputs": [
    {
     "name": "stdout",
     "output_type": "stream",
     "text": [
      "df_nodes_entities.shape=(50340, 5) df_edges_entities.shape=(7717210, 3) df_aggregated_edges_entities.shape=(3305861, 3)\n"
     ]
    }
   ],
   "source": [
    "print(f\"{df_nodes_entities.shape=} {df_edges_entities.shape=} {df_aggregated_edges_entities.shape=}\")"
   ]
  },
  {
   "cell_type": "code",
   "execution_count": 8,
   "id": "eea2ea80",
   "metadata": {},
   "outputs": [
    {
     "data": {
      "text/html": [
       "<div>\n",
       "<style scoped>\n",
       "    .dataframe tbody tr th:only-of-type {\n",
       "        vertical-align: middle;\n",
       "    }\n",
       "\n",
       "    .dataframe tbody tr th {\n",
       "        vertical-align: top;\n",
       "    }\n",
       "\n",
       "    .dataframe thead th {\n",
       "        text-align: right;\n",
       "    }\n",
       "</style>\n",
       "<table border=\"1\" class=\"dataframe\">\n",
       "  <thead>\n",
       "    <tr style=\"text-align: right;\">\n",
       "      <th></th>\n",
       "      <th>wd_url</th>\n",
       "      <th>wd_entity_id</th>\n",
       "      <th>wd_label</th>\n",
       "      <th>wd_description</th>\n",
       "      <th>wd_redirect</th>\n",
       "    </tr>\n",
       "    <tr>\n",
       "      <th>node_id</th>\n",
       "      <th></th>\n",
       "      <th></th>\n",
       "      <th></th>\n",
       "      <th></th>\n",
       "      <th></th>\n",
       "    </tr>\n",
       "  </thead>\n",
       "  <tbody>\n",
       "    <tr>\n",
       "      <th>649416</th>\n",
       "      <td>https://www.wikidata.org/wiki/Special:EntityDa...</td>\n",
       "      <td>Q649416</td>\n",
       "      <td>bomb disposal</td>\n",
       "      <td>activity to dispose of and render safe explosi...</td>\n",
       "      <td>NaN</td>\n",
       "    </tr>\n",
       "    <tr>\n",
       "      <th>20850888</th>\n",
       "      <td>https://www.wikidata.org/wiki/Special:EntityDa...</td>\n",
       "      <td>Q20850888</td>\n",
       "      <td>Q20850888</td>\n",
       "      <td>Q20850888</td>\n",
       "      <td>NaN</td>\n",
       "    </tr>\n",
       "    <tr>\n",
       "      <th>555622</th>\n",
       "      <td>https://www.wikidata.org/wiki/Special:EntityDa...</td>\n",
       "      <td>Q555622</td>\n",
       "      <td>Eschede</td>\n",
       "      <td>municipality of Germany</td>\n",
       "      <td>NaN</td>\n",
       "    </tr>\n",
       "    <tr>\n",
       "      <th>87194236</th>\n",
       "      <td>https://www.wikidata.org/wiki/Special:EntityDa...</td>\n",
       "      <td>Q87194236</td>\n",
       "      <td>Susanne Johna</td>\n",
       "      <td>German physician</td>\n",
       "      <td>NaN</td>\n",
       "    </tr>\n",
       "    <tr>\n",
       "      <th>108756275</th>\n",
       "      <td>https://www.wikidata.org/wiki/Special:EntityDa...</td>\n",
       "      <td>Q108756275</td>\n",
       "      <td>Philipp Hartewig</td>\n",
       "      <td>german politician</td>\n",
       "      <td>NaN</td>\n",
       "    </tr>\n",
       "  </tbody>\n",
       "</table>\n",
       "</div>"
      ],
      "text/plain": [
       "                                                      wd_url wd_entity_id  \\\n",
       "node_id                                                                     \n",
       "649416     https://www.wikidata.org/wiki/Special:EntityDa...      Q649416   \n",
       "20850888   https://www.wikidata.org/wiki/Special:EntityDa...    Q20850888   \n",
       "555622     https://www.wikidata.org/wiki/Special:EntityDa...      Q555622   \n",
       "87194236   https://www.wikidata.org/wiki/Special:EntityDa...    Q87194236   \n",
       "108756275  https://www.wikidata.org/wiki/Special:EntityDa...   Q108756275   \n",
       "\n",
       "                   wd_label  \\\n",
       "node_id                       \n",
       "649416        bomb disposal   \n",
       "20850888          Q20850888   \n",
       "555622              Eschede   \n",
       "87194236      Susanne Johna   \n",
       "108756275  Philipp Hartewig   \n",
       "\n",
       "                                              wd_description wd_redirect  \n",
       "node_id                                                                   \n",
       "649416     activity to dispose of and render safe explosi...         NaN  \n",
       "20850888                                           Q20850888         NaN  \n",
       "555622                               municipality of Germany         NaN  \n",
       "87194236                                    German physician         NaN  \n",
       "108756275                                  german politician         NaN  "
      ]
     },
     "execution_count": 8,
     "metadata": {},
     "output_type": "execute_result"
    }
   ],
   "source": [
    "df_nodes_entities.sample(5)"
   ]
  },
  {
   "cell_type": "code",
   "execution_count": 9,
   "id": "ffeebd03",
   "metadata": {},
   "outputs": [
    {
     "data": {
      "text/html": [
       "<div>\n",
       "<style scoped>\n",
       "    .dataframe tbody tr th:only-of-type {\n",
       "        vertical-align: middle;\n",
       "    }\n",
       "\n",
       "    .dataframe tbody tr th {\n",
       "        vertical-align: top;\n",
       "    }\n",
       "\n",
       "    .dataframe thead th {\n",
       "        text-align: right;\n",
       "    }\n",
       "</style>\n",
       "<table border=\"1\" class=\"dataframe\">\n",
       "  <thead>\n",
       "    <tr style=\"text-align: right;\">\n",
       "      <th></th>\n",
       "      <th>u</th>\n",
       "      <th>v</th>\n",
       "      <th>weight</th>\n",
       "    </tr>\n",
       "  </thead>\n",
       "  <tbody>\n",
       "    <tr>\n",
       "      <th>158836</th>\n",
       "      <td>46</td>\n",
       "      <td>183</td>\n",
       "      <td>3536</td>\n",
       "    </tr>\n",
       "    <tr>\n",
       "      <th>319344</th>\n",
       "      <td>159</td>\n",
       "      <td>212</td>\n",
       "      <td>3164</td>\n",
       "    </tr>\n",
       "    <tr>\n",
       "      <th>343138</th>\n",
       "      <td>183</td>\n",
       "      <td>458</td>\n",
       "      <td>3150</td>\n",
       "    </tr>\n",
       "    <tr>\n",
       "      <th>158946</th>\n",
       "      <td>46</td>\n",
       "      <td>458</td>\n",
       "      <td>2819</td>\n",
       "    </tr>\n",
       "    <tr>\n",
       "      <th>319333</th>\n",
       "      <td>159</td>\n",
       "      <td>183</td>\n",
       "      <td>2664</td>\n",
       "    </tr>\n",
       "  </tbody>\n",
       "</table>\n",
       "</div>"
      ],
      "text/plain": [
       "          u    v  weight\n",
       "158836   46  183    3536\n",
       "319344  159  212    3164\n",
       "343138  183  458    3150\n",
       "158946   46  458    2819\n",
       "319333  159  183    2664"
      ]
     },
     "execution_count": 9,
     "metadata": {},
     "output_type": "execute_result"
    }
   ],
   "source": [
    "df_aggregated_edges_entities.sort_values(by=\"weight\", ascending=False).head(5)"
   ]
  },
  {
   "cell_type": "markdown",
   "id": "ab66b47f",
   "metadata": {},
   "source": [
    "## Graph aufbauen\n",
    "\n",
    "### Mit @sw-NetworkX\n",
    "\n",
    "#### Aggregierte Kanten"
   ]
  },
  {
   "cell_type": "code",
   "execution_count": 70,
   "id": "86969d41",
   "metadata": {},
   "outputs": [
    {
     "name": "stderr",
     "output_type": "stream",
     "text": [
      "50340it [00:00, 338293.14it/s]\n",
      "3305861it [00:19, 167723.95it/s]\n"
     ]
    }
   ],
   "source": [
    "nxga = nx.Graph()\n",
    "\n",
    "for row in tqdm(df_nodes_entities.reset_index().itertuples()):\n",
    "    nxga.add_node(row.node_id, name=row.wd_label, label=row.wd_label, description=row.wd_description, url=row.wd_url, entity_id=row.wd_entity_id)\n",
    "\n",
    "for row in tqdm(df_aggregated_edges_entities.itertuples()):\n",
    "    nxga.add_edge(row.u, row.v, weight=row.weight)\n",
    "\n",
    "nx.write_gml(nxga, f\"{_dd}/5_graph_aggregated.gml\")"
   ]
  },
  {
   "cell_type": "markdown",
   "id": "76af2fcd",
   "metadata": {},
   "source": [
    "#### Nicht aggregierte Kantern"
   ]
  },
  {
   "cell_type": "code",
   "execution_count": 7,
   "id": "17dc15d4",
   "metadata": {},
   "outputs": [
    {
     "name": "stderr",
     "output_type": "stream",
     "text": [
      "50340it [00:00, 271375.85it/s]\n",
      "7717210it [00:23, 334364.77it/s]\n"
     ]
    }
   ],
   "source": [
    "# del(nxgu)\n",
    "nxgu = nx.Graph()\n",
    "\n",
    "for row in tqdm(df_nodes_entities.reset_index().itertuples()):\n",
    "    nxgu.add_node(row.node_id, name=row.wd_label, label=row.wd_label, description=row.wd_description, url=row.wd_url, entity_id=row.wd_entity_id)\n",
    "\n",
    "for row in tqdm(df_edges_entities.itertuples()):\n",
    "    nxgu.add_edge(row.u, row.v, weight=row.weight)\n",
    "\n",
    "# nx.write_gml(nxgu, f\"{_dd}/5_graph_not_aggregated.gml\")"
   ]
  },
  {
   "cell_type": "markdown",
   "id": "a370b8c8",
   "metadata": {},
   "source": [
    "### Visualisierung"
   ]
  },
  {
   "cell_type": "code",
   "execution_count": 29,
   "id": "64be256f",
   "metadata": {},
   "outputs": [
    {
     "ename": "",
     "evalue": "",
     "output_type": "error",
     "traceback": [
      "\u001b[1;31mCannot execute code, session has been disposed. Please try restarting the Kernel."
     ]
    },
    {
     "ename": "",
     "evalue": "",
     "output_type": "error",
     "traceback": [
      "\u001b[1;31mThe Kernel crashed while executing code in the the current cell or a previous cell. Please review the code in the cell(s) to identify a possible cause of the failure. Click <a href='https://aka.ms/vscodeJupyterKernelCrash'>here</a> for more info. View Jupyter <a href='command:jupyter.viewOutput'>log</a> for further details."
     ]
    }
   ],
   "source": [
    "import altair as alt\n",
    "import matplotlib.pyplot as plt\n",
    "\n",
    "plt.hist(nx.degree_histogram(nxgu))\n",
    "plt.show()\n",
    "\n",
    "# degree_sequence = sorted((d for n, d in nxgu.degree()), reverse=True)\n",
    "# degree_histogram = nx.degree_histogram(nxgu)\n",
    "# degree_df = pd.DataFrame(degree_histogram, columns=[\"count\"])\n",
    "# degree_df = pd.cut(degree_df.index, bins=range(1, max(degree_histogram)-5, 5), right=False)\n",
    "\n",
    "# alt.Chart(degree_df).mark_bar().encode(\n",
    "#     alt.X(\"IMDB_Rating:Q\", bin=True),\n",
    "#     y='count()',\n",
    "# )\n"
   ]
  },
  {
   "cell_type": "code",
   "execution_count": 3,
   "id": "55b6d7c1",
   "metadata": {},
   "outputs": [
    {
     "ename": "KeyboardInterrupt",
     "evalue": "",
     "output_type": "error",
     "traceback": [
      "\u001b[1;31m---------------------------------------------------------------------------\u001b[0m",
      "\u001b[1;31mKeyboardInterrupt\u001b[0m                         Traceback (most recent call last)",
      "Cell \u001b[1;32mIn[3], line 1\u001b[0m\n\u001b[1;32m----> 1\u001b[0m nxga \u001b[39m=\u001b[39m nx\u001b[39m.\u001b[39;49mread_gml(\u001b[39mf\u001b[39;49m\u001b[39m\"\u001b[39;49m\u001b[39m{\u001b[39;49;00m_dd\u001b[39m}\u001b[39;49;00m\u001b[39m/5_graph_aggregated.gml\u001b[39;49m\u001b[39m\"\u001b[39;49m)\n",
      "File \u001b[1;32mc:\\Users\\p\\miniconda3\\envs\\mbb-asud-proto-tagesschau\\Lib\\site-packages\\networkx\\utils\\decorators.py:766\u001b[0m, in \u001b[0;36margmap.__call__.<locals>.func\u001b[1;34m(_argmap__wrapper, *args, **kwargs)\u001b[0m\n\u001b[0;32m    765\u001b[0m \u001b[39mdef\u001b[39;00m \u001b[39mfunc\u001b[39m(\u001b[39m*\u001b[39margs, __wrapper\u001b[39m=\u001b[39m\u001b[39mNone\u001b[39;00m, \u001b[39m*\u001b[39m\u001b[39m*\u001b[39mkwargs):\n\u001b[1;32m--> 766\u001b[0m     \u001b[39mreturn\u001b[39;00m argmap\u001b[39m.\u001b[39;49m_lazy_compile(__wrapper)(\u001b[39m*\u001b[39;49margs, \u001b[39m*\u001b[39;49m\u001b[39m*\u001b[39;49mkwargs)\n",
      "File \u001b[1;32m<class 'networkx.utils.decorators.argmap'> compilation 5:5\u001b[0m, in \u001b[0;36margmap_read_gml_1\u001b[1;34m(path, label, destringizer)\u001b[0m\n\u001b[0;32m      3\u001b[0m \u001b[39mimport\u001b[39;00m \u001b[39mgzip\u001b[39;00m\n\u001b[0;32m      4\u001b[0m \u001b[39mimport\u001b[39;00m \u001b[39minspect\u001b[39;00m\n\u001b[1;32m----> 5\u001b[0m \u001b[39mimport\u001b[39;00m \u001b[39mitertools\u001b[39;00m\n\u001b[0;32m      6\u001b[0m \u001b[39mimport\u001b[39;00m \u001b[39mre\u001b[39;00m\n\u001b[0;32m      7\u001b[0m \u001b[39mfrom\u001b[39;00m \u001b[39mcollections\u001b[39;00m \u001b[39mimport\u001b[39;00m defaultdict\n",
      "File \u001b[1;32mc:\\Users\\p\\miniconda3\\envs\\mbb-asud-proto-tagesschau\\Lib\\site-packages\\networkx\\readwrite\\gml.py:195\u001b[0m, in \u001b[0;36mread_gml\u001b[1;34m(path, label, destringizer)\u001b[0m\n\u001b[0;32m    192\u001b[0m             line \u001b[39m=\u001b[39m line[:\u001b[39m-\u001b[39m\u001b[39m1\u001b[39m]\n\u001b[0;32m    193\u001b[0m         \u001b[39myield\u001b[39;00m line\n\u001b[1;32m--> 195\u001b[0m G \u001b[39m=\u001b[39m parse_gml_lines(filter_lines(path), label, destringizer)\n\u001b[0;32m    196\u001b[0m \u001b[39mreturn\u001b[39;00m G\n",
      "File \u001b[1;32mc:\\Users\\p\\miniconda3\\envs\\mbb-asud-proto-tagesschau\\Lib\\site-packages\\networkx\\readwrite\\gml.py:438\u001b[0m, in \u001b[0;36mparse_gml_lines\u001b[1;34m(lines, label, destringizer)\u001b[0m\n\u001b[0;32m    435\u001b[0m     \u001b[39mreturn\u001b[39;00m graph\n\u001b[0;32m    437\u001b[0m tokens \u001b[39m=\u001b[39m tokenize()\n\u001b[1;32m--> 438\u001b[0m graph \u001b[39m=\u001b[39m parse_graph()\n\u001b[0;32m    440\u001b[0m directed \u001b[39m=\u001b[39m graph\u001b[39m.\u001b[39mpop(\u001b[39m\"\u001b[39m\u001b[39mdirected\u001b[39m\u001b[39m\"\u001b[39m, \u001b[39mFalse\u001b[39;00m)\n\u001b[0;32m    441\u001b[0m multigraph \u001b[39m=\u001b[39m graph\u001b[39m.\u001b[39mpop(\u001b[39m\"\u001b[39m\u001b[39mmultigraph\u001b[39m\u001b[39m\"\u001b[39m, \u001b[39mFalse\u001b[39;00m)\n",
      "File \u001b[1;32mc:\\Users\\p\\miniconda3\\envs\\mbb-asud-proto-tagesschau\\Lib\\site-packages\\networkx\\readwrite\\gml.py:427\u001b[0m, in \u001b[0;36mparse_gml_lines.<locals>.parse_graph\u001b[1;34m()\u001b[0m\n\u001b[0;32m    426\u001b[0m \u001b[39mdef\u001b[39;00m \u001b[39mparse_graph\u001b[39m():\n\u001b[1;32m--> 427\u001b[0m     curr_token, dct \u001b[39m=\u001b[39m parse_kv(\u001b[39mnext\u001b[39;49m(tokens))\n\u001b[0;32m    428\u001b[0m     \u001b[39mif\u001b[39;00m curr_token\u001b[39m.\u001b[39mcategory \u001b[39mis\u001b[39;00m \u001b[39mnot\u001b[39;00m \u001b[39mNone\u001b[39;00m:  \u001b[39m# EOF\u001b[39;00m\n\u001b[0;32m    429\u001b[0m         unexpected(curr_token, \u001b[39m\"\u001b[39m\u001b[39mEOF\u001b[39m\u001b[39m\"\u001b[39m)\n",
      "File \u001b[1;32mc:\\Users\\p\\miniconda3\\envs\\mbb-asud-proto-tagesschau\\Lib\\site-packages\\networkx\\readwrite\\gml.py:373\u001b[0m, in \u001b[0;36mparse_gml_lines.<locals>.parse_kv\u001b[1;34m(curr_token)\u001b[0m\n\u001b[0;32m    371\u001b[0m     curr_token \u001b[39m=\u001b[39m \u001b[39mnext\u001b[39m(tokens)\n\u001b[0;32m    372\u001b[0m \u001b[39melif\u001b[39;00m category \u001b[39m==\u001b[39m Pattern\u001b[39m.\u001b[39mDICT_START:\n\u001b[1;32m--> 373\u001b[0m     curr_token, value \u001b[39m=\u001b[39m parse_dict(curr_token)\n\u001b[0;32m    374\u001b[0m \u001b[39melse\u001b[39;00m:\n\u001b[0;32m    375\u001b[0m     \u001b[39m# Allow for string convertible id and label values\u001b[39;00m\n\u001b[0;32m    376\u001b[0m     \u001b[39mif\u001b[39;00m key \u001b[39min\u001b[39;00m (\u001b[39m\"\u001b[39m\u001b[39mid\u001b[39m\u001b[39m\"\u001b[39m, \u001b[39m\"\u001b[39m\u001b[39mlabel\u001b[39m\u001b[39m\"\u001b[39m, \u001b[39m\"\u001b[39m\u001b[39msource\u001b[39m\u001b[39m\"\u001b[39m, \u001b[39m\"\u001b[39m\u001b[39mtarget\u001b[39m\u001b[39m\"\u001b[39m):\n",
      "File \u001b[1;32mc:\\Users\\p\\miniconda3\\envs\\mbb-asud-proto-tagesschau\\Lib\\site-packages\\networkx\\readwrite\\gml.py:421\u001b[0m, in \u001b[0;36mparse_gml_lines.<locals>.parse_dict\u001b[1;34m(curr_token)\u001b[0m\n\u001b[0;32m    419\u001b[0m curr_token \u001b[39m=\u001b[39m consume(curr_token, Pattern\u001b[39m.\u001b[39mDICT_START, \u001b[39m\"\u001b[39m\u001b[39m'\u001b[39m\u001b[39m[\u001b[39m\u001b[39m'\u001b[39m\u001b[39m\"\u001b[39m)\n\u001b[0;32m    420\u001b[0m \u001b[39m# dict contents\u001b[39;00m\n\u001b[1;32m--> 421\u001b[0m curr_token, dct \u001b[39m=\u001b[39m parse_kv(curr_token)\n\u001b[0;32m    422\u001b[0m \u001b[39m# dict end\u001b[39;00m\n\u001b[0;32m    423\u001b[0m curr_token \u001b[39m=\u001b[39m consume(curr_token, Pattern\u001b[39m.\u001b[39mDICT_END, \u001b[39m\"\u001b[39m\u001b[39m'\u001b[39m\u001b[39m]\u001b[39m\u001b[39m'\u001b[39m\u001b[39m\"\u001b[39m)\n",
      "File \u001b[1;32mc:\\Users\\p\\miniconda3\\envs\\mbb-asud-proto-tagesschau\\Lib\\site-packages\\networkx\\readwrite\\gml.py:373\u001b[0m, in \u001b[0;36mparse_gml_lines.<locals>.parse_kv\u001b[1;34m(curr_token)\u001b[0m\n\u001b[0;32m    371\u001b[0m     curr_token \u001b[39m=\u001b[39m \u001b[39mnext\u001b[39m(tokens)\n\u001b[0;32m    372\u001b[0m \u001b[39melif\u001b[39;00m category \u001b[39m==\u001b[39m Pattern\u001b[39m.\u001b[39mDICT_START:\n\u001b[1;32m--> 373\u001b[0m     curr_token, value \u001b[39m=\u001b[39m parse_dict(curr_token)\n\u001b[0;32m    374\u001b[0m \u001b[39melse\u001b[39;00m:\n\u001b[0;32m    375\u001b[0m     \u001b[39m# Allow for string convertible id and label values\u001b[39;00m\n\u001b[0;32m    376\u001b[0m     \u001b[39mif\u001b[39;00m key \u001b[39min\u001b[39;00m (\u001b[39m\"\u001b[39m\u001b[39mid\u001b[39m\u001b[39m\"\u001b[39m, \u001b[39m\"\u001b[39m\u001b[39mlabel\u001b[39m\u001b[39m\"\u001b[39m, \u001b[39m\"\u001b[39m\u001b[39msource\u001b[39m\u001b[39m\"\u001b[39m, \u001b[39m\"\u001b[39m\u001b[39mtarget\u001b[39m\u001b[39m\"\u001b[39m):\n",
      "File \u001b[1;32mc:\\Users\\p\\miniconda3\\envs\\mbb-asud-proto-tagesschau\\Lib\\site-packages\\networkx\\readwrite\\gml.py:421\u001b[0m, in \u001b[0;36mparse_gml_lines.<locals>.parse_dict\u001b[1;34m(curr_token)\u001b[0m\n\u001b[0;32m    419\u001b[0m curr_token \u001b[39m=\u001b[39m consume(curr_token, Pattern\u001b[39m.\u001b[39mDICT_START, \u001b[39m\"\u001b[39m\u001b[39m'\u001b[39m\u001b[39m[\u001b[39m\u001b[39m'\u001b[39m\u001b[39m\"\u001b[39m)\n\u001b[0;32m    420\u001b[0m \u001b[39m# dict contents\u001b[39;00m\n\u001b[1;32m--> 421\u001b[0m curr_token, dct \u001b[39m=\u001b[39m parse_kv(curr_token)\n\u001b[0;32m    422\u001b[0m \u001b[39m# dict end\u001b[39;00m\n\u001b[0;32m    423\u001b[0m curr_token \u001b[39m=\u001b[39m consume(curr_token, Pattern\u001b[39m.\u001b[39mDICT_END, \u001b[39m\"\u001b[39m\u001b[39m'\u001b[39m\u001b[39m]\u001b[39m\u001b[39m'\u001b[39m\u001b[39m\"\u001b[39m)\n",
      "File \u001b[1;32mc:\\Users\\p\\miniconda3\\envs\\mbb-asud-proto-tagesschau\\Lib\\site-packages\\networkx\\readwrite\\gml.py:358\u001b[0m, in \u001b[0;36mparse_gml_lines.<locals>.parse_kv\u001b[1;34m(curr_token)\u001b[0m\n\u001b[0;32m    356\u001b[0m \u001b[39mif\u001b[39;00m category \u001b[39m==\u001b[39m Pattern\u001b[39m.\u001b[39mREALS \u001b[39mor\u001b[39;00m category \u001b[39m==\u001b[39m Pattern\u001b[39m.\u001b[39mINTS:\n\u001b[0;32m    357\u001b[0m     value \u001b[39m=\u001b[39m curr_token\u001b[39m.\u001b[39mvalue\n\u001b[1;32m--> 358\u001b[0m     curr_token \u001b[39m=\u001b[39m \u001b[39mnext\u001b[39m(tokens)\n\u001b[0;32m    359\u001b[0m \u001b[39melif\u001b[39;00m category \u001b[39m==\u001b[39m Pattern\u001b[39m.\u001b[39mSTRINGS:\n\u001b[0;32m    360\u001b[0m     value \u001b[39m=\u001b[39m unescape(curr_token\u001b[39m.\u001b[39mvalue[\u001b[39m1\u001b[39m:\u001b[39m-\u001b[39m\u001b[39m1\u001b[39m])\n",
      "File \u001b[1;32mc:\\Users\\p\\miniconda3\\envs\\mbb-asud-proto-tagesschau\\Lib\\site-packages\\networkx\\readwrite\\gml.py:314\u001b[0m, in \u001b[0;36mparse_gml_lines.<locals>.tokenize\u001b[1;34m()\u001b[0m\n\u001b[0;32m    312\u001b[0m tokens \u001b[39m=\u001b[39m re\u001b[39m.\u001b[39mcompile(\u001b[39m\"\u001b[39m\u001b[39m|\u001b[39m\u001b[39m\"\u001b[39m\u001b[39m.\u001b[39mjoin(\u001b[39mf\u001b[39m\u001b[39m\"\u001b[39m\u001b[39m(\u001b[39m\u001b[39m{\u001b[39;00mpattern\u001b[39m}\u001b[39;00m\u001b[39m)\u001b[39m\u001b[39m\"\u001b[39m \u001b[39mfor\u001b[39;00m pattern \u001b[39min\u001b[39;00m patterns))\n\u001b[0;32m    313\u001b[0m lineno \u001b[39m=\u001b[39m \u001b[39m0\u001b[39m\n\u001b[1;32m--> 314\u001b[0m \u001b[39mfor\u001b[39;00m line \u001b[39min\u001b[39;00m lines:\n\u001b[0;32m    315\u001b[0m     length \u001b[39m=\u001b[39m \u001b[39mlen\u001b[39m(line)\n\u001b[0;32m    316\u001b[0m     pos \u001b[39m=\u001b[39m \u001b[39m0\u001b[39m\n",
      "File \u001b[1;32mc:\\Users\\p\\miniconda3\\envs\\mbb-asud-proto-tagesschau\\Lib\\site-packages\\networkx\\readwrite\\gml.py:186\u001b[0m, in \u001b[0;36mread_gml.<locals>.filter_lines\u001b[1;34m(lines)\u001b[0m\n\u001b[0;32m    184\u001b[0m \u001b[39mfor\u001b[39;00m line \u001b[39min\u001b[39;00m lines:\n\u001b[0;32m    185\u001b[0m     \u001b[39mtry\u001b[39;00m:\n\u001b[1;32m--> 186\u001b[0m         line \u001b[39m=\u001b[39m line\u001b[39m.\u001b[39mdecode(\u001b[39m\"\u001b[39m\u001b[39mascii\u001b[39m\u001b[39m\"\u001b[39m)\n\u001b[0;32m    187\u001b[0m     \u001b[39mexcept\u001b[39;00m \u001b[39mUnicodeDecodeError\u001b[39;00m \u001b[39mas\u001b[39;00m err:\n\u001b[0;32m    188\u001b[0m         \u001b[39mraise\u001b[39;00m NetworkXError(\u001b[39m\"\u001b[39m\u001b[39minput is not ASCII-encoded\u001b[39m\u001b[39m\"\u001b[39m) \u001b[39mfrom\u001b[39;00m \u001b[39merr\u001b[39;00m\n",
      "\u001b[1;31mKeyboardInterrupt\u001b[0m: "
     ]
    }
   ],
   "source": [
    "nxga = nx.read_gml(f\"{_dd}/5_graph_aggregated.gml\")"
   ]
  },
  {
   "cell_type": "code",
   "execution_count": 11,
   "id": "19611841",
   "metadata": {},
   "outputs": [
    {
     "data": {
      "text/plain": [
       "{'Q43': 0.05218088650833873,\n",
       " 'Q228389': 0.0073344977183745705,\n",
       " 'Q2124692': 0.0009897912688900119,\n",
       " 'Q153770': 0.013742753771129093,\n",
       " 'Q3640': 0.03252746762468419,\n",
       " 'Q918': 0.0554062578167746,\n",
       " 'Q1385730': 0.00023803062691614847,\n",
       " 'Q261543': 0.01204187494027784,\n",
       " 'Q677466': 0.03101693804634078,\n",
       " 'Q1140115': 0.03035563422876894,\n",
       " 'Q256': 0.018530871471240627,\n",
       " 'Q1432594': 0.0001488813332540527,\n",
       " 'Q29': 0.045004948845915986,\n",
       " 'Q7781': 0.008188654209473461,\n",
       " 'Q5831': 0.001687978383523578,\n",
       " 'Q5756': 0.006526674446504163,\n",
       " 'Q81949': 0.0003093599303131326,\n",
       " 'Q15': 0.03947359635418088,\n",
       " 'Q1028': 0.020696404391401982,\n",
       " 'Q311440': 0.03706560236266525,\n",
       " 'Q51977': 0.03127697195769522,\n",
       " 'Q8798': 0.04695560013239372,\n",
       " 'Q515': 0.051061236279913574,\n",
       " 'Q159': 0.06374764760833994,\n",
       " 'Q33280': 0.021729231777012515,\n",
       " 'Q44806': 0.05166489352486208,\n",
       " 'Q134279': 0.0397910376394532,\n",
       " 'Q3874799': 0.05415948606746713,\n",
       " 'Q1221156': 0.05931344626104993,\n",
       " 'Q936105': 0.05043660153010896,\n",
       " 'Q42308': 0.04363753829737573,\n",
       " 'Q163271': 0.028092084120886915,\n",
       " 'Q166': 0.04217666667481897,\n",
       " 'Q155868': 0.013210681222505492,\n",
       " 'Q23907747': 0.04022369753716381,\n",
       " 'Q212': 0.06338260517029495,\n",
       " 'Q251395': 0.018383328224497474,\n",
       " 'Q1899': 0.053810563855352725,\n",
       " 'Q178561': 0.01501760503896718,\n",
       " 'Q317027': 0.03063320219655623,\n",
       " 'Q178790': 0.028314309108523002,\n",
       " 'Q49768': 0.05659805845885893,\n",
       " 'Q183': 0.06933152214205522,\n",
       " 'Q35865': 0.0017371719172608279,\n",
       " 'Q90549': 0.03606913664034638,\n",
       " 'Q37470': 0.03343916062058548,\n",
       " 'Q10954043': 0.001781143752783849,\n",
       " 'Q912': 0.018246760262428385,\n",
       " 'Q56010': 0.04716858962560256,\n",
       " 'Q29520': 0.052954029213182256,\n",
       " 'Q219575': 0.008295774869502575,\n",
       " 'Q142': 0.055226118315421596,\n",
       " 'Q1065': 0.050656959639996516,\n",
       " 'Q124734': 0.014374190206954197,\n",
       " 'Q34490': 0.0060413762297411655,\n",
       " 'Q239463': 0.001580650991012874,\n",
       " 'Q49542': 0.05456558638074558,\n",
       " 'Q36597284': 0.030454212404343033,\n",
       " 'Q458': 0.06044106855704183,\n",
       " 'Q133274': 0.048686830122025994,\n",
       " 'Q34266': 0.05674272046561765,\n",
       " 'Q7747': 0.05632616674091805,\n",
       " 'Q1748': 0.01609412766777894,\n",
       " 'Q35': 0.03837824379491191,\n",
       " 'Q32794678': 0.002262731102801262,\n",
       " 'Q9035': 0.008745686607066094,\n",
       " 'Q7179312': 0.00043306539925264234,\n",
       " 'Q21201': 0.029975338098103817,\n",
       " 'Q5015': 0.016132459872575465,\n",
       " 'Q1235218': 0.00042511723381214746,\n",
       " 'Q1164334': 0.003980924314734369,\n",
       " 'Q28835': 0.0001800579146861958,\n",
       " 'Q210396': 0.0004444114488736113,\n",
       " 'Q1248784': 0.015122031300538259,\n",
       " 'Q5168452': 0.00014866259855343653,\n",
       " 'Q3626966': 0.0008665561921611427,\n",
       " 'Q2814': 0.013127192529627385,\n",
       " 'Q28793946': 0.00039878307787256413,\n",
       " 'Q19967801': 0.002972948628937977,\n",
       " 'Q953944': 0.007566039326600344,\n",
       " 'Q317521': 0.022096026194419572,\n",
       " 'Q7737': 0.048095883890011695,\n",
       " 'Q7024': 0.012588628035141785,\n",
       " 'Q39': 0.03599362743378301,\n",
       " 'Q66094865': 0.031912548161136076,\n",
       " 'Q46': 0.06471203636401009,\n",
       " 'Q193159': 0.04795477139802404,\n",
       " 'Q157142': 0.05483762187077083,\n",
       " 'Q1297': 0.006150742152467839,\n",
       " 'Q1204': 0.0045376527101495135,\n",
       " 'Q576671': 0.000504675707089505,\n",
       " 'Q35073': 0.036233950214254275,\n",
       " 'Q6279': 0.04933720325872958,\n",
       " 'Q235349': 0.011877103110312814,\n",
       " 'Q30': 0.06596519075814854,\n",
       " 'Q86591': 0.011778761019957737,\n",
       " 'Q738570': 0.017035173214059004,\n",
       " 'Q501029': 0.00036538569781452185,\n",
       " 'Q48340': 0.03299866210613019,\n",
       " 'Q1439': 0.011313888176598882,\n",
       " 'Q868860': 0.0006122190475732663,\n",
       " 'Q11268': 0.014656769703470695,\n",
       " 'Q2923426': 0.0004717573472582207,\n",
       " 'Q57401720': 0.0018484112188491707,\n",
       " 'Q61053': 0.05525468109509114,\n",
       " 'Q95988259': 0.011752121976243741,\n",
       " 'Q43287': 0.036095533010711486,\n",
       " 'Q181386': 0.035346016710948475,\n",
       " 'Q160584': 0.019109448321657403,\n",
       " 'Q186096': 0.04280485391204403,\n",
       " 'Q33581': 0.029297234556915498,\n",
       " 'Q33613': 0.029412098546852835,\n",
       " 'Q43070': 0.04665756438918052,\n",
       " 'Q117559': 0.03092195674837121,\n",
       " 'Q180089': 0.009810700995274304,\n",
       " 'Q7835': 0.044789414641109325,\n",
       " 'Q7086303': 0.016946718030605993,\n",
       " 'Q487292': 0.022985041208799496,\n",
       " 'Q16552': 0.005488080957785739,\n",
       " 'Q48525': 0.044180467156848285,\n",
       " 'Q1553390': 0.023035835413637473,\n",
       " 'Q8333': 0.015140613238115372,\n",
       " 'Q447250': 0.007110476517905318,\n",
       " 'Q451710': 0.007110476517905318,\n",
       " 'Q712': 0.004170571980989812,\n",
       " 'Q782': 0.006265747422201565,\n",
       " 'Q99': 0.016672664743383685,\n",
       " 'Q7184': 0.05262535322166797,\n",
       " 'Q16': 0.04386255650795651,\n",
       " 'Q57665': 0.04022911846542175,\n",
       " 'Q25': 0.012547696063811913,\n",
       " 'Q32': 0.028207187460363718,\n",
       " 'Q8880': 0.049399296853049404,\n",
       " 'Q13639017': 0.016383530867816895,\n",
       " 'Q284486': 0.0037267608615867524,\n",
       " 'Q1421432': 0.0037267608615867524,\n",
       " 'Q218': 0.03570470831802989,\n",
       " 'Q28': 0.041775768119127386,\n",
       " 'Q34': 0.047890305020607364,\n",
       " 'Q41': 0.03131458589220618,\n",
       " 'Q184': 0.047194053265561774,\n",
       " 'Q156724': 0.013169407003776454,\n",
       " 'Q168983': 0.01863863508594109,\n",
       " 'Q15616276': 0.05062490686346961,\n",
       " 'Q170403': 0.036847804773506396,\n",
       " 'Q101250904': 0.02575733743982572,\n",
       " 'Q1414246': 0.01825038591297803,\n",
       " 'Q11696': 0.04645556564228951,\n",
       " 'Q16730147': 0.02469984605615672,\n",
       " 'Q1764511': 0.036593327472673416,\n",
       " 'Q317768': 0.013276702096350998,\n",
       " 'Q70979': 0.015445087447366331,\n",
       " 'Q108988': 0.0037267608615867524,\n",
       " 'Q20': 0.04485159984144529,\n",
       " 'Q156644': 0.010582848234570275,\n",
       " 'Q37': 0.04200122000056524,\n",
       " 'Q11209': 0.05357261730246406,\n",
       " 'Q130879': 0.05263968518859561,\n",
       " 'Q1829': 0.027523178849866565,\n",
       " 'Q85806': 0.033590278289392116,\n",
       " 'Q317528': 0.013302939728803576,\n",
       " 'Q16335075': 0.05770490199908283,\n",
       " 'Q1539334': 0.027953188382601652,\n",
       " 'Q648666': 0.02789517686712919,\n",
       " 'Q980': 0.03847339802411826,\n",
       " 'Q362': 0.057765302053917604,\n",
       " 'Q9005': 0.04698463513182351,\n",
       " 'Q2807': 0.02715540879809835,\n",
       " 'Q4359688': 0.0444650012332775,\n",
       " 'Q22251654': 0.009298057010136439,\n",
       " 'Q16746854': 0.026191448984918417,\n",
       " 'Q649': 0.0556764519850258,\n",
       " 'Q1571844': 0.0065303838025584544,\n",
       " 'Q76342': 0.008615398747251642,\n",
       " 'Q656': 0.0301058673569293,\n",
       " 'Q64': 0.05923127467835215,\n",
       " 'Q520577': 0.017921660601556495,\n",
       " 'Q1731': 0.02079870281666977,\n",
       " 'Q27407': 0.010553852610810755,\n",
       " 'Q22058820': 0.04040186984963953,\n",
       " 'Q16959306': 0.013870282296954004,\n",
       " 'Q168247': 0.014017034570960218,\n",
       " 'Q185441': 0.04844252655093718,\n",
       " 'Q7275': 0.049651962906774906,\n",
       " 'Q8889': 0.03770410583059945,\n",
       " 'Q2518545': 0.008124103156680499,\n",
       " 'Q145': 0.06016485744815376,\n",
       " 'Q408': 0.03391003294433246,\n",
       " 'Q265920': 0.00788554031035133,\n",
       " 'Q458209': 0.00967534694997076,\n",
       " 'Q1794': 0.03203962024467306,\n",
       " 'Q35525': 0.03460362854898031,\n",
       " 'Q161885': 0.020395679819672143,\n",
       " 'Q84': 0.051095021247238526,\n",
       " 'Q1874': 0.037223529639682236,\n",
       " 'Q153562': 0.004917454018322636,\n",
       " 'Q49653': 0.03916003586021173,\n",
       " 'Q29552': 0.03515340512006477,\n",
       " 'Q17128081': 0.003726760861586752,\n",
       " 'Q865': 0.027177982960959284,\n",
       " 'Q171852': 0.01459957860254965,\n",
       " 'Q213342': 0.003726760861586752,\n",
       " 'Q19309884': 0.003726760861586752,\n",
       " 'Q137317': 0.0380570714860645,\n",
       " 'Q2866': 0.03353876413345712,\n",
       " 'Q466704': 0.01665751244957558,\n",
       " 'Q9640': 0.021048440959096314,\n",
       " 'Q11211': 0.04277972857037781,\n",
       " 'Q221986': 0.008700745296258456,\n",
       " 'Q600236': 0.018356820080119202,\n",
       " 'Q20066227': 0.013517167271918065,\n",
       " 'Q8473': 0.03876567742574047,\n",
       " 'Q1862092': 0.000503832152199002,\n",
       " 'Q488589': 0.03934406311493441,\n",
       " 'Q192350': 0.03651652975863423,\n",
       " 'Q345367': 0.027207035335498526,\n",
       " 'Q269138': 0.02435957223936165,\n",
       " 'Q109943': 0.04111271376769449,\n",
       " 'Q49766': 0.051632773008730475,\n",
       " 'Q317032': 0.0031261958250103014,\n",
       " 'Q1714519': 0.002231768942534999,\n",
       " 'Q2415901': 0.04088722104772484,\n",
       " 'Q1945081': 0.0013114492334934968,\n",
       " 'Q1663580': 0.000258263622825702,\n",
       " 'Q780442': 0.005512544677010365,\n",
       " 'Q124019': 0.0028739782851503084,\n",
       " 'Q155228': 0.02066079825118328,\n",
       " 'Q722027': 0.00246787037485677,\n",
       " 'Q201275': 0.023501361849796874,\n",
       " 'Q203453': 0.025536199721438686,\n",
       " 'Q158870': 0.03239338699262222,\n",
       " 'Q10184': 0.026381386256464728,\n",
       " 'Q4894405': 0.000258263622825702,\n",
       " 'Q3918': 0.016805646322802615,\n",
       " 'Q2434885': 0.002194771300127104,\n",
       " 'Q1605042': 0.000258263622825702,\n",
       " 'Q1078222': 0.042310307002115535,\n",
       " 'Q502940': 0.005672623848814119,\n",
       " 'Q106548': 0.011472856469763803,\n",
       " 'Q33': 0.046158050006631916,\n",
       " 'Q16986436': 0.02046727166708795,\n",
       " 'Q355': 0.04206713645844032,\n",
       " 'Q1728989': 0.009114756626490252,\n",
       " 'Q33292': 0.016406933565684973,\n",
       " 'Q1499013': 0.007686614493645324,\n",
       " 'Q192852': 0.011758796990474819,\n",
       " 'Q866': 0.025059720442401505,\n",
       " 'Q58217': 0.03834633142117909,\n",
       " 'Q19771': 0.023834154652404314,\n",
       " 'Q4648': 0.024623023372942872,\n",
       " 'Q634291': 0.03594349845910133,\n",
       " 'Q312901': 0.036759113562328256,\n",
       " 'Q1962709': 0.017735906481574856,\n",
       " 'Q23548': 0.014205521378400263,\n",
       " 'Q17501733': 0.006270740811569273,\n",
       " 'Q198': 0.044170614257972134,\n",
       " 'Q1550538': 0.007387524272664416,\n",
       " 'Q180589': 0.023963344894969086,\n",
       " 'Q564328': 0.044568682893082016,\n",
       " 'Q199569': 0.026904548135313566,\n",
       " 'Q24945893': 0.004885125080403644,\n",
       " 'Q9151911': 0.02797462404827766,\n",
       " 'Q36': 0.051149028048938235,\n",
       " 'Q2040997': 0.004885125080403644,\n",
       " 'Q236083': 0.004885125080403644,\n",
       " 'Q379271': 0.04263887364343427,\n",
       " 'Q182654': 0.01056986553412846,\n",
       " 'Q600499': 0.005024181885851201,\n",
       " 'Q40464': 0.0418293690928751,\n",
       " 'Q2907467': 0.005686050286827551,\n",
       " 'Q223799': 0.04260631501994547,\n",
       " 'Q801': 0.0324133123139694,\n",
       " 'Q35438': 0.0051191971315784675,\n",
       " 'Q3110125': 0.0059632468208976235,\n",
       " 'Q619610': 0.042711987997983744,\n",
       " 'Q162287': 0.010944548332085255,\n",
       " 'Q16150196': 0.03524842158975356,\n",
       " 'Q156752': 0.022953863192281203,\n",
       " 'Q148': 0.048382684063529635,\n",
       " 'Q701801': 0.019635176161636403,\n",
       " 'Q252': 0.02966950408090072,\n",
       " 'Q7821917': 0.036509601671577324,\n",
       " 'Q485150': 0.00740975287876304,\n",
       " 'Q494788': 0.00498654169313364,\n",
       " 'Q203493': 0.015259468090228647,\n",
       " 'Q19003460': 0.004885125080403644,\n",
       " 'Q2453169': 0.008201540120930731,\n",
       " 'Q890311': 0.00806355999921032,\n",
       " 'Q28123264': 0.004885125080403644,\n",
       " 'Q23530': 0.03208320522455487,\n",
       " 'Q9626': 0.013887358147501088,\n",
       " 'Q1223': 0.04999449510073165,\n",
       " 'Q2925780': 0.016717763451291872,\n",
       " 'Q7330070': 0.012061915357293222,\n",
       " 'Q4402403': 0.02290451146530908,\n",
       " 'Q197582': 0.007063968745549423,\n",
       " 'Q4294403': 0.01564532892787968,\n",
       " 'Q2913944': 0.006532441159527061,\n",
       " 'Q21162': 0.004885125080403644,\n",
       " 'Q690333': 0.00510878267852154,\n",
       " 'Q26087': 0.007581719312493307,\n",
       " 'Q232': 0.03208621910761977,\n",
       " 'Q200881': 0.015477667092845045,\n",
       " 'Q1053950': 0.004885125080403644,\n",
       " 'Q319642': 0.010806018225355011,\n",
       " 'Q154950': 0.01597390190189019,\n",
       " 'Q19056184': 0.00499908799941609,\n",
       " 'Q5484': 0.018317190444852197,\n",
       " 'Q227': 0.024036698090304016,\n",
       " 'Q236036': 0.02112072488522612,\n",
       " 'Q429842': 0.004885125080403644,\n",
       " 'Q81068910': 0.04432699588868118,\n",
       " 'Q394067': 0.029442236256787085,\n",
       " 'Q1083648': 0.034485354943327724,\n",
       " 'Q628198': 0.02788824663923461,\n",
       " 'Q1279538': 0.015558047381807286,\n",
       " 'Q154797': 0.049352757151429755,\n",
       " 'Q2012050': 0.03012593545231357,\n",
       " 'Q706857': 0.04465137036413853,\n",
       " 'Q18243880': 0.027772091846313064,\n",
       " 'Q249206': 0.02011026449998896,\n",
       " 'Q789915': 0.033758185493023604,\n",
       " 'Q1499182': 0.014971733936871056,\n",
       " 'Q8901': 0.0245650152492172,\n",
       " 'Q294460': 0.020952209706013254,\n",
       " 'Q50001': 0.01272625326143612,\n",
       " 'Q4916': 0.026614428125628198,\n",
       " 'Q664': 0.02059001970723443,\n",
       " 'Q3606816': 0.008707113944070253,\n",
       " 'Q3130': 0.01718717227134459,\n",
       " 'Q179250': 0.03312023777519514,\n",
       " 'Q31919': 0.03423667564682047,\n",
       " 'Q372827': 0.0050177137867463304,\n",
       " 'Q260542': 0.0050177137867463304,\n",
       " 'Q2975203': 0.0024329223793840664,\n",
       " 'Q17': 0.040146798869657024,\n",
       " 'Q232595': 0.002375042900949133,\n",
       " 'Q359480': 0.018232893956336767,\n",
       " 'Q1723125': 0.0007598648054260916,\n",
       " 'Q11010': 0.027386879234896012,\n",
       " 'Q1061354': 0.0007871441744052973,\n",
       " 'Q132345': 0.00320877862110912,\n",
       " 'Q31838049': 0.0025527801200414335,\n",
       " 'Q1700094': 0.009547503002342632,\n",
       " 'Q7278': 0.034818604247949726,\n",
       " 'Q188712': 0.023663598803104546,\n",
       " 'Q15053704': 0.008219248928496663,\n",
       " 'Q937312': 0.014465083742911533,\n",
       " 'Q155718': 0.01972955393017222,\n",
       " 'Q16971209': 0.004800420487687692,\n",
       " 'Q1536908': 0.0011625349568932433,\n",
       " 'Q2147736': 0.0067425529208112725,\n",
       " 'Q2470576': 0.02580245961264259,\n",
       " 'Q154125': 0.035329030068457744,\n",
       " 'Q2513764': 0.006254350179051063,\n",
       " 'Q7173913': 0.0003552617004201681,\n",
       " 'Q1665030': 0.014955458989088235,\n",
       " 'Q772547': 0.03984488889508863,\n",
       " 'Q16186988': 0.014771228708369905,\n",
       " 'Q6721203': 0.028443657005238338,\n",
       " 'Q15630886': 0.004206223601977432,\n",
       " 'Q1204689': 0.0043465298832699025,\n",
       " 'Q365': 0.024729838820013072,\n",
       " 'Q702548': 0.004206223601977432,\n",
       " 'Q15180': 0.047210276355559,\n",
       " 'Q151107': 0.010129505595441795,\n",
       " 'Q1481634': 0.0046461334393551,\n",
       " 'Q163241': 0.009471483827783806,\n",
       " 'Q1715': 0.026862239016713734,\n",
       " 'Q54078': 0.006507429079322346,\n",
       " 'Q38076': 0.012867200457813432,\n",
       " 'Q483915': 0.008793696562127409,\n",
       " 'Q684357': 0.015072103367057738,\n",
       " 'Q188': 0.03402112582179058,\n",
       " 'Q41572': 0.03223708577180788,\n",
       " 'Q506219': 0.018759748286682854,\n",
       " 'Q789889': 0.0346518498949803,\n",
       " 'Q237': 0.02399994351435055,\n",
       " 'Q450675': 0.033710885169562055,\n",
       " 'Q159583': 0.013555095568333512,\n",
       " 'Q574058': 0.012278145108503929,\n",
       " 'Q9592': 0.03177180292288423,\n",
       " 'Q1023513': 0.008230070712519298,\n",
       " 'Q1378506': 0.017207815127089673,\n",
       " 'Q784265': 0.02234585756958397,\n",
       " 'Q1929074': 0.019896309857563188,\n",
       " 'Q504019': 0.02074856844479656,\n",
       " 'Q38': 0.045916189073580034,\n",
       " 'Q213': 0.041291995651485745,\n",
       " 'Q3377548': 0.02168806251989317,\n",
       " 'Q486839': 0.03306275797493904,\n",
       " 'Q308905': 0.019624303379922402,\n",
       " 'Q6602': 0.02467981607924961,\n",
       " 'Q60772': 0.040113666753649205,\n",
       " 'Q1396465': 0.0319671806057273,\n",
       " 'Q881': 0.016354930835387572,\n",
       " 'Q1858': 0.009216489377186823,\n",
       " 'Q711': 0.014084247344756207,\n",
       " 'Q157173': 0.0180431738562734,\n",
       " 'Q28957228': 0.019867836615473883,\n",
       " 'Q3169043': 0.011796947566911938,\n",
       " 'Q192733': 0.0097680835454669,\n",
       " 'Q15056405': 0.01071578703996157,\n",
       " 'Q20901295': 0.0369361643122804,\n",
       " 'Q71': 0.03219077026563364,\n",
       " 'Q4082328': 0.017319147778760133,\n",
       " 'Q4149155': 0.006385431266311518,\n",
       " 'Q1940853': 0.019979451971413174,\n",
       " 'Q2399843': 0.028006995398319613,\n",
       " 'Q1136962': 0.01172184139370158,\n",
       " 'Q302045': 0.022426667127568033,\n",
       " 'Q2692697': 0.004212050507851066,\n",
       " 'Q15760': 0.011252517494793755,\n",
       " 'Q9430': 0.008172612145106008,\n",
       " 'Q5107': 0.008889228739063691,\n",
       " 'Q1241288': 0.030939322856711953,\n",
       " 'Q18629028': 0.004459705817452941,\n",
       " 'Q1726795': 0.007149308844671815,\n",
       " 'Q254992': 0.004459705817452941,\n",
       " 'Q497210': 0.004326870147317858,\n",
       " 'Q38668': 0.012476358123832113,\n",
       " 'Q6451172': 0.004802598650869166,\n",
       " 'Q488981': 0.009693379295191444,\n",
       " 'Q24937938': 0.004206223601977432,\n",
       " 'Q662329': 0.020625889523407628,\n",
       " 'Q312653': 0.031376082400512206,\n",
       " 'Q211': 0.03995193684231905,\n",
       " 'Q713138': 0.011179721462672277,\n",
       " 'Q245016': 0.007440641455803735,\n",
       " 'Q1367724': 0.03117393744093738,\n",
       " 'Q662311': 0.0071916200624507895,\n",
       " 'Q928670': 0.019496958809354474,\n",
       " 'Q49764': 0.03184352498244697,\n",
       " 'Q26206': 0.009777732497296252,\n",
       " 'Q33094': 0.03437889150533644,\n",
       " 'Q956': 0.03882705542132076,\n",
       " 'Q89288125': 0.0011339421724348847,\n",
       " 'Q75': 0.03873938324213943,\n",
       " 'Q465613': 0.026178133959940432,\n",
       " 'Q87719492': 0.013059610972048982,\n",
       " 'Q7524930': 0.00035754022578248905,\n",
       " 'Q3485048': 0.00035754022578248905,\n",
       " 'Q85795487': 0.004590999310743486,\n",
       " 'Q30256699': 0.010379710732011107,\n",
       " 'Q17081612': 0.007737885557933556,\n",
       " 'Q12184': 0.030571259680427194,\n",
       " 'Q8686': 0.014522758291759178,\n",
       " 'Q6665312': 0.004051618070868053,\n",
       " 'Q854': 0.010508286463831987,\n",
       " 'Q2114972': 0.0002416637453415895,\n",
       " 'Q1538702': 0.001265847223120098,\n",
       " 'Q639604': 0.0002416637453415895,\n",
       " 'Q7804': 0.030298669127740957,\n",
       " 'Q668': 0.03963733673480554,\n",
       " 'Q2': 0.028824151225503754,\n",
       " 'Q23766566': 0.011018928297486697,\n",
       " 'Q183133': 0.0002854877300709704,\n",
       " 'Q634': 0.0025560155179346457,\n",
       " 'Q6583': 0.009954416276918735,\n",
       " 'Q66169': 0.0006848487200551822,\n",
       " 'Q2843': 0.01023495372526773,\n",
       " 'Q1943034': 0.00035444973708632596,\n",
       " 'Q1055': 0.03255182350221998,\n",
       " 'Q7270': 0.02036526732171341,\n",
       " 'Q504272': 0.016247221922745823,\n",
       " 'Q3107': 0.0022330826388610924,\n",
       " 'Q16514790': 0.025815905100387348,\n",
       " 'Q1658622': 0.016868152574027663,\n",
       " 'Q167828': 0.015264375464523267,\n",
       " 'Q794': 0.04341504409110325,\n",
       " 'Q728513': 0.016773430611441976,\n",
       " 'Q2329960': 0.014177453711095373,\n",
       " 'Q4298520': 0.01676575766019498,\n",
       " 'Q715641': 0.016154791627892257,\n",
       " 'Q31': 0.030702572990974963,\n",
       " 'Q2613060': 0.00481579894306326,\n",
       " 'Q815453': 0.006101285913537193,\n",
       " 'Q348043': 0.014970747019302958,\n",
       " 'Q1197': 0.033413255743039307,\n",
       " 'Q998585': 0.00481579894306326,\n",
       " 'Q403': 0.021714646510727513,\n",
       " 'Q219': 0.030088013231059425,\n",
       " 'Q10843366': 0.00481579894306326,\n",
       " 'Q656812': 0.01986407010915832,\n",
       " 'Q494747': 0.0052217414120592585,\n",
       " 'Q6165': 0.004993480251479253,\n",
       " 'Q217072': 0.012425532729991669,\n",
       " 'Q7164': 0.025052742456821778,\n",
       " 'Q454970': 0.008854286718962491,\n",
       " 'Q1063455': 0.004922140524933232,\n",
       " 'Q40': 0.03711069077664336,\n",
       " 'Q64954602': 0.008054901802766329,\n",
       " 'Q11898995': 0.008672955484086317,\n",
       " 'Q1439075': 0.015285763205347353,\n",
       " 'Q19839259': 0.027527174672193802,\n",
       " 'Q652146': 0.014526546808036545,\n",
       " 'Q1196': 0.026221766366759474,\n",
       " 'Q15709854': 0.013334316529047985,\n",
       " 'Q1709': 0.014648071526573816,\n",
       " 'Q1150048': 0.005704622711414742,\n",
       " 'Q15429922': 0.008001707731859029,\n",
       " 'Q406': 0.03249830907466449,\n",
       " 'Q35958': 0.01876241712349465,\n",
       " 'Q4918': 0.02376490093882215,\n",
       " 'Q896030': 0.013193445984632257,\n",
       " 'Q853930': 0.00481579894306326,\n",
       " 'Q889': 0.028226480107819703,\n",
       " 'Q954': 0.008784225472104628,\n",
       " 'Q2420769': 0.0052782372687231625,\n",
       " 'Q1407342': 0.018374148546820818,\n",
       " 'Q60805': 0.010776165593346486,\n",
       " 'Q2159447': 0.00481579894306326,\n",
       " 'Q1962634': 0.008135993520971488,\n",
       " 'Q985': 0.028257561785582863,\n",
       " 'Q61051': 0.009683806343334963,\n",
       " 'Q1893672': 0.023039009457194535,\n",
       " 'Q172365': 0.01809653056948102,\n",
       " 'Q1085': 0.031175075484439436,\n",
       " 'Q858': 0.036242280961131586,\n",
       " 'Q8886': 0.02602255063106768,\n",
       " 'Q828': 0.023930122329572694,\n",
       " 'Q20812953': 0.028177994645124747,\n",
       " 'Q21493726': 0.01672149905190927,\n",
       " 'Q189062': 0.012615688511108735,\n",
       " 'Q987491': 0.01936542793611392,\n",
       " 'Q156732': 0.04592947408075701,\n",
       " 'Q2222417': 0.017622971618488793,\n",
       " 'Q978208': 0.015733844806780275,\n",
       " 'Q19899': 0.021695006135458925,\n",
       " 'Q740574': 0.010284567927223154,\n",
       " 'Q1518827': 0.015968342806659243,\n",
       " 'Q3066953': 0.006759189957131573,\n",
       " 'Q257906': 0.012984840584874893,\n",
       " 'Q1759318': 0.014885196963817649,\n",
       " 'Q56030': 0.022722712810846545,\n",
       " 'Q1668028': 0.008718067018405355,\n",
       " 'Q102673': 0.036006234279664616,\n",
       " 'Q764739': 0.03305068191920008,\n",
       " 'Q826700': 0.01887037235979756,\n",
       " 'Q476938': 0.013451925244419778,\n",
       " 'Q543166': 0.010273059753567813,\n",
       " 'Q2343911': 0.011767633072026372,\n",
       " 'Q449319': 0.022624557891554837,\n",
       " 'Q1130553': 0.019572670030168778,\n",
       " 'Q1387991': 0.020358867797500534,\n",
       " 'Q3496097': 0.00882609645782859,\n",
       " 'Q1692666': 0.009021443986797429,\n",
       " 'Q15851371': 0.007664827160435995,\n",
       " 'Q1745495': 0.01791607854879077,\n",
       " 'Q678363': 0.020446391883792853,\n",
       " 'Q26844283': 0.015218255686723558,\n",
       " 'Q589645': 0.012188000283083344,\n",
       " 'Q2304119': 0.010692388668370903,\n",
       " 'Q3042087': 0.006494470654666813,\n",
       " 'Q805': 0.01849884566878746,\n",
       " 'Q44187': 0.021550397895630697,\n",
       " 'Q39259': 0.037318534783156526,\n",
       " 'Q1005651': 0.001636117644070925,\n",
       " 'Q877299': 0.019937490525801627,\n",
       " 'Q1451984': 7.32113058911441e-05,\n",
       " 'Q1987000': 0.0005654129343910638,\n",
       " 'Q2269756': 0.0036723275591547845,\n",
       " 'Q492234': 0.0029982645482046397,\n",
       " 'Q537520': 0.0003552276513859222,\n",
       " 'Q186447': 0.0012178989163305917,\n",
       " 'Q1429491': 0.0003552276513859222,\n",
       " 'Q42262': 0.003335849539070121,\n",
       " 'Q212227': 0.0009860626941865119,\n",
       " 'Q358437': 0.004326749870393038,\n",
       " 'Q239960': 0.0003552276513859222,\n",
       " 'Q321': 0.00041806177384368196,\n",
       " 'Q22686': 0.023376549444671095,\n",
       " 'Q54109': 0.014276426825936831,\n",
       " 'Q2499115': 0.013937124765250246,\n",
       " 'Q27804538': 0.00021068468759304545,\n",
       " 'Q61': 0.011041650468535757,\n",
       " 'Q22811573': 0.002816606929435981,\n",
       " 'Q640835': 0.0003835988400864786,\n",
       " 'Q29096457': 0.0013801868992655171,\n",
       " 'Q7074463': 0.0008528970162583338,\n",
       " 'Q750215': 0.00440247910209933,\n",
       " 'Q212648': 0.0005148449890663216,\n",
       " 'Q938175': 0.0006571978034856583,\n",
       " 'Q5408678': 0.00034172721984753753,\n",
       " 'Q180402': 0.0005695706546791823,\n",
       " 'Q316045': 0.00981890476285478,\n",
       " 'Q5925': 8.812980796919691e-05,\n",
       " 'Q26955': 0.0003626043893195696,\n",
       " 'Q149335': 0.00034793290684049047,\n",
       " 'Q230': 0.02764279622843352,\n",
       " 'Q23334': 0.007186886680890606,\n",
       " 'Q23427': 0.0071148015657614356,\n",
       " 'Q407199': 0.005531111335368215,\n",
       " 'Q851': 0.03018680680746105,\n",
       " 'Q34675': 0.011909713175383512,\n",
       " 'Q51669': 0.009083800315827869,\n",
       " 'Q13955': 0.01819075489567009,\n",
       " 'Q1023912': 0.0061411948414759,\n",
       " 'Q21448747': 0.002000492671904148,\n",
       " 'Q1218': 0.009418483553922528,\n",
       " 'Q201190': 0.007530067992067809,\n",
       " 'Q11903697': 0.0021990775912538855,\n",
       " 'Q594712': 0.0024399378882031418,\n",
       " 'Q58967': 0.008907326293869517,\n",
       " 'Q200790': 0.00027639661331943326,\n",
       " 'Q1249746': 0.00027639661331943326,\n",
       " 'Q171224': 0.006823399802868373,\n",
       " 'Q202387': 0.00027639661331943326,\n",
       " 'Q1029847': 0.0013608460329925225,\n",
       " 'Q181132': 0.0006737262245374595,\n",
       " 'Q313189': 0.0026505994429655844,\n",
       " 'Q865968': 0.0004387766267817067,\n",
       " 'Q21776840': 0.0005202349401658471,\n",
       " 'Q1208': 0.02788582804979479,\n",
       " 'Q10189': 0.02355852298835764,\n",
       " 'Q1515218': 0.001481723186308223,\n",
       " 'Q293510': 0.0013879838119374218,\n",
       " 'Q1033': 0.012212527827593344,\n",
       " 'Q48938223': 0.012566116308733341,\n",
       " 'Q202833': 0.00933942419790448,\n",
       " 'Q34508': 0.01000495514290303,\n",
       " 'Q118958': 0.0003506141108964002,\n",
       " 'Q23907': 0.008889837116843921,\n",
       " 'Q1005427': 0.011246877711796794,\n",
       " 'Q1008798': 0.004089866282181498,\n",
       " 'Q73423505': 0.0009601060325430192,\n",
       " 'Q1005903': 0.030436397460682597,\n",
       " 'Q325859': 0.006868925190723845,\n",
       " 'Q1672130': 0.0003513103053200844,\n",
       " 'Q1202053': 0.008964921894888055,\n",
       " 'Q1205114': 0.0035405464434355217,\n",
       " 'Q60052': 0.0008941176871029926,\n",
       " 'Q687323': 0.011612727461238054,\n",
       " 'Q2514275': 0.013504503757075771,\n",
       " 'Q187665': 0.004482548771609379,\n",
       " 'Q1593101': 0.000336144630013112,\n",
       " 'Q322751': 0.00044062662780474895,\n",
       " 'Q650837': 0.0004235580403925216,\n",
       " 'Q4051': 0.007760294961511407,\n",
       " 'Q707278': 0.003002772033185906,\n",
       " 'Q571424': 0.00025831416916575545,\n",
       " 'Q4127': 0.009751043993490844,\n",
       " 'Q233044': 0.0005153885422497657,\n",
       " 'Q37429461': 0.00025831416916575545,\n",
       " 'Q21039846': 0.011475226745663567,\n",
       " 'Q1339416': 0.0005153885422497657,\n",
       " 'Q606060': 0.0006136409559432566,\n",
       " 'Q242217': 0.00040682970038863103,\n",
       " 'Q1409067': 0.03217507822493065,\n",
       " 'Q609757': 0.0028192657762943565,\n",
       " 'Q540384': 0.0004795696881912044,\n",
       " 'Q101859': 0.011023558901528006,\n",
       " 'Q38245': 0.0029081221342548928,\n",
       " 'Q300032': 0.0005066818501103239,\n",
       " 'Q1825638': 0.0004795696881912044,\n",
       " 'Q113159': 0.0004313570378332615,\n",
       " 'Q973030': 0.00040682970038863103,\n",
       " 'Q42267': 0.0014195538594505076,\n",
       " 'Q47762': 0.005167108487287006,\n",
       " 'Q43310': 0.01708860898625482,\n",
       " 'Q154191': 0.011244832348172007,\n",
       " 'Q36110353': 0.0011254506684361294,\n",
       " 'Q21': 0.022175865405576055,\n",
       " 'Q18125': 0.0023131548654566608,\n",
       " 'Q7156': 0.0007273413806147382,\n",
       " 'Q8682': 0.002015813514338119,\n",
       " 'Q300016': 0.00040682970038863103,\n",
       " 'Q7889': 0.008375024485286384,\n",
       " 'Q82595': 0.01002671357761438,\n",
       " 'Q177634': 0.017587541396225766,\n",
       " 'Q260858': 0.0013377987620934507,\n",
       " 'Q18756': 0.010917069531123367,\n",
       " 'Q169167': 0.003980713920107698,\n",
       " 'Q1412002': 0.0006957957881284125,\n",
       " 'Q41116': 0.011898058701473133,\n",
       " 'Q721207': 0.005819751684652876,\n",
       " 'Q1236251': 0.0006957957881284125,\n",
       " 'Q914': 0.010990760958002634,\n",
       " 'Q162277': 0.0028783892746179793,\n",
       " 'Q12525579': 0.004557701263107187,\n",
       " 'Q4412': 0.012693577808069371,\n",
       " 'Q3703': 0.006047586688790783,\n",
       " 'Q1008': 0.00830060237066397,\n",
       " 'Q965': 0.004203454447834274,\n",
       " 'Q1032': 0.00859888950018038,\n",
       " 'Q491566': 0.012966080388187402,\n",
       " 'Q622569': 0.016592140921679446,\n",
       " 'Q217690': 0.007844809382871703,\n",
       " 'Q105676': 0.018373124255023045,\n",
       " 'Q84263196': 0.009312544151320414,\n",
       " 'Q1500920': 0.00039503118491901056,\n",
       " 'Q1735243': 0.0029651420440458894,\n",
       " 'Q83889294': 0.02064261276001489,\n",
       " 'Q679041': 0.007612572956792294,\n",
       " 'Q1312371': 0.0033531607418118134,\n",
       " 'Q190621': 0.0003545080098694362,\n",
       " 'Q100732653': 0.0031986906023449505,\n",
       " 'Q790': 0.007416671809578079,\n",
       " 'Q34261': 0.0006523921720200012,\n",
       " 'Q204344': 0.019961667743858835,\n",
       " 'Q1016929': 0.0003362109934345721,\n",
       " 'Q201759': 0.0003486184591819011,\n",
       " 'Q6507379': 0.00012204285550218437,\n",
       " 'Q15727982': 0.00012204285550218437,\n",
       " 'Q846445': 0.00012204285550218437,\n",
       " 'Q275186': 0.001979772038075193,\n",
       " 'Q21294765': 0.0006899320882244461,\n",
       " 'Q106185': 0.012631041539246102,\n",
       " 'Q55': 0.04398683765932863,\n",
       " 'Q372304': 0.0023710055884464945,\n",
       " 'Q936241': 0.007719734628194065,\n",
       " 'Q4358176': 0.017435926620373365,\n",
       " 'Q205650': 0.018707748967704153,\n",
       " 'Q47488': 0.028599712426139665,\n",
       " 'Q36600': 0.029052563370987577,\n",
       " 'Q1741': 0.031637142322384675,\n",
       " 'Q49727': 0.020094564405442623,\n",
       " 'Q1828874': 0.0188898137399809,\n",
       " 'Q1898314': 0.002613342277234146,\n",
       " 'Q3616': 0.026684131871226965,\n",
       " 'Q43723': 0.013277540046857505,\n",
       " 'Q1396120': 0.01193906966517891,\n",
       " 'Q154681': 0.03542445688735245,\n",
       " 'Q143487': 0.005940967827244816,\n",
       " 'Q843360': 0.0005490457822654004,\n",
       " 'Q9268': 0.015338996378510146,\n",
       " 'Q5776': 0.003741476394338131,\n",
       " 'Q127998': 0.004801813498497925,\n",
       " 'Q875556': 0.010125442469922709,\n",
       " 'Q153394': 0.0018616831626475704,\n",
       " 'Q818785': 0.0006207762908934792,\n",
       " 'Q855558': 0.00579001985742917,\n",
       " 'Q1919159': 0.00022883570269532406,\n",
       " 'Q314690': 0.0008697663174340833,\n",
       " 'Q8596': 0.0010011708772634084,\n",
       " 'Q1200': 0.027975420978399577,\n",
       " 'Q402921': 0.0004565714548552378,\n",
       " 'Q1717553': 0.00033997951169585075,\n",
       " 'Q88961265': 0.0004148677877904673,\n",
       " 'Q98471': 0.0007810184721565364,\n",
       " 'Q84581': 0.009039242063403355,\n",
       " 'Q565807': 0.0026585113457677635,\n",
       " 'Q131478': 0.03595850048144899,\n",
       " 'Q166020': 0.004207843146296063,\n",
       " 'Q1752694': 0.00022883570269532406,\n",
       " 'Q640506': 0.006845207508705895,\n",
       " 'Q2639743': 0.00022883570269532406,\n",
       " 'Q697698': 0.018642053170506306,\n",
       " 'Q7178': 0.023345867515377414,\n",
       " 'Q1937012': 0.0003506491484154931,\n",
       " 'Q2530': 0.024518091434132548,\n",
       " 'Q2207537': 0.004901467736081962,\n",
       " 'Q18729206': 0.004980048198484562,\n",
       " 'Q1141123': 0.018398896056188743,\n",
       " 'Q435031': 0.00537179328892614,\n",
       " 'Q2120880': 0.016784312863934368,\n",
       " 'Q1216071': 0.0023851458114750672,\n",
       " 'Q57954': 0.0017395907527233256,\n",
       " 'Q61009': 0.0006124884413705442,\n",
       " 'Q1454487': 0.000848874804075929,\n",
       " 'Q808': 0.012463493318858243,\n",
       " 'Q270': 0.03508129700445764,\n",
       " 'Q42970': 0.020711646540605567,\n",
       " 'Q682736': 0.008535411816107284,\n",
       " 'Q7836291': 0.0018366196413824737,\n",
       " 'Q2309784': 7.667801666319643e-05,\n",
       " 'Q1745492': 0.010511736424816997,\n",
       " 'Q22676655': 0.030127107251944233,\n",
       " 'Q102911': 0.003293804455836832,\n",
       " 'Q2513667': 0.0049244880695039185,\n",
       " 'Q1604553': 0.0046976214415038985,\n",
       " 'Q73349': 0.004745307375949807,\n",
       " 'Q2675488': 0.004587794199299439,\n",
       " 'Q1258974': 0.017987162475801382,\n",
       " 'Q248352': 0.0070247752168730426,\n",
       " 'Q1759623': 0.0035417348370564553,\n",
       " 'Q547951': 0.01519978821810963,\n",
       " 'Q24879': 0.022638431726686722,\n",
       " 'Q2706': 0.010736448577342588,\n",
       " 'Q3964': 0.0062694274196467845,\n",
       " 'Q27806080': 0.0003049346801721646,\n",
       " 'Q4174': 0.0036232660784196002,\n",
       " 'Q3857': 0.012408184968267,\n",
       " 'Q501639': 0.005397729366460777,\n",
       " 'Q190849': 0.0003785801437792328,\n",
       " 'Q190833': 0.0003049346801721646,\n",
       " 'Q1209': 0.014398740943183533,\n",
       " 'Q163887': 0.001384308421040757,\n",
       " 'Q1693': 0.019636794644102454,\n",
       " 'Q2477433': 0.0003785801437792328,\n",
       " 'Q321837': 0.001962958072138694,\n",
       " 'Q1686000': 0.001665917582869978,\n",
       " 'Q296515': 0.024619494576649022,\n",
       " 'Q691563': 0.014770287404567832,\n",
       " 'Q7174': 0.031256813121815816,\n",
       " 'Q1386226': 0.01280981459274842,\n",
       " 'Q1806261': 0.025057151710506875,\n",
       " 'Q49789': 0.019064779273795997,\n",
       " 'Q9684': 0.02694655863538943,\n",
       " 'Q15813082': 0.02196071621731987,\n",
       " 'Q372436': 0.0025483629497885,\n",
       " 'Q41420': 0.00816864775288538,\n",
       " 'Q17326374': 0.0008739460370832047,\n",
       " 'Q329777': 0.0018253881634233684,\n",
       " 'Q492224': 0.0018165760556405185,\n",
       " 'Q7372': 0.0008037856532901004,\n",
       " 'Q18438': 0.0009048965999289977,\n",
       " 'Q60': 0.04454527262562182,\n",
       " 'Q43380': 0.014227771328645817,\n",
       " 'Q812': 0.016190886510782505,\n",
       " 'Q738258': 0.0010988551221159865,\n",
       " 'Q7733': 0.0002873021249006014,\n",
       " 'Q97644281': 0.0006032248558624504,\n",
       " 'Q3143': 0.003948626406243768,\n",
       " 'Q1144473': 0.00252575549563933,\n",
       " 'Q3806': 0.007657403865612781,\n",
       " 'Q1802830': 0.0013956955865295274,\n",
       " 'Q97154240': 0.0059230367006137,\n",
       " 'Q192995': 0.00378245090875808,\n",
       " 'Q2833': 0.011941359970131436,\n",
       " 'Q2513915': 0.0021228668787923602,\n",
       " 'Q16974682': 0.00026254021571428906,\n",
       " 'Q465283': 0.018237940846056348,\n",
       " 'Q81066': 0.01872028747964351,\n",
       " 'Q17045790': 0.01790783493545692,\n",
       " 'Q477436': 0.02059419408857222,\n",
       " 'Q617606': 0.007301029780811393,\n",
       " 'Q11750': 0.03080005380559079,\n",
       " 'Q9396': 0.013436470563668899,\n",
       " 'Q49': 0.02157187688585994,\n",
       " 'Q908324': 0.00026631867285835544,\n",
       " 'Q1386366': 0.0026127696335365015,\n",
       " 'Q483932': 0.005229055705946358,\n",
       " 'Q3511885': 0.005692519020116212,\n",
       " 'Q929024': 0.00026631867285835544,\n",
       " 'Q1570773': 0.0012377867141999976,\n",
       " 'Q21081923': 0.001056048504654847,\n",
       " 'Q2529830': 0.007881095334528385,\n",
       " 'Q160229': 0.005484172946049396,\n",
       " 'Q105669887': 0.0033971665190519317,\n",
       " 'Q2401561': 0.004688431388518362,\n",
       " 'Q4745263': 0.00026631867285835544,\n",
       " 'Q1400881': 0.000479043461270187,\n",
       " 'Q17126626': 0.010933870756069006,\n",
       " 'Q50807721': 0.007332961573598965,\n",
       " 'Q1315441': 0.000942563119052565,\n",
       " 'Q98': 0.017763292444580366,\n",
       " 'Q1134669': 0.0003492783029803503,\n",
       " 'Q38807': 0.0003492783029803503,\n",
       " 'Q11699': 0.013568631262145648,\n",
       " 'Q10853588': 0.0154469459314326,\n",
       " 'Q678': 0.004169070255499399,\n",
       " 'Q710': 0.0012757680802784872,\n",
       " 'Q685': 0.001639346270640198,\n",
       " 'Q536063': 0.0006689992884454658,\n",
       " 'Q1626518': 0.0005712187805925691,\n",
       " 'Q96': 0.021542541099825945,\n",
       " 'Q1057263': 0.0012598744176041054,\n",
       " 'Q1817856': 0.0007717249596974266,\n",
       " 'Q901262': 0.000625082591071202,\n",
       " 'Q8908': 0.022954340875974068,\n",
       " 'Q700133': 0.0241110243301867,\n",
       " 'Q209318': 0.000595777581220694,\n",
       " 'Q422054': 0.000595777581220694,\n",
       " 'Q157537': 0.03123981090617341,\n",
       " 'Q151012': 0.0016244077828902032,\n",
       " 'Q26590': 0.001147561590966212,\n",
       " 'Q133346': 0.005697687889559358,\n",
       " 'Q170404': 0.026928317749684072,\n",
       " 'Q708725': 0.027887559654690544,\n",
       " 'Q2207512': 0.02337434364671011,\n",
       " 'Q108754671': 0.0006368131515299572,\n",
       " 'Q498251': 0.011244977501163402,\n",
       " 'Q1939555': 0.00427199251831647,\n",
       " 'Q1023134': 0.02009705960937701,\n",
       " 'Q920726': 0.010469375671411865,\n",
       " 'Q14943007': 0.008669531999688024,\n",
       " 'Q666946': 0.006511711382738485,\n",
       " 'Q1710769': 0.010204917646158808,\n",
       " 'Q59314003': 0.0073619734398561835,\n",
       " 'Q49763': 0.030282786635189157,\n",
       " 'Q99695': 0.0003925213207184264,\n",
       " 'Q760524': 0.026586069113686914,\n",
       " 'Q15391821': 0.0003925213207184264,\n",
       " 'Q2645776': 0.0015335671214714013,\n",
       " 'Q1505506': 0.0015335671214714013,\n",
       " 'Q1448418': 0.0003925213207184264,\n",
       " 'Q2227817': 0.001628834026246284,\n",
       " 'Q239': 0.030095739086351027,\n",
       " 'Q208202': 0.012347153439179956,\n",
       " 'Q515731': 0.0022187226936919253,\n",
       " 'Q751800': 0.007625130134424877,\n",
       " 'Q37158': 0.004640923865783334,\n",
       " 'Q5083': 0.0042015513049744125,\n",
       " 'Q65': 0.008232776282783025,\n",
       " 'Q166032': 0.026043833726423295,\n",
       " 'Q12439': 0.005275415927184484,\n",
       " 'Q39681': 0.0005234975467704807,\n",
       " 'Q21000630': 0.0009607049576283622,\n",
       " 'Q246': 0.01950759874551911,\n",
       " 'Q1037104': 0.0006992668443906037,\n",
       " 'Q12757': 0.0028603909406425135,\n",
       " 'Q156578': 0.0163693339130169,\n",
       " 'Q8268': 0.020876681930018886,\n",
       " 'Q5582': 0.0006818431000008549,\n",
       " 'Q22': 0.009310137872157112,\n",
       " 'Q942713': 0.00010941488484818276,\n",
       " 'Q23436': 0.00548586416884589,\n",
       " 'Q224124': 0.00010941488484818276,\n",
       " 'Q727': 0.015727915837951446,\n",
       " 'Q90': 0.04151410237566155,\n",
       " 'Q13360207': 0.0004468630183529026,\n",
       " 'Q2683': 0.0004468630183529026,\n",
       " 'Q273827': 0.0010781466794187306,\n",
       " 'Q131785': 0.01058657848310776,\n",
       " 'Q164714': 0.008446609495336564,\n",
       " 'Q1259308': 0.0162211556444993,\n",
       " 'Q16533': 0.019067140862670116,\n",
       " 'Q214102': 0.015181748012538647,\n",
       " 'Q644636': 0.014101044975506726,\n",
       " 'Q240141': 0.006920481267241788,\n",
       " 'Q4390435': 0.0006150040356284801,\n",
       " 'Q214219': 0.0004468630183529026,\n",
       " 'Q18473916': 0.000635062689812875,\n",
       " 'Q1071629': 0.0005169550946929067,\n",
       " 'Q1273': 0.003610681345957614,\n",
       " 'Q4204': 0.002521038349899529,\n",
       " 'Q7791': 0.012477766583650345,\n",
       " 'Q47817': 0.002062774833131392,\n",
       " 'Q601855': 0.013397702595399354,\n",
       " 'Q659594': 0.021472049636651204,\n",
       " 'Q7320': 0.004150112102604462,\n",
       " 'Q1720274': 0.0020316064512964933,\n",
       " 'Q1055449': 0.007584360710211364,\n",
       " 'Q157144': 0.018235499263687456,\n",
       " 'Q24025631': 0.037264879371157286,\n",
       " 'Q2415330': 0.01611694147744585,\n",
       " 'Q1273786': 0.007298495159935157,\n",
       " 'Q157835': 0.0435076282306406,\n",
       " 'Q36669': 0.010424417294058711,\n",
       " 'Q155': 0.0332796586929324,\n",
       " 'Q192314': 0.01035019015695733,\n",
       " 'Q334204': 0.008109428318042433,\n",
       " 'Q922169': 0.003219072712690093,\n",
       " 'Q1005416': 0.007118725909561037,\n",
       " 'Q131327': 0.000793006437412166,\n",
       " 'Q471779': 0.008215289614637706,\n",
       " 'Q113603': 0.000405535008571717,\n",
       " 'Q7036': 0.0011692977396922332,\n",
       " 'Q1205164': 0.010145445068442819,\n",
       " 'Q21660086': 0.0009264640902612916,\n",
       " 'Q2476646': 0.001705376335449582,\n",
       " 'Q478847': 0.0022465853241544834,\n",
       " 'Q1724': 0.0047981208388905424,\n",
       " 'Q1711': 0.017144055768856786,\n",
       " 'Q3609': 0.020432094803235455,\n",
       " 'Q1205370': 0.019321758971838035,\n",
       " 'Q1005594': 0.0007024021875155534,\n",
       " 'Q388225': 0.001473663495554264,\n",
       " 'Q45': 0.028749470884316793,\n",
       " 'Q224': 0.020184508260165348,\n",
       " 'Q1462': 0.006871920819241962,\n",
       " 'Q15124': 0.003334119035120519,\n",
       " 'Q220': 0.029692132598086358,\n",
       " 'Q55281792': 0.0005971749010437583,\n",
       " 'Q97': 0.01794352600236783,\n",
       " 'Q1479': 0.003002199693315498,\n",
       " 'Q12526': 0.002316453668348206,\n",
       " 'Q379680': 0.0017081994720811982,\n",
       " 'Q127933': 0.0005971749010437583,\n",
       " 'Q326724': 0.005873443217452325,\n",
       " 'Q517444': 0.0088629893354707,\n",
       " 'Q528042': 0.0007805961354791531,\n",
       " 'Q3549': 0.0005971749010437583,\n",
       " 'Q750427': 0.0005971749010437583,\n",
       " 'Q148338': 0.0005971749010437583,\n",
       " 'Q4656': 0.0008383820485965683,\n",
       " 'Q639912': 0.0005971749010437583,\n",
       " 'Q156882': 0.002481339330240151,\n",
       " 'Q45670': 0.0034310166193834988,\n",
       " 'Q485581': 0.0010223783186550331,\n",
       " 'Q206933': 0.0007326499692666662,\n",
       " 'Q173699': 0.0005971749010437583,\n",
       " 'Q597': 0.014324957840914539,\n",
       " 'Q159457': 0.0012282385217551723,\n",
       " 'Q610788': 0.010468048272210637,\n",
       " 'Q8692': 0.005026276047433162,\n",
       " 'Q72499': 0.005269902958369995,\n",
       " 'Q690971': 0.0005971749010437583,\n",
       " 'Q402908': 0.005918076719618864,\n",
       " 'Q436918': 6.218334255045761e-05,\n",
       " 'Q41127': 0.0039969538928723595,\n",
       " 'Q18325940': 6.218334255045761e-05,\n",
       " 'Q86821': 6.218334255045761e-05,\n",
       " 'Q1307276': 6.218334255045761e-05,\n",
       " 'Q8068': 0.000264910207564216,\n",
       " 'Q566018': 0.0003135657364510524,\n",
       " 'Q49389': 0.0005639358275322256,\n",
       " 'Q86929': 6.218334255045761e-05,\n",
       " 'Q402918': 6.218334255045761e-05,\n",
       " ...}"
      ]
     },
     "execution_count": 11,
     "metadata": {},
     "output_type": "execute_result"
    }
   ],
   "source": [
    "nx.eigenvector_centrality(nxg)"
   ]
  },
  {
   "cell_type": "code",
   "execution_count": 12,
   "id": "85bdda8b",
   "metadata": {},
   "outputs": [
    {
     "ename": "KeyboardInterrupt",
     "evalue": "",
     "output_type": "error",
     "traceback": [
      "\u001b[1;31m---------------------------------------------------------------------------\u001b[0m",
      "\u001b[1;31mKeyboardInterrupt\u001b[0m                         Traceback (most recent call last)",
      "Cell \u001b[1;32mIn[12], line 1\u001b[0m\n\u001b[1;32m----> 1\u001b[0m nx\u001b[39m.\u001b[39;49mvoterank(ng)\n",
      "File \u001b[1;32mc:\\Users\\p\\miniconda3\\envs\\mbb-asud-proto-tagesschau\\Lib\\site-packages\\networkx\\algorithms\\centrality\\voterank_alg.py:74\u001b[0m, in \u001b[0;36mvoterank\u001b[1;34m(G, number_of_nodes)\u001b[0m\n\u001b[0;32m     72\u001b[0m     vote_rank[n][\u001b[39m0\u001b[39m] \u001b[39m=\u001b[39m \u001b[39m0\u001b[39m\n\u001b[0;32m     73\u001b[0m \u001b[39m# step 2 - vote\u001b[39;00m\n\u001b[1;32m---> 74\u001b[0m \u001b[39mfor\u001b[39;00m n, nbr \u001b[39min\u001b[39;00m G\u001b[39m.\u001b[39medges():\n\u001b[0;32m     75\u001b[0m     \u001b[39m# In directed graphs nodes only vote for their in-neighbors\u001b[39;00m\n\u001b[0;32m     76\u001b[0m     vote_rank[n][\u001b[39m0\u001b[39m] \u001b[39m+\u001b[39m\u001b[39m=\u001b[39m vote_rank[nbr][\u001b[39m1\u001b[39m]\n\u001b[0;32m     77\u001b[0m     \u001b[39mif\u001b[39;00m \u001b[39mnot\u001b[39;00m G\u001b[39m.\u001b[39mis_directed():\n",
      "File \u001b[1;32mc:\\Users\\p\\miniconda3\\envs\\mbb-asud-proto-tagesschau\\Lib\\site-packages\\networkx\\classes\\reportviews.py:1263\u001b[0m, in \u001b[0;36mEdgeView.__iter__\u001b[1;34m(self)\u001b[0m\n\u001b[0;32m   1261\u001b[0m     \u001b[39mfor\u001b[39;00m nbr \u001b[39min\u001b[39;00m \u001b[39mlist\u001b[39m(nbrs):\n\u001b[0;32m   1262\u001b[0m         \u001b[39mif\u001b[39;00m nbr \u001b[39mnot\u001b[39;00m \u001b[39min\u001b[39;00m seen:\n\u001b[1;32m-> 1263\u001b[0m             \u001b[39myield\u001b[39;00m (n, nbr)\n\u001b[0;32m   1264\u001b[0m     seen[n] \u001b[39m=\u001b[39m \u001b[39m1\u001b[39m\n\u001b[0;32m   1265\u001b[0m \u001b[39mdel\u001b[39;00m seen\n",
      "\u001b[1;31mKeyboardInterrupt\u001b[0m: "
     ]
    }
   ],
   "source": [
    "nx.voterank(ng)"
   ]
  },
  {
   "cell_type": "markdown",
   "id": "7485276a",
   "metadata": {},
   "source": [
    "### Mit neo4j\n",
    "\n",
    "Wir verwenden CSV-Dateien, um den Graph in neo4j zu importieren."
   ]
  },
  {
   "cell_type": "code",
   "execution_count": 11,
   "id": "7eaa688e",
   "metadata": {},
   "outputs": [
    {
     "name": "stdout",
     "output_type": "stream",
     "text": [
      "df_nodes_entities.shape=(50340, 5) df_edges_entities.shape=(7717210, 3) df_aggregated_edges_entities.shape=(3305861, 3)\n"
     ]
    }
   ],
   "source": [
    "print(f\"{df_nodes_entities.shape=} {df_edges_entities.shape=} {df_aggregated_edges_entities.shape=}\")\n",
    "\n",
    "df_nodes_entities.to_csv(f\"{_dd}/5_neo4j_nodes.csv\", index=True, header=True)\n",
    "df_aggregated_edges_entities.to_csv(f\"{_dd}/5_neo4j_aggregated_edges.csv\", index=False, header=True)\n",
    "df_edges_entities.to_csv(f\"{_dd}/5_neo4j_not_aggregated_edges.csv\", index=False, header=True)"
   ]
  },
  {
   "cell_type": "markdown",
   "id": "d64c496b",
   "metadata": {},
   "source": [
    "Import der Knoten in neo4j:\n",
    "\n",
    "```cypher\n",
    "LOAD CSV WITH HEADERS FROM 'file:///5_neo4j_nodes.csv' AS row \n",
    "WITH row\n",
    "MERGE (e:Entity {id: row.node_id, entityId: row.wd_entity_id, label: row.wd_label, description: row.wd_description, url: row.wd_url});\n",
    "```\n",
    "\n",
    "Index anlegen:\n",
    "\n",
    "```cypher\n",
    "CREATE INDEX nr_entity_id_index FOR (e:Entity) ON (e.id);\n",
    "```\n",
    "\n",
    "Import der Kanten in neo4j (:auto und CALL {} IN TRANSACTIONS splitten den Import auf, um Speicherprobleme zu vermeiden):\n",
    "\n",
    "```cypher\n",
    ":auto LOAD CSV WITH HEADERS FROM 'file:///5_neo4j_edges.csv' AS row \n",
    "CALL {\n",
    "    WITH row\n",
    "    MATCH (u:Entity {id: row.u})\n",
    "    MATCH (v:Entity {id: row.v})\n",
    "    MERGE (u)-[:COMENTION {count: toInteger(row.weight)}]-(v)\n",
    "} IN TRANSACTIONS;\n",
    "```\n",
    "\n",
    "Alle Kanten löschen:\n",
    "\n",
    "```cypher\n",
    ":auto MATCH (u:Entity)-[c:COMENTION]-(v:Entity) CALL { WITH c DELETE c } IN TRANSACTIONS;\n",
    "```\n",
    "\n",
    "Knoten mit vielen Verbindungen anzeigen:\n",
    "\n",
    "```cypher\n",
    "MATCH (u)-[c:COMENTION]-(v) where c.count > 1000 RETURN u,v;\n",
    "```"
   ]
  },
  {
   "cell_type": "markdown",
   "id": "74e95d0d-81ae-4b97-9278-625deab88013",
   "metadata": {},
   "source": [
    "## Mit `graph-tool` (erfordert Linux/MacOS)"
   ]
  },
  {
   "cell_type": "markdown",
   "id": "35c4909b-5c17-4c25-ae60-9801bc4b9575",
   "metadata": {},
   "source": [
    "### Aggregierte Kanten mit Gewicht"
   ]
  },
  {
   "cell_type": "code",
   "execution_count": 71,
   "id": "6cf9624b-7974-453a-a765-437b3a32d69e",
   "metadata": {},
   "outputs": [],
   "source": [
    "gg = gt.load_graph(f\"{_dd}/5_graph_aggregated.gml\")"
   ]
  },
  {
   "cell_type": "code",
   "execution_count": null,
   "id": "4146524b-c16f-42a0-b0ab-b2a0b6e38dd3",
   "metadata": {},
   "outputs": [],
   "source": [
    "ev, gv = gt.eigenvector(gg)"
   ]
  },
  {
   "cell_type": "code",
   "execution_count": 14,
   "id": "977ae57c-35b3-493b-9baf-390462798818",
   "metadata": {},
   "outputs": [
    {
     "name": "stdout",
     "output_type": "stream",
     "text": [
      "ev=1213.7847366729438, gv=<VertexPropertyMap object with value type 'double', for Graph 0x7eff051606d0, at 0x7eff0518a5d0>\n"
     ]
    }
   ],
   "source": [
    "print(f\"{ev=}, {gv=}\")"
   ]
  },
  {
   "cell_type": "code",
   "execution_count": 40,
   "id": "7ae3372a-2a01-4895-afd7-9e291e56ae3a",
   "metadata": {},
   "outputs": [
    {
     "data": {
      "text/plain": [
       "{'weight': <EdgePropertyMap object with value type 'double', for Graph 0x7efee2a41510, at 0x7efef3180850>}"
      ]
     },
     "execution_count": 40,
     "metadata": {},
     "output_type": "execute_result"
    }
   ],
   "source": [
    "gg.ep"
   ]
  },
  {
   "cell_type": "code",
   "execution_count": 72,
   "id": "c1301c4c-1e76-4153-8d6a-3e0cd5b4315b",
   "metadata": {},
   "outputs": [
    {
     "name": "stdout",
     "output_type": "stream",
     "text": [
      "[   5. 4018.    9. ...  307.  533.    6.]\n"
     ]
    }
   ],
   "source": [
    "deg = gg.degree_property_map(\"total\", weight=gg.ep.weight)\n",
    "print(deg.get_array())"
   ]
  },
  {
   "cell_type": "code",
   "execution_count": 73,
   "id": "7130305c-da1a-4b61-83e5-4f7be4ff36df",
   "metadata": {},
   "outputs": [
    {
     "data": {
      "text/plain": [
       "{'description': <VertexPropertyMap object with value type 'string', for Graph 0x7efc3a26b310, at 0x7efc39354d10>, 'entity\\x00id': <VertexPropertyMap object with value type 'string', for Graph 0x7efc3a26b310, at 0x7efc797347d0>, 'label': <VertexPropertyMap object with value type 'string', for Graph 0x7efc3a26b310, at 0x7efc57785690>, 'name': <VertexPropertyMap object with value type 'string', for Graph 0x7efc3a26b310, at 0x7efc49dd0d90>, 'url': <VertexPropertyMap object with value type 'string', for Graph 0x7efc3a26b310, at 0x7efc5d8d73d0>}"
      ]
     },
     "execution_count": 73,
     "metadata": {},
     "output_type": "execute_result"
    }
   ],
   "source": [
    "gg_high_degree = gt.GraphView(gg, vfilt=deg.get_array() > 70000)\n",
    "gg_high_degree\n",
    "gg.vp"
   ]
  },
  {
   "cell_type": "code",
   "execution_count": 135,
   "id": "419c8700-bf74-4d80-a70b-6459425fbf8d",
   "metadata": {},
   "outputs": [
    {
     "data": {
      "text/plain": [
       "<VertexPropertyMap object with value type 'vector<double>', for Graph 0x7efc3b00b810, at 0x7efc312ea990>"
      ]
     },
     "execution_count": 135,
     "metadata": {},
     "output_type": "execute_result"
    }
   ],
   "source": [
    "hd_deg = gg_high_degree.degree_property_map(\"total\", weight=gg_high_degree.ep.weight)\n",
    "pos = gt.radial_tree_layout(gg_high_degree, gg_high_degree.vertices().next())\n",
    "# pos = gt.sfdp_layout(gg_high_degree)\n",
    "gt.graph_draw(\n",
    "    gg_high_degree,\n",
    "    pos=pos,\n",
    "    output_size=(600, 1200),\n",
    "    # output_size=(1200, 600),\n",
    "    vertex_text=gg.vp.name,\n",
    "    vertex_text_position=-2,\n",
    "    vertex_fill_color=\"#99DDFF\",\n",
    "    vertex_font_size=16,\n",
    "    vertex_size=100,\n",
    "    vertex_pen_width=2,\n",
    "    edge_pen_width=2,\n",
    "    edge_color=\"#DDDDDD\",\n",
    "    output=\"newsgraph.png\"\n",
    "    # vertex_halo_size=10\n",
    ")"
   ]
  },
  {
   "cell_type": "markdown",
   "id": "5ceda892-4d2c-4973-b367-878db56f04c9",
   "metadata": {},
   "source": [
    "### Unaggregierte Kanten ohne Gewicht"
   ]
  },
  {
   "cell_type": "code",
   "execution_count": 19,
   "id": "7d9d57cd",
   "metadata": {},
   "outputs": [
    {
     "data": {
      "text/plain": [
       "<Graph object, undirected, with 50342 vertices and 7717210 edges, 4 internal vertex properties, 2 internal edge properties, 1 internal graph property, at 0x7eff05157690>"
      ]
     },
     "execution_count": 19,
     "metadata": {},
     "output_type": "execute_result"
    }
   ],
   "source": [
    "gng = gt.load_graph(f\"{_dd}/5_graph_not_aggregated.gml\")\n",
    "gng"
   ]
  },
  {
   "cell_type": "code",
   "execution_count": 26,
   "id": "77055bc1-d60d-49c5-8c89-c9eb1cc90f69",
   "metadata": {},
   "outputs": [
    {
     "data": {
      "text/plain": [
       "<GraphView object, undirected, with 1984 vertices and 4413679 edges, 4 internal vertex properties, 2 internal edge properties, 1 internal graph property, edges filtered by (<EdgePropertyMap object with value type 'bool', for Graph 0x7efee2b9f910, at 0x7efee2bf4b50>, False), vertices filtered by (<VertexPropertyMap object with value type 'bool', for Graph 0x7efee2b9f910, at 0x7efee2a61b90>, False), at 0x7efee2b9f910>"
      ]
     },
     "execution_count": 26,
     "metadata": {},
     "output_type": "execute_result"
    }
   ],
   "source": [
    "gng_high_degree = gt.GraphView(gng, vfilt=lambda v: v.in_degree() + v.out_degree() > 1000)\n",
    "gng_high_degree"
   ]
  },
  {
   "cell_type": "code",
   "execution_count": 34,
   "id": "f266acba-5d1b-483d-a884-af3755388d10",
   "metadata": {},
   "outputs": [
    {
     "data": {
      "text/plain": [
       "<GraphView object, undirected, with 40 vertices and 318739 edges, 4 internal vertex properties, 2 internal edge properties, 1 internal graph property, edges filtered by (<EdgePropertyMap object with value type 'bool', for Graph 0x7efcea11fa10, at 0x7efee2e50fd0>, False), vertices filtered by (<VertexPropertyMap object with value type 'bool', for Graph 0x7efcea11fa10, at 0x7efee2e505d0>, False), at 0x7efcea11fa10>"
      ]
     },
     "execution_count": 34,
     "metadata": {},
     "output_type": "execute_result"
    }
   ],
   "source": [
    "deg = gng.degree_property_map(\"total\").get_array()\n",
    "gng_high_degree2 = gt.GraphView(gng, vfilt=deg > 40000)\n",
    "gng_high_degree2"
   ]
  }
 ],
 "metadata": {
  "kernelspec": {
   "display_name": "Python 3 (ipykernel)",
   "language": "python",
   "name": "python3"
  },
  "language_info": {
   "codemirror_mode": {
    "name": "ipython",
    "version": 3
   },
   "file_extension": ".py",
   "mimetype": "text/x-python",
   "name": "python",
   "nbconvert_exporter": "python",
   "pygments_lexer": "ipython3",
   "version": "3.11.4"
  }
 },
 "nbformat": 4,
 "nbformat_minor": 5
}
